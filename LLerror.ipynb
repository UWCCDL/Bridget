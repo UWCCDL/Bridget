{
 "cells": [
  {
   "cell_type": "code",
   "execution_count": 2,
   "metadata": {
    "id": "J-4TjGGtFT6R"
   },
   "outputs": [],
   "source": [
    "import numpy as np\n",
    "import scipy.optimize as opt\n",
    "import matplotlib.pyplot as plt\n",
    "import pandas as pd\n",
    "from matplotlib.ticker import (MultipleLocator, AutoMinorLocator)\n",
    "from tqdm.notebook import tqdm\n",
    "import os\n",
    "import seaborn as sns\n",
    "import random\n",
    "import math\n",
    "import scipy as sp\n",
    "import itertools\n",
    "sns.set(style=\"whitegrid\")"
   ]
  },
  {
   "cell_type": "markdown",
   "metadata": {
    "id": "E53BwHW1Gk9l"
   },
   "source": [
    "Load and check data:"
   ]
  },
  {
   "cell_type": "code",
   "execution_count": 3,
   "metadata": {
    "id": "RAxDu0zYFedU"
   },
   "outputs": [],
   "source": [
    "alldata = pd.read_csv(\"data/error_data.csv\")"
   ]
  },
  {
   "cell_type": "code",
   "execution_count": 4,
   "metadata": {
    "colab": {
     "base_uri": "https://localhost:8080/",
     "height": 206
    },
    "id": "Dgj051G4GVUO",
    "outputId": "66797014-2896-4c3b-cd11-02bbcdd8d959"
   },
   "outputs": [
    {
     "data": {
      "text/html": [
       "<div>\n",
       "<style scoped>\n",
       "    .dataframe tbody tr th:only-of-type {\n",
       "        vertical-align: middle;\n",
       "    }\n",
       "\n",
       "    .dataframe tbody tr th {\n",
       "        vertical-align: top;\n",
       "    }\n",
       "\n",
       "    .dataframe thead th {\n",
       "        text-align: right;\n",
       "    }\n",
       "</style>\n",
       "<table border=\"1\" class=\"dataframe\">\n",
       "  <thead>\n",
       "    <tr style=\"text-align: right;\">\n",
       "      <th></th>\n",
       "      <th>participant</th>\n",
       "      <th>phase</th>\n",
       "      <th>condition</th>\n",
       "      <th>cue</th>\n",
       "      <th>target</th>\n",
       "      <th>response</th>\n",
       "      <th>rt</th>\n",
       "      <th>correct</th>\n",
       "      <th>Column1</th>\n",
       "      <th>Column2</th>\n",
       "    </tr>\n",
       "  </thead>\n",
       "  <tbody>\n",
       "    <tr>\n",
       "      <th>0</th>\n",
       "      <td>1001.0</td>\n",
       "      <td>learn</td>\n",
       "      <td>1.0</td>\n",
       "      <td>EMPIRE</td>\n",
       "      <td>STATE</td>\n",
       "      <td>KING</td>\n",
       "      <td>3457.0</td>\n",
       "      <td>2.0</td>\n",
       "      <td>NaN</td>\n",
       "      <td>NaN</td>\n",
       "    </tr>\n",
       "    <tr>\n",
       "      <th>1</th>\n",
       "      <td>1001.0</td>\n",
       "      <td>learn</td>\n",
       "      <td>1.0</td>\n",
       "      <td>CHUNK</td>\n",
       "      <td>BLOCK</td>\n",
       "      <td>HUNK</td>\n",
       "      <td>3361.0</td>\n",
       "      <td>2.0</td>\n",
       "      <td>NaN</td>\n",
       "      <td>NaN</td>\n",
       "    </tr>\n",
       "    <tr>\n",
       "      <th>2</th>\n",
       "      <td>1001.0</td>\n",
       "      <td>learn</td>\n",
       "      <td>1.0</td>\n",
       "      <td>GLIDE</td>\n",
       "      <td>HANG</td>\n",
       "      <td>FLY</td>\n",
       "      <td>2177.0</td>\n",
       "      <td>2.0</td>\n",
       "      <td>NaN</td>\n",
       "      <td>NaN</td>\n",
       "    </tr>\n",
       "    <tr>\n",
       "      <th>3</th>\n",
       "      <td>1001.0</td>\n",
       "      <td>learn</td>\n",
       "      <td>1.0</td>\n",
       "      <td>SAIL</td>\n",
       "      <td>OCEAN</td>\n",
       "      <td>BOAT</td>\n",
       "      <td>2341.0</td>\n",
       "      <td>2.0</td>\n",
       "      <td>NaN</td>\n",
       "      <td>NaN</td>\n",
       "    </tr>\n",
       "    <tr>\n",
       "      <th>4</th>\n",
       "      <td>1001.0</td>\n",
       "      <td>learn</td>\n",
       "      <td>1.0</td>\n",
       "      <td>ELEVATOR</td>\n",
       "      <td>BUILDING</td>\n",
       "      <td>UP</td>\n",
       "      <td>3464.0</td>\n",
       "      <td>2.0</td>\n",
       "      <td>NaN</td>\n",
       "      <td>NaN</td>\n",
       "    </tr>\n",
       "  </tbody>\n",
       "</table>\n",
       "</div>"
      ],
      "text/plain": [
       "   participant  phase  condition       cue    target response      rt  \\\n",
       "0       1001.0  learn        1.0    EMPIRE     STATE     KING  3457.0   \n",
       "1       1001.0  learn        1.0     CHUNK     BLOCK     HUNK  3361.0   \n",
       "2       1001.0  learn        1.0     GLIDE      HANG      FLY  2177.0   \n",
       "3       1001.0  learn        1.0      SAIL     OCEAN     BOAT  2341.0   \n",
       "4       1001.0  learn        1.0  ELEVATOR  BUILDING       UP  3464.0   \n",
       "\n",
       "   correct  Column1 Column2  \n",
       "0      2.0      NaN     NaN  \n",
       "1      2.0      NaN     NaN  \n",
       "2      2.0      NaN     NaN  \n",
       "3      2.0      NaN     NaN  \n",
       "4      2.0      NaN     NaN  "
      ]
     },
     "execution_count": 4,
     "metadata": {},
     "output_type": "execute_result"
    }
   ],
   "source": [
    "alldata.head()"
   ]
  },
  {
   "cell_type": "code",
   "execution_count": 5,
   "metadata": {
    "colab": {
     "base_uri": "https://localhost:8080/"
    },
    "id": "hV8XwZcBGg_G",
    "outputId": "b570f05e-02e5-4d81-8a5f-c0dd54dacb34"
   },
   "outputs": [
    {
     "data": {
      "text/plain": [
       "(5670, 10)"
      ]
     },
     "execution_count": 5,
     "metadata": {},
     "output_type": "execute_result"
    }
   ],
   "source": [
    "alldata.shape"
   ]
  },
  {
   "cell_type": "code",
   "execution_count": 6,
   "metadata": {},
   "outputs": [
    {
     "data": {
      "text/plain": [
       "(5490, 10)"
      ]
     },
     "execution_count": 6,
     "metadata": {},
     "output_type": "execute_result"
    }
   ],
   "source": [
    "# remove rows with all nan\n",
    "alldata = alldata.dropna(how='all')\n",
    "alldata.shape"
   ]
  },
  {
   "cell_type": "markdown",
   "metadata": {
    "id": "uLjxKMVoGub_"
   },
   "source": [
    "# Log likelihood"
   ]
  },
  {
   "cell_type": "markdown",
   "metadata": {
    "id": "UMdZ1ukRG4Y-"
   },
   "source": [
    "Implement ACT-R code:"
   ]
  },
  {
   "cell_type": "code",
   "execution_count": 7,
   "metadata": {
    "colab": {
     "base_uri": "https://localhost:8080/"
    },
    "id": "zOnwozhTGttJ",
    "outputId": "3eb02b94-426d-443b-ade5-efef296196f1"
   },
   "outputs": [
    {
     "data": {
      "text/plain": [
       "-0.5949230018850301"
      ]
     },
     "execution_count": 7,
     "metadata": {},
     "output_type": "execute_result"
    }
   ],
   "source": [
    "def activation(traces, time, decay):\n",
    "    \"\"\"Computes the activation of a memory given its history of retrievals\"\"\"\n",
    "    ftraces = [x for x in traces if x < time]\n",
    "    decay = max(0, decay)  # Allows no positive decay rates in equation \n",
    "    decay - min(decay, 5)\n",
    "    times = time - np.array(ftraces)\n",
    "    odds = times ** -decay\n",
    "    return np.log(np.sum(odds))\n",
    "\n",
    "activation([5, 10, 15], 40, 0.5)"
   ]
  },
  {
   "cell_type": "code",
   "execution_count": 8,
   "metadata": {
    "colab": {
     "base_uri": "https://localhost:8080/",
     "height": 458
    },
    "id": "9O1NxeppG71j",
    "outputId": "fee85f55-f305-451d-9132-40078e459259"
   },
   "outputs": [
    {
     "data": {
      "image/png": "[encoded data removed]",
      "text/plain": [
       "<Figure size 640x480 with 1 Axes>"
      ]
     },
     "metadata": {},
     "output_type": "display_data"
    }
   ],
   "source": [
    "time = np.linspace(0.1, 100, 100)\n",
    "traces = [0.001, 5, 25]\n",
    "y = []\n",
    "for t in time:\n",
    "    act = activation(traces, t, 0.5)\n",
    "    y += [act]\n",
    "    \n",
    "plt.plot(time, y)\n",
    "plt.xlabel(\"Time\")\n",
    "plt.ylabel(\"Activation\")\n",
    "plt.show()"
   ]
  },
  {
   "cell_type": "markdown",
   "metadata": {
    "id": "F5O-Ma2bHHCe"
   },
   "source": [
    "Create loglikelihood function for the model"
   ]
  },
  {
   "cell_type": "code",
   "execution_count": 9,
   "metadata": {
    "id": "4nYd7AWEHC6a"
   },
   "outputs": [],
   "source": [
    "def boltzmann(options, values, temperature):\n",
    "    \"\"\"Returns a Boltzmann distribution of the probabilities of each option\"\"\"\n",
    "    temperature = max(temperature, 0.01) \n",
    "    vals = np.array(values)/temperature\n",
    "    #bvals = np.exp(vals)/np.sum(np.exp(vals))\n",
    "    bvals = np.exp(vals - np.max(vals)) / np.exp(vals - np.max(vals)).sum()\n",
    "    return dict(zip(options, bvals))"
   ]
  },
  {
   "cell_type": "code",
   "execution_count": 10,
   "metadata": {
    "colab": {
     "base_uri": "https://localhost:8080/"
    },
    "id": "infLxnLdIU7o",
    "outputId": "a927ebd0-ca38-461a-f4fb-b47c1390d9a4"
   },
   "outputs": [
    {
     "data": {
      "text/plain": [
       "{2: 0.574442516811659, 3: 0.425557483188341}"
      ]
     },
     "execution_count": 10,
     "metadata": {},
     "output_type": "execute_result"
    }
   ],
   "source": [
    "boltzmann([2,3], [1, 0.7], 1)"
   ]
  },
  {
   "cell_type": "markdown",
   "metadata": {
    "id": "NaK3W3zCI63e"
   },
   "source": [
    "Create a loglikelihood function for the elaborative model, each error item is given additional spreading activation given the max association (mas) parameter"
   ]
  },
  {
   "cell_type": "markdown",
   "metadata": {
    "id": "0hWua1X6GL_h"
   },
   "source": [
    "### Complete *elaborative* model"
   ]
  },
  {
   "cell_type": "code",
   "execution_count": 11,
   "metadata": {
    "id": "KMLIBhGdIteL"
   },
   "outputs": [],
   "source": [
    "def LLelab(alldata, ppt, decay, temp, mas=1.6):\n",
    "    \"\"\"For each trial, calculate the probability of that response, sum the log likelihoods, and update the values\"\"\"\n",
    "    data = alldata[alldata.participant == ppt]\n",
    "\n",
    "    # create a list of error items\n",
    "    errors = data[data.condition == 1].cue.tolist()\n",
    "    # create a list of study items\n",
    "    study = data[data.condition == 2].cue.tolist()\n",
    "    # since we don't have data for when study items were presented in each participant's learning phase\n",
    "    # we will use the presentation of the error items and interleaven the study items in between\n",
    "    pos = 1\n",
    "    present = study[:]\n",
    "    for word in errors:\n",
    "        present.insert(pos, word)\n",
    "        pos += 2\n",
    "\n",
    "    # Create dict with word pairs\n",
    "    pairs = {}\n",
    "    for cue, target in zip(data[data.phase == \"test\"].cue,data[data.phase == \"test\"].target):\n",
    "      pairs[cue] = target\n",
    "    # also create a dict with errors\n",
    "    errorResp = dict()\n",
    "    for cue,response in zip(data[data.phase == \"learn\"].cue,data[data.phase == \"learn\"].response):\n",
    "      errorResp[cue] = response\n",
    "\n",
    "    # model learning phase, encode a single trace for each item: (idk what to set activation at)\n",
    "    DM = dict()\n",
    "    # for DM can we make a dictionary of dictionaries where big keys are cues, values are dictionary of target/\n",
    "    # possible responses and their activation\n",
    "    time = 0\n",
    "    step = 10 #time for learning each item\n",
    "    for cue in present:\n",
    "      littleDM = {}\n",
    "      # make a set of all reponses given to a certain cue to be \"vocab for that cue\"\n",
    "      for response in set(alldata[alldata.cue == cue].response):\n",
    "        littleDM[response] = [0.001]\n",
    "      # add retrieval of error for error items\n",
    "      if cue in errorResp.keys():\n",
    "        error = errorResp[cue]\n",
    "        time +=5\n",
    "        littleDM[error] = [0.001, time]\n",
    "      # overwrite smaller activ of correct target to show task learning\n",
    "        time +=5\n",
    "        littleDM[pairs[cue]] = [0.001, time]\n",
    "      else:\n",
    "        time += 10\n",
    "        littleDM[pairs[cue]] = [0.001, time]\n",
    "      DM[cue] = littleDM\n",
    "    time += 300 # time for distractor phase\n",
    "\n",
    "\n",
    "    # model testing phase\n",
    "    LL = 0\n",
    "    for condition, cue, response, rt, feedback in zip(data[data.phase == \"test\"].condition,\n",
    "                                   data[data.phase == \"test\"].cue, \n",
    "                                   data[data.phase == \"test\"].response, \n",
    "                                   data[data.phase == \"test\"].rt, \n",
    "                                   data[data.phase == \"test\"].correct):\n",
    "      # Calculate log likelihood of response- possible options are 19 random integers\n",
    "      # or correct associate\n",
    "      options = DM[cue].keys()\n",
    "      # create spreading activation additional error component given size of cue's dec mem\n",
    "      cueMem = len(DM[cue])\n",
    "      add = (mas - np.log((cueMem + 1)/2)) - (mas - np.log((cueMem + 1)/1))\n",
    "      # if error condition, add spreading activation\n",
    "      values = [activation(DM[cue][opt], time, decay) if condition == 1 else \n",
    "       (activation(DM[cue][opt], time, decay) + add) for opt in options]\n",
    "      prob = boltzmann(options, values, temp)[response]\n",
    "    \n",
    "      # Sum up the LLs\n",
    "      LL += np.log(max(prob, 10e-10))\n",
    "\n",
    "       # add time taken to responde\n",
    "      time += rt/1000\n",
    "    \n",
    "    return LL"
   ]
  },
  {
   "cell_type": "code",
   "execution_count": 12,
   "metadata": {
    "colab": {
     "base_uri": "https://localhost:8080/"
    },
    "id": "yahI4_8z7t5o",
    "outputId": "0db50f1c-5eb6-4b7e-e78e-411638a39f76"
   },
   "outputs": [
    {
     "data": {
      "text/plain": [
       "-172.74391517266335"
      ]
     },
     "execution_count": 12,
     "metadata": {},
     "output_type": "execute_result"
    }
   ],
   "source": [
    "LLelab(alldata, 1001, 0.5, 1, 1.6)"
   ]
  },
  {
   "cell_type": "code",
   "execution_count": 13,
   "metadata": {
    "colab": {
     "base_uri": "https://localhost:8080/"
    },
    "id": "X9bwBrAI8JLq",
    "outputId": "1a837c88-4964-47b8-ad3f-a758c6c72376"
   },
   "outputs": [
    {
     "data": {
      "text/plain": [
       "-172.74391517266335"
      ]
     },
     "execution_count": 13,
     "metadata": {},
     "output_type": "execute_result"
    }
   ],
   "source": [
    "LLelab(alldata, 1001, 0.5, 1, 4)"
   ]
  },
  {
   "cell_type": "markdown",
   "metadata": {
    "id": "bft75J6OTfGn"
   },
   "source": [
    "Create a loglikelihood function of the mediator model, where there are two routes to make a decision: To remember something that worked and to remember something that did not."
   ]
  },
  {
   "cell_type": "code",
   "execution_count": 14,
   "metadata": {
    "id": "6oDf4YA7T3To"
   },
   "outputs": [],
   "source": [
    "def LLmed(data, decay, temp):\n",
    "    \"\"\"For each trial, calculate the probability of that response, sum the log likelihoods, and update the values\"\"\"\n",
    "    # create a list of error items\n",
    "    errors = data[data.phase == \"learn\"].cue.tolist()\n",
    "    # create a list of study items\n",
    "    study = data[data.condition == 2].cue.tolist()\n",
    "    pos = 1\n",
    "    present = errors[:]\n",
    "    for i in range(len(errors)):\n",
    "      word = study[i]\n",
    "      present.insert(pos, word)\n",
    "      pos += 2\n",
    "\n",
    "    # Create dict with word pairs\n",
    "    pairs = {}\n",
    "    for cue, target in zip(data[data.phase == \"test\"].cue,data[data.phase == \"test\"].target):\n",
    "      pairs[cue] = target\n",
    "    # also create a dict with errors\n",
    "    errorResp = dict()\n",
    "    for cue,response in zip(data[data.phase == \"learn\"].cue,data[data.phase == \"learn\"].response):\n",
    "      errorResp[cue] = response\n",
    "\n",
    "    # model learning phase, encode a single trace for each item: (idk what to set activation at)\n",
    "    DM = dict()\n",
    "    # for DM can we make a dictionary of dictionaries where big keys are cues, values are dictionary of target/\n",
    "    # possible responses and their activation\n",
    "    time = 0\n",
    "    step = 10 #time for learning each item\n",
    "    for cue in present:\n",
    "      littleDM = {}\n",
    "      # make a set of all reponses given to a certain cue to be \"vocab for that cue\"\n",
    "      for response in set(alldata[alldata.cue == cue].response):\n",
    "        littleDM[response] = [0.001]\n",
    "      # add retrieval of error for error items\n",
    "      if cue in errorResp.keys():\n",
    "        error = errorResp[cue]\n",
    "        time +=5\n",
    "        littleDM[error] = [0.001, time]\n",
    "      # overwrite smaller activ of correct target to show task learning\n",
    "        time +=5\n",
    "        littleDM[pairs[cue]] = [0.001, time]\n",
    "      else:\n",
    "        time += 10\n",
    "        littleDM[pairs[cue]] = [0.001, time]\n",
    "      DM[cue] = littleDM\n",
    "    time += 300 # time for distractor phase\n",
    "\n",
    "    # model testing phase\n",
    "    LL = 0\n",
    "    \n",
    "    for condition, cue, response, rt, feedback in zip(data[data.phase == \"test\"].condition,\n",
    "                                   data[data.phase == \"test\"].cue, \n",
    "                                   data[data.phase == \"test\"].response, \n",
    "                                   data[data.phase == \"test\"].rt, \n",
    "                                   data[data.phase == \"test\"].correct):\n",
    "        # Calculate log likelihood of response- possible options are 19 random integers\n",
    "        # or correct associate\n",
    "        options = DM[cue].keys()\n",
    "        # create spreading activation additional error component given size of cue's dec mem\n",
    "        cueMem = len(DM[cue])\n",
    "        # if error condition, add spreading activation\n",
    "        values = [activation(DM[cue][opt], time, decay) for opt in options]\n",
    "        prob1 = boltzmann(options, values, temp)[response]\n",
    "        \n",
    "        # probability of retrieving error memory\n",
    "        if condition == 1:\n",
    "          error = errorResp[cue]\n",
    "          prob2 = boltzmann(options, values, temp)[error]\n",
    "        else:\n",
    "          prob2 = 0\n",
    "        \n",
    "        # Sum up the LLs\n",
    "        LL += np.log(max(prob1 + prob2, 10e-10))\n",
    "        \n",
    "         # add time taken to responde\n",
    "        time += rt/1000\n",
    "        \n",
    "    return LL"
   ]
  },
  {
   "cell_type": "code",
   "execution_count": 15,
   "metadata": {
    "colab": {
     "base_uri": "https://localhost:8080/"
    },
    "id": "mmmyXeOdETlj",
    "outputId": "20d22e56-5c0f-43ad-b5bf-26d13cdfd41c"
   },
   "outputs": [
    {
     "data": {
      "text/plain": [
       "-148.38513809212435"
      ]
     },
     "execution_count": 15,
     "metadata": {},
     "output_type": "execute_result"
    }
   ],
   "source": [
    "LLmed(alldata[alldata.participant == 1001], 0.5, 1)"
   ]
  },
  {
   "cell_type": "code",
   "execution_count": 16,
   "metadata": {
    "colab": {
     "base_uri": "https://localhost:8080/"
    },
    "id": "RGuZGMVvExA5",
    "outputId": "10d6b9b4-d0ec-4a81-b06f-1574bcd40bb8"
   },
   "outputs": [
    {
     "data": {
      "text/plain": [
       "-150.88790456104599"
      ]
     },
     "execution_count": 16,
     "metadata": {},
     "output_type": "execute_result"
    }
   ],
   "source": [
    "LLmed(alldata[alldata.participant == 1002], 0.5, 1)"
   ]
  },
  {
   "cell_type": "markdown",
   "metadata": {
    "id": "AMZivWprDOAT"
   },
   "source": [
    "# Create RT models"
   ]
  },
  {
   "cell_type": "code",
   "execution_count": 17,
   "metadata": {
    "id": "AickrN7GDlaO"
   },
   "outputs": [],
   "source": [
    "def responsetime(activation, ter, F=1, f=1):\n",
    "    return ter + F * np.exp(-f * activation)"
   ]
  },
  {
   "cell_type": "code",
   "execution_count": 18,
   "metadata": {
    "colab": {
     "base_uri": "https://localhost:8080/",
     "height": 458
    },
    "id": "_A-v7qV7DmXr",
    "outputId": "f8826f75-85d8-453a-c050-7fa304448f72"
   },
   "outputs": [
    {
     "data": {
      "image/png": "[encoded data removed]",
      "text/plain": [
       "<Figure size 640x480 with 1 Axes>"
      ]
     },
     "metadata": {},
     "output_type": "display_data"
    }
   ],
   "source": [
    "noise = np.linspace(-2, 2)\n",
    "dist = sp.stats.logistic(0, 0.2)\n",
    "plt.plot(noise, dist.pdf(noise))\n",
    "plt.xlabel(\"Noise $s$\")\n",
    "plt.ylabel(\"Probability $P$\")\n",
    "plt.show()"
   ]
  },
  {
   "cell_type": "code",
   "execution_count": 19,
   "metadata": {
    "colab": {
     "base_uri": "https://localhost:8080/",
     "height": 480
    },
    "id": "7LaZcjs-D-hL",
    "outputId": "26f7a220-a246-49fd-caf6-d5bb33c39f15"
   },
   "outputs": [
    {
     "data": {
      "image/png": "[encoded data removed]",
      "text/plain": [
       "<Figure size 640x480 with 1 Axes>"
      ]
     },
     "metadata": {},
     "output_type": "display_data"
    }
   ],
   "source": [
    "rts = [responsetime((0.5 - x), 1) for x in noise]\n",
    "plt.plot(rts, dist.pdf(noise))\n",
    "plt.xlabel(\"Response Time (s)\")\n",
    "plt.ylabel(\"Probability $P$\")\n",
    "plt.title(\"RT distributions when $s$ = 0.2\")\n",
    "plt.show()"
   ]
  },
  {
   "cell_type": "code",
   "execution_count": 20,
   "metadata": {
    "colab": {
     "base_uri": "https://localhost:8080/",
     "height": 480
    },
    "id": "nTAIDWYZEC5J",
    "outputId": "8fdb9fc1-fe7d-4e77-c0e1-225139798c2b"
   },
   "outputs": [
    {
     "data": {
      "image/png": "[encoded data removed]",
      "text/plain": [
       "<Figure size 640x480 with 1 Axes>"
      ]
     },
     "metadata": {},
     "output_type": "display_data"
    }
   ],
   "source": [
    "for s in np.linspace(0.2, 0.8, 7):\n",
    "    dist = sp.stats.logistic(0, (math.sqrt((math.pi**2)*s)/3))\n",
    "    rts = [responsetime((0.5 - x), 1) for x in noise]\n",
    "    plt.plot(rts, dist.pdf(noise))\n",
    "plt.legend([\"$s$ = %.1f\" % (x,) for x in np.linspace(0.2, 0.8, 7)])\n",
    "plt.xlabel(\"Response Time (s)\")\n",
    "plt.ylabel(\"Probability $P$\")\n",
    "plt.title(\"RT distributions for different levels of noise $s$\")\n",
    "plt.show()"
   ]
  },
  {
   "cell_type": "markdown",
   "metadata": {
    "id": "sZv106szPBcS"
   },
   "source": [
    "## Updated noise SD added here"
   ]
  },
  {
   "cell_type": "code",
   "execution_count": 67,
   "metadata": {
    "id": "s0BKpqZQEGJ_"
   },
   "outputs": [],
   "source": [
    "from urllib.request import proxy_bypass\n",
    "def rtProb(activation, s, ter, rt=None):\n",
    "  \"\"\"Takes one parameter for noise, s, and outputs a probability distribution for response times\"\"\"\n",
    "  noise = np.linspace(-2, 2)\n",
    "  dist = sp.stats.logistic(0, (math.sqrt((math.pi**2)*s)/3))\n",
    "  rts = [responsetime((activation - x), ter) for x in noise]\n",
    "  prob = dist.pdf(noise)\n",
    "  rtprob = {rts[i]:prob[i]for i in range(len(noise))}\n",
    "  if rt:\n",
    "    val = min(rtprob.keys(), key=lambda x: abs(x - (rt/1000)))\n",
    "    return rtprob[val]\n",
    "  else:\n",
    "    return rtprob"
   ]
  },
  {
   "cell_type": "code",
   "execution_count": 69,
   "metadata": {
    "colab": {
     "base_uri": "https://localhost:8080/"
    },
    "id": "JKKNDiaFjwfb",
    "outputId": "ce930c89-ddf9-43be-8b4e-71d8a8b154ce"
   },
   "outputs": [
    {
     "data": {
      "text/plain": [
       "0.23864176792866348"
      ]
     },
     "execution_count": 69,
     "metadata": {},
     "output_type": "execute_result"
    }
   ],
   "source": [
    "rtProb(3, 1, 1, rt = 1050)"
   ]
  },
  {
   "cell_type": "markdown",
   "metadata": {
    "id": "dBBYG2u8tGz3"
   },
   "source": [
    "## Elaborative Model"
   ]
  },
  {
   "cell_type": "code",
   "execution_count": 23,
   "metadata": {
    "id": "DAmc6sa3DMuC"
   },
   "outputs": [],
   "source": [
    "def LLelabRT(alldata, decay, temp, ter, ppt='sim', mas = 1.6):\n",
    "    \"\"\"For each trial, calculate the probability of that response, sum the log likelihoods, and update the values\"\"\"\n",
    "    data = alldata[alldata.participant == ppt]\n",
    "\n",
    "    # create a list of error items\n",
    "    errors = data[data.condition == 1].cue.tolist()\n",
    "    # create a list of study items\n",
    "    study = data[data.condition == 2].cue.tolist()\n",
    "    pos = 1\n",
    "    present = errors[:]\n",
    "    present = study[:]\n",
    "\n",
    "    for word in errors:\n",
    "        present.insert(pos, word)\n",
    "        pos += 2\n",
    "\n",
    "    # Create dict with word pairs\n",
    "    pairs = {}\n",
    "    for cue, target in zip(data[data.phase == \"test\"].cue,data[data.phase == \"test\"].target):\n",
    "      pairs[cue] = target\n",
    "    # also create a dict with errors\n",
    "    errorResp = dict()\n",
    "    for cue,response in zip(data[data.phase == \"learn\"].cue,data[data.phase == \"learn\"].response):\n",
    "      errorResp[cue] = response\n",
    "\n",
    "    # model learning phase, encode a single trace for each item: (idk what to set activation at)\n",
    "    DM = dict()\n",
    "    # for DM can we make a dictionary of dictionaries where big keys are cues, values are dictionary of target/\n",
    "    # possible responses and their activation\n",
    "    time = 0\n",
    "    step = 10 #time for learning each item\n",
    "    for cue in present:\n",
    "      littleDM = {}\n",
    "      # make a set of all reponses given to a certain cue to be \"vocab for that cue\"\n",
    "      for response in set(alldata[alldata.cue == cue].response):\n",
    "        littleDM[response] = [0.001]\n",
    "      # add retrieval of error for error items\n",
    "      if cue in errorResp.keys():\n",
    "        error = errorResp[cue]\n",
    "        time +=5\n",
    "        littleDM[error] = [0.001, time]\n",
    "      # overwrite smaller activ of correct target to show task learning\n",
    "        time +=5\n",
    "        littleDM[pairs[cue]] = [0.001, time]\n",
    "      else:\n",
    "        time += 10\n",
    "        littleDM[pairs[cue]] = [0.001, time]\n",
    "      DM[cue] = littleDM\n",
    "    time += 300 # time for distractor phase\n",
    "\n",
    "\n",
    "    # model testing phase\n",
    "    LL = 0\n",
    "    for condition, cue, response, rt, feedback in zip(data[data.phase == \"test\"].condition,\n",
    "                                   data[data.phase == \"test\"].cue, \n",
    "                                   data[data.phase == \"test\"].response, \n",
    "                                   data[data.phase == \"test\"].rt, \n",
    "                                   data[data.phase == \"test\"].correct):\n",
    "      # Calculate log likelihood of response- possible options are 19 random integers\n",
    "      # or correct associate\n",
    "      options = DM[cue].keys()\n",
    "      # create spreading activation additional error component given size of cue's dec mem\n",
    "      cueMem = len(DM[cue])\n",
    "      add = (mas - np.log((cueMem + 1)/2)) - (mas - np.log((cueMem + 1)/1))\n",
    "      # if error condition, add spreading activation\n",
    "      values = [(activation(DM[cue][opt], time, decay) + add) if condition == 1 else \n",
    "       activation(DM[cue][opt], time, decay) for opt in options]\n",
    "      prob = boltzmann(options, values, temp)[response]\n",
    "    \n",
    "      # now calculate response times:\n",
    "      if condition == 1:\n",
    "        resp_activation = activation(DM[cue][response], time, decay) + add\n",
    "      else: \n",
    "        resp_activation = activation(DM[cue][response], time, decay)\n",
    "      \n",
    "      prob_rt = rtProb(resp_activation, temp, ter, rt=rt)\n",
    "\n",
    "      # Sum up the LLs\n",
    "      LL += (np.log(max(prob, 10e-10)) + np.log(max(prob_rt, 10e-10)))\n",
    "\n",
    "       # add time taken to responde\n",
    "      time += rt/1000\n",
    "    \n",
    "    return LL"
   ]
  },
  {
   "cell_type": "code",
   "execution_count": 24,
   "metadata": {
    "colab": {
     "base_uri": "https://localhost:8080/"
    },
    "id": "od62A0A0siuO",
    "outputId": "82fe234d-237d-4052-b373-0a1f4a08b03b"
   },
   "outputs": [
    {
     "data": {
      "text/plain": [
       "-285.9941371315596"
      ]
     },
     "execution_count": 24,
     "metadata": {},
     "output_type": "execute_result"
    }
   ],
   "source": [
    "LLelabRT(alldata, 0.5, 1, 1, ppt=1001)"
   ]
  },
  {
   "cell_type": "code",
   "execution_count": 25,
   "metadata": {
    "colab": {
     "base_uri": "https://localhost:8080/"
    },
    "id": "c26HJ-h9E6AJ",
    "outputId": "49b9dfb8-3cff-4833-bac5-896f1ff8ee8c"
   },
   "outputs": [
    {
     "data": {
      "text/plain": [
       "-298.5613308322108"
      ]
     },
     "execution_count": 25,
     "metadata": {},
     "output_type": "execute_result"
    }
   ],
   "source": [
    "LLelabRT(alldata, 0.5, 1, 1, ppt=1002)"
   ]
  },
  {
   "cell_type": "markdown",
   "metadata": {
    "id": "k94iDUxOtKy_"
   },
   "source": [
    "## Mediator Model"
   ]
  },
  {
   "cell_type": "markdown",
   "metadata": {
    "id": "ZF0EEFvUPNWT"
   },
   "source": [
    "## Updated noise SD *also* added here"
   ]
  },
  {
   "cell_type": "code",
   "execution_count": 26,
   "metadata": {
    "id": "cappHS-GwJ2C"
   },
   "outputs": [],
   "source": [
    "from urllib.request import proxy_bypass\n",
    "def rtProb2(resp_activation, error_activation, condition, s, ter, rt=None):\n",
    "  \"\"\"Takes one parameter for noise, s, and outputs a probability distribution for response times\"\"\"\n",
    "  noise = np.linspace(-2, 2)\n",
    "  dist = sp.stats.logistic(0, (math.sqrt((math.pi**2)*s)/3))\n",
    "  if condition == 1:\n",
    "    rts = [(responsetime((resp_activation - x), ter) + responsetime((error_activation - x), ter)) for x in noise]\n",
    "  else: \n",
    "    rts = [responsetime((resp_activation - x), ter) for x in noise]\n",
    "  prob = dist.pdf(noise)\n",
    "  rtprob = {rts[i]:prob[i]for i in range(len(noise))}\n",
    "  if rt:\n",
    "    val = min(rtprob.keys(), key=lambda x: abs(x - (rt/1000)))\n",
    "    return rtprob[val]\n",
    "  else:\n",
    "    return rtprob"
   ]
  },
  {
   "cell_type": "code",
   "execution_count": 27,
   "metadata": {
    "colab": {
     "base_uri": "https://localhost:8080/"
    },
    "id": "7BDYgqgnPFCz",
    "outputId": "dcb3a8ba-27c1-4c0b-c93b-2fba9847cb40"
   },
   "outputs": [
    {
     "data": {
      "text/plain": [
       "0.029021222079091556"
      ]
     },
     "execution_count": 27,
     "metadata": {},
     "output_type": "execute_result"
    }
   ],
   "source": [
    "rtProb2(3, 2, 1, 0.2, 1, rt=6100)"
   ]
  },
  {
   "cell_type": "code",
   "execution_count": 28,
   "metadata": {
    "id": "06orMyzjtFR4"
   },
   "outputs": [],
   "source": [
    "def LLmedRT(alldata, decay, temp, ter, ppt='sim'):\n",
    "    \"\"\"For each trial, calculate the probability of that response, sum the log likelihoods, and update the values\"\"\"\n",
    "    data = alldata[alldata.participant == ppt]\n",
    "    \n",
    "    # create a list of error items\n",
    "    errors = data[data.condition == 1].cue.tolist()\n",
    "    # create a list of study items\n",
    "    study = data[data.condition == 2].cue.tolist()\n",
    "    pos = 1\n",
    "    present = study[:]\n",
    "\n",
    "    for word in errors:\n",
    "        present.insert(pos, word)\n",
    "        pos += 2\n",
    "\n",
    "    # Create dict with word pairs\n",
    "    pairs = {}\n",
    "    for cue, target in zip(data[data.phase == \"test\"].cue,data[data.phase == \"test\"].target):\n",
    "      pairs[cue] = target\n",
    "    # also create a dict with errors\n",
    "    errorResp = dict()\n",
    "    for cue,response in zip(data[data.phase == \"learn\"].cue,data[data.phase == \"learn\"].response):\n",
    "      errorResp[cue] = response\n",
    "\n",
    "    # model learning phase, encode a single trace for each item: (idk what to set activation at)\n",
    "    DM = dict()\n",
    "    # for DM can we make a dictionary of dictionaries where big keys are cues, values are dictionary of target/\n",
    "    # possible responses and their activation\n",
    "    time = 0\n",
    "    step = 10 #time for learning each item\n",
    "    for cue in present:\n",
    "      littleDM = {}\n",
    "      # make a set of all reponses given to a certain cue to be \"vocab for that cue\"\n",
    "      for response in set(alldata[alldata.cue == cue].response):\n",
    "        littleDM[response] = [0.001]\n",
    "      # add retrieval of error for error items\n",
    "      if cue in errorResp.keys():\n",
    "        error = errorResp[cue]\n",
    "        time +=5\n",
    "        littleDM[error] = [0.001, time]\n",
    "      # overwrite smaller activ of correct target to show task learning\n",
    "        time +=5\n",
    "        littleDM[pairs[cue]] = [0.001, time]\n",
    "      else:\n",
    "        time += 10\n",
    "        littleDM[pairs[cue]] = [0.001, time]\n",
    "      DM[cue] = littleDM\n",
    "    time += 300 # time for distractor phase\n",
    "\n",
    "    # model testing phase\n",
    "    LL = 0\n",
    "    \n",
    "    for condition, cue, response, rt, feedback in zip(data[data.phase == \"test\"].condition,\n",
    "                                   data[data.phase == \"test\"].cue, \n",
    "                                   data[data.phase == \"test\"].response, \n",
    "                                   data[data.phase == \"test\"].rt, \n",
    "                                   data[data.phase == \"test\"].correct):\n",
    "        # Calculate log likelihood of response- possible options are 19 random integers\n",
    "        # or correct associate\n",
    "        options = DM[cue].keys()\n",
    "\n",
    "        # calculate probability of retrieving given response\n",
    "        values = [activation(DM[cue][opt], time, decay) for opt in options]\n",
    "        prob1 = boltzmann(options, values, temp)[response]\n",
    "        \n",
    "        # probability of retrieving error memory\n",
    "        if condition == 1:\n",
    "          error = errorResp[cue]\n",
    "          prob2 = boltzmann(options, values, temp)[error]\n",
    "        else:\n",
    "          prob2 = 0\n",
    "        \n",
    "        # add response times calculations\n",
    "        # probability of given response time with\n",
    "        respAct = activation(DM[cue][response], time, decay)\n",
    "        if condition == 1:\n",
    "          error = errorResp[cue]\n",
    "          errorAct = activation(DM[cue][error], time, decay)\n",
    "          prob_rt = rtProb2(rt, respAct, errorAct, condition, temp, ter)\n",
    "        else:\n",
    "          errorAct = 0\n",
    "          prob_rt = rtProb2(rt, respAct, errorAct, condition, temp, ter)\n",
    "\n",
    "        # Sum up the LLs\n",
    "        LL += (np.log(max(prob1 + prob2, 10e-10)) + np.log(max(prob_rt, 10e-10)))\n",
    "        \n",
    "         # add time taken to responde\n",
    "        time += rt/1000\n",
    "        \n",
    "    return LL"
   ]
  },
  {
   "cell_type": "code",
   "execution_count": 29,
   "metadata": {
    "colab": {
     "base_uri": "https://localhost:8080/"
    },
    "id": "PU1kSzEG0FJD",
    "outputId": "ac3e70c9-4dc3-48be-ebc5-917b291a9440"
   },
   "outputs": [
    {
     "data": {
      "text/plain": [
       "-279.08015668495835"
      ]
     },
     "execution_count": 29,
     "metadata": {},
     "output_type": "execute_result"
    }
   ],
   "source": [
    "LLmedRT(alldata, 0.5, 1, 1, ppt=1001)"
   ]
  },
  {
   "cell_type": "code",
   "execution_count": 30,
   "metadata": {
    "colab": {
     "base_uri": "https://localhost:8080/"
    },
    "id": "N8P4j9Lyknay",
    "outputId": "3d3a16a5-6f9a-41ac-81fc-ccd06226d548"
   },
   "outputs": [
    {
     "data": {
      "text/plain": [
       "-226.34920850885575"
      ]
     },
     "execution_count": 30,
     "metadata": {},
     "output_type": "execute_result"
    }
   ],
   "source": [
    "LLmedRT(alldata, 0.7, 0.25, 0.5, ppt=1002)"
   ]
  },
  {
   "cell_type": "markdown",
   "metadata": {
    "id": "nbZ8QgPmB9_j"
   },
   "source": [
    "# Optimizing the Models"
   ]
  },
  {
   "cell_type": "markdown",
   "metadata": {
    "id": "_xG-LzMACBMZ"
   },
   "source": [
    "## Elaborative Optimization"
   ]
  },
  {
   "cell_type": "code",
   "execution_count": 31,
   "metadata": {
    "id": "1r5gcKhxB9LO"
   },
   "outputs": [],
   "source": [
    "def vLLelab(array):\n",
    "    \"\"\"Vector function of procedural log-likelihood\"\"\"\n",
    "    global data\n",
    "    decay, temp, ter = array\n",
    "    return -1 * LLelabRT(data, decay, temp, ter)"
   ]
  },
  {
   "cell_type": "markdown",
   "metadata": {
    "id": "Js8XUZXPRItm"
   },
   "source": [
    "## Mediator Optimization"
   ]
  },
  {
   "cell_type": "code",
   "execution_count": 32,
   "metadata": {
    "id": "Z1ld48DEhDEM"
   },
   "outputs": [],
   "source": [
    "def vLLmed(array):\n",
    "    \"\"\"Vector function of procedural log-likelihood\"\"\"\n",
    "    global data\n",
    "    decay, temp, ter = array\n",
    "    return -1 * LLmedRT(data, decay, temp, ter)"
   ]
  },
  {
   "cell_type": "markdown",
   "metadata": {
    "id": "6lyASKh7oHWm"
   },
   "source": [
    "# Calculate LL for each ppt and assign best model"
   ]
  },
  {
   "cell_type": "markdown",
   "metadata": {
    "id": "r7BwnKfMImrY"
   },
   "source": [
    "## compute the best parameters and high log-liklihoods of each model for each participant"
   ]
  },
  {
   "cell_type": "code",
   "execution_count": 32,
   "metadata": {
    "colab": {
     "base_uri": "https://localhost:8080/"
    },
    "id": "-efVYwmgI8QT",
    "outputId": "408c27f5-9ecc-4df7-ec79-7bbf1fea1e22"
   },
   "outputs": [
    {
     "data": {
      "text/plain": [
       "array([1001., 1002., 1003., 1004., 1005., 1006., 1007., 1008., 1009.,\n",
       "       1010., 1011., 1012., 1013., 1014., 1015., 1016., 1017., 1018.,\n",
       "       1019., 1020., 1021., 1022., 1023., 1024., 1025., 1026., 1028.,\n",
       "       1029., 1031., 1032., 1033., 1035., 1036., 1037., 1038., 1039.,\n",
       "       1040., 1041., 1042., 1043., 1044., 1045., 1046., 1047., 1049.,\n",
       "       1050., 1051., 1053., 1054., 1055., 1056., 1057., 1058., 1059.,\n",
       "       1061., 1063., 1064., 1065., 1067., 1068., 1069.,   nan])"
      ]
     },
     "execution_count": 32,
     "metadata": {},
     "output_type": "execute_result"
    }
   ],
   "source": [
    "alldata.participant.unique()"
   ]
  },
  {
   "cell_type": "code",
   "execution_count": 33,
   "metadata": {
    "colab": {
     "base_uri": "https://localhost:8080/"
    },
    "id": "RSWCFpcnIp_V",
    "outputId": "f111a5d9-7251-42b4-d8ee-2d04a17c0da4"
   },
   "outputs": [],
   "source": [
    "DO_ALL = False\n",
    "dataframe = []\n",
    "\n",
    "if DO_ALL:\n",
    "    for ppt in alldata.participant.unique(): \n",
    "        data = alldata[alldata.participant == ppt]\n",
    "        edecay, etemp, eter = opt.minimize(vLLelab, x0 = [0.5, 1, 1], method = \"Powell\", bounds=[[0.01, 2], [0, 2], [0.1, 2]]).x\n",
    "        llelab = LLelabRT(data, edecay, etemp, eter)\n",
    "            \n",
    "        mdecay, mtemp, mter = opt.minimize(vLLmed, x0 = [0.5, 1, 1], method = \"Powell\", bounds=[[0.01, 2], [0, 2], [0.1, 2]]).x\n",
    "        llmed = LLmedRT(data, mdecay, mtemp, mter)\n",
    "            \n",
    "        best = \"Mediator\"\n",
    "        if llelab > llmed:\n",
    "            best = \"Elaborative\"\n",
    "            \n",
    "        diff = llmed - llelab\n",
    "            \n",
    "        row = [ppt, edecay, etemp, eter, llelab, mdecay, mtemp, mter, llmed, best, diff]\n",
    "            \n",
    "        dataframe += [row]\n",
    "\n",
    "    result = pd.DataFrame(dataframe, columns=[\"Participant\", \"elab.decay\", \"elab.temp\", \"elab.ter\", \"elab.LL\", \"med.decay\", \"med.temp\", \"med.ter\", \"med.LL\", \"best.model\", \"diff.LL\"])"
   ]
  },
  {
   "cell_type": "code",
   "execution_count": 34,
   "metadata": {
    "colab": {
     "base_uri": "https://localhost:8080/",
     "height": 402
    },
    "id": "1orKyYBilItT",
    "outputId": "66e3cea0-da5c-476f-bfb8-53bb94d27ceb"
   },
   "outputs": [
    {
     "data": {
      "text/html": [
       "<div>\n",
       "<style scoped>\n",
       "    .dataframe tbody tr th:only-of-type {\n",
       "        vertical-align: middle;\n",
       "    }\n",
       "\n",
       "    .dataframe tbody tr th {\n",
       "        vertical-align: top;\n",
       "    }\n",
       "\n",
       "    .dataframe thead th {\n",
       "        text-align: right;\n",
       "    }\n",
       "</style>\n",
       "<table border=\"1\" class=\"dataframe\">\n",
       "  <thead>\n",
       "    <tr style=\"text-align: right;\">\n",
       "      <th></th>\n",
       "      <th>Unnamed: 0</th>\n",
       "      <th>Participant</th>\n",
       "      <th>elab.decay</th>\n",
       "      <th>elab.temp</th>\n",
       "      <th>elab.ter</th>\n",
       "      <th>elab.LL</th>\n",
       "      <th>med.decay</th>\n",
       "      <th>med.temp</th>\n",
       "      <th>med.ter</th>\n",
       "      <th>med.LL</th>\n",
       "      <th>best.model</th>\n",
       "      <th>diff.LL</th>\n",
       "    </tr>\n",
       "  </thead>\n",
       "  <tbody>\n",
       "    <tr>\n",
       "      <th>0</th>\n",
       "      <td>0</td>\n",
       "      <td>1001.0</td>\n",
       "      <td>2.000000</td>\n",
       "      <td>0.569810</td>\n",
       "      <td>1.999988</td>\n",
       "      <td>-285.996456</td>\n",
       "      <td>2.000000</td>\n",
       "      <td>0.496850</td>\n",
       "      <td>1.999988</td>\n",
       "      <td>-246.766882</td>\n",
       "      <td>Mediator</td>\n",
       "      <td>39.229574</td>\n",
       "    </tr>\n",
       "    <tr>\n",
       "      <th>1</th>\n",
       "      <td>1</td>\n",
       "      <td>1002.0</td>\n",
       "      <td>2.000000</td>\n",
       "      <td>0.598730</td>\n",
       "      <td>1.999988</td>\n",
       "      <td>-290.096765</td>\n",
       "      <td>2.000000</td>\n",
       "      <td>0.534483</td>\n",
       "      <td>1.999988</td>\n",
       "      <td>-253.826139</td>\n",
       "      <td>Mediator</td>\n",
       "      <td>36.270627</td>\n",
       "    </tr>\n",
       "    <tr>\n",
       "      <th>2</th>\n",
       "      <td>2</td>\n",
       "      <td>1003.0</td>\n",
       "      <td>2.000000</td>\n",
       "      <td>0.580788</td>\n",
       "      <td>1.999988</td>\n",
       "      <td>-286.727650</td>\n",
       "      <td>2.000000</td>\n",
       "      <td>0.505615</td>\n",
       "      <td>1.999988</td>\n",
       "      <td>-246.971416</td>\n",
       "      <td>Mediator</td>\n",
       "      <td>39.756234</td>\n",
       "    </tr>\n",
       "    <tr>\n",
       "      <th>3</th>\n",
       "      <td>3</td>\n",
       "      <td>1004.0</td>\n",
       "      <td>2.000000</td>\n",
       "      <td>0.674522</td>\n",
       "      <td>1.999988</td>\n",
       "      <td>-308.827750</td>\n",
       "      <td>2.000000</td>\n",
       "      <td>0.551622</td>\n",
       "      <td>1.999988</td>\n",
       "      <td>-263.560830</td>\n",
       "      <td>Mediator</td>\n",
       "      <td>45.266920</td>\n",
       "    </tr>\n",
       "    <tr>\n",
       "      <th>4</th>\n",
       "      <td>4</td>\n",
       "      <td>1005.0</td>\n",
       "      <td>2.000000</td>\n",
       "      <td>0.496238</td>\n",
       "      <td>1.999988</td>\n",
       "      <td>-256.399469</td>\n",
       "      <td>2.000000</td>\n",
       "      <td>0.461144</td>\n",
       "      <td>1.999988</td>\n",
       "      <td>-223.728523</td>\n",
       "      <td>Mediator</td>\n",
       "      <td>32.670945</td>\n",
       "    </tr>\n",
       "    <tr>\n",
       "      <th>...</th>\n",
       "      <td>...</td>\n",
       "      <td>...</td>\n",
       "      <td>...</td>\n",
       "      <td>...</td>\n",
       "      <td>...</td>\n",
       "      <td>...</td>\n",
       "      <td>...</td>\n",
       "      <td>...</td>\n",
       "      <td>...</td>\n",
       "      <td>...</td>\n",
       "      <td>...</td>\n",
       "      <td>...</td>\n",
       "    </tr>\n",
       "    <tr>\n",
       "      <th>57</th>\n",
       "      <td>57</td>\n",
       "      <td>1065.0</td>\n",
       "      <td>2.000000</td>\n",
       "      <td>0.513314</td>\n",
       "      <td>1.999988</td>\n",
       "      <td>-268.286841</td>\n",
       "      <td>2.000000</td>\n",
       "      <td>0.484049</td>\n",
       "      <td>1.999988</td>\n",
       "      <td>-239.067922</td>\n",
       "      <td>Mediator</td>\n",
       "      <td>29.218919</td>\n",
       "    </tr>\n",
       "    <tr>\n",
       "      <th>58</th>\n",
       "      <td>58</td>\n",
       "      <td>1067.0</td>\n",
       "      <td>0.263793</td>\n",
       "      <td>0.391898</td>\n",
       "      <td>0.138906</td>\n",
       "      <td>-287.569890</td>\n",
       "      <td>2.000000</td>\n",
       "      <td>0.618011</td>\n",
       "      <td>1.999988</td>\n",
       "      <td>-284.612511</td>\n",
       "      <td>Mediator</td>\n",
       "      <td>2.957378</td>\n",
       "    </tr>\n",
       "    <tr>\n",
       "      <th>59</th>\n",
       "      <td>59</td>\n",
       "      <td>1068.0</td>\n",
       "      <td>2.000000</td>\n",
       "      <td>0.470878</td>\n",
       "      <td>1.999988</td>\n",
       "      <td>-253.181179</td>\n",
       "      <td>2.000000</td>\n",
       "      <td>0.448415</td>\n",
       "      <td>1.999988</td>\n",
       "      <td>-224.769311</td>\n",
       "      <td>Mediator</td>\n",
       "      <td>28.411867</td>\n",
       "    </tr>\n",
       "    <tr>\n",
       "      <th>60</th>\n",
       "      <td>60</td>\n",
       "      <td>1069.0</td>\n",
       "      <td>2.000000</td>\n",
       "      <td>0.487299</td>\n",
       "      <td>1.999988</td>\n",
       "      <td>-253.440157</td>\n",
       "      <td>2.000000</td>\n",
       "      <td>0.472131</td>\n",
       "      <td>1.999988</td>\n",
       "      <td>-227.601998</td>\n",
       "      <td>Mediator</td>\n",
       "      <td>25.838159</td>\n",
       "    </tr>\n",
       "    <tr>\n",
       "      <th>61</th>\n",
       "      <td>61</td>\n",
       "      <td>NaN</td>\n",
       "      <td>1.999952</td>\n",
       "      <td>1.999952</td>\n",
       "      <td>1.999956</td>\n",
       "      <td>0.000000</td>\n",
       "      <td>1.999952</td>\n",
       "      <td>1.999952</td>\n",
       "      <td>1.999956</td>\n",
       "      <td>0.000000</td>\n",
       "      <td>Mediator</td>\n",
       "      <td>0.000000</td>\n",
       "    </tr>\n",
       "  </tbody>\n",
       "</table>\n",
       "<p>62 rows × 12 columns</p>\n",
       "</div>"
      ],
      "text/plain": [
       "    Unnamed: 0  Participant  elab.decay  elab.temp  elab.ter     elab.LL  \\\n",
       "0            0       1001.0    2.000000   0.569810  1.999988 -285.996456   \n",
       "1            1       1002.0    2.000000   0.598730  1.999988 -290.096765   \n",
       "2            2       1003.0    2.000000   0.580788  1.999988 -286.727650   \n",
       "3            3       1004.0    2.000000   0.674522  1.999988 -308.827750   \n",
       "4            4       1005.0    2.000000   0.496238  1.999988 -256.399469   \n",
       "..         ...          ...         ...        ...       ...         ...   \n",
       "57          57       1065.0    2.000000   0.513314  1.999988 -268.286841   \n",
       "58          58       1067.0    0.263793   0.391898  0.138906 -287.569890   \n",
       "59          59       1068.0    2.000000   0.470878  1.999988 -253.181179   \n",
       "60          60       1069.0    2.000000   0.487299  1.999988 -253.440157   \n",
       "61          61          NaN    1.999952   1.999952  1.999956    0.000000   \n",
       "\n",
       "    med.decay  med.temp   med.ter      med.LL best.model    diff.LL  \n",
       "0    2.000000  0.496850  1.999988 -246.766882   Mediator  39.229574  \n",
       "1    2.000000  0.534483  1.999988 -253.826139   Mediator  36.270627  \n",
       "2    2.000000  0.505615  1.999988 -246.971416   Mediator  39.756234  \n",
       "3    2.000000  0.551622  1.999988 -263.560830   Mediator  45.266920  \n",
       "4    2.000000  0.461144  1.999988 -223.728523   Mediator  32.670945  \n",
       "..        ...       ...       ...         ...        ...        ...  \n",
       "57   2.000000  0.484049  1.999988 -239.067922   Mediator  29.218919  \n",
       "58   2.000000  0.618011  1.999988 -284.612511   Mediator   2.957378  \n",
       "59   2.000000  0.448415  1.999988 -224.769311   Mediator  28.411867  \n",
       "60   2.000000  0.472131  1.999988 -227.601998   Mediator  25.838159  \n",
       "61   1.999952  1.999952  1.999956    0.000000   Mediator   0.000000  \n",
       "\n",
       "[62 rows x 12 columns]"
      ]
     },
     "execution_count": 34,
     "metadata": {},
     "output_type": "execute_result"
    }
   ],
   "source": [
    "if DO_ALL:\n",
    "    result.to_csv(\"LL_model1.csv\")\n",
    "else:\n",
    "    result = pd.read_csv(\"LL_model1.csv\")\n",
    "result"
   ]
  },
  {
   "cell_type": "code",
   "execution_count": 35,
   "metadata": {
    "colab": {
     "base_uri": "https://localhost:8080/",
     "height": 423
    },
    "id": "-Ixin0NltTny",
    "outputId": "dbe1e25e-6930-4d34-ac01-c79e77874ff7"
   },
   "outputs": [
    {
     "data": {
      "text/html": [
       "<div>\n",
       "<style scoped>\n",
       "    .dataframe tbody tr th:only-of-type {\n",
       "        vertical-align: middle;\n",
       "    }\n",
       "\n",
       "    .dataframe tbody tr th {\n",
       "        vertical-align: top;\n",
       "    }\n",
       "\n",
       "    .dataframe thead th {\n",
       "        text-align: right;\n",
       "    }\n",
       "</style>\n",
       "<table border=\"1\" class=\"dataframe\">\n",
       "  <thead>\n",
       "    <tr style=\"text-align: right;\">\n",
       "      <th></th>\n",
       "      <th>Unnamed: 0</th>\n",
       "      <th>Participant</th>\n",
       "      <th>elab.decay</th>\n",
       "      <th>elab.temp</th>\n",
       "      <th>elab.ter</th>\n",
       "      <th>elab.LL</th>\n",
       "      <th>med.decay</th>\n",
       "      <th>med.temp</th>\n",
       "      <th>med.ter</th>\n",
       "      <th>med.LL</th>\n",
       "      <th>best.model</th>\n",
       "      <th>diff.LL</th>\n",
       "    </tr>\n",
       "  </thead>\n",
       "  <tbody>\n",
       "    <tr>\n",
       "      <th>0</th>\n",
       "      <td>0</td>\n",
       "      <td>1001.0</td>\n",
       "      <td>2.000000</td>\n",
       "      <td>0.569810</td>\n",
       "      <td>1.999988</td>\n",
       "      <td>-285.996456</td>\n",
       "      <td>2.0</td>\n",
       "      <td>0.496850</td>\n",
       "      <td>1.999988</td>\n",
       "      <td>-246.766882</td>\n",
       "      <td>Mediator</td>\n",
       "      <td>39.229574</td>\n",
       "    </tr>\n",
       "    <tr>\n",
       "      <th>1</th>\n",
       "      <td>1</td>\n",
       "      <td>1002.0</td>\n",
       "      <td>2.000000</td>\n",
       "      <td>0.598730</td>\n",
       "      <td>1.999988</td>\n",
       "      <td>-290.096765</td>\n",
       "      <td>2.0</td>\n",
       "      <td>0.534483</td>\n",
       "      <td>1.999988</td>\n",
       "      <td>-253.826139</td>\n",
       "      <td>Mediator</td>\n",
       "      <td>36.270627</td>\n",
       "    </tr>\n",
       "    <tr>\n",
       "      <th>2</th>\n",
       "      <td>2</td>\n",
       "      <td>1003.0</td>\n",
       "      <td>2.000000</td>\n",
       "      <td>0.580788</td>\n",
       "      <td>1.999988</td>\n",
       "      <td>-286.727650</td>\n",
       "      <td>2.0</td>\n",
       "      <td>0.505615</td>\n",
       "      <td>1.999988</td>\n",
       "      <td>-246.971416</td>\n",
       "      <td>Mediator</td>\n",
       "      <td>39.756234</td>\n",
       "    </tr>\n",
       "    <tr>\n",
       "      <th>3</th>\n",
       "      <td>3</td>\n",
       "      <td>1004.0</td>\n",
       "      <td>2.000000</td>\n",
       "      <td>0.674522</td>\n",
       "      <td>1.999988</td>\n",
       "      <td>-308.827750</td>\n",
       "      <td>2.0</td>\n",
       "      <td>0.551622</td>\n",
       "      <td>1.999988</td>\n",
       "      <td>-263.560830</td>\n",
       "      <td>Mediator</td>\n",
       "      <td>45.266920</td>\n",
       "    </tr>\n",
       "    <tr>\n",
       "      <th>4</th>\n",
       "      <td>4</td>\n",
       "      <td>1005.0</td>\n",
       "      <td>2.000000</td>\n",
       "      <td>0.496238</td>\n",
       "      <td>1.999988</td>\n",
       "      <td>-256.399469</td>\n",
       "      <td>2.0</td>\n",
       "      <td>0.461144</td>\n",
       "      <td>1.999988</td>\n",
       "      <td>-223.728523</td>\n",
       "      <td>Mediator</td>\n",
       "      <td>32.670945</td>\n",
       "    </tr>\n",
       "    <tr>\n",
       "      <th>...</th>\n",
       "      <td>...</td>\n",
       "      <td>...</td>\n",
       "      <td>...</td>\n",
       "      <td>...</td>\n",
       "      <td>...</td>\n",
       "      <td>...</td>\n",
       "      <td>...</td>\n",
       "      <td>...</td>\n",
       "      <td>...</td>\n",
       "      <td>...</td>\n",
       "      <td>...</td>\n",
       "      <td>...</td>\n",
       "    </tr>\n",
       "    <tr>\n",
       "      <th>56</th>\n",
       "      <td>56</td>\n",
       "      <td>1064.0</td>\n",
       "      <td>2.000000</td>\n",
       "      <td>0.465041</td>\n",
       "      <td>1.999988</td>\n",
       "      <td>-249.114180</td>\n",
       "      <td>2.0</td>\n",
       "      <td>0.443069</td>\n",
       "      <td>1.999988</td>\n",
       "      <td>-220.572770</td>\n",
       "      <td>Mediator</td>\n",
       "      <td>28.541410</td>\n",
       "    </tr>\n",
       "    <tr>\n",
       "      <th>57</th>\n",
       "      <td>57</td>\n",
       "      <td>1065.0</td>\n",
       "      <td>2.000000</td>\n",
       "      <td>0.513314</td>\n",
       "      <td>1.999988</td>\n",
       "      <td>-268.286841</td>\n",
       "      <td>2.0</td>\n",
       "      <td>0.484049</td>\n",
       "      <td>1.999988</td>\n",
       "      <td>-239.067922</td>\n",
       "      <td>Mediator</td>\n",
       "      <td>29.218919</td>\n",
       "    </tr>\n",
       "    <tr>\n",
       "      <th>58</th>\n",
       "      <td>58</td>\n",
       "      <td>1067.0</td>\n",
       "      <td>0.263793</td>\n",
       "      <td>0.391898</td>\n",
       "      <td>0.138906</td>\n",
       "      <td>-287.569890</td>\n",
       "      <td>2.0</td>\n",
       "      <td>0.618011</td>\n",
       "      <td>1.999988</td>\n",
       "      <td>-284.612511</td>\n",
       "      <td>Mediator</td>\n",
       "      <td>2.957378</td>\n",
       "    </tr>\n",
       "    <tr>\n",
       "      <th>59</th>\n",
       "      <td>59</td>\n",
       "      <td>1068.0</td>\n",
       "      <td>2.000000</td>\n",
       "      <td>0.470878</td>\n",
       "      <td>1.999988</td>\n",
       "      <td>-253.181179</td>\n",
       "      <td>2.0</td>\n",
       "      <td>0.448415</td>\n",
       "      <td>1.999988</td>\n",
       "      <td>-224.769311</td>\n",
       "      <td>Mediator</td>\n",
       "      <td>28.411867</td>\n",
       "    </tr>\n",
       "    <tr>\n",
       "      <th>60</th>\n",
       "      <td>60</td>\n",
       "      <td>1069.0</td>\n",
       "      <td>2.000000</td>\n",
       "      <td>0.487299</td>\n",
       "      <td>1.999988</td>\n",
       "      <td>-253.440157</td>\n",
       "      <td>2.0</td>\n",
       "      <td>0.472131</td>\n",
       "      <td>1.999988</td>\n",
       "      <td>-227.601998</td>\n",
       "      <td>Mediator</td>\n",
       "      <td>25.838159</td>\n",
       "    </tr>\n",
       "  </tbody>\n",
       "</table>\n",
       "<p>61 rows × 12 columns</p>\n",
       "</div>"
      ],
      "text/plain": [
       "    Unnamed: 0  Participant  elab.decay  elab.temp  elab.ter     elab.LL  \\\n",
       "0            0       1001.0    2.000000   0.569810  1.999988 -285.996456   \n",
       "1            1       1002.0    2.000000   0.598730  1.999988 -290.096765   \n",
       "2            2       1003.0    2.000000   0.580788  1.999988 -286.727650   \n",
       "3            3       1004.0    2.000000   0.674522  1.999988 -308.827750   \n",
       "4            4       1005.0    2.000000   0.496238  1.999988 -256.399469   \n",
       "..         ...          ...         ...        ...       ...         ...   \n",
       "56          56       1064.0    2.000000   0.465041  1.999988 -249.114180   \n",
       "57          57       1065.0    2.000000   0.513314  1.999988 -268.286841   \n",
       "58          58       1067.0    0.263793   0.391898  0.138906 -287.569890   \n",
       "59          59       1068.0    2.000000   0.470878  1.999988 -253.181179   \n",
       "60          60       1069.0    2.000000   0.487299  1.999988 -253.440157   \n",
       "\n",
       "    med.decay  med.temp   med.ter      med.LL best.model    diff.LL  \n",
       "0         2.0  0.496850  1.999988 -246.766882   Mediator  39.229574  \n",
       "1         2.0  0.534483  1.999988 -253.826139   Mediator  36.270627  \n",
       "2         2.0  0.505615  1.999988 -246.971416   Mediator  39.756234  \n",
       "3         2.0  0.551622  1.999988 -263.560830   Mediator  45.266920  \n",
       "4         2.0  0.461144  1.999988 -223.728523   Mediator  32.670945  \n",
       "..        ...       ...       ...         ...        ...        ...  \n",
       "56        2.0  0.443069  1.999988 -220.572770   Mediator  28.541410  \n",
       "57        2.0  0.484049  1.999988 -239.067922   Mediator  29.218919  \n",
       "58        2.0  0.618011  1.999988 -284.612511   Mediator   2.957378  \n",
       "59        2.0  0.448415  1.999988 -224.769311   Mediator  28.411867  \n",
       "60        2.0  0.472131  1.999988 -227.601998   Mediator  25.838159  \n",
       "\n",
       "[61 rows x 12 columns]"
      ]
     },
     "execution_count": 35,
     "metadata": {},
     "output_type": "execute_result"
    }
   ],
   "source": [
    "result.dropna()"
   ]
  },
  {
   "cell_type": "code",
   "execution_count": 36,
   "metadata": {
    "id": "w-Rv_Bijr_VN"
   },
   "outputs": [],
   "source": [
    "elab_LL = result[\"elab.LL\"].values\n",
    "med_LL = result[\"med.LL\"].values\n",
    "\n",
    "BEST = result[\"best.model\"].values\n",
    "BEST_ = np.unique(BEST)\n",
    "\n",
    "COLORS = ['#c9a818', '#674b94']"
   ]
  },
  {
   "cell_type": "code",
   "execution_count": 55,
   "metadata": {
    "colab": {
     "base_uri": "https://localhost:8080/",
     "height": 727
    },
    "id": "PG9R8GZWypwl",
    "outputId": "ea8a1dbe-30bc-4284-ba89-e4d2df2890ee"
   },
   "outputs": [
    {
     "data": {
      "text/plain": [
       "<matplotlib.lines._AxLine at 0x7fd6b25d3d30>"
      ]
     },
     "execution_count": 55,
     "metadata": {},
     "output_type": "execute_result"
    },
    {
     "data": {
      "image/png": "[encoded data removed]",
      "text/plain": [
       "<Figure size 600x600 with 1 Axes>"
      ]
     },
     "metadata": {},
     "output_type": "display_data"
    }
   ],
   "source": [
    "fig, ax = plt.subplots(figsize=(6,6))\n",
    "ax.plot([-320, -320], [-200, -200], \"--\")\n",
    "for best, color in zip(BEST_, COLORS):\n",
    "    idxs = np.where(best == BEST)\n",
    "    # No legend will be generated if we don't pass label=species\n",
    "    ax.scatter(\n",
    "        elab_LL[idxs], med_LL[idxs], label=best,\n",
    "        s=50, color=color, alpha=0.7\n",
    "    )\n",
    "    \n",
    "_ = plt.xlabel(\"Elaborative Log-likelihood\")\n",
    "_ = plt.ylabel(\"Mediator Log-likelihood\")\n",
    "_ = plt.title(\"Log-likelihood of Model Fit by Participant\")\n",
    "_ = plt.xlim([-320, -200])\n",
    "_ = plt.ylim([-320, -200])\n",
    "_ = plt.show\n",
    "ax.legend(loc = \"upper left\");\n",
    "ax.axline((0,0), slope=1, linestyle=\"--\", color='lightgrey')"
   ]
  },
  {
   "cell_type": "code",
   "execution_count": 42,
   "metadata": {
    "colab": {
     "base_uri": "https://localhost:8080/",
     "height": 423
    },
    "id": "SbKdLhyqP06Y",
    "outputId": "8b1cb4fe-d86b-414b-ed6c-7030aacb88fd"
   },
   "outputs": [
    {
     "data": {
      "text/html": [
       "<div>\n",
       "<style scoped>\n",
       "    .dataframe tbody tr th:only-of-type {\n",
       "        vertical-align: middle;\n",
       "    }\n",
       "\n",
       "    .dataframe tbody tr th {\n",
       "        vertical-align: top;\n",
       "    }\n",
       "\n",
       "    .dataframe thead th {\n",
       "        text-align: right;\n",
       "    }\n",
       "</style>\n",
       "<table border=\"1\" class=\"dataframe\">\n",
       "  <thead>\n",
       "    <tr style=\"text-align: right;\">\n",
       "      <th></th>\n",
       "      <th>Unnamed: 0</th>\n",
       "      <th>Participant</th>\n",
       "      <th>elab.decay</th>\n",
       "      <th>elab.temp</th>\n",
       "      <th>elab.ter</th>\n",
       "      <th>elab.LL</th>\n",
       "      <th>med.decay</th>\n",
       "      <th>med.temp</th>\n",
       "      <th>med.ter</th>\n",
       "      <th>med.LL</th>\n",
       "      <th>best.model</th>\n",
       "      <th>diff.LL</th>\n",
       "    </tr>\n",
       "  </thead>\n",
       "  <tbody>\n",
       "    <tr>\n",
       "      <th>0</th>\n",
       "      <td>0</td>\n",
       "      <td>1001.0</td>\n",
       "      <td>2.000000</td>\n",
       "      <td>0.569810</td>\n",
       "      <td>1.999988</td>\n",
       "      <td>-285.996456</td>\n",
       "      <td>2.000000</td>\n",
       "      <td>0.496850</td>\n",
       "      <td>1.999988</td>\n",
       "      <td>-246.766882</td>\n",
       "      <td>Mediator</td>\n",
       "      <td>39.229574</td>\n",
       "    </tr>\n",
       "    <tr>\n",
       "      <th>1</th>\n",
       "      <td>1</td>\n",
       "      <td>1002.0</td>\n",
       "      <td>2.000000</td>\n",
       "      <td>0.598730</td>\n",
       "      <td>1.999988</td>\n",
       "      <td>-290.096765</td>\n",
       "      <td>2.000000</td>\n",
       "      <td>0.534483</td>\n",
       "      <td>1.999988</td>\n",
       "      <td>-253.826139</td>\n",
       "      <td>Mediator</td>\n",
       "      <td>36.270627</td>\n",
       "    </tr>\n",
       "    <tr>\n",
       "      <th>2</th>\n",
       "      <td>2</td>\n",
       "      <td>1003.0</td>\n",
       "      <td>2.000000</td>\n",
       "      <td>0.580788</td>\n",
       "      <td>1.999988</td>\n",
       "      <td>-286.727650</td>\n",
       "      <td>2.000000</td>\n",
       "      <td>0.505615</td>\n",
       "      <td>1.999988</td>\n",
       "      <td>-246.971416</td>\n",
       "      <td>Mediator</td>\n",
       "      <td>39.756234</td>\n",
       "    </tr>\n",
       "    <tr>\n",
       "      <th>3</th>\n",
       "      <td>3</td>\n",
       "      <td>1004.0</td>\n",
       "      <td>2.000000</td>\n",
       "      <td>0.674522</td>\n",
       "      <td>1.999988</td>\n",
       "      <td>-308.827750</td>\n",
       "      <td>2.000000</td>\n",
       "      <td>0.551622</td>\n",
       "      <td>1.999988</td>\n",
       "      <td>-263.560830</td>\n",
       "      <td>Mediator</td>\n",
       "      <td>45.266920</td>\n",
       "    </tr>\n",
       "    <tr>\n",
       "      <th>4</th>\n",
       "      <td>4</td>\n",
       "      <td>1005.0</td>\n",
       "      <td>2.000000</td>\n",
       "      <td>0.496238</td>\n",
       "      <td>1.999988</td>\n",
       "      <td>-256.399469</td>\n",
       "      <td>2.000000</td>\n",
       "      <td>0.461144</td>\n",
       "      <td>1.999988</td>\n",
       "      <td>-223.728523</td>\n",
       "      <td>Mediator</td>\n",
       "      <td>32.670945</td>\n",
       "    </tr>\n",
       "    <tr>\n",
       "      <th>...</th>\n",
       "      <td>...</td>\n",
       "      <td>...</td>\n",
       "      <td>...</td>\n",
       "      <td>...</td>\n",
       "      <td>...</td>\n",
       "      <td>...</td>\n",
       "      <td>...</td>\n",
       "      <td>...</td>\n",
       "      <td>...</td>\n",
       "      <td>...</td>\n",
       "      <td>...</td>\n",
       "      <td>...</td>\n",
       "    </tr>\n",
       "    <tr>\n",
       "      <th>57</th>\n",
       "      <td>57</td>\n",
       "      <td>1065.0</td>\n",
       "      <td>2.000000</td>\n",
       "      <td>0.513314</td>\n",
       "      <td>1.999988</td>\n",
       "      <td>-268.286841</td>\n",
       "      <td>2.000000</td>\n",
       "      <td>0.484049</td>\n",
       "      <td>1.999988</td>\n",
       "      <td>-239.067922</td>\n",
       "      <td>Mediator</td>\n",
       "      <td>29.218919</td>\n",
       "    </tr>\n",
       "    <tr>\n",
       "      <th>58</th>\n",
       "      <td>58</td>\n",
       "      <td>1067.0</td>\n",
       "      <td>0.263793</td>\n",
       "      <td>0.391898</td>\n",
       "      <td>0.138906</td>\n",
       "      <td>-287.569890</td>\n",
       "      <td>2.000000</td>\n",
       "      <td>0.618011</td>\n",
       "      <td>1.999988</td>\n",
       "      <td>-284.612511</td>\n",
       "      <td>Mediator</td>\n",
       "      <td>2.957378</td>\n",
       "    </tr>\n",
       "    <tr>\n",
       "      <th>59</th>\n",
       "      <td>59</td>\n",
       "      <td>1068.0</td>\n",
       "      <td>2.000000</td>\n",
       "      <td>0.470878</td>\n",
       "      <td>1.999988</td>\n",
       "      <td>-253.181179</td>\n",
       "      <td>2.000000</td>\n",
       "      <td>0.448415</td>\n",
       "      <td>1.999988</td>\n",
       "      <td>-224.769311</td>\n",
       "      <td>Mediator</td>\n",
       "      <td>28.411867</td>\n",
       "    </tr>\n",
       "    <tr>\n",
       "      <th>60</th>\n",
       "      <td>60</td>\n",
       "      <td>1069.0</td>\n",
       "      <td>2.000000</td>\n",
       "      <td>0.487299</td>\n",
       "      <td>1.999988</td>\n",
       "      <td>-253.440157</td>\n",
       "      <td>2.000000</td>\n",
       "      <td>0.472131</td>\n",
       "      <td>1.999988</td>\n",
       "      <td>-227.601998</td>\n",
       "      <td>Mediator</td>\n",
       "      <td>25.838159</td>\n",
       "    </tr>\n",
       "    <tr>\n",
       "      <th>61</th>\n",
       "      <td>61</td>\n",
       "      <td>NaN</td>\n",
       "      <td>1.999952</td>\n",
       "      <td>1.999952</td>\n",
       "      <td>1.999956</td>\n",
       "      <td>0.000000</td>\n",
       "      <td>1.999952</td>\n",
       "      <td>1.999952</td>\n",
       "      <td>1.999956</td>\n",
       "      <td>0.000000</td>\n",
       "      <td>Mediator</td>\n",
       "      <td>0.000000</td>\n",
       "    </tr>\n",
       "  </tbody>\n",
       "</table>\n",
       "<p>62 rows × 12 columns</p>\n",
       "</div>"
      ],
      "text/plain": [
       "    Unnamed: 0  Participant  elab.decay  elab.temp  elab.ter     elab.LL  \\\n",
       "0            0       1001.0    2.000000   0.569810  1.999988 -285.996456   \n",
       "1            1       1002.0    2.000000   0.598730  1.999988 -290.096765   \n",
       "2            2       1003.0    2.000000   0.580788  1.999988 -286.727650   \n",
       "3            3       1004.0    2.000000   0.674522  1.999988 -308.827750   \n",
       "4            4       1005.0    2.000000   0.496238  1.999988 -256.399469   \n",
       "..         ...          ...         ...        ...       ...         ...   \n",
       "57          57       1065.0    2.000000   0.513314  1.999988 -268.286841   \n",
       "58          58       1067.0    0.263793   0.391898  0.138906 -287.569890   \n",
       "59          59       1068.0    2.000000   0.470878  1.999988 -253.181179   \n",
       "60          60       1069.0    2.000000   0.487299  1.999988 -253.440157   \n",
       "61          61          NaN    1.999952   1.999952  1.999956    0.000000   \n",
       "\n",
       "    med.decay  med.temp   med.ter      med.LL best.model    diff.LL  \n",
       "0    2.000000  0.496850  1.999988 -246.766882   Mediator  39.229574  \n",
       "1    2.000000  0.534483  1.999988 -253.826139   Mediator  36.270627  \n",
       "2    2.000000  0.505615  1.999988 -246.971416   Mediator  39.756234  \n",
       "3    2.000000  0.551622  1.999988 -263.560830   Mediator  45.266920  \n",
       "4    2.000000  0.461144  1.999988 -223.728523   Mediator  32.670945  \n",
       "..        ...       ...       ...         ...        ...        ...  \n",
       "57   2.000000  0.484049  1.999988 -239.067922   Mediator  29.218919  \n",
       "58   2.000000  0.618011  1.999988 -284.612511   Mediator   2.957378  \n",
       "59   2.000000  0.448415  1.999988 -224.769311   Mediator  28.411867  \n",
       "60   2.000000  0.472131  1.999988 -227.601998   Mediator  25.838159  \n",
       "61   1.999952  1.999952  1.999956    0.000000   Mediator   0.000000  \n",
       "\n",
       "[62 rows x 12 columns]"
      ]
     },
     "execution_count": 42,
     "metadata": {},
     "output_type": "execute_result"
    }
   ],
   "source": [
    "res = pd.read_csv(\"LL_model1.csv\")\n",
    "res"
   ]
  },
  {
   "cell_type": "code",
   "execution_count": 56,
   "metadata": {
    "colab": {
     "base_uri": "https://localhost:8080/",
     "height": 462
    },
    "id": "KgglweONP46n",
    "outputId": "e6dc5780-e8bc-42b7-ca8f-5a51dfaec74b"
   },
   "outputs": [
    {
     "data": {
      "image/png": "[encoded data removed]",
      "text/plain": [
       "<Figure size 640x480 with 1 Axes>"
      ]
     },
     "metadata": {},
     "output_type": "display_data"
    }
   ],
   "source": [
    "sns.histplot(res, x=\"diff.LL\", hue=\"best.model\", binwidth=4, binrange=[-20, 60], stat=\"count\", legend=\"False\")\n",
    "plt.legend(loc=\"upper left\", title=\"Best-fitting Model\", labels=['Elaborative', 'Mediator'])\n",
    "plt.xlabel(\"$\\log(x|M_{Mediator}) - \\log(x|M_{Elaborative})$\") \n",
    "plt.ylabel(\"Number of Participants\") \n",
    "\n",
    "plt.axvline(x=0, linestyle=\"dotted\", color=\"red\")\n",
    "#plt.axvline(x=np.mean(res['diff.LL']), linestyle=\"dashed\", color=\"blue\", linewidth=2)\n",
    "plt.show()"
   ]
  },
  {
   "cell_type": "markdown",
   "metadata": {},
   "source": [
    "# Model Recovery"
   ]
  },
  {
   "cell_type": "code",
   "execution_count": 70,
   "metadata": {},
   "outputs": [],
   "source": [
    "def policy(bprobs):\n",
    "    \"\"\"Selects an action based on a distribution of probabilities\"\"\"\n",
    "    options = list(bprobs.keys())\n",
    "    probs = [bprobs[opt] for opt in options]\n",
    "    return np.random.choice(options, p=probs)"
   ]
  },
  {
   "cell_type": "code",
   "execution_count": 71,
   "metadata": {},
   "outputs": [],
   "source": [
    "def create_memory(alldata):\n",
    "    unique_cues = alldata.cue.unique()\n",
    "    DM = {}\n",
    "    for cue in unique_cues:\n",
    "        littleDM = {}\n",
    "        # make a set of all reponses given to a certain cue to be \"vocab for that cue\"\n",
    "        for response in set(alldata[alldata.cue == cue].response):\n",
    "            littleDM[response] = [0.01]\n",
    "        DM[cue] = littleDM\n",
    "    return DM"
   ]
  },
  {
   "cell_type": "code",
   "execution_count": 106,
   "metadata": {},
   "outputs": [],
   "source": [
    "def learning_phase(alldata, pairs, errors, study, decay, temp, ter):\n",
    "    # dataframe to store task results\n",
    "    dataframe = []\n",
    "\n",
    "    # create memory\n",
    "    DM = create_memory(alldata)\n",
    "    # learning phase\n",
    "    time = 0\n",
    "    errorResp = {}\n",
    "    \n",
    "    time += 10  # read instructions\n",
    "    for cue in pairs.keys():\n",
    "       if cue in errors:\n",
    "          # Make a 'guess'\n",
    "          options = DM[cue].keys()\n",
    "          values = [activation(DM[cue][opt], time, decay) for opt in options]\n",
    "          prob = boltzmann(options, values, temp)\n",
    "          response = policy(prob)\n",
    "          # if response is nan try again (response is np string)\n",
    "          while response == \"NaN\" or response == \"nan\" or response == \"None\" or response == \"\":\n",
    "            response = policy(prob)\n",
    "\n",
    "          # Save the response\n",
    "          errorResp[cue] = response\n",
    "\n",
    "          # calculate response time\n",
    "          response_time = responsetime(activation(DM[cue][response], time, decay), ter)\n",
    "          response_time = round(response_time*1000, 0)\n",
    "\n",
    "          # update dataframe\n",
    "          dataframe += [['sim', 'learn', 1, cue, pairs[cue], response, response_time, pairs[cue] == response.upper()]]\n",
    "\n",
    "          time +=5\n",
    "\n",
    "          # Update the memory\n",
    "          DM[cue][response] = [0.01, time]\n",
    "\n",
    "          # Overwrite smaller activation of correct target to show task learning\n",
    "          time +=5\n",
    "          DM[cue][pairs[cue]] = [0.01, time]\n",
    "       elif cue in study:\n",
    "          time += 10\n",
    "          DM[cue][pairs[cue]] = [0.01, time]\n",
    "    time += 300 # time for distractor phase\n",
    "    return DM, dataframe, errorResp, time"
   ]
  },
  {
   "cell_type": "code",
   "execution_count": 149,
   "metadata": {},
   "outputs": [],
   "source": [
    "def simulate_data_elab(alldata, decay=0.5, temp=1, ter=1, mas = 1.6):\n",
    "    # create a list of error items\n",
    "    errors = alldata[alldata.condition == 1].cue.unique().tolist()\n",
    "    # create a list of study items\n",
    "    study = alldata[alldata.condition == 2].cue.unique().tolist()\n",
    "    pos = 1\n",
    "    present = study[:]\n",
    "\n",
    "    for word in errors:\n",
    "        present.insert(pos, word)\n",
    "        pos += 2\n",
    "\n",
    "    # Create dict with word pairs\n",
    "    pairs = {}\n",
    "    for cue, target in zip(alldata.cue.unique(),alldata.target.unique()):\n",
    "      pairs[cue] = target\n",
    "\n",
    "    DM, dataframe, errorResp, time = learning_phase(alldata, pairs, errors, study, decay, temp, ter)\n",
    "\n",
    "    # shuffle cue words\n",
    "    cue_shuffled = list(pairs.keys())\n",
    "    random.shuffle(cue_shuffled)\n",
    "    # testing phase\n",
    "    for cue in cue_shuffled:\n",
    "      condition = 1 if cue in errors else 2\n",
    "      options = DM[cue].keys()\n",
    "\n",
    "      # create spreading activation additional error component given size of cue's dec mem\n",
    "      cueMem = len(DM[cue])\n",
    "      add = (mas - np.log((cueMem + 1)/2)) - (mas - np.log((cueMem + 1)/1))\n",
    "\n",
    "      values = [activation(DM[cue][opt], time, decay) if opt != pairs[cue] else activation(DM[cue][pairs[cue]], time, decay) + add for opt in options]\n",
    "      prob = boltzmann(options, values, temp)\n",
    "      response = policy(prob)\n",
    "\n",
    "      # if response is nan try again (response is np string)\n",
    "      while response == \"NaN\" or response == \"nan\" or response == \"None\" or response == \"\":\n",
    "        response = policy(prob)\n",
    "\n",
    "      if condition == 1:\n",
    "        resp_activation = activation(DM[cue][response], time, decay) + add\n",
    "      else: \n",
    "        resp_activation = activation(DM[cue][response], time, decay)\n",
    "      \n",
    "      response_time = responsetime(resp_activation, ter=ter)\n",
    "      response_time = round(response_time*1000, 0)\n",
    "\n",
    "      dataframe += [['sim', 'test', condition, cue, pairs[cue], response, response_time, pairs[cue]==response.upper()]] \n",
    "\n",
    "      # addtime taken to respond\n",
    "      time += response_time/1000\n",
    "\n",
    "    return pd.DataFrame(dataframe, columns=['participant', 'phase', 'condition', 'cue', 'target', 'response', 'rt',\n",
    "       'correct'])"
   ]
  },
  {
   "cell_type": "code",
   "execution_count": 150,
   "metadata": {},
   "outputs": [
    {
     "data": {
      "text/plain": [
       "0.6333333333333333"
      ]
     },
     "execution_count": 150,
     "metadata": {},
     "output_type": "execute_result"
    }
   ],
   "source": [
    "# test\n",
    "data = alldata\n",
    "data = simulate_data_elab(data)\n",
    "data[data.phase == 'test'].correct.mean()"
   ]
  },
  {
   "cell_type": "code",
   "execution_count": 109,
   "metadata": {},
   "outputs": [
    {
     "data": {
      "text/plain": [
       " message: Optimization terminated successfully.\n",
       " success: True\n",
       "  status: 0\n",
       "     fun: 159.67659803254165\n",
       "       x: [ 4.822e-01  9.859e-01  1.277e+00]\n",
       "     nit: 2\n",
       "   direc: [[ 0.000e+00  0.000e+00  1.000e+00]\n",
       "           [ 0.000e+00  1.000e+00  0.000e+00]\n",
       "           [-1.362e-03 -1.137e-03  1.386e-02]]\n",
       "    nfev: 116"
      ]
     },
     "execution_count": 109,
     "metadata": {},
     "output_type": "execute_result"
    }
   ],
   "source": [
    "opt.minimize(vLLelab, x0 = [0.5, 1, 1], method = \"Powell\", bounds=[[0.01, 2], [0, 2], [0.1, 2]])"
   ]
  },
  {
   "cell_type": "code",
   "execution_count": 151,
   "metadata": {},
   "outputs": [],
   "source": [
    "def simulate_data_med(alldata, decay=0.5, temp=1, ter=1):\n",
    "    # create a list of error items\n",
    "    errors = alldata[alldata.condition == 1].cue.unique().tolist()\n",
    "    # create a list of study items\n",
    "    study = alldata[alldata.condition == 2].cue.unique().tolist()\n",
    "    pos = 1\n",
    "    present = study[:]\n",
    "\n",
    "    for word in errors:\n",
    "        present.insert(pos, word)\n",
    "        pos += 2\n",
    "\n",
    "    # Create dict with word pairs\n",
    "    pairs = {}\n",
    "    for cue, target in zip(alldata.cue.unique(),alldata.target.unique()):\n",
    "      pairs[cue] = target\n",
    "\n",
    "    DM, dataframe, errorResp, time = learning_phase(alldata, pairs, errors, study, decay, temp, ter)\n",
    "\n",
    "    # testing phase\n",
    "    for cue in pairs.keys():\n",
    "      condition = 1 if cue in errors else 2\n",
    "      options = DM[cue].keys()\n",
    "\n",
    "      # calculate probability of retrieving given response\n",
    "      values = [activation(DM[cue][opt], time, decay) for opt in options]\n",
    "\n",
    "      # probability of retrieving error memory\n",
    "      if condition == 1:\n",
    "        error = errorResp[cue]\n",
    "        prob2 = boltzmann(options, values, temp)[error]\n",
    "      else:\n",
    "        prob2 = 0\n",
    "\n",
    "      # If error prob high enough, boost answer activation\n",
    "      if prob2 > 0.05:\n",
    "        DM[cue][pairs[cue]].append(time) \n",
    "\n",
    "      # recalculate values\n",
    "      values = [activation(DM[cue][opt], time, decay) for opt in options]\n",
    "      prob1 = boltzmann(options, values, temp)\n",
    "      response = policy(prob1)\n",
    "      # if response is nan try again (response is np string)\n",
    "      while response == \"NaN\" or response == \"nan\" or response == \"None\" or response == \"\":\n",
    "        response = policy(prob1)\n",
    "\n",
    "      # add response times calculations\n",
    "      # probability of given response time with\n",
    "      respAct = activation(DM[cue][response], time, decay)\n",
    "      if condition == 1:\n",
    "        error = errorResp[cue]\n",
    "        errorAct = activation(DM[cue][error], time, decay)\n",
    "        resp_rt = responsetime(respAct, ter=ter)\n",
    "        error_rt = responsetime(errorAct, ter=ter)\n",
    "        response_time = resp_rt + error_rt\n",
    "        response_time = round(response_time*1000, 0)\n",
    "      else:\n",
    "        response_time = responsetime(respAct, ter=ter)\n",
    "        response_time = round(response_time*1000, 0)\n",
    "\n",
    "      dataframe += [['sim', 'test', condition, cue, pairs[cue], response, response_time, pairs[cue]==response.upper()]]\n",
    "\n",
    "      # addtime taken to respond\n",
    "      time += response_time/1000\n",
    "    \n",
    "    return pd.DataFrame(dataframe, columns=['participant', 'phase', 'condition', 'cue', 'target', 'response', 'rt',\n",
    "       'correct'])\n"
   ]
  },
  {
   "cell_type": "code",
   "execution_count": 152,
   "metadata": {},
   "outputs": [
    {
     "data": {
      "text/plain": [
       "0.5166666666666667"
      ]
     },
     "execution_count": 152,
     "metadata": {},
     "output_type": "execute_result"
    }
   ],
   "source": [
    "# test\n",
    "data = alldata\n",
    "data = simulate_data_med(data)\n",
    "data[data.phase == 'test'].correct.mean()"
   ]
  },
  {
   "cell_type": "code",
   "execution_count": 153,
   "metadata": {},
   "outputs": [
    {
     "data": {
      "text/plain": [
       " message: Optimization terminated successfully.\n",
       " success: True\n",
       "  status: 0\n",
       "     fun: 146.05229815365368\n",
       "       x: [ 1.003e-02  2.000e+00  2.000e+00]\n",
       "     nit: 2\n",
       "   direc: [[ 1.000e+00  0.000e+00  0.000e+00]\n",
       "           [ 0.000e+00  0.000e+00  1.000e+00]\n",
       "           [ 7.069e-06 -1.443e-05 -1.443e-05]]\n",
       "    nfev: 179"
      ]
     },
     "execution_count": 153,
     "metadata": {},
     "output_type": "execute_result"
    }
   ],
   "source": [
    "opt.minimize(vLLmed, x0 = [0.5, 1, 1], method = \"Powell\", bounds=[[0.01, 2], [0, 2], [0.1, 2]])"
   ]
  },
  {
   "cell_type": "code",
   "execution_count": 154,
   "metadata": {},
   "outputs": [],
   "source": [
    "def model_recovery(sim_data):\n",
    "    alpha, temp, ter = opt.minimize(vLLelab, x0 = [0.5, 1, 1], method = \"Powell\", bounds=[[0.01, 2], [0, 2], [0.1, 2]]).x\n",
    "    elab = LLelabRT(sim_data, alpha, temp, ter)\n",
    "\n",
    "    alpha, temp, ter = opt.minimize(vLLmed, x0 = [0.5, 1, 1], method = \"Powell\", bounds=[[0.01, 2], [0, 2], [0.1, 2]]).x\n",
    "    med = LLmedRT(sim_data, alpha, temp, ter)\n",
    "\n",
    "    best = \"Mediator\"\n",
    "    if elab > med:\n",
    "        best = \"Elaborative\"\n",
    "\n",
    "    diff = med - elab\n",
    "\n",
    "    return [alpha, temp, ter, elab, med, best, diff]"
   ]
  },
  {
   "cell_type": "code",
   "execution_count": 159,
   "metadata": {},
   "outputs": [
    {
     "name": "stdout",
     "output_type": "stream",
     "text": [
      "Running model recovery\n"
     ]
    },
    {
     "data": {
      "application/vnd.jupyter.widget-view+json": {
       "model_id": "e5b862ad157f442aa58616c0179856f0",
       "version_major": 2,
       "version_minor": 0
      },
      "text/plain": [
       "  0%|          | 0/10 [00:00<?, ?it/s]"
      ]
     },
     "metadata": {},
     "output_type": "display_data"
    },
    {
     "data": {
      "application/vnd.jupyter.widget-view+json": {
       "model_id": "24e6e4058f48497a9c66e3427ee68875",
       "version_major": 2,
       "version_minor": 0
      },
      "text/plain": [
       "  0%|          | 0/10 [00:00<?, ?it/s]"
      ]
     },
     "metadata": {},
     "output_type": "display_data"
    }
   ],
   "source": [
    "# turn off warnings for this cell\n",
    "import warnings\n",
    "warnings.filterwarnings('ignore')\n",
    "\n",
    "DO_RECOVERY = True\n",
    "recovery_df = []\n",
    "\n",
    "# number of runs\n",
    "n_runs = 100\n",
    "\n",
    "if DO_RECOVERY:\n",
    "    print(\"Running model recovery\")\n",
    "    global data\n",
    "    for model in [\"Elaborative\", \"Mediator\"]:\n",
    "        data = alldata\n",
    "        decay = np.nan\n",
    "        temp = np.nan\n",
    "        ter = np.nan\n",
    "        results = []\n",
    "        for run in tqdm(range(n_runs)):\n",
    "            if model == \"Elaborative\":\n",
    "                #randomizing parameters can break the code so we'll loop for success\n",
    "                success = False\n",
    "                while success == False:\n",
    "                    try:\n",
    "                        decay = np.random.uniform(0.01, 2)\n",
    "                        temp = np.random.uniform(0, 2)\n",
    "                        ter = np.random.uniform(0.01, 2)\n",
    "\n",
    "                        # print(decay, temp, ter)\n",
    "                        sim_data = simulate_data_elab(data, decay=decay, temp=temp, ter=ter)\n",
    "                        data = sim_data\n",
    "                        results = model_recovery(sim_data)\n",
    "\n",
    "                        success = True\n",
    "                    except:\n",
    "                        success = False\n",
    "            else:\n",
    "                success = False\n",
    "                while success == False:\n",
    "                    try:\n",
    "                        decay = np.random.uniform(0.01, 2)\n",
    "                        temp = np.random.uniform(0, 2)\n",
    "                        ter = np.random.uniform(0.01, 2)\n",
    "\n",
    "                        # print(decay, temp, ter)\n",
    "                        sim_data = simulate_data_med(data, decay=decay, temp=temp, ter=ter)\n",
    "                        data = sim_data\n",
    "                        results = model_recovery(sim_data)\n",
    "\n",
    "                        success = True\n",
    "                    except:\n",
    "                        success = False\n",
    "            \n",
    "            row = [model, decay, temp, ter] + results\n",
    "            recovery_df += [row]\n"
   ]
  },
  {
   "cell_type": "code",
   "execution_count": 160,
   "metadata": {},
   "outputs": [
    {
     "data": {
      "text/plain": [
       "[['Elaborative',\n",
       "  0.5176217577855186,\n",
       "  0.29271138333645713,\n",
       "  0.010026268487009313,\n",
       "  1.9999854238357626,\n",
       "  1.9999999990812727,\n",
       "  -127.5417439876487,\n",
       "  -148.92780043495188,\n",
       "  'Elaborative',\n",
       "  -21.386056447303176],\n",
       " ['Elaborative',\n",
       "  0.20120251658163027,\n",
       "  1.2538069814956292,\n",
       "  0.010026268502679079,\n",
       "  1.9999758274312196,\n",
       "  1.999999999049292,\n",
       "  -146.16838299840427,\n",
       "  -127.03556523028784,\n",
       "  'Mediator',\n",
       "  19.132817768116425],\n",
       " ['Elaborative',\n",
       "  0.3128227257158053,\n",
       "  1.3963021628327492,\n",
       "  1.999952051446196,\n",
       "  1.9999516354665015,\n",
       "  1.999955721101463,\n",
       "  -138.9626157953216,\n",
       "  -119.91570333090468,\n",
       "  'Mediator',\n",
       "  19.04691246441692],\n",
       " ['Elaborative',\n",
       "  0.5937979508489549,\n",
       "  0.6316867680660921,\n",
       "  1.999952051446196,\n",
       "  1.9999516354665015,\n",
       "  1.999955721101463,\n",
       "  34.692091160616926,\n",
       "  -116.44996742810494,\n",
       "  'Elaborative',\n",
       "  -151.14205858872185],\n",
       " ['Elaborative',\n",
       "  0.2025180233652577,\n",
       "  1.9511938534128594,\n",
       "  1.999952051446196,\n",
       "  1.9999516354665015,\n",
       "  1.999955721101463,\n",
       "  -134.14070069135596,\n",
       "  -115.06367306698505,\n",
       "  'Mediator',\n",
       "  19.077027624370913],\n",
       " ['Elaborative',\n",
       "  0.44769286863219504,\n",
       "  0.19478555246208812,\n",
       "  1.999952051446196,\n",
       "  1.9999516354665015,\n",
       "  1.999955721101463,\n",
       "  -132.76802480410683,\n",
       "  -113.67737870586515,\n",
       "  'Mediator',\n",
       "  19.090646098241677],\n",
       " ['Elaborative',\n",
       "  0.19342423012880602,\n",
       "  1.019383740129365,\n",
       "  1.999952051446196,\n",
       "  1.9999516354665015,\n",
       "  1.999955721101463,\n",
       "  -132.07819917803334,\n",
       "  -112.98423152530522,\n",
       "  'Mediator',\n",
       "  19.093967652728125],\n",
       " ['Elaborative',\n",
       "  0.08108068162013592,\n",
       "  0.22032806012061767,\n",
       "  1.999952051446196,\n",
       "  1.9999516354665015,\n",
       "  1.999955721101463,\n",
       "  -131.38978655031357,\n",
       "  -112.29108434474527,\n",
       "  'Mediator',\n",
       "  19.0987022055683],\n",
       " ['Elaborative',\n",
       "  0.5128069614707906,\n",
       "  1.7629761984249326,\n",
       "  1.999952051446196,\n",
       "  1.9999516354665015,\n",
       "  1.999955721101463,\n",
       "  -131.38978655162336,\n",
       "  -112.29108434474527,\n",
       "  'Mediator',\n",
       "  19.098702206878087],\n",
       " ['Elaborative',\n",
       "  0.7178176781164606,\n",
       "  1.7117724450260854,\n",
       "  1.999952051446196,\n",
       "  1.9999516354665015,\n",
       "  1.999955721101463,\n",
       "  52.52399376229016,\n",
       "  -112.29108434474527,\n",
       "  'Elaborative',\n",
       "  -164.81507810703545],\n",
       " ['Mediator',\n",
       "  0.06770560261788128,\n",
       "  1.3748978957497033,\n",
       "  0.010026268247882855,\n",
       "  1.9999892446860956,\n",
       "  1.999999999569312,\n",
       "  -140.93787182024386,\n",
       "  -150.54571016527115,\n",
       "  'Elaborative',\n",
       "  -9.60783834502729],\n",
       " ['Mediator',\n",
       "  0.22482452164991637,\n",
       "  0.29616778818322936,\n",
       "  0.010036604198276794,\n",
       "  1.999978183133157,\n",
       "  1.9999999990532145,\n",
       "  -91.42073348323295,\n",
       "  -128.92677497513455,\n",
       "  'Elaborative',\n",
       "  -37.5060414919016],\n",
       " ['Mediator',\n",
       "  0.807930094357365,\n",
       "  0.5801902409330194,\n",
       "  0.010047963534524917,\n",
       "  1.999933892152285,\n",
       "  1.999955721101463,\n",
       "  -88.27188795724769,\n",
       "  -125.46090449892834,\n",
       "  'Elaborative',\n",
       "  -37.18901654168066],\n",
       " ['Mediator',\n",
       "  0.788470684558482,\n",
       "  1.0354199137806046,\n",
       "  0.010047963534524917,\n",
       "  1.9999338921118466,\n",
       "  1.999955721101463,\n",
       "  -86.29660435117933,\n",
       "  -124.0746103292089,\n",
       "  'Elaborative',\n",
       "  -37.77800597802957],\n",
       " ['Mediator',\n",
       "  0.011388201408505166,\n",
       "  1.3113241206745894,\n",
       "  0.010047963534524917,\n",
       "  1.9999338912743878,\n",
       "  1.999955721101463,\n",
       "  -141.07848341634278,\n",
       "  -121.99521959210679,\n",
       "  'Mediator',\n",
       "  19.083263824235985],\n",
       " ['Mediator',\n",
       "  0.30355367759074764,\n",
       "  0.4272258944986436,\n",
       "  0.010047963534524917,\n",
       "  1.999933891472389,\n",
       "  1.999955721101463,\n",
       "  -83.62876985957563,\n",
       "  -117.83629534529753,\n",
       "  'Elaborative',\n",
       "  -34.2075254857219],\n",
       " ['Mediator',\n",
       "  1.008746140407462,\n",
       "  1.546730237318017,\n",
       "  0.010047963534524917,\n",
       "  1.999933892916252,\n",
       "  1.999955721101463,\n",
       "  -133.2019656070376,\n",
       "  -115.06367389119913,\n",
       "  'Mediator',\n",
       "  18.138291715838477],\n",
       " ['Mediator',\n",
       "  0.774789680797106,\n",
       "  0.30797181807606694,\n",
       "  0.010047963534524917,\n",
       "  1.9999338923589551,\n",
       "  1.999955721101463,\n",
       "  -133.46941455164364,\n",
       "  -114.37053115947911,\n",
       "  'Mediator',\n",
       "  19.098883392164524],\n",
       " ['Mediator',\n",
       "  0.8296300374961728,\n",
       "  1.5918792528420753,\n",
       "  1.999952051446196,\n",
       "  1.9999516354665015,\n",
       "  1.999955721101463,\n",
       "  -132.77595767017303,\n",
       "  -113.67737870586515,\n",
       "  'Mediator',\n",
       "  19.098578964307876],\n",
       " ['Mediator',\n",
       "  1.064361723912935,\n",
       "  1.2650897524603346,\n",
       "  0.010047963534524917,\n",
       "  1.9999338929672175,\n",
       "  1.999955721101463,\n",
       "  -132.6312682489333,\n",
       "  -113.67737909006435,\n",
       "  'Mediator',\n",
       "  18.95388915886896]]"
      ]
     },
     "execution_count": 160,
     "metadata": {},
     "output_type": "execute_result"
    }
   ],
   "source": [
    "recovery_df"
   ]
  },
  {
   "cell_type": "code",
   "execution_count": 161,
   "metadata": {},
   "outputs": [
    {
     "data": {
      "text/html": [
       "<div>\n",
       "<style scoped>\n",
       "    .dataframe tbody tr th:only-of-type {\n",
       "        vertical-align: middle;\n",
       "    }\n",
       "\n",
       "    .dataframe tbody tr th {\n",
       "        vertical-align: top;\n",
       "    }\n",
       "\n",
       "    .dataframe thead th {\n",
       "        text-align: right;\n",
       "    }\n",
       "</style>\n",
       "<table border=\"1\" class=\"dataframe\">\n",
       "  <thead>\n",
       "    <tr style=\"text-align: right;\">\n",
       "      <th></th>\n",
       "      <th>orig.model</th>\n",
       "      <th>orig.decay</th>\n",
       "      <th>orig.temp</th>\n",
       "      <th>orig.ter</th>\n",
       "      <th>alpha</th>\n",
       "      <th>ter</th>\n",
       "      <th>elab.LL</th>\n",
       "      <th>med.LL</th>\n",
       "      <th>best.model</th>\n",
       "      <th>diff.LL</th>\n",
       "    </tr>\n",
       "  </thead>\n",
       "  <tbody>\n",
       "    <tr>\n",
       "      <th>0</th>\n",
       "      <td>Elaborative</td>\n",
       "      <td>0.517622</td>\n",
       "      <td>0.292711</td>\n",
       "      <td>0.010026</td>\n",
       "      <td>1.999985</td>\n",
       "      <td>2.000000</td>\n",
       "      <td>-127.541744</td>\n",
       "      <td>-148.927800</td>\n",
       "      <td>Elaborative</td>\n",
       "      <td>-21.386056</td>\n",
       "    </tr>\n",
       "    <tr>\n",
       "      <th>1</th>\n",
       "      <td>Elaborative</td>\n",
       "      <td>0.201203</td>\n",
       "      <td>1.253807</td>\n",
       "      <td>0.010026</td>\n",
       "      <td>1.999976</td>\n",
       "      <td>2.000000</td>\n",
       "      <td>-146.168383</td>\n",
       "      <td>-127.035565</td>\n",
       "      <td>Mediator</td>\n",
       "      <td>19.132818</td>\n",
       "    </tr>\n",
       "    <tr>\n",
       "      <th>2</th>\n",
       "      <td>Elaborative</td>\n",
       "      <td>0.312823</td>\n",
       "      <td>1.396302</td>\n",
       "      <td>1.999952</td>\n",
       "      <td>1.999952</td>\n",
       "      <td>1.999956</td>\n",
       "      <td>-138.962616</td>\n",
       "      <td>-119.915703</td>\n",
       "      <td>Mediator</td>\n",
       "      <td>19.046912</td>\n",
       "    </tr>\n",
       "    <tr>\n",
       "      <th>3</th>\n",
       "      <td>Elaborative</td>\n",
       "      <td>0.593798</td>\n",
       "      <td>0.631687</td>\n",
       "      <td>1.999952</td>\n",
       "      <td>1.999952</td>\n",
       "      <td>1.999956</td>\n",
       "      <td>34.692091</td>\n",
       "      <td>-116.449967</td>\n",
       "      <td>Elaborative</td>\n",
       "      <td>-151.142059</td>\n",
       "    </tr>\n",
       "    <tr>\n",
       "      <th>4</th>\n",
       "      <td>Elaborative</td>\n",
       "      <td>0.202518</td>\n",
       "      <td>1.951194</td>\n",
       "      <td>1.999952</td>\n",
       "      <td>1.999952</td>\n",
       "      <td>1.999956</td>\n",
       "      <td>-134.140701</td>\n",
       "      <td>-115.063673</td>\n",
       "      <td>Mediator</td>\n",
       "      <td>19.077028</td>\n",
       "    </tr>\n",
       "    <tr>\n",
       "      <th>5</th>\n",
       "      <td>Elaborative</td>\n",
       "      <td>0.447693</td>\n",
       "      <td>0.194786</td>\n",
       "      <td>1.999952</td>\n",
       "      <td>1.999952</td>\n",
       "      <td>1.999956</td>\n",
       "      <td>-132.768025</td>\n",
       "      <td>-113.677379</td>\n",
       "      <td>Mediator</td>\n",
       "      <td>19.090646</td>\n",
       "    </tr>\n",
       "    <tr>\n",
       "      <th>6</th>\n",
       "      <td>Elaborative</td>\n",
       "      <td>0.193424</td>\n",
       "      <td>1.019384</td>\n",
       "      <td>1.999952</td>\n",
       "      <td>1.999952</td>\n",
       "      <td>1.999956</td>\n",
       "      <td>-132.078199</td>\n",
       "      <td>-112.984232</td>\n",
       "      <td>Mediator</td>\n",
       "      <td>19.093968</td>\n",
       "    </tr>\n",
       "    <tr>\n",
       "      <th>7</th>\n",
       "      <td>Elaborative</td>\n",
       "      <td>0.081081</td>\n",
       "      <td>0.220328</td>\n",
       "      <td>1.999952</td>\n",
       "      <td>1.999952</td>\n",
       "      <td>1.999956</td>\n",
       "      <td>-131.389787</td>\n",
       "      <td>-112.291084</td>\n",
       "      <td>Mediator</td>\n",
       "      <td>19.098702</td>\n",
       "    </tr>\n",
       "    <tr>\n",
       "      <th>8</th>\n",
       "      <td>Elaborative</td>\n",
       "      <td>0.512807</td>\n",
       "      <td>1.762976</td>\n",
       "      <td>1.999952</td>\n",
       "      <td>1.999952</td>\n",
       "      <td>1.999956</td>\n",
       "      <td>-131.389787</td>\n",
       "      <td>-112.291084</td>\n",
       "      <td>Mediator</td>\n",
       "      <td>19.098702</td>\n",
       "    </tr>\n",
       "    <tr>\n",
       "      <th>9</th>\n",
       "      <td>Elaborative</td>\n",
       "      <td>0.717818</td>\n",
       "      <td>1.711772</td>\n",
       "      <td>1.999952</td>\n",
       "      <td>1.999952</td>\n",
       "      <td>1.999956</td>\n",
       "      <td>52.523994</td>\n",
       "      <td>-112.291084</td>\n",
       "      <td>Elaborative</td>\n",
       "      <td>-164.815078</td>\n",
       "    </tr>\n",
       "    <tr>\n",
       "      <th>10</th>\n",
       "      <td>Mediator</td>\n",
       "      <td>0.067706</td>\n",
       "      <td>1.374898</td>\n",
       "      <td>0.010026</td>\n",
       "      <td>1.999989</td>\n",
       "      <td>2.000000</td>\n",
       "      <td>-140.937872</td>\n",
       "      <td>-150.545710</td>\n",
       "      <td>Elaborative</td>\n",
       "      <td>-9.607838</td>\n",
       "    </tr>\n",
       "    <tr>\n",
       "      <th>11</th>\n",
       "      <td>Mediator</td>\n",
       "      <td>0.224825</td>\n",
       "      <td>0.296168</td>\n",
       "      <td>0.010037</td>\n",
       "      <td>1.999978</td>\n",
       "      <td>2.000000</td>\n",
       "      <td>-91.420733</td>\n",
       "      <td>-128.926775</td>\n",
       "      <td>Elaborative</td>\n",
       "      <td>-37.506041</td>\n",
       "    </tr>\n",
       "    <tr>\n",
       "      <th>12</th>\n",
       "      <td>Mediator</td>\n",
       "      <td>0.807930</td>\n",
       "      <td>0.580190</td>\n",
       "      <td>0.010048</td>\n",
       "      <td>1.999934</td>\n",
       "      <td>1.999956</td>\n",
       "      <td>-88.271888</td>\n",
       "      <td>-125.460904</td>\n",
       "      <td>Elaborative</td>\n",
       "      <td>-37.189017</td>\n",
       "    </tr>\n",
       "    <tr>\n",
       "      <th>13</th>\n",
       "      <td>Mediator</td>\n",
       "      <td>0.788471</td>\n",
       "      <td>1.035420</td>\n",
       "      <td>0.010048</td>\n",
       "      <td>1.999934</td>\n",
       "      <td>1.999956</td>\n",
       "      <td>-86.296604</td>\n",
       "      <td>-124.074610</td>\n",
       "      <td>Elaborative</td>\n",
       "      <td>-37.778006</td>\n",
       "    </tr>\n",
       "    <tr>\n",
       "      <th>14</th>\n",
       "      <td>Mediator</td>\n",
       "      <td>0.011388</td>\n",
       "      <td>1.311324</td>\n",
       "      <td>0.010048</td>\n",
       "      <td>1.999934</td>\n",
       "      <td>1.999956</td>\n",
       "      <td>-141.078483</td>\n",
       "      <td>-121.995220</td>\n",
       "      <td>Mediator</td>\n",
       "      <td>19.083264</td>\n",
       "    </tr>\n",
       "    <tr>\n",
       "      <th>15</th>\n",
       "      <td>Mediator</td>\n",
       "      <td>0.303554</td>\n",
       "      <td>0.427226</td>\n",
       "      <td>0.010048</td>\n",
       "      <td>1.999934</td>\n",
       "      <td>1.999956</td>\n",
       "      <td>-83.628770</td>\n",
       "      <td>-117.836295</td>\n",
       "      <td>Elaborative</td>\n",
       "      <td>-34.207525</td>\n",
       "    </tr>\n",
       "    <tr>\n",
       "      <th>16</th>\n",
       "      <td>Mediator</td>\n",
       "      <td>1.008746</td>\n",
       "      <td>1.546730</td>\n",
       "      <td>0.010048</td>\n",
       "      <td>1.999934</td>\n",
       "      <td>1.999956</td>\n",
       "      <td>-133.201966</td>\n",
       "      <td>-115.063674</td>\n",
       "      <td>Mediator</td>\n",
       "      <td>18.138292</td>\n",
       "    </tr>\n",
       "    <tr>\n",
       "      <th>17</th>\n",
       "      <td>Mediator</td>\n",
       "      <td>0.774790</td>\n",
       "      <td>0.307972</td>\n",
       "      <td>0.010048</td>\n",
       "      <td>1.999934</td>\n",
       "      <td>1.999956</td>\n",
       "      <td>-133.469415</td>\n",
       "      <td>-114.370531</td>\n",
       "      <td>Mediator</td>\n",
       "      <td>19.098883</td>\n",
       "    </tr>\n",
       "    <tr>\n",
       "      <th>18</th>\n",
       "      <td>Mediator</td>\n",
       "      <td>0.829630</td>\n",
       "      <td>1.591879</td>\n",
       "      <td>1.999952</td>\n",
       "      <td>1.999952</td>\n",
       "      <td>1.999956</td>\n",
       "      <td>-132.775958</td>\n",
       "      <td>-113.677379</td>\n",
       "      <td>Mediator</td>\n",
       "      <td>19.098579</td>\n",
       "    </tr>\n",
       "    <tr>\n",
       "      <th>19</th>\n",
       "      <td>Mediator</td>\n",
       "      <td>1.064362</td>\n",
       "      <td>1.265090</td>\n",
       "      <td>0.010048</td>\n",
       "      <td>1.999934</td>\n",
       "      <td>1.999956</td>\n",
       "      <td>-132.631268</td>\n",
       "      <td>-113.677379</td>\n",
       "      <td>Mediator</td>\n",
       "      <td>18.953889</td>\n",
       "    </tr>\n",
       "  </tbody>\n",
       "</table>\n",
       "</div>"
      ],
      "text/plain": [
       "     orig.model  orig.decay  orig.temp  orig.ter     alpha       ter  \\\n",
       "0   Elaborative    0.517622   0.292711  0.010026  1.999985  2.000000   \n",
       "1   Elaborative    0.201203   1.253807  0.010026  1.999976  2.000000   \n",
       "2   Elaborative    0.312823   1.396302  1.999952  1.999952  1.999956   \n",
       "3   Elaborative    0.593798   0.631687  1.999952  1.999952  1.999956   \n",
       "4   Elaborative    0.202518   1.951194  1.999952  1.999952  1.999956   \n",
       "5   Elaborative    0.447693   0.194786  1.999952  1.999952  1.999956   \n",
       "6   Elaborative    0.193424   1.019384  1.999952  1.999952  1.999956   \n",
       "7   Elaborative    0.081081   0.220328  1.999952  1.999952  1.999956   \n",
       "8   Elaborative    0.512807   1.762976  1.999952  1.999952  1.999956   \n",
       "9   Elaborative    0.717818   1.711772  1.999952  1.999952  1.999956   \n",
       "10     Mediator    0.067706   1.374898  0.010026  1.999989  2.000000   \n",
       "11     Mediator    0.224825   0.296168  0.010037  1.999978  2.000000   \n",
       "12     Mediator    0.807930   0.580190  0.010048  1.999934  1.999956   \n",
       "13     Mediator    0.788471   1.035420  0.010048  1.999934  1.999956   \n",
       "14     Mediator    0.011388   1.311324  0.010048  1.999934  1.999956   \n",
       "15     Mediator    0.303554   0.427226  0.010048  1.999934  1.999956   \n",
       "16     Mediator    1.008746   1.546730  0.010048  1.999934  1.999956   \n",
       "17     Mediator    0.774790   0.307972  0.010048  1.999934  1.999956   \n",
       "18     Mediator    0.829630   1.591879  1.999952  1.999952  1.999956   \n",
       "19     Mediator    1.064362   1.265090  0.010048  1.999934  1.999956   \n",
       "\n",
       "       elab.LL      med.LL   best.model     diff.LL  \n",
       "0  -127.541744 -148.927800  Elaborative  -21.386056  \n",
       "1  -146.168383 -127.035565     Mediator   19.132818  \n",
       "2  -138.962616 -119.915703     Mediator   19.046912  \n",
       "3    34.692091 -116.449967  Elaborative -151.142059  \n",
       "4  -134.140701 -115.063673     Mediator   19.077028  \n",
       "5  -132.768025 -113.677379     Mediator   19.090646  \n",
       "6  -132.078199 -112.984232     Mediator   19.093968  \n",
       "7  -131.389787 -112.291084     Mediator   19.098702  \n",
       "8  -131.389787 -112.291084     Mediator   19.098702  \n",
       "9    52.523994 -112.291084  Elaborative -164.815078  \n",
       "10 -140.937872 -150.545710  Elaborative   -9.607838  \n",
       "11  -91.420733 -128.926775  Elaborative  -37.506041  \n",
       "12  -88.271888 -125.460904  Elaborative  -37.189017  \n",
       "13  -86.296604 -124.074610  Elaborative  -37.778006  \n",
       "14 -141.078483 -121.995220     Mediator   19.083264  \n",
       "15  -83.628770 -117.836295  Elaborative  -34.207525  \n",
       "16 -133.201966 -115.063674     Mediator   18.138292  \n",
       "17 -133.469415 -114.370531     Mediator   19.098883  \n",
       "18 -132.775958 -113.677379     Mediator   19.098579  \n",
       "19 -132.631268 -113.677379     Mediator   18.953889  "
      ]
     },
     "execution_count": 161,
     "metadata": {},
     "output_type": "execute_result"
    }
   ],
   "source": [
    "if DO_RECOVERY:\n",
    "    recovery_df = pd.DataFrame(recovery_df, columns=[\"orig.model\", \"orig.decay\", \"orig.temp\", \"orig.ter\",\n",
    "                                                     \"alpha\", \"ter\", \"elab.LL\", \"med.LL\", \"best.model\", \"diff.LL\"])    \n",
    "    # recovery_df.to_csv(\"model_recovery_new1.csv\")\n",
    "else:\n",
    "    recovery_df = pd.read_csv(\"model_recovery_new1.csv\")\n",
    "recovery_df"
   ]
  },
  {
   "cell_type": "code",
   "execution_count": 162,
   "metadata": {},
   "outputs": [
    {
     "name": "stdout",
     "output_type": "stream",
     "text": [
      "Elab: best.model\n",
      "Mediator       7\n",
      "Elaborative    3\n",
      "Name: count, dtype: int64\n",
      "Med: best.model\n",
      "Elaborative    5\n",
      "Mediator       5\n",
      "Name: count, dtype: int64\n"
     ]
    }
   ],
   "source": [
    "elab_score = recovery_df[recovery_df[\"orig.model\"] == \"Elaborative\"][\"best.model\"].value_counts()\n",
    "med_score = recovery_df[recovery_df[\"orig.model\"] == \"Mediator\"][\"best.model\"].value_counts()\n",
    "print('Elab:', elab_score)\n",
    "print('Med:', med_score)"
   ]
  },
  {
   "cell_type": "code",
   "execution_count": null,
   "metadata": {},
   "outputs": [],
   "source": []
  }
 ],
 "metadata": {
  "colab": {
   "provenance": []
  },
  "kernelspec": {
   "display_name": "Python 3 (ipykernel)",
   "language": "python",
   "name": "python3"
  },
  "language_info": {
   "codemirror_mode": {
    "name": "ipython",
    "version": 3
   },
   "file_extension": ".py",
   "mimetype": "text/x-python",
   "name": "python",
   "nbconvert_exporter": "python",
   "pygments_lexer": "ipython3",
   "version": "3.12.0"
  },
  "toc-autonumbering": true
 },
 "nbformat": 4,
 "nbformat_minor": 4
}
