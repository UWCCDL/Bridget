{
  "cells": [
    {
      "cell_type": "code",
      "execution_count": 1,
      "metadata": {
        "id": "J-4TjGGtFT6R"
      },
      "outputs": [],
      "source": [
        "import numpy as np\n",
        "import scipy.optimize as opt\n",
        "import matplotlib.pyplot as plt\n",
        "import pandas as pd\n",
        "from matplotlib.ticker import (MultipleLocator, AutoMinorLocator)\n",
        "from tqdm.notebook import tqdm\n",
        "import os\n",
        "import seaborn as sns\n",
        "import random\n",
        "import math\n",
        "import scipy as sp\n",
        "import itertools\n",
        "sns.set(style=\"whitegrid\")"
      ]
    },
    {
      "cell_type": "markdown",
      "metadata": {
        "id": "E53BwHW1Gk9l"
      },
      "source": [
        "Load and check data:"
      ]
    },
    {
      "cell_type": "code",
      "execution_count": 2,
      "metadata": {
        "id": "RAxDu0zYFedU"
      },
      "outputs": [],
      "source": [
        "alldata = pd.read_csv(\"error_data.csv\")"
      ]
    },
    {
      "cell_type": "code",
      "execution_count": 3,
      "metadata": {
        "colab": {
          "base_uri": "https://localhost:8080/",
          "height": 206
        },
        "id": "Dgj051G4GVUO",
        "outputId": "66797014-2896-4c3b-cd11-02bbcdd8d959"
      },
      "outputs": [
        {
          "output_type": "execute_result",
          "data": {
            "text/plain": [
              "   participant  phase  condition       cue    target response      rt  \\\n",
              "0       1001.0  learn        1.0    EMPIRE     STATE     KING  3457.0   \n",
              "1       1001.0  learn        1.0     CHUNK     BLOCK     HUNK  3361.0   \n",
              "2       1001.0  learn        1.0     GLIDE      HANG      FLY  2177.0   \n",
              "3       1001.0  learn        1.0      SAIL     OCEAN     BOAT  2341.0   \n",
              "4       1001.0  learn        1.0  ELEVATOR  BUILDING       UP  3464.0   \n",
              "\n",
              "   correct  Column1 Column2  \n",
              "0      2.0      NaN     NaN  \n",
              "1      2.0      NaN     NaN  \n",
              "2      2.0      NaN     NaN  \n",
              "3      2.0      NaN     NaN  \n",
              "4      2.0      NaN     NaN  "
            ],
            "text/html": [
              "\n",
              "  <div id=\"df-9e37afba-4b81-4d68-b0e2-529510c8edf0\">\n",
              "    <div class=\"colab-df-container\">\n",
              "      <div>\n",
              "<style scoped>\n",
              "    .dataframe tbody tr th:only-of-type {\n",
              "        vertical-align: middle;\n",
              "    }\n",
              "\n",
              "    .dataframe tbody tr th {\n",
              "        vertical-align: top;\n",
              "    }\n",
              "\n",
              "    .dataframe thead th {\n",
              "        text-align: right;\n",
              "    }\n",
              "</style>\n",
              "<table border=\"1\" class=\"dataframe\">\n",
              "  <thead>\n",
              "    <tr style=\"text-align: right;\">\n",
              "      <th></th>\n",
              "      <th>participant</th>\n",
              "      <th>phase</th>\n",
              "      <th>condition</th>\n",
              "      <th>cue</th>\n",
              "      <th>target</th>\n",
              "      <th>response</th>\n",
              "      <th>rt</th>\n",
              "      <th>correct</th>\n",
              "      <th>Column1</th>\n",
              "      <th>Column2</th>\n",
              "    </tr>\n",
              "  </thead>\n",
              "  <tbody>\n",
              "    <tr>\n",
              "      <th>0</th>\n",
              "      <td>1001.0</td>\n",
              "      <td>learn</td>\n",
              "      <td>1.0</td>\n",
              "      <td>EMPIRE</td>\n",
              "      <td>STATE</td>\n",
              "      <td>KING</td>\n",
              "      <td>3457.0</td>\n",
              "      <td>2.0</td>\n",
              "      <td>NaN</td>\n",
              "      <td>NaN</td>\n",
              "    </tr>\n",
              "    <tr>\n",
              "      <th>1</th>\n",
              "      <td>1001.0</td>\n",
              "      <td>learn</td>\n",
              "      <td>1.0</td>\n",
              "      <td>CHUNK</td>\n",
              "      <td>BLOCK</td>\n",
              "      <td>HUNK</td>\n",
              "      <td>3361.0</td>\n",
              "      <td>2.0</td>\n",
              "      <td>NaN</td>\n",
              "      <td>NaN</td>\n",
              "    </tr>\n",
              "    <tr>\n",
              "      <th>2</th>\n",
              "      <td>1001.0</td>\n",
              "      <td>learn</td>\n",
              "      <td>1.0</td>\n",
              "      <td>GLIDE</td>\n",
              "      <td>HANG</td>\n",
              "      <td>FLY</td>\n",
              "      <td>2177.0</td>\n",
              "      <td>2.0</td>\n",
              "      <td>NaN</td>\n",
              "      <td>NaN</td>\n",
              "    </tr>\n",
              "    <tr>\n",
              "      <th>3</th>\n",
              "      <td>1001.0</td>\n",
              "      <td>learn</td>\n",
              "      <td>1.0</td>\n",
              "      <td>SAIL</td>\n",
              "      <td>OCEAN</td>\n",
              "      <td>BOAT</td>\n",
              "      <td>2341.0</td>\n",
              "      <td>2.0</td>\n",
              "      <td>NaN</td>\n",
              "      <td>NaN</td>\n",
              "    </tr>\n",
              "    <tr>\n",
              "      <th>4</th>\n",
              "      <td>1001.0</td>\n",
              "      <td>learn</td>\n",
              "      <td>1.0</td>\n",
              "      <td>ELEVATOR</td>\n",
              "      <td>BUILDING</td>\n",
              "      <td>UP</td>\n",
              "      <td>3464.0</td>\n",
              "      <td>2.0</td>\n",
              "      <td>NaN</td>\n",
              "      <td>NaN</td>\n",
              "    </tr>\n",
              "  </tbody>\n",
              "</table>\n",
              "</div>\n",
              "      <button class=\"colab-df-convert\" onclick=\"convertToInteractive('df-9e37afba-4b81-4d68-b0e2-529510c8edf0')\"\n",
              "              title=\"Convert this dataframe to an interactive table.\"\n",
              "              style=\"display:none;\">\n",
              "        \n",
              "  <svg xmlns=\"http://www.w3.org/2000/svg\" height=\"24px\"viewBox=\"0 0 24 24\"\n",
              "       width=\"24px\">\n",
              "    <path d=\"M0 0h24v24H0V0z\" fill=\"none\"/>\n",
              "    <path d=\"M18.56 5.44l.94 2.06.94-2.06 2.06-.94-2.06-.94-.94-2.06-.94 2.06-2.06.94zm-11 1L8.5 8.5l.94-2.06 2.06-.94-2.06-.94L8.5 2.5l-.94 2.06-2.06.94zm10 10l.94 2.06.94-2.06 2.06-.94-2.06-.94-.94-2.06-.94 2.06-2.06.94z\"/><path d=\"M17.41 7.96l-1.37-1.37c-.4-.4-.92-.59-1.43-.59-.52 0-1.04.2-1.43.59L10.3 9.45l-7.72 7.72c-.78.78-.78 2.05 0 2.83L4 21.41c.39.39.9.59 1.41.59.51 0 1.02-.2 1.41-.59l7.78-7.78 2.81-2.81c.8-.78.8-2.07 0-2.86zM5.41 20L4 18.59l7.72-7.72 1.47 1.35L5.41 20z\"/>\n",
              "  </svg>\n",
              "      </button>\n",
              "      \n",
              "  <style>\n",
              "    .colab-df-container {\n",
              "      display:flex;\n",
              "      flex-wrap:wrap;\n",
              "      gap: 12px;\n",
              "    }\n",
              "\n",
              "    .colab-df-convert {\n",
              "      background-color: #E8F0FE;\n",
              "      border: none;\n",
              "      border-radius: 50%;\n",
              "      cursor: pointer;\n",
              "      display: none;\n",
              "      fill: #1967D2;\n",
              "      height: 32px;\n",
              "      padding: 0 0 0 0;\n",
              "      width: 32px;\n",
              "    }\n",
              "\n",
              "    .colab-df-convert:hover {\n",
              "      background-color: #E2EBFA;\n",
              "      box-shadow: 0px 1px 2px rgba(60, 64, 67, 0.3), 0px 1px 3px 1px rgba(60, 64, 67, 0.15);\n",
              "      fill: #174EA6;\n",
              "    }\n",
              "\n",
              "    [theme=dark] .colab-df-convert {\n",
              "      background-color: #3B4455;\n",
              "      fill: #D2E3FC;\n",
              "    }\n",
              "\n",
              "    [theme=dark] .colab-df-convert:hover {\n",
              "      background-color: #434B5C;\n",
              "      box-shadow: 0px 1px 3px 1px rgba(0, 0, 0, 0.15);\n",
              "      filter: drop-shadow(0px 1px 2px rgba(0, 0, 0, 0.3));\n",
              "      fill: #FFFFFF;\n",
              "    }\n",
              "  </style>\n",
              "\n",
              "      <script>\n",
              "        const buttonEl =\n",
              "          document.querySelector('#df-9e37afba-4b81-4d68-b0e2-529510c8edf0 button.colab-df-convert');\n",
              "        buttonEl.style.display =\n",
              "          google.colab.kernel.accessAllowed ? 'block' : 'none';\n",
              "\n",
              "        async function convertToInteractive(key) {\n",
              "          const element = document.querySelector('#df-9e37afba-4b81-4d68-b0e2-529510c8edf0');\n",
              "          const dataTable =\n",
              "            await google.colab.kernel.invokeFunction('convertToInteractive',\n",
              "                                                     [key], {});\n",
              "          if (!dataTable) return;\n",
              "\n",
              "          const docLinkHtml = 'Like what you see? Visit the ' +\n",
              "            '<a target=\"_blank\" href=https://colab.research.google.com/notebooks/data_table.ipynb>data table notebook</a>'\n",
              "            + ' to learn more about interactive tables.';\n",
              "          element.innerHTML = '';\n",
              "          dataTable['output_type'] = 'display_data';\n",
              "          await google.colab.output.renderOutput(dataTable, element);\n",
              "          const docLink = document.createElement('div');\n",
              "          docLink.innerHTML = docLinkHtml;\n",
              "          element.appendChild(docLink);\n",
              "        }\n",
              "      </script>\n",
              "    </div>\n",
              "  </div>\n",
              "  "
            ]
          },
          "metadata": {},
          "execution_count": 3
        }
      ],
      "source": [
        "alldata.head()"
      ]
    },
    {
      "cell_type": "code",
      "execution_count": 4,
      "metadata": {
        "colab": {
          "base_uri": "https://localhost:8080/"
        },
        "id": "hV8XwZcBGg_G",
        "outputId": "b570f05e-02e5-4d81-8a5f-c0dd54dacb34"
      },
      "outputs": [
        {
          "output_type": "execute_result",
          "data": {
            "text/plain": [
              "(5670, 10)"
            ]
          },
          "metadata": {},
          "execution_count": 4
        }
      ],
      "source": [
        "alldata.shape"
      ]
    },
    {
      "cell_type": "markdown",
      "metadata": {
        "id": "uLjxKMVoGub_"
      },
      "source": [
        "# Log likelihood"
      ]
    },
    {
      "cell_type": "markdown",
      "metadata": {
        "id": "UMdZ1ukRG4Y-"
      },
      "source": [
        "Implement ACT-R code:"
      ]
    },
    {
      "cell_type": "code",
      "execution_count": 5,
      "metadata": {
        "colab": {
          "base_uri": "https://localhost:8080/"
        },
        "id": "zOnwozhTGttJ",
        "outputId": "3eb02b94-426d-443b-ade5-efef296196f1"
      },
      "outputs": [
        {
          "output_type": "execute_result",
          "data": {
            "text/plain": [
              "-0.5949230018850301"
            ]
          },
          "metadata": {},
          "execution_count": 5
        }
      ],
      "source": [
        "def activation(traces, time, decay):\n",
        "    \"\"\"Computes the activation of a memory given its history of retrievals\"\"\"\n",
        "    ftraces = [x for x in traces if x < time]\n",
        "    decay = max(0, decay)  # Allows no positive decay rates in equation \n",
        "    decay - min(decay, 5)\n",
        "    times = time - np.array(ftraces)\n",
        "    odds = times ** -decay\n",
        "    return np.log(np.sum(odds))\n",
        "\n",
        "activation([5, 10, 15], 40, 0.5)"
      ]
    },
    {
      "cell_type": "code",
      "execution_count": 6,
      "metadata": {
        "colab": {
          "base_uri": "https://localhost:8080/",
          "height": 458
        },
        "id": "9O1NxeppG71j",
        "outputId": "fee85f55-f305-451d-9132-40078e459259"
      },
      "outputs": [
        {
          "output_type": "display_data",
          "data": {
            "text/plain": [
              "<Figure size 640x480 with 1 Axes>"
            ],
            "image/png": "[encoded data removed]"
          },
          "metadata": {}
        }
      ],
      "source": [
        "time = np.linspace(0.1, 100, 100)\n",
        "traces = [0.001, 5, 25]\n",
        "y = []\n",
        "for t in time:\n",
        "    act = activation(traces, t, 0.5)\n",
        "    y += [act]\n",
        "    \n",
        "plt.plot(time, y)\n",
        "plt.xlabel(\"Time\")\n",
        "plt.ylabel(\"Activation\")\n",
        "plt.show()"
      ]
    },
    {
      "cell_type": "markdown",
      "metadata": {
        "id": "F5O-Ma2bHHCe"
      },
      "source": [
        "Create loglikelihood function for the model"
      ]
    },
    {
      "cell_type": "code",
      "execution_count": 7,
      "metadata": {
        "id": "4nYd7AWEHC6a"
      },
      "outputs": [],
      "source": [
        "def boltzmann(options, values, temperature):\n",
        "    \"\"\"Returns a Boltzmann distribution of the probabilities of each option\"\"\"\n",
        "    temperature = max(temperature, 0.01) \n",
        "    vals = np.array(values)/temperature\n",
        "    #bvals = np.exp(vals)/np.sum(np.exp(vals))\n",
        "    bvals = np.exp(vals - np.max(vals)) / np.exp(vals - np.max(vals)).sum()\n",
        "    return dict(zip(options, bvals))"
      ]
    },
    {
      "cell_type": "code",
      "execution_count": 8,
      "metadata": {
        "colab": {
          "base_uri": "https://localhost:8080/"
        },
        "id": "infLxnLdIU7o",
        "outputId": "a927ebd0-ca38-461a-f4fb-b47c1390d9a4"
      },
      "outputs": [
        {
          "output_type": "execute_result",
          "data": {
            "text/plain": [
              "{2: 0.574442516811659, 3: 0.425557483188341}"
            ]
          },
          "metadata": {},
          "execution_count": 8
        }
      ],
      "source": [
        "boltzmann([2,3], [1, 0.7], 1)"
      ]
    },
    {
      "cell_type": "markdown",
      "metadata": {
        "id": "NaK3W3zCI63e"
      },
      "source": [
        "Create a loglikelihood function for the elaborative model, each error item is given additional spreading activation given the max association (mas) parameter"
      ]
    },
    {
      "cell_type": "markdown",
      "metadata": {
        "id": "0hWua1X6GL_h"
      },
      "source": [
        "### Complete *elaborative* model"
      ]
    },
    {
      "cell_type": "code",
      "execution_count": null,
      "metadata": {
        "id": "KMLIBhGdIteL"
      },
      "outputs": [],
      "source": [
        "def LLelab(data, decay, temp, mas):\n",
        "    \"\"\"For each trial, calculate the probability of that response, sum the log likelihoods, and update the values\"\"\"\n",
        "    # create a list of error items\n",
        "    errors = data[data.phase == \"learn\"].cue.tolist()\n",
        "    # create a list of study items\n",
        "    study = data[data.condition == 2].cue.tolist()\n",
        "    # since we don't have data for when study items were presented in each participant's learning phase\n",
        "    # we will use the presentation of the error items and interleaven the study items in between\n",
        "    pos = 1\n",
        "    present = errors[:]\n",
        "    for i in range(len(errors)):\n",
        "      word = study[i]\n",
        "      present.insert(pos, word)\n",
        "      pos += 2\n",
        "\n",
        "    # Create dict with word pairs\n",
        "    pairs = {}\n",
        "    for cue, target in zip(data[data.phase == \"test\"].cue,data[data.phase == \"test\"].target):\n",
        "      pairs[cue] = target\n",
        "    # also create a dict with errors\n",
        "    errorResp = dict()\n",
        "    for cue,response in zip(data[data.phase == \"learn\"].cue,data[data.phase == \"learn\"].response):\n",
        "      errorResp[cue] = response\n",
        "\n",
        "    # model learning phase, encode a single trace for each item: (idk what to set activation at)\n",
        "    DM = dict()\n",
        "    # for DM can we make a dictionary of dictionaries where big keys are cues, values are dictionary of target/\n",
        "    # possible responses and their activation\n",
        "    time = 0\n",
        "    step = 10 #time for learning each item\n",
        "    for cue in present:\n",
        "      littleDM = {}\n",
        "      # make a set of all reponses given to a certain cue to be \"vocab for that cue\"\n",
        "      for response in set(alldata[alldata.cue == cue].response):\n",
        "        littleDM[response] = [0.001]\n",
        "      # add retrieval of error for error items\n",
        "      if cue in errorResp.keys():\n",
        "        error = errorResp[cue]\n",
        "        time +=5\n",
        "        littleDM[error] = [0.001, time]\n",
        "      # overwrite smaller activ of correct target to show task learning\n",
        "        time +=5\n",
        "        littleDM[pairs[cue]] = [0.001, time]\n",
        "      else:\n",
        "        time += 10\n",
        "        littleDM[pairs[cue]] = [0.001, time]\n",
        "      DM[cue] = littleDM\n",
        "    time += 300 # time for distractor phase\n",
        "\n",
        "\n",
        "    # model testing phase\n",
        "    LL = 0\n",
        "    for condition, cue, response, rt, feedback in zip(data[data.phase == \"test\"].condition,\n",
        "                                   data[data.phase == \"test\"].cue, \n",
        "                                   data[data.phase == \"test\"].response, \n",
        "                                   data[data.phase == \"test\"].rt, \n",
        "                                   data[data.phase == \"test\"].correct):\n",
        "      # Calculate log likelihood of response- possible options are 19 random integers\n",
        "      # or correct associate\n",
        "      options = DM[cue].keys()\n",
        "      # create spreading activation additional error component given size of cue's dec mem\n",
        "      cueMem = len(DM[cue])\n",
        "      add = (mas - np.log((cueMem + 1)/2)) - (mas - np.log((cueMem + 1)/1))\n",
        "      # if error condition, add spreading activation\n",
        "      values = [activation(DM[cue][opt], time, decay) if condition == 1 else \n",
        "       (activation(DM[cue][opt], time, decay) + add) for opt in options]\n",
        "      prob = boltzmann(options, values, temp)[response]\n",
        "    \n",
        "      # Sum up the LLs\n",
        "      LL += np.log(max(prob, 10e-10))\n",
        "\n",
        "       # add time taken to responde\n",
        "      time += rt/1000\n",
        "    \n",
        "    return LL"
      ]
    },
    {
      "cell_type": "code",
      "execution_count": null,
      "metadata": {
        "colab": {
          "base_uri": "https://localhost:8080/"
        },
        "id": "yahI4_8z7t5o",
        "outputId": "0db50f1c-5eb6-4b7e-e78e-411638a39f76"
      },
      "outputs": [
        {
          "output_type": "execute_result",
          "data": {
            "text/plain": [
              "-174.4412782790136"
            ]
          },
          "metadata": {},
          "execution_count": 10
        }
      ],
      "source": [
        "LLelab(alldata[alldata.participant == 1001], 0.5, 1, 1.6)"
      ]
    },
    {
      "cell_type": "code",
      "execution_count": null,
      "metadata": {
        "colab": {
          "base_uri": "https://localhost:8080/"
        },
        "id": "X9bwBrAI8JLq",
        "outputId": "1a837c88-4964-47b8-ad3f-a758c6c72376"
      },
      "outputs": [
        {
          "output_type": "execute_result",
          "data": {
            "text/plain": [
              "-177.46115123650327"
            ]
          },
          "metadata": {},
          "execution_count": 11
        }
      ],
      "source": [
        "LLelab(alldata[alldata.participant == 1002], 0.5, 1, 4)"
      ]
    },
    {
      "cell_type": "markdown",
      "metadata": {
        "id": "bft75J6OTfGn"
      },
      "source": [
        "Create a loglikelihood function of the mediator model, where there are two routes to make a decision: To remember something that worked and to remember something that did not."
      ]
    },
    {
      "cell_type": "code",
      "execution_count": null,
      "metadata": {
        "id": "6oDf4YA7T3To"
      },
      "outputs": [],
      "source": [
        "def LLmed(data, decay, temp):\n",
        "    \"\"\"For each trial, calculate the probability of that response, sum the log likelihoods, and update the values\"\"\"\n",
        "    # create a list of error items\n",
        "    errors = data[data.phase == \"learn\"].cue.tolist()\n",
        "    # create a list of study items\n",
        "    study = data[data.condition == 2].cue.tolist()\n",
        "    pos = 1\n",
        "    present = errors[:]\n",
        "    for i in range(len(errors)):\n",
        "      word = study[i]\n",
        "      present.insert(pos, word)\n",
        "      pos += 2\n",
        "\n",
        "    # Create dict with word pairs\n",
        "    pairs = {}\n",
        "    for cue, target in zip(data[data.phase == \"test\"].cue,data[data.phase == \"test\"].target):\n",
        "      pairs[cue] = target\n",
        "    # also create a dict with errors\n",
        "    errorResp = dict()\n",
        "    for cue,response in zip(data[data.phase == \"learn\"].cue,data[data.phase == \"learn\"].response):\n",
        "      errorResp[cue] = response\n",
        "\n",
        "    # model learning phase, encode a single trace for each item: (idk what to set activation at)\n",
        "    DM = dict()\n",
        "    # for DM can we make a dictionary of dictionaries where big keys are cues, values are dictionary of target/\n",
        "    # possible responses and their activation\n",
        "    time = 0\n",
        "    step = 10 #time for learning each item\n",
        "    for cue in present:\n",
        "      littleDM = {}\n",
        "      # make a set of all reponses given to a certain cue to be \"vocab for that cue\"\n",
        "      for response in set(alldata[alldata.cue == cue].response):\n",
        "        littleDM[response] = [0.001]\n",
        "      # add retrieval of error for error items\n",
        "      if cue in errorResp.keys():\n",
        "        error = errorResp[cue]\n",
        "        time +=5\n",
        "        littleDM[error] = [0.001, time]\n",
        "      # overwrite smaller activ of correct target to show task learning\n",
        "        time +=5\n",
        "        littleDM[pairs[cue]] = [0.001, time]\n",
        "      else:\n",
        "        time += 10\n",
        "        littleDM[pairs[cue]] = [0.001, time]\n",
        "      DM[cue] = littleDM\n",
        "    time += 300 # time for distractor phase\n",
        "\n",
        "    # model testing phase\n",
        "    LL = 0\n",
        "    \n",
        "    for condition, cue, response, rt, feedback in zip(data[data.phase == \"test\"].condition,\n",
        "                                   data[data.phase == \"test\"].cue, \n",
        "                                   data[data.phase == \"test\"].response, \n",
        "                                   data[data.phase == \"test\"].rt, \n",
        "                                   data[data.phase == \"test\"].correct):\n",
        "        # Calculate log likelihood of response- possible options are 19 random integers\n",
        "        # or correct associate\n",
        "        options = DM[cue].keys()\n",
        "        # create spreading activation additional error component given size of cue's dec mem\n",
        "        cueMem = len(DM[cue])\n",
        "        # if error condition, add spreading activation\n",
        "        values = [activation(DM[cue][opt], time, decay) for opt in options]\n",
        "        prob1 = boltzmann(options, values, temp)[response]\n",
        "        \n",
        "        # probability of retrieving error memory\n",
        "        if condition == 1:\n",
        "          error = errorResp[cue]\n",
        "          prob2 = boltzmann(options, values, temp)[error]\n",
        "        else:\n",
        "          prob2 = 0\n",
        "        \n",
        "        # Sum up the LLs\n",
        "        LL += np.log(max(prob1 + prob2, 10e-10))\n",
        "        \n",
        "         # add time taken to responde\n",
        "        time += rt/1000\n",
        "        \n",
        "    return LL"
      ]
    },
    {
      "cell_type": "code",
      "execution_count": null,
      "metadata": {
        "colab": {
          "base_uri": "https://localhost:8080/"
        },
        "id": "mmmyXeOdETlj",
        "outputId": "20d22e56-5c0f-43ad-b5bf-26d13cdfd41c"
      },
      "outputs": [
        {
          "output_type": "execute_result",
          "data": {
            "text/plain": [
              "-148.38513809212435"
            ]
          },
          "metadata": {},
          "execution_count": 13
        }
      ],
      "source": [
        "LLmed(alldata[alldata.participant == 1001], 0.5, 1)"
      ]
    },
    {
      "cell_type": "code",
      "execution_count": null,
      "metadata": {
        "colab": {
          "base_uri": "https://localhost:8080/"
        },
        "id": "RGuZGMVvExA5",
        "outputId": "10d6b9b4-d0ec-4a81-b06f-1574bcd40bb8"
      },
      "outputs": [
        {
          "output_type": "execute_result",
          "data": {
            "text/plain": [
              "-150.88790456104599"
            ]
          },
          "metadata": {},
          "execution_count": 14
        }
      ],
      "source": [
        "LLmed(alldata[alldata.participant == 1002], 0.5, 1)"
      ]
    },
    {
      "cell_type": "markdown",
      "metadata": {
        "id": "AMZivWprDOAT"
      },
      "source": [
        "# Create RT models"
      ]
    },
    {
      "cell_type": "code",
      "execution_count": 9,
      "metadata": {
        "id": "AickrN7GDlaO"
      },
      "outputs": [],
      "source": [
        "def responsetime(activation, ter, F=1, f=1):\n",
        "    return ter + F * np.exp(-f * activation)"
      ]
    },
    {
      "cell_type": "code",
      "execution_count": 10,
      "metadata": {
        "colab": {
          "base_uri": "https://localhost:8080/",
          "height": 458
        },
        "id": "_A-v7qV7DmXr",
        "outputId": "f8826f75-85d8-453a-c050-7fa304448f72"
      },
      "outputs": [
        {
          "output_type": "display_data",
          "data": {
            "text/plain": [
              "<Figure size 640x480 with 1 Axes>"
            ],
            "image/png": "[encoded data removed]"
          },
          "metadata": {}
        }
      ],
      "source": [
        "noise = np.linspace(-2, 2)\n",
        "dist = sp.stats.logistic(0, 0.2)\n",
        "plt.plot(noise, dist.pdf(noise))\n",
        "plt.xlabel(\"Noise $s$\")\n",
        "plt.ylabel(\"Probability $P$\")\n",
        "plt.show()"
      ]
    },
    {
      "cell_type": "code",
      "execution_count": 22,
      "metadata": {
        "colab": {
          "base_uri": "https://localhost:8080/",
          "height": 480
        },
        "id": "7LaZcjs-D-hL",
        "outputId": "26f7a220-a246-49fd-caf6-d5bb33c39f15"
      },
      "outputs": [
        {
          "output_type": "display_data",
          "data": {
            "text/plain": [
              "<Figure size 640x480 with 1 Axes>"
            ],
            "image/png": "[encoded data removed]"
          },
          "metadata": {}
        }
      ],
      "source": [
        "rts = [responsetime((0.5 - x), 1) for x in noise]\n",
        "plt.plot(rts, dist.pdf(noise))\n",
        "plt.xlabel(\"Response Time (s)\")\n",
        "plt.ylabel(\"Probability $P$\")\n",
        "plt.title(\"RT distributions when $s$ = 0.2\")\n",
        "plt.show()"
      ]
    },
    {
      "cell_type": "code",
      "execution_count": 23,
      "metadata": {
        "colab": {
          "base_uri": "https://localhost:8080/",
          "height": 480
        },
        "id": "nTAIDWYZEC5J",
        "outputId": "8fdb9fc1-fe7d-4e77-c0e1-225139798c2b"
      },
      "outputs": [
        {
          "output_type": "display_data",
          "data": {
            "text/plain": [
              "<Figure size 640x480 with 1 Axes>"
            ],
            "image/png": "[encoded data removed]"
          },
          "metadata": {}
        }
      ],
      "source": [
        "for s in np.linspace(0.2, 0.8, 7):\n",
        "    dist = sp.stats.logistic(0, (math.sqrt((math.pi**2)*s)/3))\n",
        "    rts = [responsetime((0.5 - x), 1) for x in noise]\n",
        "    plt.plot(rts, dist.pdf(noise))\n",
        "plt.legend([\"$s$ = %.1f\" % (x,) for x in np.linspace(0.2, 0.8, 7)])\n",
        "plt.xlabel(\"Response Time (s)\")\n",
        "plt.ylabel(\"Probability $P$\")\n",
        "plt.title(\"RT distributions for different levels of noise $s$\")\n",
        "plt.show()"
      ]
    },
    {
      "cell_type": "markdown",
      "source": [
        "## Updated noise SD added here"
      ],
      "metadata": {
        "id": "sZv106szPBcS"
      }
    },
    {
      "cell_type": "code",
      "execution_count": 19,
      "metadata": {
        "id": "s0BKpqZQEGJ_"
      },
      "outputs": [],
      "source": [
        "from urllib.request import proxy_bypass\n",
        "def rtProb(rt, activation, s, ter):\n",
        "  \"\"\"Takes one parameter for noise, s, and outputs a probability distribution for response times\"\"\"\n",
        "  noise = np.linspace(-2, 2)\n",
        "  dist = sp.stats.logistic(0, (math.sqrt((math.pi**2)*s)/3))\n",
        "  rts = [responsetime((activation - x), ter) for x in noise]\n",
        "  prob = dist.pdf(noise)\n",
        "  rtprob = {rts[i]:prob[i]for i in range(len(noise))}\n",
        "  val = min(rtprob.keys(), key=lambda x: abs(x - (rt/1000)))\n",
        "  return rtprob[val]"
      ]
    },
    {
      "cell_type": "code",
      "execution_count": 20,
      "metadata": {
        "colab": {
          "base_uri": "https://localhost:8080/"
        },
        "id": "JKKNDiaFjwfb",
        "outputId": "ce930c89-ddf9-43be-8b4e-71d8a8b154ce"
      },
      "outputs": [
        {
          "output_type": "execute_result",
          "data": {
            "text/plain": [
              "0.1072925734674144"
            ]
          },
          "metadata": {},
          "execution_count": 20
        }
      ],
      "source": [
        "rtProb(5030, 3, 1, 1)"
      ]
    },
    {
      "cell_type": "markdown",
      "metadata": {
        "id": "dBBYG2u8tGz3"
      },
      "source": [
        "## Elaborative Model"
      ]
    },
    {
      "cell_type": "code",
      "execution_count": 13,
      "metadata": {
        "id": "DAmc6sa3DMuC"
      },
      "outputs": [],
      "source": [
        "def LLelabRT(data, decay, temp, ter, mas = 1.6):\n",
        "    \"\"\"For each trial, calculate the probability of that response, sum the log likelihoods, and update the values\"\"\"\n",
        "    # create a list of error items\n",
        "    errors = data[data.phase == \"learn\"].cue.tolist()\n",
        "    # create a list of study items\n",
        "    study = data[data.condition == 2].cue.tolist()\n",
        "    pos = 1\n",
        "    present = errors[:]\n",
        "    for i in range(len(errors)):\n",
        "      word = study[i]\n",
        "      present.insert(pos, word)\n",
        "      pos += 2\n",
        "\n",
        "    # Create dict with word pairs\n",
        "    pairs = {}\n",
        "    for cue, target in zip(data[data.phase == \"test\"].cue,data[data.phase == \"test\"].target):\n",
        "      pairs[cue] = target\n",
        "    # also create a dict with errors\n",
        "    errorResp = dict()\n",
        "    for cue,response in zip(data[data.phase == \"learn\"].cue,data[data.phase == \"learn\"].response):\n",
        "      errorResp[cue] = response\n",
        "\n",
        "    # model learning phase, encode a single trace for each item: (idk what to set activation at)\n",
        "    DM = dict()\n",
        "    # for DM can we make a dictionary of dictionaries where big keys are cues, values are dictionary of target/\n",
        "    # possible responses and their activation\n",
        "    time = 0\n",
        "    step = 10 #time for learning each item\n",
        "    for cue in present:\n",
        "      littleDM = {}\n",
        "      # make a set of all reponses given to a certain cue to be \"vocab for that cue\"\n",
        "      for response in set(alldata[alldata.cue == cue].response):\n",
        "        littleDM[response] = [0.001]\n",
        "      # add retrieval of error for error items\n",
        "      if cue in errorResp.keys():\n",
        "        error = errorResp[cue]\n",
        "        time +=5\n",
        "        littleDM[error] = [0.001, time]\n",
        "      # overwrite smaller activ of correct target to show task learning\n",
        "        time +=5\n",
        "        littleDM[pairs[cue]] = [0.001, time]\n",
        "      else:\n",
        "        time += 10\n",
        "        littleDM[pairs[cue]] = [0.001, time]\n",
        "      DM[cue] = littleDM\n",
        "    time += 300 # time for distractor phase\n",
        "\n",
        "\n",
        "    # model testing phase\n",
        "    LL = 0\n",
        "    for condition, cue, response, rt, feedback in zip(data[data.phase == \"test\"].condition,\n",
        "                                   data[data.phase == \"test\"].cue, \n",
        "                                   data[data.phase == \"test\"].response, \n",
        "                                   data[data.phase == \"test\"].rt, \n",
        "                                   data[data.phase == \"test\"].correct):\n",
        "      # Calculate log likelihood of response- possible options are 19 random integers\n",
        "      # or correct associate\n",
        "      options = DM[cue].keys()\n",
        "      # create spreading activation additional error component given size of cue's dec mem\n",
        "      cueMem = len(DM[cue])\n",
        "      add = (mas - np.log((cueMem + 1)/2)) - (mas - np.log((cueMem + 1)/1))\n",
        "      # if error condition, add spreading activation\n",
        "      values = [(activation(DM[cue][opt], time, decay) + add) if condition == 1 else \n",
        "       activation(DM[cue][opt], time, decay) for opt in options]\n",
        "      prob = boltzmann(options, values, temp)[response]\n",
        "    \n",
        "      # now calculate response times:\n",
        "      if condition == 1:\n",
        "        resp_activation = activation(DM[cue][response], time, decay) + add\n",
        "      else: \n",
        "        resp_activation = activation(DM[cue][response], time, decay)\n",
        "\n",
        "      \n",
        "      prob_rt = rtProb(rt, resp_activation, temp, ter)\n",
        "\n",
        "      # Sum up the LLs\n",
        "      LL += (np.log(max(prob, 10e-10)) + np.log(max(prob_rt, 10e-10)))\n",
        "\n",
        "       # add time taken to responde\n",
        "      time += rt/1000\n",
        "    \n",
        "    return LL"
      ]
    },
    {
      "cell_type": "code",
      "execution_count": 26,
      "metadata": {
        "colab": {
          "base_uri": "https://localhost:8080/"
        },
        "id": "od62A0A0siuO",
        "outputId": "82fe234d-237d-4052-b373-0a1f4a08b03b"
      },
      "outputs": [
        {
          "output_type": "execute_result",
          "data": {
            "text/plain": [
              "-289.25863875844"
            ]
          },
          "metadata": {},
          "execution_count": 26
        }
      ],
      "source": [
        "LLelabRT(alldata[alldata.participant == 1001], 0.5, 1, 1.6, 1)"
      ]
    },
    {
      "cell_type": "code",
      "execution_count": 24,
      "metadata": {
        "colab": {
          "base_uri": "https://localhost:8080/"
        },
        "id": "c26HJ-h9E6AJ",
        "outputId": "49b9dfb8-3cff-4833-bac5-896f1ff8ee8c"
      },
      "outputs": [
        {
          "output_type": "execute_result",
          "data": {
            "text/plain": [
              "-301.81187261225193"
            ]
          },
          "metadata": {},
          "execution_count": 24
        }
      ],
      "source": [
        "LLelabRT(alldata[alldata.participant == 1002], 0.5, 1, 1.6, 1)"
      ]
    },
    {
      "cell_type": "markdown",
      "metadata": {
        "id": "k94iDUxOtKy_"
      },
      "source": [
        "## Mediator Model"
      ]
    },
    {
      "cell_type": "markdown",
      "source": [
        "## Updated noise SD *also* added here"
      ],
      "metadata": {
        "id": "ZF0EEFvUPNWT"
      }
    },
    {
      "cell_type": "code",
      "execution_count": 31,
      "metadata": {
        "id": "cappHS-GwJ2C"
      },
      "outputs": [],
      "source": [
        "from urllib.request import proxy_bypass\n",
        "def rtProb2(rt, resp_activation, error_activation, condition, s, ter):\n",
        "  \"\"\"Takes one parameter for noise, s, and outputs a probability distribution for response times\"\"\"\n",
        "  noise = np.linspace(-2, 2)\n",
        "  dist = sp.stats.logistic(0, (math.sqrt((math.pi**2)*s)/3))\n",
        "  if condition == 1:\n",
        "    rts = [(responsetime((resp_activation - x), ter) + responsetime((error_activation - x), ter)) for x in noise]\n",
        "  else: \n",
        "    rts = [responsetime((resp_activation - x), ter) for x in noise]\n",
        "  prob = dist.pdf(noise)\n",
        "  rtprob = {rts[i]:prob[i]for i in range(len(noise))}\n",
        "  val = min(rtprob.keys(), key=lambda x: abs(x - (rt/1000)))\n",
        "  return rtprob[val]"
      ]
    },
    {
      "cell_type": "code",
      "execution_count": 32,
      "metadata": {
        "colab": {
          "base_uri": "https://localhost:8080/"
        },
        "id": "7BDYgqgnPFCz",
        "outputId": "dcb3a8ba-27c1-4c0b-c93b-2fba9847cb40"
      },
      "outputs": [
        {
          "output_type": "execute_result",
          "data": {
            "text/plain": [
              "0.029021222079091556"
            ]
          },
          "metadata": {},
          "execution_count": 32
        }
      ],
      "source": [
        "rtProb2(6100, 3, 2, 1, 0.2, 1)"
      ]
    },
    {
      "cell_type": "code",
      "execution_count": 33,
      "metadata": {
        "id": "06orMyzjtFR4"
      },
      "outputs": [],
      "source": [
        "def LLmedRT(data, decay, temp, ter):\n",
        "    \"\"\"For each trial, calculate the probability of that response, sum the log likelihoods, and update the values\"\"\"\n",
        "    # create a list of error items\n",
        "    errors = data[data.phase == \"learn\"].cue.tolist()\n",
        "    # create a list of study items\n",
        "    study = data[data.condition == 2].cue.tolist()\n",
        "    pos = 1\n",
        "    present = errors[:]\n",
        "    for i in range(len(errors)):\n",
        "      word = study[i]\n",
        "      present.insert(pos, word)\n",
        "      pos += 2\n",
        "\n",
        "    # Create dict with word pairs\n",
        "    pairs = {}\n",
        "    for cue, target in zip(data[data.phase == \"test\"].cue,data[data.phase == \"test\"].target):\n",
        "      pairs[cue] = target\n",
        "    # also create a dict with errors\n",
        "    errorResp = dict()\n",
        "    for cue,response in zip(data[data.phase == \"learn\"].cue,data[data.phase == \"learn\"].response):\n",
        "      errorResp[cue] = response\n",
        "\n",
        "    # model learning phase, encode a single trace for each item: (idk what to set activation at)\n",
        "    DM = dict()\n",
        "    # for DM can we make a dictionary of dictionaries where big keys are cues, values are dictionary of target/\n",
        "    # possible responses and their activation\n",
        "    time = 0\n",
        "    step = 10 #time for learning each item\n",
        "    for cue in present:\n",
        "      littleDM = {}\n",
        "      # make a set of all reponses given to a certain cue to be \"vocab for that cue\"\n",
        "      for response in set(alldata[alldata.cue == cue].response):\n",
        "        littleDM[response] = [0.001]\n",
        "      # add retrieval of error for error items\n",
        "      if cue in errorResp.keys():\n",
        "        error = errorResp[cue]\n",
        "        time +=5\n",
        "        littleDM[error] = [0.001, time]\n",
        "      # overwrite smaller activ of correct target to show task learning\n",
        "        time +=5\n",
        "        littleDM[pairs[cue]] = [0.001, time]\n",
        "      else:\n",
        "        time += 10\n",
        "        littleDM[pairs[cue]] = [0.001, time]\n",
        "      DM[cue] = littleDM\n",
        "    time += 300 # time for distractor phase\n",
        "\n",
        "    # model testing phase\n",
        "    LL = 0\n",
        "    \n",
        "    for condition, cue, response, rt, feedback in zip(data[data.phase == \"test\"].condition,\n",
        "                                   data[data.phase == \"test\"].cue, \n",
        "                                   data[data.phase == \"test\"].response, \n",
        "                                   data[data.phase == \"test\"].rt, \n",
        "                                   data[data.phase == \"test\"].correct):\n",
        "        # Calculate log likelihood of response- possible options are 19 random integers\n",
        "        # or correct associate\n",
        "        options = DM[cue].keys()\n",
        "\n",
        "        # calculate probability of retrieving given response\n",
        "        values = [activation(DM[cue][opt], time, decay) for opt in options]\n",
        "        prob1 = boltzmann(options, values, temp)[response]\n",
        "        \n",
        "        # probability of retrieving error memory\n",
        "        if condition == 1:\n",
        "          error = errorResp[cue]\n",
        "          prob2 = boltzmann(options, values, temp)[error]\n",
        "        else:\n",
        "          prob2 = 0\n",
        "        \n",
        "        # add response times calculations\n",
        "        # probability of given response time with\n",
        "        respAct = activation(DM[cue][response], time, decay)\n",
        "        if condition == 1:\n",
        "          error = errorResp[cue]\n",
        "          errorAct = activation(DM[cue][error], time, decay)\n",
        "          prob_rt = rtProb2(rt, respAct, errorAct, condition, temp, ter)\n",
        "        else:\n",
        "          errorAct = 0\n",
        "          prob_rt = rtProb2(rt, respAct, errorAct, condition, temp, ter)\n",
        "\n",
        "        # Sum up the LLs\n",
        "        LL += (np.log(max(prob1 + prob2, 10e-10)) + np.log(max(prob_rt, 10e-10)))\n",
        "        \n",
        "         # add time taken to responde\n",
        "        time += rt/1000\n",
        "        \n",
        "    return LL"
      ]
    },
    {
      "cell_type": "code",
      "execution_count": 34,
      "metadata": {
        "colab": {
          "base_uri": "https://localhost:8080/"
        },
        "id": "PU1kSzEG0FJD",
        "outputId": "ac3e70c9-4dc3-48be-ebc5-917b291a9440"
      },
      "outputs": [
        {
          "output_type": "execute_result",
          "data": {
            "text/plain": [
              "-268.5846010228856"
            ]
          },
          "metadata": {},
          "execution_count": 34
        }
      ],
      "source": [
        "LLmedRT(alldata[alldata.participant == 1001], 0.5, 1, 1)"
      ]
    },
    {
      "cell_type": "code",
      "execution_count": 35,
      "metadata": {
        "colab": {
          "base_uri": "https://localhost:8080/"
        },
        "id": "N8P4j9Lyknay",
        "outputId": "3d3a16a5-6f9a-41ac-81fc-ccd06226d548"
      },
      "outputs": [
        {
          "output_type": "execute_result",
          "data": {
            "text/plain": [
              "-282.17452703368673"
            ]
          },
          "metadata": {},
          "execution_count": 35
        }
      ],
      "source": [
        "LLmedRT(alldata[alldata.participant == 1002], 0.5, 1, 1)"
      ]
    },
    {
      "cell_type": "markdown",
      "metadata": {
        "id": "nbZ8QgPmB9_j"
      },
      "source": [
        "# Optimizing the Models"
      ]
    },
    {
      "cell_type": "markdown",
      "metadata": {
        "id": "_xG-LzMACBMZ"
      },
      "source": [
        "## Elaborative Optimization"
      ]
    },
    {
      "cell_type": "code",
      "execution_count": 36,
      "metadata": {
        "id": "1r5gcKhxB9LO"
      },
      "outputs": [],
      "source": [
        "def vLLelab(array):\n",
        "    \"\"\"Vector function of procedural log-likelihood\"\"\"\n",
        "    global data\n",
        "    decay, temp, ter = array\n",
        "    return -1 * LLelabRT(data, decay, temp, ter)"
      ]
    },
    {
      "cell_type": "markdown",
      "metadata": {
        "id": "Js8XUZXPRItm"
      },
      "source": [
        "## Mediator Optimization"
      ]
    },
    {
      "cell_type": "code",
      "source": [
        "def vLLmed(array):\n",
        "    \"\"\"Vector function of procedural log-likelihood\"\"\"\n",
        "    global data\n",
        "    decay, temp, ter = array\n",
        "    return -1 * LLmedRT(data, decay, temp, ter)"
      ],
      "metadata": {
        "id": "Z1ld48DEhDEM"
      },
      "execution_count": 37,
      "outputs": []
    },
    {
      "cell_type": "markdown",
      "metadata": {
        "id": "6lyASKh7oHWm"
      },
      "source": [
        "# Calculate LL for each ppt and assign best model"
      ]
    },
    {
      "cell_type": "markdown",
      "metadata": {
        "id": "r7BwnKfMImrY"
      },
      "source": [
        "## compute the best parameters and high log-liklihoods of each model for each participant"
      ]
    },
    {
      "cell_type": "code",
      "execution_count": 40,
      "metadata": {
        "colab": {
          "base_uri": "https://localhost:8080/"
        },
        "id": "-efVYwmgI8QT",
        "outputId": "408c27f5-9ecc-4df7-ec79-7bbf1fea1e22"
      },
      "outputs": [
        {
          "output_type": "execute_result",
          "data": {
            "text/plain": [
              "array([1001., 1002., 1003., 1004., 1005., 1006., 1007., 1008., 1009.,\n",
              "       1010., 1011., 1012., 1013., 1014., 1015., 1016., 1017., 1018.,\n",
              "       1019., 1020., 1021., 1022., 1023., 1024., 1025., 1026., 1028.,\n",
              "       1029., 1031., 1032., 1033., 1035., 1036., 1037., 1038., 1039.,\n",
              "       1040., 1041., 1042., 1043., 1044., 1045., 1046., 1047., 1049.,\n",
              "       1050., 1051., 1053., 1054., 1055., 1056., 1057., 1058., 1059.,\n",
              "       1061., 1063., 1064., 1065., 1067., 1068., 1069.,   nan])"
            ]
          },
          "metadata": {},
          "execution_count": 40
        }
      ],
      "source": [
        "alldata.participant.unique()"
      ]
    },
    {
      "cell_type": "code",
      "execution_count": 42,
      "metadata": {
        "colab": {
          "base_uri": "https://localhost:8080/"
        },
        "id": "RSWCFpcnIp_V",
        "outputId": "f111a5d9-7251-42b4-d8ee-2d04a17c0da4"
      },
      "outputs": [
        {
          "output_type": "stream",
          "name": "stderr",
          "text": [
            "/usr/local/lib/python3.10/dist-packages/scipy/stats/_distn_infrastructure.py:2093: RuntimeWarning: divide by zero encountered in true_divide\n",
            "  x = np.asarray((x - loc)/scale, dtype=dtyp)\n"
          ]
        }
      ],
      "source": [
        "DO_ALL = True\n",
        "dataframe = []\n",
        "\n",
        "if DO_ALL:\n",
        "    for ppt in alldata.participant.unique(): \n",
        "        data = alldata[alldata.participant == ppt]\n",
        "        edecay, etemp, eter = opt.minimize(vLLelab, x0 = [0.5, 1, 1], method = \"Powell\", bounds=[[0.01, 2], [0, 2], [0.1, 2]]).x\n",
        "        llelab = LLelabRT(data, edecay, etemp, eter)\n",
        "            \n",
        "        mdecay, mtemp, mter = opt.minimize(vLLmed, x0 = [0.5, 1, 1], method = \"Powell\", bounds=[[0.01, 2], [0, 2], [0.1, 2]]).x\n",
        "        llmed = LLmedRT(data, mdecay, mtemp, mter)\n",
        "            \n",
        "        best = \"Mediator\"\n",
        "        if llelab > llmed:\n",
        "            best = \"Elaborative\"\n",
        "            \n",
        "        diff = llmed - llelab\n",
        "            \n",
        "        row = [ppt, edecay, etemp, eter, llelab, mdecay, mtemp, mter, llmed, best, diff]\n",
        "            \n",
        "        dataframe += [row]\n",
        "\n",
        "    result = pd.DataFrame(dataframe, columns=[\"Participant\", \"elab.decay\", \"elab.temp\", \"elab.ter\", \"elab.LL\", \"med.decay\", \"med.temp\", \"med.ter\", \"med.LL\", \"best.model\", \"diff.LL\"])"
      ]
    },
    {
      "cell_type": "code",
      "source": [
        "if DO_ALL:\n",
        "    result.to_csv(\"LL_model1.csv\")\n",
        "else:\n",
        "    result = pd.read_csv(\"LL_model1.csv\")\n",
        "result"
      ],
      "metadata": {
        "id": "1orKyYBilItT",
        "outputId": "66e3cea0-da5c-476f-bfb8-53bb94d27ceb",
        "colab": {
          "base_uri": "https://localhost:8080/",
          "height": 402
        }
      },
      "execution_count": 43,
      "outputs": [
        {
          "output_type": "execute_result",
          "data": {
            "text/plain": [
              "    Participant  elab.decay  elab.temp  elab.ter     elab.LL  med.decay  \\\n",
              "0        1001.0    0.338333   0.237445  0.164591 -216.196203   2.000000   \n",
              "1        1002.0    1.999952   0.736813  1.999956 -301.056766   1.999985   \n",
              "2        1003.0    1.999952   0.684344  1.999956 -298.447762   2.000000   \n",
              "3        1004.0    1.999952   1.054929  1.999956 -314.803501   2.000000   \n",
              "4        1005.0    2.000000   0.463938  1.999988 -268.973207   2.000000   \n",
              "..          ...         ...        ...       ...         ...        ...   \n",
              "57       1065.0    1.999952   0.496218  1.999956 -281.171395   2.000000   \n",
              "58       1067.0    0.277098   0.488295  0.167128 -283.671606   1.999952   \n",
              "59       1068.0    0.305314   0.182183  0.145658 -154.286312   2.000000   \n",
              "60       1069.0    2.000000   0.444467  1.999988 -265.709057   2.000000   \n",
              "61          NaN    1.999952   1.999952  1.999956    0.000000   1.999952   \n",
              "\n",
              "    med.temp   med.ter      med.LL   best.model    diff.LL  \n",
              "0   0.456043  1.999988 -259.294106  Elaborative -43.097904  \n",
              "1   0.548203  2.000000 -266.740114     Mediator  34.316652  \n",
              "2   0.478494  1.999988 -259.735630     Mediator  38.712132  \n",
              "3   0.600874  1.999988 -276.191047     Mediator  38.612455  \n",
              "4   0.397126  1.999988 -234.606372     Mediator  34.366835  \n",
              "..       ...       ...         ...          ...        ...  \n",
              "57  0.431088  1.999988 -251.126376     Mediator  30.045019  \n",
              "58  0.904589  1.999956 -293.850901  Elaborative -10.179295  \n",
              "59  0.365119  1.999988 -234.323971  Elaborative -80.037658  \n",
              "60  0.414760  1.999988 -239.144422     Mediator  26.564635  \n",
              "61  1.999952  1.999956    0.000000     Mediator   0.000000  \n",
              "\n",
              "[62 rows x 11 columns]"
            ],
            "text/html": [
              "\n",
              "  <div id=\"df-c5ed6f30-624e-4307-acac-95e00ad47688\">\n",
              "    <div class=\"colab-df-container\">\n",
              "      <div>\n",
              "<style scoped>\n",
              "    .dataframe tbody tr th:only-of-type {\n",
              "        vertical-align: middle;\n",
              "    }\n",
              "\n",
              "    .dataframe tbody tr th {\n",
              "        vertical-align: top;\n",
              "    }\n",
              "\n",
              "    .dataframe thead th {\n",
              "        text-align: right;\n",
              "    }\n",
              "</style>\n",
              "<table border=\"1\" class=\"dataframe\">\n",
              "  <thead>\n",
              "    <tr style=\"text-align: right;\">\n",
              "      <th></th>\n",
              "      <th>Participant</th>\n",
              "      <th>elab.decay</th>\n",
              "      <th>elab.temp</th>\n",
              "      <th>elab.ter</th>\n",
              "      <th>elab.LL</th>\n",
              "      <th>med.decay</th>\n",
              "      <th>med.temp</th>\n",
              "      <th>med.ter</th>\n",
              "      <th>med.LL</th>\n",
              "      <th>best.model</th>\n",
              "      <th>diff.LL</th>\n",
              "    </tr>\n",
              "  </thead>\n",
              "  <tbody>\n",
              "    <tr>\n",
              "      <th>0</th>\n",
              "      <td>1001.0</td>\n",
              "      <td>0.338333</td>\n",
              "      <td>0.237445</td>\n",
              "      <td>0.164591</td>\n",
              "      <td>-216.196203</td>\n",
              "      <td>2.000000</td>\n",
              "      <td>0.456043</td>\n",
              "      <td>1.999988</td>\n",
              "      <td>-259.294106</td>\n",
              "      <td>Elaborative</td>\n",
              "      <td>-43.097904</td>\n",
              "    </tr>\n",
              "    <tr>\n",
              "      <th>1</th>\n",
              "      <td>1002.0</td>\n",
              "      <td>1.999952</td>\n",
              "      <td>0.736813</td>\n",
              "      <td>1.999956</td>\n",
              "      <td>-301.056766</td>\n",
              "      <td>1.999985</td>\n",
              "      <td>0.548203</td>\n",
              "      <td>2.000000</td>\n",
              "      <td>-266.740114</td>\n",
              "      <td>Mediator</td>\n",
              "      <td>34.316652</td>\n",
              "    </tr>\n",
              "    <tr>\n",
              "      <th>2</th>\n",
              "      <td>1003.0</td>\n",
              "      <td>1.999952</td>\n",
              "      <td>0.684344</td>\n",
              "      <td>1.999956</td>\n",
              "      <td>-298.447762</td>\n",
              "      <td>2.000000</td>\n",
              "      <td>0.478494</td>\n",
              "      <td>1.999988</td>\n",
              "      <td>-259.735630</td>\n",
              "      <td>Mediator</td>\n",
              "      <td>38.712132</td>\n",
              "    </tr>\n",
              "    <tr>\n",
              "      <th>3</th>\n",
              "      <td>1004.0</td>\n",
              "      <td>1.999952</td>\n",
              "      <td>1.054929</td>\n",
              "      <td>1.999956</td>\n",
              "      <td>-314.803501</td>\n",
              "      <td>2.000000</td>\n",
              "      <td>0.600874</td>\n",
              "      <td>1.999988</td>\n",
              "      <td>-276.191047</td>\n",
              "      <td>Mediator</td>\n",
              "      <td>38.612455</td>\n",
              "    </tr>\n",
              "    <tr>\n",
              "      <th>4</th>\n",
              "      <td>1005.0</td>\n",
              "      <td>2.000000</td>\n",
              "      <td>0.463938</td>\n",
              "      <td>1.999988</td>\n",
              "      <td>-268.973207</td>\n",
              "      <td>2.000000</td>\n",
              "      <td>0.397126</td>\n",
              "      <td>1.999988</td>\n",
              "      <td>-234.606372</td>\n",
              "      <td>Mediator</td>\n",
              "      <td>34.366835</td>\n",
              "    </tr>\n",
              "    <tr>\n",
              "      <th>...</th>\n",
              "      <td>...</td>\n",
              "      <td>...</td>\n",
              "      <td>...</td>\n",
              "      <td>...</td>\n",
              "      <td>...</td>\n",
              "      <td>...</td>\n",
              "      <td>...</td>\n",
              "      <td>...</td>\n",
              "      <td>...</td>\n",
              "      <td>...</td>\n",
              "      <td>...</td>\n",
              "    </tr>\n",
              "    <tr>\n",
              "      <th>57</th>\n",
              "      <td>1065.0</td>\n",
              "      <td>1.999952</td>\n",
              "      <td>0.496218</td>\n",
              "      <td>1.999956</td>\n",
              "      <td>-281.171395</td>\n",
              "      <td>2.000000</td>\n",
              "      <td>0.431088</td>\n",
              "      <td>1.999988</td>\n",
              "      <td>-251.126376</td>\n",
              "      <td>Mediator</td>\n",
              "      <td>30.045019</td>\n",
              "    </tr>\n",
              "    <tr>\n",
              "      <th>58</th>\n",
              "      <td>1067.0</td>\n",
              "      <td>0.277098</td>\n",
              "      <td>0.488295</td>\n",
              "      <td>0.167128</td>\n",
              "      <td>-283.671606</td>\n",
              "      <td>1.999952</td>\n",
              "      <td>0.904589</td>\n",
              "      <td>1.999956</td>\n",
              "      <td>-293.850901</td>\n",
              "      <td>Elaborative</td>\n",
              "      <td>-10.179295</td>\n",
              "    </tr>\n",
              "    <tr>\n",
              "      <th>59</th>\n",
              "      <td>1068.0</td>\n",
              "      <td>0.305314</td>\n",
              "      <td>0.182183</td>\n",
              "      <td>0.145658</td>\n",
              "      <td>-154.286312</td>\n",
              "      <td>2.000000</td>\n",
              "      <td>0.365119</td>\n",
              "      <td>1.999988</td>\n",
              "      <td>-234.323971</td>\n",
              "      <td>Elaborative</td>\n",
              "      <td>-80.037658</td>\n",
              "    </tr>\n",
              "    <tr>\n",
              "      <th>60</th>\n",
              "      <td>1069.0</td>\n",
              "      <td>2.000000</td>\n",
              "      <td>0.444467</td>\n",
              "      <td>1.999988</td>\n",
              "      <td>-265.709057</td>\n",
              "      <td>2.000000</td>\n",
              "      <td>0.414760</td>\n",
              "      <td>1.999988</td>\n",
              "      <td>-239.144422</td>\n",
              "      <td>Mediator</td>\n",
              "      <td>26.564635</td>\n",
              "    </tr>\n",
              "    <tr>\n",
              "      <th>61</th>\n",
              "      <td>NaN</td>\n",
              "      <td>1.999952</td>\n",
              "      <td>1.999952</td>\n",
              "      <td>1.999956</td>\n",
              "      <td>0.000000</td>\n",
              "      <td>1.999952</td>\n",
              "      <td>1.999952</td>\n",
              "      <td>1.999956</td>\n",
              "      <td>0.000000</td>\n",
              "      <td>Mediator</td>\n",
              "      <td>0.000000</td>\n",
              "    </tr>\n",
              "  </tbody>\n",
              "</table>\n",
              "<p>62 rows × 11 columns</p>\n",
              "</div>\n",
              "      <button class=\"colab-df-convert\" onclick=\"convertToInteractive('df-c5ed6f30-624e-4307-acac-95e00ad47688')\"\n",
              "              title=\"Convert this dataframe to an interactive table.\"\n",
              "              style=\"display:none;\">\n",
              "        \n",
              "  <svg xmlns=\"http://www.w3.org/2000/svg\" height=\"24px\"viewBox=\"0 0 24 24\"\n",
              "       width=\"24px\">\n",
              "    <path d=\"M0 0h24v24H0V0z\" fill=\"none\"/>\n",
              "    <path d=\"M18.56 5.44l.94 2.06.94-2.06 2.06-.94-2.06-.94-.94-2.06-.94 2.06-2.06.94zm-11 1L8.5 8.5l.94-2.06 2.06-.94-2.06-.94L8.5 2.5l-.94 2.06-2.06.94zm10 10l.94 2.06.94-2.06 2.06-.94-2.06-.94-.94-2.06-.94 2.06-2.06.94z\"/><path d=\"M17.41 7.96l-1.37-1.37c-.4-.4-.92-.59-1.43-.59-.52 0-1.04.2-1.43.59L10.3 9.45l-7.72 7.72c-.78.78-.78 2.05 0 2.83L4 21.41c.39.39.9.59 1.41.59.51 0 1.02-.2 1.41-.59l7.78-7.78 2.81-2.81c.8-.78.8-2.07 0-2.86zM5.41 20L4 18.59l7.72-7.72 1.47 1.35L5.41 20z\"/>\n",
              "  </svg>\n",
              "      </button>\n",
              "      \n",
              "  <style>\n",
              "    .colab-df-container {\n",
              "      display:flex;\n",
              "      flex-wrap:wrap;\n",
              "      gap: 12px;\n",
              "    }\n",
              "\n",
              "    .colab-df-convert {\n",
              "      background-color: #E8F0FE;\n",
              "      border: none;\n",
              "      border-radius: 50%;\n",
              "      cursor: pointer;\n",
              "      display: none;\n",
              "      fill: #1967D2;\n",
              "      height: 32px;\n",
              "      padding: 0 0 0 0;\n",
              "      width: 32px;\n",
              "    }\n",
              "\n",
              "    .colab-df-convert:hover {\n",
              "      background-color: #E2EBFA;\n",
              "      box-shadow: 0px 1px 2px rgba(60, 64, 67, 0.3), 0px 1px 3px 1px rgba(60, 64, 67, 0.15);\n",
              "      fill: #174EA6;\n",
              "    }\n",
              "\n",
              "    [theme=dark] .colab-df-convert {\n",
              "      background-color: #3B4455;\n",
              "      fill: #D2E3FC;\n",
              "    }\n",
              "\n",
              "    [theme=dark] .colab-df-convert:hover {\n",
              "      background-color: #434B5C;\n",
              "      box-shadow: 0px 1px 3px 1px rgba(0, 0, 0, 0.15);\n",
              "      filter: drop-shadow(0px 1px 2px rgba(0, 0, 0, 0.3));\n",
              "      fill: #FFFFFF;\n",
              "    }\n",
              "  </style>\n",
              "\n",
              "      <script>\n",
              "        const buttonEl =\n",
              "          document.querySelector('#df-c5ed6f30-624e-4307-acac-95e00ad47688 button.colab-df-convert');\n",
              "        buttonEl.style.display =\n",
              "          google.colab.kernel.accessAllowed ? 'block' : 'none';\n",
              "\n",
              "        async function convertToInteractive(key) {\n",
              "          const element = document.querySelector('#df-c5ed6f30-624e-4307-acac-95e00ad47688');\n",
              "          const dataTable =\n",
              "            await google.colab.kernel.invokeFunction('convertToInteractive',\n",
              "                                                     [key], {});\n",
              "          if (!dataTable) return;\n",
              "\n",
              "          const docLinkHtml = 'Like what you see? Visit the ' +\n",
              "            '<a target=\"_blank\" href=https://colab.research.google.com/notebooks/data_table.ipynb>data table notebook</a>'\n",
              "            + ' to learn more about interactive tables.';\n",
              "          element.innerHTML = '';\n",
              "          dataTable['output_type'] = 'display_data';\n",
              "          await google.colab.output.renderOutput(dataTable, element);\n",
              "          const docLink = document.createElement('div');\n",
              "          docLink.innerHTML = docLinkHtml;\n",
              "          element.appendChild(docLink);\n",
              "        }\n",
              "      </script>\n",
              "    </div>\n",
              "  </div>\n",
              "  "
            ]
          },
          "metadata": {},
          "execution_count": 43
        }
      ]
    },
    {
      "cell_type": "code",
      "source": [
        "result.dropna()"
      ],
      "metadata": {
        "colab": {
          "base_uri": "https://localhost:8080/",
          "height": 423
        },
        "id": "-Ixin0NltTny",
        "outputId": "dbe1e25e-6930-4d34-ac01-c79e77874ff7"
      },
      "execution_count": 44,
      "outputs": [
        {
          "output_type": "execute_result",
          "data": {
            "text/plain": [
              "    Participant  elab.decay  elab.temp  elab.ter     elab.LL  med.decay  \\\n",
              "0        1001.0    0.338333   0.237445  0.164591 -216.196203   2.000000   \n",
              "1        1002.0    1.999952   0.736813  1.999956 -301.056766   1.999985   \n",
              "2        1003.0    1.999952   0.684344  1.999956 -298.447762   2.000000   \n",
              "3        1004.0    1.999952   1.054929  1.999956 -314.803501   2.000000   \n",
              "4        1005.0    2.000000   0.463938  1.999988 -268.973207   2.000000   \n",
              "..          ...         ...        ...       ...         ...        ...   \n",
              "56       1064.0    0.360474   0.169214  0.121188 -149.196001   2.000000   \n",
              "57       1065.0    1.999952   0.496218  1.999956 -281.171395   2.000000   \n",
              "58       1067.0    0.277098   0.488295  0.167128 -283.671606   1.999952   \n",
              "59       1068.0    0.305314   0.182183  0.145658 -154.286312   2.000000   \n",
              "60       1069.0    2.000000   0.444467  1.999988 -265.709057   2.000000   \n",
              "\n",
              "    med.temp   med.ter      med.LL   best.model    diff.LL  \n",
              "0   0.456043  1.999988 -259.294106  Elaborative -43.097904  \n",
              "1   0.548203  2.000000 -266.740114     Mediator  34.316652  \n",
              "2   0.478494  1.999988 -259.735630     Mediator  38.712132  \n",
              "3   0.600874  1.999988 -276.191047     Mediator  38.612455  \n",
              "4   0.397126  1.999988 -234.606372     Mediator  34.366835  \n",
              "..       ...       ...         ...          ...        ...  \n",
              "56  0.358812  1.999988 -229.683838  Elaborative -80.487837  \n",
              "57  0.431088  1.999988 -251.126376     Mediator  30.045019  \n",
              "58  0.904589  1.999956 -293.850901  Elaborative -10.179295  \n",
              "59  0.365119  1.999988 -234.323971  Elaborative -80.037658  \n",
              "60  0.414760  1.999988 -239.144422     Mediator  26.564635  \n",
              "\n",
              "[61 rows x 11 columns]"
            ],
            "text/html": [
              "\n",
              "  <div id=\"df-bb295a38-607b-43ae-9924-69be3fb167f7\">\n",
              "    <div class=\"colab-df-container\">\n",
              "      <div>\n",
              "<style scoped>\n",
              "    .dataframe tbody tr th:only-of-type {\n",
              "        vertical-align: middle;\n",
              "    }\n",
              "\n",
              "    .dataframe tbody tr th {\n",
              "        vertical-align: top;\n",
              "    }\n",
              "\n",
              "    .dataframe thead th {\n",
              "        text-align: right;\n",
              "    }\n",
              "</style>\n",
              "<table border=\"1\" class=\"dataframe\">\n",
              "  <thead>\n",
              "    <tr style=\"text-align: right;\">\n",
              "      <th></th>\n",
              "      <th>Participant</th>\n",
              "      <th>elab.decay</th>\n",
              "      <th>elab.temp</th>\n",
              "      <th>elab.ter</th>\n",
              "      <th>elab.LL</th>\n",
              "      <th>med.decay</th>\n",
              "      <th>med.temp</th>\n",
              "      <th>med.ter</th>\n",
              "      <th>med.LL</th>\n",
              "      <th>best.model</th>\n",
              "      <th>diff.LL</th>\n",
              "    </tr>\n",
              "  </thead>\n",
              "  <tbody>\n",
              "    <tr>\n",
              "      <th>0</th>\n",
              "      <td>1001.0</td>\n",
              "      <td>0.338333</td>\n",
              "      <td>0.237445</td>\n",
              "      <td>0.164591</td>\n",
              "      <td>-216.196203</td>\n",
              "      <td>2.000000</td>\n",
              "      <td>0.456043</td>\n",
              "      <td>1.999988</td>\n",
              "      <td>-259.294106</td>\n",
              "      <td>Elaborative</td>\n",
              "      <td>-43.097904</td>\n",
              "    </tr>\n",
              "    <tr>\n",
              "      <th>1</th>\n",
              "      <td>1002.0</td>\n",
              "      <td>1.999952</td>\n",
              "      <td>0.736813</td>\n",
              "      <td>1.999956</td>\n",
              "      <td>-301.056766</td>\n",
              "      <td>1.999985</td>\n",
              "      <td>0.548203</td>\n",
              "      <td>2.000000</td>\n",
              "      <td>-266.740114</td>\n",
              "      <td>Mediator</td>\n",
              "      <td>34.316652</td>\n",
              "    </tr>\n",
              "    <tr>\n",
              "      <th>2</th>\n",
              "      <td>1003.0</td>\n",
              "      <td>1.999952</td>\n",
              "      <td>0.684344</td>\n",
              "      <td>1.999956</td>\n",
              "      <td>-298.447762</td>\n",
              "      <td>2.000000</td>\n",
              "      <td>0.478494</td>\n",
              "      <td>1.999988</td>\n",
              "      <td>-259.735630</td>\n",
              "      <td>Mediator</td>\n",
              "      <td>38.712132</td>\n",
              "    </tr>\n",
              "    <tr>\n",
              "      <th>3</th>\n",
              "      <td>1004.0</td>\n",
              "      <td>1.999952</td>\n",
              "      <td>1.054929</td>\n",
              "      <td>1.999956</td>\n",
              "      <td>-314.803501</td>\n",
              "      <td>2.000000</td>\n",
              "      <td>0.600874</td>\n",
              "      <td>1.999988</td>\n",
              "      <td>-276.191047</td>\n",
              "      <td>Mediator</td>\n",
              "      <td>38.612455</td>\n",
              "    </tr>\n",
              "    <tr>\n",
              "      <th>4</th>\n",
              "      <td>1005.0</td>\n",
              "      <td>2.000000</td>\n",
              "      <td>0.463938</td>\n",
              "      <td>1.999988</td>\n",
              "      <td>-268.973207</td>\n",
              "      <td>2.000000</td>\n",
              "      <td>0.397126</td>\n",
              "      <td>1.999988</td>\n",
              "      <td>-234.606372</td>\n",
              "      <td>Mediator</td>\n",
              "      <td>34.366835</td>\n",
              "    </tr>\n",
              "    <tr>\n",
              "      <th>...</th>\n",
              "      <td>...</td>\n",
              "      <td>...</td>\n",
              "      <td>...</td>\n",
              "      <td>...</td>\n",
              "      <td>...</td>\n",
              "      <td>...</td>\n",
              "      <td>...</td>\n",
              "      <td>...</td>\n",
              "      <td>...</td>\n",
              "      <td>...</td>\n",
              "      <td>...</td>\n",
              "    </tr>\n",
              "    <tr>\n",
              "      <th>56</th>\n",
              "      <td>1064.0</td>\n",
              "      <td>0.360474</td>\n",
              "      <td>0.169214</td>\n",
              "      <td>0.121188</td>\n",
              "      <td>-149.196001</td>\n",
              "      <td>2.000000</td>\n",
              "      <td>0.358812</td>\n",
              "      <td>1.999988</td>\n",
              "      <td>-229.683838</td>\n",
              "      <td>Elaborative</td>\n",
              "      <td>-80.487837</td>\n",
              "    </tr>\n",
              "    <tr>\n",
              "      <th>57</th>\n",
              "      <td>1065.0</td>\n",
              "      <td>1.999952</td>\n",
              "      <td>0.496218</td>\n",
              "      <td>1.999956</td>\n",
              "      <td>-281.171395</td>\n",
              "      <td>2.000000</td>\n",
              "      <td>0.431088</td>\n",
              "      <td>1.999988</td>\n",
              "      <td>-251.126376</td>\n",
              "      <td>Mediator</td>\n",
              "      <td>30.045019</td>\n",
              "    </tr>\n",
              "    <tr>\n",
              "      <th>58</th>\n",
              "      <td>1067.0</td>\n",
              "      <td>0.277098</td>\n",
              "      <td>0.488295</td>\n",
              "      <td>0.167128</td>\n",
              "      <td>-283.671606</td>\n",
              "      <td>1.999952</td>\n",
              "      <td>0.904589</td>\n",
              "      <td>1.999956</td>\n",
              "      <td>-293.850901</td>\n",
              "      <td>Elaborative</td>\n",
              "      <td>-10.179295</td>\n",
              "    </tr>\n",
              "    <tr>\n",
              "      <th>59</th>\n",
              "      <td>1068.0</td>\n",
              "      <td>0.305314</td>\n",
              "      <td>0.182183</td>\n",
              "      <td>0.145658</td>\n",
              "      <td>-154.286312</td>\n",
              "      <td>2.000000</td>\n",
              "      <td>0.365119</td>\n",
              "      <td>1.999988</td>\n",
              "      <td>-234.323971</td>\n",
              "      <td>Elaborative</td>\n",
              "      <td>-80.037658</td>\n",
              "    </tr>\n",
              "    <tr>\n",
              "      <th>60</th>\n",
              "      <td>1069.0</td>\n",
              "      <td>2.000000</td>\n",
              "      <td>0.444467</td>\n",
              "      <td>1.999988</td>\n",
              "      <td>-265.709057</td>\n",
              "      <td>2.000000</td>\n",
              "      <td>0.414760</td>\n",
              "      <td>1.999988</td>\n",
              "      <td>-239.144422</td>\n",
              "      <td>Mediator</td>\n",
              "      <td>26.564635</td>\n",
              "    </tr>\n",
              "  </tbody>\n",
              "</table>\n",
              "<p>61 rows × 11 columns</p>\n",
              "</div>\n",
              "      <button class=\"colab-df-convert\" onclick=\"convertToInteractive('df-bb295a38-607b-43ae-9924-69be3fb167f7')\"\n",
              "              title=\"Convert this dataframe to an interactive table.\"\n",
              "              style=\"display:none;\">\n",
              "        \n",
              "  <svg xmlns=\"http://www.w3.org/2000/svg\" height=\"24px\"viewBox=\"0 0 24 24\"\n",
              "       width=\"24px\">\n",
              "    <path d=\"M0 0h24v24H0V0z\" fill=\"none\"/>\n",
              "    <path d=\"M18.56 5.44l.94 2.06.94-2.06 2.06-.94-2.06-.94-.94-2.06-.94 2.06-2.06.94zm-11 1L8.5 8.5l.94-2.06 2.06-.94-2.06-.94L8.5 2.5l-.94 2.06-2.06.94zm10 10l.94 2.06.94-2.06 2.06-.94-2.06-.94-.94-2.06-.94 2.06-2.06.94z\"/><path d=\"M17.41 7.96l-1.37-1.37c-.4-.4-.92-.59-1.43-.59-.52 0-1.04.2-1.43.59L10.3 9.45l-7.72 7.72c-.78.78-.78 2.05 0 2.83L4 21.41c.39.39.9.59 1.41.59.51 0 1.02-.2 1.41-.59l7.78-7.78 2.81-2.81c.8-.78.8-2.07 0-2.86zM5.41 20L4 18.59l7.72-7.72 1.47 1.35L5.41 20z\"/>\n",
              "  </svg>\n",
              "      </button>\n",
              "      \n",
              "  <style>\n",
              "    .colab-df-container {\n",
              "      display:flex;\n",
              "      flex-wrap:wrap;\n",
              "      gap: 12px;\n",
              "    }\n",
              "\n",
              "    .colab-df-convert {\n",
              "      background-color: #E8F0FE;\n",
              "      border: none;\n",
              "      border-radius: 50%;\n",
              "      cursor: pointer;\n",
              "      display: none;\n",
              "      fill: #1967D2;\n",
              "      height: 32px;\n",
              "      padding: 0 0 0 0;\n",
              "      width: 32px;\n",
              "    }\n",
              "\n",
              "    .colab-df-convert:hover {\n",
              "      background-color: #E2EBFA;\n",
              "      box-shadow: 0px 1px 2px rgba(60, 64, 67, 0.3), 0px 1px 3px 1px rgba(60, 64, 67, 0.15);\n",
              "      fill: #174EA6;\n",
              "    }\n",
              "\n",
              "    [theme=dark] .colab-df-convert {\n",
              "      background-color: #3B4455;\n",
              "      fill: #D2E3FC;\n",
              "    }\n",
              "\n",
              "    [theme=dark] .colab-df-convert:hover {\n",
              "      background-color: #434B5C;\n",
              "      box-shadow: 0px 1px 3px 1px rgba(0, 0, 0, 0.15);\n",
              "      filter: drop-shadow(0px 1px 2px rgba(0, 0, 0, 0.3));\n",
              "      fill: #FFFFFF;\n",
              "    }\n",
              "  </style>\n",
              "\n",
              "      <script>\n",
              "        const buttonEl =\n",
              "          document.querySelector('#df-bb295a38-607b-43ae-9924-69be3fb167f7 button.colab-df-convert');\n",
              "        buttonEl.style.display =\n",
              "          google.colab.kernel.accessAllowed ? 'block' : 'none';\n",
              "\n",
              "        async function convertToInteractive(key) {\n",
              "          const element = document.querySelector('#df-bb295a38-607b-43ae-9924-69be3fb167f7');\n",
              "          const dataTable =\n",
              "            await google.colab.kernel.invokeFunction('convertToInteractive',\n",
              "                                                     [key], {});\n",
              "          if (!dataTable) return;\n",
              "\n",
              "          const docLinkHtml = 'Like what you see? Visit the ' +\n",
              "            '<a target=\"_blank\" href=https://colab.research.google.com/notebooks/data_table.ipynb>data table notebook</a>'\n",
              "            + ' to learn more about interactive tables.';\n",
              "          element.innerHTML = '';\n",
              "          dataTable['output_type'] = 'display_data';\n",
              "          await google.colab.output.renderOutput(dataTable, element);\n",
              "          const docLink = document.createElement('div');\n",
              "          docLink.innerHTML = docLinkHtml;\n",
              "          element.appendChild(docLink);\n",
              "        }\n",
              "      </script>\n",
              "    </div>\n",
              "  </div>\n",
              "  "
            ]
          },
          "metadata": {},
          "execution_count": 44
        }
      ]
    },
    {
      "cell_type": "code",
      "source": [
        "elab_LL = result[\"elab.LL\"].values\n",
        "med_LL = result[\"med.LL\"].values\n",
        "\n",
        "BEST = result[\"best.model\"].values\n",
        "BEST_ = np.unique(BEST)\n",
        "\n",
        "COLORS = ['#c9a818', '#674b94']"
      ],
      "metadata": {
        "id": "w-Rv_Bijr_VN"
      },
      "execution_count": 46,
      "outputs": []
    },
    {
      "cell_type": "code",
      "source": [
        "fig, ax = plt.subplots(figsize=(8,8))\n",
        "for best, color in zip(BEST_, COLORS):\n",
        "    idxs = np.where(best == BEST)\n",
        "    # No legend will be generated if we don't pass label=species\n",
        "    ax.scatter(\n",
        "        elab_LL[idxs], med_LL[idxs], label=best,\n",
        "        s=50, color=color, alpha=0.7\n",
        "    )\n",
        "    \n",
        "_ = plt.xlabel(\"Elaborative Loglikelihood\")\n",
        "_ = plt.ylabel(\"Mediator Loglikelihood\")\n",
        "_ = plt.title(\"Loglikelihood of Model Fit by Participant\")\n",
        "_ = plt.xlim([-320, -170])\n",
        "_ = plt.ylim([-320, -170])\n",
        "_ = plt.show\n",
        "ax.legend(loc = \"upper left\");"
      ],
      "metadata": {
        "id": "PG9R8GZWypwl",
        "colab": {
          "base_uri": "https://localhost:8080/",
          "height": 727
        },
        "outputId": "ea8a1dbe-30bc-4284-ba89-e4d2df2890ee"
      },
      "execution_count": 47,
      "outputs": [
        {
          "output_type": "display_data",
          "data": {
            "text/plain": [
              "<Figure size 800x800 with 1 Axes>"
            ],
            "image/png": "[encoded data removed]"
          },
          "metadata": {}
        }
      ]
    },
    {
      "cell_type": "code",
      "source": [
        "res = pd.read_csv(\"LL_model1.csv\")\n",
        "res"
      ],
      "metadata": {
        "colab": {
          "base_uri": "https://localhost:8080/",
          "height": 423
        },
        "id": "SbKdLhyqP06Y",
        "outputId": "8b1cb4fe-d86b-414b-ed6c-7030aacb88fd"
      },
      "execution_count": 48,
      "outputs": [
        {
          "output_type": "execute_result",
          "data": {
            "text/plain": [
              "    Unnamed: 0  Participant  elab.decay  elab.temp  elab.ter     elab.LL  \\\n",
              "0            0       1001.0    0.338333   0.237445  0.164591 -216.196203   \n",
              "1            1       1002.0    1.999952   0.736813  1.999956 -301.056766   \n",
              "2            2       1003.0    1.999952   0.684344  1.999956 -298.447762   \n",
              "3            3       1004.0    1.999952   1.054929  1.999956 -314.803501   \n",
              "4            4       1005.0    2.000000   0.463938  1.999988 -268.973207   \n",
              "..         ...          ...         ...        ...       ...         ...   \n",
              "57          57       1065.0    1.999952   0.496218  1.999956 -281.171395   \n",
              "58          58       1067.0    0.277098   0.488295  0.167128 -283.671606   \n",
              "59          59       1068.0    0.305314   0.182183  0.145658 -154.286312   \n",
              "60          60       1069.0    2.000000   0.444467  1.999988 -265.709057   \n",
              "61          61          NaN    1.999952   1.999952  1.999956    0.000000   \n",
              "\n",
              "    med.decay  med.temp   med.ter      med.LL   best.model    diff.LL  \n",
              "0    2.000000  0.456043  1.999988 -259.294106  Elaborative -43.097904  \n",
              "1    1.999985  0.548203  2.000000 -266.740114     Mediator  34.316652  \n",
              "2    2.000000  0.478494  1.999988 -259.735630     Mediator  38.712132  \n",
              "3    2.000000  0.600874  1.999988 -276.191047     Mediator  38.612455  \n",
              "4    2.000000  0.397126  1.999988 -234.606372     Mediator  34.366835  \n",
              "..        ...       ...       ...         ...          ...        ...  \n",
              "57   2.000000  0.431088  1.999988 -251.126376     Mediator  30.045019  \n",
              "58   1.999952  0.904589  1.999956 -293.850901  Elaborative -10.179295  \n",
              "59   2.000000  0.365119  1.999988 -234.323971  Elaborative -80.037658  \n",
              "60   2.000000  0.414760  1.999988 -239.144422     Mediator  26.564635  \n",
              "61   1.999952  1.999952  1.999956    0.000000     Mediator   0.000000  \n",
              "\n",
              "[62 rows x 12 columns]"
            ],
            "text/html": [
              "\n",
              "  <div id=\"df-72a7e80f-37a7-4ba4-af7a-c076aaff425c\">\n",
              "    <div class=\"colab-df-container\">\n",
              "      <div>\n",
              "<style scoped>\n",
              "    .dataframe tbody tr th:only-of-type {\n",
              "        vertical-align: middle;\n",
              "    }\n",
              "\n",
              "    .dataframe tbody tr th {\n",
              "        vertical-align: top;\n",
              "    }\n",
              "\n",
              "    .dataframe thead th {\n",
              "        text-align: right;\n",
              "    }\n",
              "</style>\n",
              "<table border=\"1\" class=\"dataframe\">\n",
              "  <thead>\n",
              "    <tr style=\"text-align: right;\">\n",
              "      <th></th>\n",
              "      <th>Unnamed: 0</th>\n",
              "      <th>Participant</th>\n",
              "      <th>elab.decay</th>\n",
              "      <th>elab.temp</th>\n",
              "      <th>elab.ter</th>\n",
              "      <th>elab.LL</th>\n",
              "      <th>med.decay</th>\n",
              "      <th>med.temp</th>\n",
              "      <th>med.ter</th>\n",
              "      <th>med.LL</th>\n",
              "      <th>best.model</th>\n",
              "      <th>diff.LL</th>\n",
              "    </tr>\n",
              "  </thead>\n",
              "  <tbody>\n",
              "    <tr>\n",
              "      <th>0</th>\n",
              "      <td>0</td>\n",
              "      <td>1001.0</td>\n",
              "      <td>0.338333</td>\n",
              "      <td>0.237445</td>\n",
              "      <td>0.164591</td>\n",
              "      <td>-216.196203</td>\n",
              "      <td>2.000000</td>\n",
              "      <td>0.456043</td>\n",
              "      <td>1.999988</td>\n",
              "      <td>-259.294106</td>\n",
              "      <td>Elaborative</td>\n",
              "      <td>-43.097904</td>\n",
              "    </tr>\n",
              "    <tr>\n",
              "      <th>1</th>\n",
              "      <td>1</td>\n",
              "      <td>1002.0</td>\n",
              "      <td>1.999952</td>\n",
              "      <td>0.736813</td>\n",
              "      <td>1.999956</td>\n",
              "      <td>-301.056766</td>\n",
              "      <td>1.999985</td>\n",
              "      <td>0.548203</td>\n",
              "      <td>2.000000</td>\n",
              "      <td>-266.740114</td>\n",
              "      <td>Mediator</td>\n",
              "      <td>34.316652</td>\n",
              "    </tr>\n",
              "    <tr>\n",
              "      <th>2</th>\n",
              "      <td>2</td>\n",
              "      <td>1003.0</td>\n",
              "      <td>1.999952</td>\n",
              "      <td>0.684344</td>\n",
              "      <td>1.999956</td>\n",
              "      <td>-298.447762</td>\n",
              "      <td>2.000000</td>\n",
              "      <td>0.478494</td>\n",
              "      <td>1.999988</td>\n",
              "      <td>-259.735630</td>\n",
              "      <td>Mediator</td>\n",
              "      <td>38.712132</td>\n",
              "    </tr>\n",
              "    <tr>\n",
              "      <th>3</th>\n",
              "      <td>3</td>\n",
              "      <td>1004.0</td>\n",
              "      <td>1.999952</td>\n",
              "      <td>1.054929</td>\n",
              "      <td>1.999956</td>\n",
              "      <td>-314.803501</td>\n",
              "      <td>2.000000</td>\n",
              "      <td>0.600874</td>\n",
              "      <td>1.999988</td>\n",
              "      <td>-276.191047</td>\n",
              "      <td>Mediator</td>\n",
              "      <td>38.612455</td>\n",
              "    </tr>\n",
              "    <tr>\n",
              "      <th>4</th>\n",
              "      <td>4</td>\n",
              "      <td>1005.0</td>\n",
              "      <td>2.000000</td>\n",
              "      <td>0.463938</td>\n",
              "      <td>1.999988</td>\n",
              "      <td>-268.973207</td>\n",
              "      <td>2.000000</td>\n",
              "      <td>0.397126</td>\n",
              "      <td>1.999988</td>\n",
              "      <td>-234.606372</td>\n",
              "      <td>Mediator</td>\n",
              "      <td>34.366835</td>\n",
              "    </tr>\n",
              "    <tr>\n",
              "      <th>...</th>\n",
              "      <td>...</td>\n",
              "      <td>...</td>\n",
              "      <td>...</td>\n",
              "      <td>...</td>\n",
              "      <td>...</td>\n",
              "      <td>...</td>\n",
              "      <td>...</td>\n",
              "      <td>...</td>\n",
              "      <td>...</td>\n",
              "      <td>...</td>\n",
              "      <td>...</td>\n",
              "      <td>...</td>\n",
              "    </tr>\n",
              "    <tr>\n",
              "      <th>57</th>\n",
              "      <td>57</td>\n",
              "      <td>1065.0</td>\n",
              "      <td>1.999952</td>\n",
              "      <td>0.496218</td>\n",
              "      <td>1.999956</td>\n",
              "      <td>-281.171395</td>\n",
              "      <td>2.000000</td>\n",
              "      <td>0.431088</td>\n",
              "      <td>1.999988</td>\n",
              "      <td>-251.126376</td>\n",
              "      <td>Mediator</td>\n",
              "      <td>30.045019</td>\n",
              "    </tr>\n",
              "    <tr>\n",
              "      <th>58</th>\n",
              "      <td>58</td>\n",
              "      <td>1067.0</td>\n",
              "      <td>0.277098</td>\n",
              "      <td>0.488295</td>\n",
              "      <td>0.167128</td>\n",
              "      <td>-283.671606</td>\n",
              "      <td>1.999952</td>\n",
              "      <td>0.904589</td>\n",
              "      <td>1.999956</td>\n",
              "      <td>-293.850901</td>\n",
              "      <td>Elaborative</td>\n",
              "      <td>-10.179295</td>\n",
              "    </tr>\n",
              "    <tr>\n",
              "      <th>59</th>\n",
              "      <td>59</td>\n",
              "      <td>1068.0</td>\n",
              "      <td>0.305314</td>\n",
              "      <td>0.182183</td>\n",
              "      <td>0.145658</td>\n",
              "      <td>-154.286312</td>\n",
              "      <td>2.000000</td>\n",
              "      <td>0.365119</td>\n",
              "      <td>1.999988</td>\n",
              "      <td>-234.323971</td>\n",
              "      <td>Elaborative</td>\n",
              "      <td>-80.037658</td>\n",
              "    </tr>\n",
              "    <tr>\n",
              "      <th>60</th>\n",
              "      <td>60</td>\n",
              "      <td>1069.0</td>\n",
              "      <td>2.000000</td>\n",
              "      <td>0.444467</td>\n",
              "      <td>1.999988</td>\n",
              "      <td>-265.709057</td>\n",
              "      <td>2.000000</td>\n",
              "      <td>0.414760</td>\n",
              "      <td>1.999988</td>\n",
              "      <td>-239.144422</td>\n",
              "      <td>Mediator</td>\n",
              "      <td>26.564635</td>\n",
              "    </tr>\n",
              "    <tr>\n",
              "      <th>61</th>\n",
              "      <td>61</td>\n",
              "      <td>NaN</td>\n",
              "      <td>1.999952</td>\n",
              "      <td>1.999952</td>\n",
              "      <td>1.999956</td>\n",
              "      <td>0.000000</td>\n",
              "      <td>1.999952</td>\n",
              "      <td>1.999952</td>\n",
              "      <td>1.999956</td>\n",
              "      <td>0.000000</td>\n",
              "      <td>Mediator</td>\n",
              "      <td>0.000000</td>\n",
              "    </tr>\n",
              "  </tbody>\n",
              "</table>\n",
              "<p>62 rows × 12 columns</p>\n",
              "</div>\n",
              "      <button class=\"colab-df-convert\" onclick=\"convertToInteractive('df-72a7e80f-37a7-4ba4-af7a-c076aaff425c')\"\n",
              "              title=\"Convert this dataframe to an interactive table.\"\n",
              "              style=\"display:none;\">\n",
              "        \n",
              "  <svg xmlns=\"http://www.w3.org/2000/svg\" height=\"24px\"viewBox=\"0 0 24 24\"\n",
              "       width=\"24px\">\n",
              "    <path d=\"M0 0h24v24H0V0z\" fill=\"none\"/>\n",
              "    <path d=\"M18.56 5.44l.94 2.06.94-2.06 2.06-.94-2.06-.94-.94-2.06-.94 2.06-2.06.94zm-11 1L8.5 8.5l.94-2.06 2.06-.94-2.06-.94L8.5 2.5l-.94 2.06-2.06.94zm10 10l.94 2.06.94-2.06 2.06-.94-2.06-.94-.94-2.06-.94 2.06-2.06.94z\"/><path d=\"M17.41 7.96l-1.37-1.37c-.4-.4-.92-.59-1.43-.59-.52 0-1.04.2-1.43.59L10.3 9.45l-7.72 7.72c-.78.78-.78 2.05 0 2.83L4 21.41c.39.39.9.59 1.41.59.51 0 1.02-.2 1.41-.59l7.78-7.78 2.81-2.81c.8-.78.8-2.07 0-2.86zM5.41 20L4 18.59l7.72-7.72 1.47 1.35L5.41 20z\"/>\n",
              "  </svg>\n",
              "      </button>\n",
              "      \n",
              "  <style>\n",
              "    .colab-df-container {\n",
              "      display:flex;\n",
              "      flex-wrap:wrap;\n",
              "      gap: 12px;\n",
              "    }\n",
              "\n",
              "    .colab-df-convert {\n",
              "      background-color: #E8F0FE;\n",
              "      border: none;\n",
              "      border-radius: 50%;\n",
              "      cursor: pointer;\n",
              "      display: none;\n",
              "      fill: #1967D2;\n",
              "      height: 32px;\n",
              "      padding: 0 0 0 0;\n",
              "      width: 32px;\n",
              "    }\n",
              "\n",
              "    .colab-df-convert:hover {\n",
              "      background-color: #E2EBFA;\n",
              "      box-shadow: 0px 1px 2px rgba(60, 64, 67, 0.3), 0px 1px 3px 1px rgba(60, 64, 67, 0.15);\n",
              "      fill: #174EA6;\n",
              "    }\n",
              "\n",
              "    [theme=dark] .colab-df-convert {\n",
              "      background-color: #3B4455;\n",
              "      fill: #D2E3FC;\n",
              "    }\n",
              "\n",
              "    [theme=dark] .colab-df-convert:hover {\n",
              "      background-color: #434B5C;\n",
              "      box-shadow: 0px 1px 3px 1px rgba(0, 0, 0, 0.15);\n",
              "      filter: drop-shadow(0px 1px 2px rgba(0, 0, 0, 0.3));\n",
              "      fill: #FFFFFF;\n",
              "    }\n",
              "  </style>\n",
              "\n",
              "      <script>\n",
              "        const buttonEl =\n",
              "          document.querySelector('#df-72a7e80f-37a7-4ba4-af7a-c076aaff425c button.colab-df-convert');\n",
              "        buttonEl.style.display =\n",
              "          google.colab.kernel.accessAllowed ? 'block' : 'none';\n",
              "\n",
              "        async function convertToInteractive(key) {\n",
              "          const element = document.querySelector('#df-72a7e80f-37a7-4ba4-af7a-c076aaff425c');\n",
              "          const dataTable =\n",
              "            await google.colab.kernel.invokeFunction('convertToInteractive',\n",
              "                                                     [key], {});\n",
              "          if (!dataTable) return;\n",
              "\n",
              "          const docLinkHtml = 'Like what you see? Visit the ' +\n",
              "            '<a target=\"_blank\" href=https://colab.research.google.com/notebooks/data_table.ipynb>data table notebook</a>'\n",
              "            + ' to learn more about interactive tables.';\n",
              "          element.innerHTML = '';\n",
              "          dataTable['output_type'] = 'display_data';\n",
              "          await google.colab.output.renderOutput(dataTable, element);\n",
              "          const docLink = document.createElement('div');\n",
              "          docLink.innerHTML = docLinkHtml;\n",
              "          element.appendChild(docLink);\n",
              "        }\n",
              "      </script>\n",
              "    </div>\n",
              "  </div>\n",
              "  "
            ]
          },
          "metadata": {},
          "execution_count": 48
        }
      ]
    },
    {
      "cell_type": "code",
      "source": [
        "sns.histplot(res, x=\"diff.LL\", hue=\"best.model\", binwidth=4, binrange=[-20, 60], stat=\"count\", legend=\"False\")\n",
        "plt.legend(loc=\"upper left\", title=\"Best-fitting Model\", labels=['Elaborative', 'Mediator'])\n",
        "plt.xlabel(\"$\\log(x|M_{Mediator}) - \\log(x|M_{Elaborative})$\") \n",
        "plt.ylabel(\"Number of Participants\") \n",
        "\n",
        "plt.axvline(x=0, linestyle=\"dotted\", color=\"red\")\n",
        "plt.axvline(x=np.mean(res['diff.LL']), linestyle=\"dashed\", color=\"blue\", linewidth=2)\n",
        "plt.show()"
      ],
      "metadata": {
        "colab": {
          "base_uri": "https://localhost:8080/",
          "height": 462
        },
        "id": "KgglweONP46n",
        "outputId": "e6dc5780-e8bc-42b7-ca8f-5a51dfaec74b"
      },
      "execution_count": 49,
      "outputs": [
        {
          "output_type": "display_data",
          "data": {
            "text/plain": [
              "<Figure size 640x480 with 1 Axes>"
            ],
            "image/png": "[encoded data removed]"
          },
          "metadata": {}
        }
      ]
    },
    {
      "cell_type": "code",
      "source": [
        "totalLL = np.sum(res['diff.LL'])\n",
        "print(totalLL)\n",
        "print(np.mean(res['diff.LL']))"
      ],
      "metadata": {
        "id": "88NL1jJcP9PK",
        "outputId": "e6d5fd8a-59cb-4dd1-f38d-80c5c02c64bd",
        "colab": {
          "base_uri": "https://localhost:8080/"
        }
      },
      "execution_count": 50,
      "outputs": [
        {
          "output_type": "stream",
          "name": "stdout",
          "text": [
            "854.3069342875261\n",
            "13.779144101411712\n"
          ]
        }
      ]
    }
  ],
  "metadata": {
    "colab": {
      "provenance": []
    },
    "kernelspec": {
      "display_name": "Python 3",
      "name": "python3"
    },
    "language_info": {
      "name": "python"
    }
  },
  "nbformat": 4,
  "nbformat_minor": 0
}