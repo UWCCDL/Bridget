{
  "nbformat": 4,
  "nbformat_minor": 0,
  "metadata": {
    "colab": {
      "provenance": []
    },
    "kernelspec": {
      "name": "python3",
      "display_name": "Python 3"
    },
    "language_info": {
      "name": "python"
    }
  },
  "cells": [
    {
      "cell_type": "code",
      "execution_count": 1,
      "metadata": {
        "id": "J-4TjGGtFT6R"
      },
      "outputs": [],
      "source": [
        "import numpy as np\n",
        "import scipy.optimize as opt\n",
        "import matplotlib.pyplot as plt\n",
        "import pandas as pd\n",
        "from matplotlib.ticker import (MultipleLocator, AutoMinorLocator)\n",
        "from tqdm.notebook import tqdm\n",
        "import os\n",
        "import seaborn as sns\n",
        "import random\n",
        "import math\n",
        "import scipy as sp\n",
        "import itertools\n",
        "sns.set(style=\"whitegrid\")"
      ]
    },
    {
      "cell_type": "markdown",
      "source": [
        "Load and check data:"
      ],
      "metadata": {
        "id": "E53BwHW1Gk9l"
      }
    },
    {
      "cell_type": "code",
      "source": [
        "alldata = pd.read_csv(\"error_data.csv\")"
      ],
      "metadata": {
        "id": "RAxDu0zYFedU"
      },
      "execution_count": 2,
      "outputs": []
    },
    {
      "cell_type": "code",
      "source": [
        "alldata.head()"
      ],
      "metadata": {
        "colab": {
          "base_uri": "https://localhost:8080/",
          "height": 206
        },
        "id": "Dgj051G4GVUO",
        "outputId": "0cc7805c-8493-4057-b293-e3c6182215a1"
      },
      "execution_count": 3,
      "outputs": [
        {
          "output_type": "execute_result",
          "data": {
            "text/plain": [
              "   participant  phase  condition       cue    target response      rt  \\\n",
              "0       1001.0  learn        1.0    EMPIRE     STATE     KING  3457.0   \n",
              "1       1001.0  learn        1.0     CHUNK     BLOCK     HUNK  3361.0   \n",
              "2       1001.0  learn        1.0     GLIDE      HANG      FLY  2177.0   \n",
              "3       1001.0  learn        1.0      SAIL     OCEAN     BOAT  2341.0   \n",
              "4       1001.0  learn        1.0  ELEVATOR  BUILDING       UP  3464.0   \n",
              "\n",
              "   correct  Column1 Column2  \n",
              "0      2.0      NaN     NaN  \n",
              "1      2.0      NaN     NaN  \n",
              "2      2.0      NaN     NaN  \n",
              "3      2.0      NaN     NaN  \n",
              "4      2.0      NaN     NaN  "
            ],
            "text/html": [
              "\n",
              "  <div id=\"df-829b8607-f9b8-48e5-bdb6-f4fe119fc1d2\">\n",
              "    <div class=\"colab-df-container\">\n",
              "      <div>\n",
              "<style scoped>\n",
              "    .dataframe tbody tr th:only-of-type {\n",
              "        vertical-align: middle;\n",
              "    }\n",
              "\n",
              "    .dataframe tbody tr th {\n",
              "        vertical-align: top;\n",
              "    }\n",
              "\n",
              "    .dataframe thead th {\n",
              "        text-align: right;\n",
              "    }\n",
              "</style>\n",
              "<table border=\"1\" class=\"dataframe\">\n",
              "  <thead>\n",
              "    <tr style=\"text-align: right;\">\n",
              "      <th></th>\n",
              "      <th>participant</th>\n",
              "      <th>phase</th>\n",
              "      <th>condition</th>\n",
              "      <th>cue</th>\n",
              "      <th>target</th>\n",
              "      <th>response</th>\n",
              "      <th>rt</th>\n",
              "      <th>correct</th>\n",
              "      <th>Column1</th>\n",
              "      <th>Column2</th>\n",
              "    </tr>\n",
              "  </thead>\n",
              "  <tbody>\n",
              "    <tr>\n",
              "      <th>0</th>\n",
              "      <td>1001.0</td>\n",
              "      <td>learn</td>\n",
              "      <td>1.0</td>\n",
              "      <td>EMPIRE</td>\n",
              "      <td>STATE</td>\n",
              "      <td>KING</td>\n",
              "      <td>3457.0</td>\n",
              "      <td>2.0</td>\n",
              "      <td>NaN</td>\n",
              "      <td>NaN</td>\n",
              "    </tr>\n",
              "    <tr>\n",
              "      <th>1</th>\n",
              "      <td>1001.0</td>\n",
              "      <td>learn</td>\n",
              "      <td>1.0</td>\n",
              "      <td>CHUNK</td>\n",
              "      <td>BLOCK</td>\n",
              "      <td>HUNK</td>\n",
              "      <td>3361.0</td>\n",
              "      <td>2.0</td>\n",
              "      <td>NaN</td>\n",
              "      <td>NaN</td>\n",
              "    </tr>\n",
              "    <tr>\n",
              "      <th>2</th>\n",
              "      <td>1001.0</td>\n",
              "      <td>learn</td>\n",
              "      <td>1.0</td>\n",
              "      <td>GLIDE</td>\n",
              "      <td>HANG</td>\n",
              "      <td>FLY</td>\n",
              "      <td>2177.0</td>\n",
              "      <td>2.0</td>\n",
              "      <td>NaN</td>\n",
              "      <td>NaN</td>\n",
              "    </tr>\n",
              "    <tr>\n",
              "      <th>3</th>\n",
              "      <td>1001.0</td>\n",
              "      <td>learn</td>\n",
              "      <td>1.0</td>\n",
              "      <td>SAIL</td>\n",
              "      <td>OCEAN</td>\n",
              "      <td>BOAT</td>\n",
              "      <td>2341.0</td>\n",
              "      <td>2.0</td>\n",
              "      <td>NaN</td>\n",
              "      <td>NaN</td>\n",
              "    </tr>\n",
              "    <tr>\n",
              "      <th>4</th>\n",
              "      <td>1001.0</td>\n",
              "      <td>learn</td>\n",
              "      <td>1.0</td>\n",
              "      <td>ELEVATOR</td>\n",
              "      <td>BUILDING</td>\n",
              "      <td>UP</td>\n",
              "      <td>3464.0</td>\n",
              "      <td>2.0</td>\n",
              "      <td>NaN</td>\n",
              "      <td>NaN</td>\n",
              "    </tr>\n",
              "  </tbody>\n",
              "</table>\n",
              "</div>\n",
              "      <button class=\"colab-df-convert\" onclick=\"convertToInteractive('df-829b8607-f9b8-48e5-bdb6-f4fe119fc1d2')\"\n",
              "              title=\"Convert this dataframe to an interactive table.\"\n",
              "              style=\"display:none;\">\n",
              "        \n",
              "  <svg xmlns=\"http://www.w3.org/2000/svg\" height=\"24px\"viewBox=\"0 0 24 24\"\n",
              "       width=\"24px\">\n",
              "    <path d=\"M0 0h24v24H0V0z\" fill=\"none\"/>\n",
              "    <path d=\"M18.56 5.44l.94 2.06.94-2.06 2.06-.94-2.06-.94-.94-2.06-.94 2.06-2.06.94zm-11 1L8.5 8.5l.94-2.06 2.06-.94-2.06-.94L8.5 2.5l-.94 2.06-2.06.94zm10 10l.94 2.06.94-2.06 2.06-.94-2.06-.94-.94-2.06-.94 2.06-2.06.94z\"/><path d=\"M17.41 7.96l-1.37-1.37c-.4-.4-.92-.59-1.43-.59-.52 0-1.04.2-1.43.59L10.3 9.45l-7.72 7.72c-.78.78-.78 2.05 0 2.83L4 21.41c.39.39.9.59 1.41.59.51 0 1.02-.2 1.41-.59l7.78-7.78 2.81-2.81c.8-.78.8-2.07 0-2.86zM5.41 20L4 18.59l7.72-7.72 1.47 1.35L5.41 20z\"/>\n",
              "  </svg>\n",
              "      </button>\n",
              "      \n",
              "  <style>\n",
              "    .colab-df-container {\n",
              "      display:flex;\n",
              "      flex-wrap:wrap;\n",
              "      gap: 12px;\n",
              "    }\n",
              "\n",
              "    .colab-df-convert {\n",
              "      background-color: #E8F0FE;\n",
              "      border: none;\n",
              "      border-radius: 50%;\n",
              "      cursor: pointer;\n",
              "      display: none;\n",
              "      fill: #1967D2;\n",
              "      height: 32px;\n",
              "      padding: 0 0 0 0;\n",
              "      width: 32px;\n",
              "    }\n",
              "\n",
              "    .colab-df-convert:hover {\n",
              "      background-color: #E2EBFA;\n",
              "      box-shadow: 0px 1px 2px rgba(60, 64, 67, 0.3), 0px 1px 3px 1px rgba(60, 64, 67, 0.15);\n",
              "      fill: #174EA6;\n",
              "    }\n",
              "\n",
              "    [theme=dark] .colab-df-convert {\n",
              "      background-color: #3B4455;\n",
              "      fill: #D2E3FC;\n",
              "    }\n",
              "\n",
              "    [theme=dark] .colab-df-convert:hover {\n",
              "      background-color: #434B5C;\n",
              "      box-shadow: 0px 1px 3px 1px rgba(0, 0, 0, 0.15);\n",
              "      filter: drop-shadow(0px 1px 2px rgba(0, 0, 0, 0.3));\n",
              "      fill: #FFFFFF;\n",
              "    }\n",
              "  </style>\n",
              "\n",
              "      <script>\n",
              "        const buttonEl =\n",
              "          document.querySelector('#df-829b8607-f9b8-48e5-bdb6-f4fe119fc1d2 button.colab-df-convert');\n",
              "        buttonEl.style.display =\n",
              "          google.colab.kernel.accessAllowed ? 'block' : 'none';\n",
              "\n",
              "        async function convertToInteractive(key) {\n",
              "          const element = document.querySelector('#df-829b8607-f9b8-48e5-bdb6-f4fe119fc1d2');\n",
              "          const dataTable =\n",
              "            await google.colab.kernel.invokeFunction('convertToInteractive',\n",
              "                                                     [key], {});\n",
              "          if (!dataTable) return;\n",
              "\n",
              "          const docLinkHtml = 'Like what you see? Visit the ' +\n",
              "            '<a target=\"_blank\" href=https://colab.research.google.com/notebooks/data_table.ipynb>data table notebook</a>'\n",
              "            + ' to learn more about interactive tables.';\n",
              "          element.innerHTML = '';\n",
              "          dataTable['output_type'] = 'display_data';\n",
              "          await google.colab.output.renderOutput(dataTable, element);\n",
              "          const docLink = document.createElement('div');\n",
              "          docLink.innerHTML = docLinkHtml;\n",
              "          element.appendChild(docLink);\n",
              "        }\n",
              "      </script>\n",
              "    </div>\n",
              "  </div>\n",
              "  "
            ]
          },
          "metadata": {},
          "execution_count": 3
        }
      ]
    },
    {
      "cell_type": "code",
      "source": [
        "alldata.shape"
      ],
      "metadata": {
        "colab": {
          "base_uri": "https://localhost:8080/"
        },
        "id": "hV8XwZcBGg_G",
        "outputId": "5650dd8e-d560-4b11-f4b8-dd7af187ccd4"
      },
      "execution_count": 4,
      "outputs": [
        {
          "output_type": "execute_result",
          "data": {
            "text/plain": [
              "(5670, 10)"
            ]
          },
          "metadata": {},
          "execution_count": 4
        }
      ]
    },
    {
      "cell_type": "markdown",
      "source": [
        "# Log likelihood"
      ],
      "metadata": {
        "id": "uLjxKMVoGub_"
      }
    },
    {
      "cell_type": "markdown",
      "source": [
        "Implement ACT-R code:"
      ],
      "metadata": {
        "id": "UMdZ1ukRG4Y-"
      }
    },
    {
      "cell_type": "code",
      "source": [
        "def activation(traces, time, decay):\n",
        "    \"\"\"Computes the activation of a memory given its history of retrievals\"\"\"\n",
        "    ftraces = [x for x in traces if x < time]\n",
        "    decay = max(0, decay)  # Allows no positive decay rates in equation \n",
        "    decay - min(decay, 5)\n",
        "    times = time - np.array(ftraces)\n",
        "    odds = times ** -decay\n",
        "    return np.log(np.sum(odds))\n",
        "\n",
        "activation([5, 10, 15], 40, 0.5)"
      ],
      "metadata": {
        "colab": {
          "base_uri": "https://localhost:8080/"
        },
        "id": "zOnwozhTGttJ",
        "outputId": "4c03ccb0-ac27-4c38-a697-0b2029ff94ff"
      },
      "execution_count": 4,
      "outputs": [
        {
          "output_type": "execute_result",
          "data": {
            "text/plain": [
              "-0.5949230018850301"
            ]
          },
          "metadata": {},
          "execution_count": 4
        }
      ]
    },
    {
      "cell_type": "code",
      "source": [
        "time = np.linspace(0.1, 100, 100)\n",
        "traces = [0.001, 5, 25]\n",
        "y = []\n",
        "for t in time:\n",
        "    act = activation(traces, t, 0.5)\n",
        "    y += [act]\n",
        "    \n",
        "plt.plot(time, y)\n",
        "plt.xlabel(\"Time\")\n",
        "plt.ylabel(\"Activation\")\n",
        "plt.show()"
      ],
      "metadata": {
        "colab": {
          "base_uri": "https://localhost:8080/",
          "height": 458
        },
        "id": "9O1NxeppG71j",
        "outputId": "fb2292e7-ff82-4585-ea60-1eb40c896253"
      },
      "execution_count": 5,
      "outputs": [
        {
          "output_type": "display_data",
          "data": {
            "text/plain": [
              "<Figure size 640x480 with 1 Axes>"
            ],
            "image/png": "[encoded data removed]"
          },
          "metadata": {}
        }
      ]
    },
    {
      "cell_type": "markdown",
      "source": [
        "Create loglikelihood function for the model"
      ],
      "metadata": {
        "id": "F5O-Ma2bHHCe"
      }
    },
    {
      "cell_type": "code",
      "source": [
        "def boltzmann(options, values, temperature):\n",
        "    \"\"\"Returns a Boltzmann distribution of the probabilities of each option\"\"\"\n",
        "    temperature = max(temperature, 0.01) \n",
        "    vals = np.array(values)/temperature\n",
        "    #bvals = np.exp(vals)/np.sum(np.exp(vals))\n",
        "    bvals = np.exp(vals - np.max(vals)) / np.exp(vals - np.max(vals)).sum()\n",
        "    return dict(zip(options, bvals))"
      ],
      "metadata": {
        "id": "4nYd7AWEHC6a"
      },
      "execution_count": 6,
      "outputs": []
    },
    {
      "cell_type": "code",
      "source": [
        "boltzmann([2,3], [1, 0.7], 1)"
      ],
      "metadata": {
        "colab": {
          "base_uri": "https://localhost:8080/"
        },
        "id": "infLxnLdIU7o",
        "outputId": "29edb6d4-1d48-460c-988d-b6ef7310fd24"
      },
      "execution_count": 7,
      "outputs": [
        {
          "output_type": "execute_result",
          "data": {
            "text/plain": [
              "{2: 0.574442516811659, 3: 0.425557483188341}"
            ]
          },
          "metadata": {},
          "execution_count": 7
        }
      ]
    },
    {
      "cell_type": "markdown",
      "source": [
        "Create a loglikelihood function for the elaborative model, each error item is given additional spreading activation given the max association (mas) parameter"
      ],
      "metadata": {
        "id": "NaK3W3zCI63e"
      }
    },
    {
      "cell_type": "markdown",
      "source": [
        "### Complete *elaborative* model"
      ],
      "metadata": {
        "id": "0hWua1X6GL_h"
      }
    },
    {
      "cell_type": "code",
      "source": [
        "def LLelab(data, decay, temp, mas):\n",
        "    \"\"\"For each trial, calculate the probability of that response, sum the log likelihoods, and update the values\"\"\"\n",
        "    # create a list of error items\n",
        "    errors = data[data.phase == \"learn\"].cue.tolist()\n",
        "    # create a list of study items\n",
        "    study = data[data.condition == 2].cue.tolist()\n",
        "    # since we don't have data for when study items were presented in each participant's learning phase\n",
        "    # we will use the presentation of the error items and interleaven the study items in between\n",
        "    pos = 1\n",
        "    present = errors[:]\n",
        "    for i in range(len(errors)):\n",
        "      word = study[i]\n",
        "      present.insert(pos, word)\n",
        "      pos += 2\n",
        "\n",
        "    # Create dict with word pairs\n",
        "    pairs = {}\n",
        "    for cue, target in zip(data[data.phase == \"test\"].cue,data[data.phase == \"test\"].target):\n",
        "      pairs[cue] = target\n",
        "    # also create a dict with errors\n",
        "    errorResp = dict()\n",
        "    for cue,response in zip(data[data.phase == \"learn\"].cue,data[data.phase == \"learn\"].response):\n",
        "      errorResp[cue] = response\n",
        "\n",
        "    # model learning phase, encode a single trace for each item: (idk what to set activation at)\n",
        "    DM = dict()\n",
        "    # for DM can we make a dictionary of dictionaries where big keys are cues, values are dictionary of target/\n",
        "    # possible responses and their activation\n",
        "    time = 0\n",
        "    step = 10 #time for learning each item\n",
        "    for cue in present:\n",
        "      littleDM = {}\n",
        "      # make a set of all reponses given to a certain cue to be \"vocab for that cue\"\n",
        "      for response in set(alldata[alldata.cue == cue].response):\n",
        "        littleDM[response] = [0.001]\n",
        "      # add retrieval of error for error items\n",
        "      if cue in errorResp.keys():\n",
        "        error = errorResp[cue]\n",
        "        time +=5\n",
        "        littleDM[error] = [0.001, time]\n",
        "      # overwrite smaller activ of correct target to show task learning\n",
        "        time +=5\n",
        "        littleDM[pairs[cue]] = [0.001, time]\n",
        "      else:\n",
        "        time += 10\n",
        "        littleDM[pairs[cue]] = [0.001, time]\n",
        "      DM[cue] = littleDM\n",
        "    time += 300 # time for distractor phase\n",
        "\n",
        "\n",
        "    # model testing phase\n",
        "    LL = 0\n",
        "    for condition, cue, response, rt, feedback in zip(data[data.phase == \"test\"].condition,\n",
        "                                   data[data.phase == \"test\"].cue, \n",
        "                                   data[data.phase == \"test\"].response, \n",
        "                                   data[data.phase == \"test\"].rt, \n",
        "                                   data[data.phase == \"test\"].correct):\n",
        "      # Calculate log likelihood of response- possible options are 19 random integers\n",
        "      # or correct associate\n",
        "      options = DM[cue].keys()\n",
        "      # create spreading activation additional error component given size of cue's dec mem\n",
        "      cueMem = len(DM[cue])\n",
        "      add = (mas - np.log((cueMem + 1)/2)) - (mas - np.log((cueMem + 1)/1))\n",
        "      # if error condition, add spreading activation\n",
        "      values = [activation(DM[cue][opt], time, decay) if condition == 1 else \n",
        "       (activation(DM[cue][opt], time, decay) + add) for opt in options]\n",
        "      prob = boltzmann(options, values, temp)[response]\n",
        "    \n",
        "      # Sum up the LLs\n",
        "      LL += np.log(max(prob, 10e-10))\n",
        "\n",
        "       # add time taken to responde\n",
        "      time += rt/1000\n",
        "    \n",
        "    return LL"
      ],
      "metadata": {
        "id": "KMLIBhGdIteL"
      },
      "execution_count": 9,
      "outputs": []
    },
    {
      "cell_type": "code",
      "source": [
        "LLelab(alldata[alldata.participant == 1001], 0.5, 1, 1.6)"
      ],
      "metadata": {
        "colab": {
          "base_uri": "https://localhost:8080/"
        },
        "id": "yahI4_8z7t5o",
        "outputId": "0648cd48-509c-421b-c90f-b776b5684b59"
      },
      "execution_count": 10,
      "outputs": [
        {
          "output_type": "execute_result",
          "data": {
            "text/plain": [
              "-174.4412782790136"
            ]
          },
          "metadata": {},
          "execution_count": 10
        }
      ]
    },
    {
      "cell_type": "code",
      "source": [
        "LLelab(alldata[alldata.participant == 1002], 0.5, 1, 4)"
      ],
      "metadata": {
        "colab": {
          "base_uri": "https://localhost:8080/"
        },
        "id": "X9bwBrAI8JLq",
        "outputId": "9509e867-772d-4d05-9220-2776ef077d2e"
      },
      "execution_count": 11,
      "outputs": [
        {
          "output_type": "execute_result",
          "data": {
            "text/plain": [
              "-177.46115123650327"
            ]
          },
          "metadata": {},
          "execution_count": 11
        }
      ]
    },
    {
      "cell_type": "markdown",
      "source": [
        "Create a loglikelihood function of the mediator model, where there are two routes to make a decision: To remember something that worked and to remember something that did not."
      ],
      "metadata": {
        "id": "bft75J6OTfGn"
      }
    },
    {
      "cell_type": "code",
      "source": [
        "def LLmed(data, decay, temp):\n",
        "    \"\"\"For each trial, calculate the probability of that response, sum the log likelihoods, and update the values\"\"\"\n",
        "    # create a list of error items\n",
        "    errors = data[data.phase == \"learn\"].cue.tolist()\n",
        "    # create a list of study items\n",
        "    study = data[data.condition == 2].cue.tolist()\n",
        "    pos = 1\n",
        "    present = errors[:]\n",
        "    for i in range(len(errors)):\n",
        "      word = study[i]\n",
        "      present.insert(pos, word)\n",
        "      pos += 2\n",
        "\n",
        "    # Create dict with word pairs\n",
        "    pairs = {}\n",
        "    for cue, target in zip(data[data.phase == \"test\"].cue,data[data.phase == \"test\"].target):\n",
        "      pairs[cue] = target\n",
        "    # also create a dict with errors\n",
        "    errorResp = dict()\n",
        "    for cue,response in zip(data[data.phase == \"learn\"].cue,data[data.phase == \"learn\"].response):\n",
        "      errorResp[cue] = response\n",
        "\n",
        "    # model learning phase, encode a single trace for each item: (idk what to set activation at)\n",
        "    DM = dict()\n",
        "    # for DM can we make a dictionary of dictionaries where big keys are cues, values are dictionary of target/\n",
        "    # possible responses and their activation\n",
        "    time = 0\n",
        "    step = 10 #time for learning each item\n",
        "    for cue in present:\n",
        "      littleDM = {}\n",
        "      # make a set of all reponses given to a certain cue to be \"vocab for that cue\"\n",
        "      for response in set(alldata[alldata.cue == cue].response):\n",
        "        littleDM[response] = [0.001]\n",
        "      # add retrieval of error for error items\n",
        "      if cue in errorResp.keys():\n",
        "        error = errorResp[cue]\n",
        "        time +=5\n",
        "        littleDM[error] = [0.001, time]\n",
        "      # overwrite smaller activ of correct target to show task learning\n",
        "        time +=5\n",
        "        littleDM[pairs[cue]] = [0.001, time]\n",
        "      else:\n",
        "        time += 10\n",
        "        littleDM[pairs[cue]] = [0.001, time]\n",
        "      DM[cue] = littleDM\n",
        "    time += 300 # time for distractor phase\n",
        "\n",
        "    # model testing phase\n",
        "    LL = 0\n",
        "    \n",
        "    for condition, cue, response, rt, feedback in zip(data[data.phase == \"test\"].condition,\n",
        "                                   data[data.phase == \"test\"].cue, \n",
        "                                   data[data.phase == \"test\"].response, \n",
        "                                   data[data.phase == \"test\"].rt, \n",
        "                                   data[data.phase == \"test\"].correct):\n",
        "        # Calculate log likelihood of response- possible options are 19 random integers\n",
        "        # or correct associate\n",
        "        options = DM[cue].keys()\n",
        "        # create spreading activation additional error component given size of cue's dec mem\n",
        "        cueMem = len(DM[cue])\n",
        "        # if error condition, add spreading activation\n",
        "        values = [activation(DM[cue][opt], time, decay) for opt in options]\n",
        "        prob1 = boltzmann(options, values, temp)[response]\n",
        "        \n",
        "        # probability of retrieving error memory\n",
        "        if condition == 1:\n",
        "          error = errorResp[cue]\n",
        "          prob2 = boltzmann(options, values, temp)[error]\n",
        "        else:\n",
        "          prob2 = 0\n",
        "        \n",
        "        # Sum up the LLs\n",
        "        LL += np.log(max(prob1 + prob2, 10e-10))\n",
        "        \n",
        "         # add time taken to responde\n",
        "        time += rt/1000\n",
        "        \n",
        "    return LL"
      ],
      "metadata": {
        "id": "6oDf4YA7T3To"
      },
      "execution_count": 12,
      "outputs": []
    },
    {
      "cell_type": "code",
      "source": [
        "LLmed(alldata[alldata.participant == 1001], 0.5, 1)"
      ],
      "metadata": {
        "colab": {
          "base_uri": "https://localhost:8080/"
        },
        "id": "mmmyXeOdETlj",
        "outputId": "bc7b604b-b7e1-409e-8644-b3f66c5071a0"
      },
      "execution_count": 13,
      "outputs": [
        {
          "output_type": "execute_result",
          "data": {
            "text/plain": [
              "-148.38513809212435"
            ]
          },
          "metadata": {},
          "execution_count": 13
        }
      ]
    },
    {
      "cell_type": "code",
      "source": [
        "LLmed(alldata[alldata.participant == 1002], 0.5, 1)"
      ],
      "metadata": {
        "colab": {
          "base_uri": "https://localhost:8080/"
        },
        "id": "RGuZGMVvExA5",
        "outputId": "4333473d-c876-43b9-d35e-4a9aeded8f1f"
      },
      "execution_count": 14,
      "outputs": [
        {
          "output_type": "execute_result",
          "data": {
            "text/plain": [
              "-150.88790456104599"
            ]
          },
          "metadata": {},
          "execution_count": 14
        }
      ]
    },
    {
      "cell_type": "markdown",
      "source": [
        "# Create RT models"
      ],
      "metadata": {
        "id": "AMZivWprDOAT"
      }
    },
    {
      "cell_type": "code",
      "source": [
        "def responsetime(activation, ter=1, F=1, f=1):\n",
        "    return ter + F * np.exp(-f * activation)"
      ],
      "metadata": {
        "id": "AickrN7GDlaO"
      },
      "execution_count": 39,
      "outputs": []
    },
    {
      "cell_type": "code",
      "source": [
        "noise = np.linspace(-2, 2)\n",
        "dist = sp.stats.logistic(0, 0.2)\n",
        "plt.plot(noise, dist.pdf(noise))\n",
        "plt.xlabel(\"Noise $s$\")\n",
        "plt.ylabel(\"Probability $P$\")\n",
        "plt.show()"
      ],
      "metadata": {
        "colab": {
          "base_uri": "https://localhost:8080/",
          "height": 458
        },
        "id": "_A-v7qV7DmXr",
        "outputId": "7ab6994e-f955-479b-e47a-96dfb9e17e0a"
      },
      "execution_count": 9,
      "outputs": [
        {
          "output_type": "display_data",
          "data": {
            "text/plain": [
              "<Figure size 640x480 with 1 Axes>"
            ],
            "image/png": "[encoded data removed]"
          },
          "metadata": {}
        }
      ]
    },
    {
      "cell_type": "code",
      "source": [
        "rts = [responsetime(0.5 - x) for x in noise]\n",
        "plt.plot(rts, dist.pdf(noise))\n",
        "plt.xlabel(\"Response Time (s)\")\n",
        "plt.ylabel(\"Probability $P$\")\n",
        "plt.title(\"RT distributions when $s$ = 0.2\")\n",
        "plt.show()"
      ],
      "metadata": {
        "colab": {
          "base_uri": "https://localhost:8080/",
          "height": 480
        },
        "id": "7LaZcjs-D-hL",
        "outputId": "978ea09b-10ab-4f8f-9099-c92ff6a52477"
      },
      "execution_count": 10,
      "outputs": [
        {
          "output_type": "display_data",
          "data": {
            "text/plain": [
              "<Figure size 640x480 with 1 Axes>"
            ],
            "image/png": "[encoded data removed]"
          },
          "metadata": {}
        }
      ]
    },
    {
      "cell_type": "code",
      "source": [
        "for s in np.linspace(0.2, 0.8, 7):\n",
        "    dist = sp.stats.logistic(0, s)\n",
        "    rts = [responsetime(0.5 - x) for x in noise]\n",
        "    plt.plot(rts, dist.pdf(noise))\n",
        "plt.legend([\"$s$ = %.1f\" % (x,) for x in np.linspace(0.2, 0.8, 7)])\n",
        "plt.xlabel(\"Response Time (s)\")\n",
        "plt.ylabel(\"Probability $P$\")\n",
        "plt.title(\"RT distributions for different levels of noise $s$\")\n",
        "plt.show()"
      ],
      "metadata": {
        "colab": {
          "base_uri": "https://localhost:8080/",
          "height": 480
        },
        "id": "nTAIDWYZEC5J",
        "outputId": "c9c2fe96-71bd-4682-bd52-492388e10a44"
      },
      "execution_count": 11,
      "outputs": [
        {
          "output_type": "display_data",
          "data": {
            "text/plain": [
              "<Figure size 640x480 with 1 Axes>"
            ],
            "image/png": "[encoded data removed]"
          },
          "metadata": {}
        }
      ]
    },
    {
      "cell_type": "code",
      "source": [
        "from urllib.request import proxy_bypass\n",
        "def rtProb(rt, activation, s):\n",
        "  \"\"\"Takes one parameter for noise, s, and outputs a probability distribution for response times\"\"\"\n",
        "  noise = np.linspace(-2, 2)\n",
        "  dist = sp.stats.logistic(0, s)\n",
        "  rts = [responsetime(activation - x) for x in noise]\n",
        "  prob = dist.pdf(noise)\n",
        "  rtprob = {rts[i]:prob[i]for i in range(len(noise))}\n",
        "  val = min(rtprob.keys(), key=lambda x: abs(x - (rt/1000)))\n",
        "  return rtprob[val]"
      ],
      "metadata": {
        "id": "s0BKpqZQEGJ_"
      },
      "execution_count": 12,
      "outputs": []
    },
    {
      "cell_type": "code",
      "source": [
        "rtProb(5030, 3, 1)"
      ],
      "metadata": {
        "colab": {
          "base_uri": "https://localhost:8080/"
        },
        "id": "JKKNDiaFjwfb",
        "outputId": "e6c0f161-ddb1-44cd-de7a-cc6b1af0ab45"
      },
      "execution_count": 14,
      "outputs": [
        {
          "output_type": "execute_result",
          "data": {
            "text/plain": [
              "0.10499358540350652"
            ]
          },
          "metadata": {},
          "execution_count": 14
        }
      ]
    },
    {
      "cell_type": "markdown",
      "source": [
        "## Elaborative Model"
      ],
      "metadata": {
        "id": "dBBYG2u8tGz3"
      }
    },
    {
      "cell_type": "code",
      "source": [
        "def LLelabRT(data, decay, temp, mas):\n",
        "    \"\"\"For each trial, calculate the probability of that response, sum the log likelihoods, and update the values\"\"\"\n",
        "    # create a list of error items\n",
        "    errors = data[data.phase == \"learn\"].cue.tolist()\n",
        "    # create a list of study items\n",
        "    study = data[data.condition == 2].cue.tolist()\n",
        "    pos = 1\n",
        "    present = errors[:]\n",
        "    for i in range(len(errors)):\n",
        "      word = study[i]\n",
        "      present.insert(pos, word)\n",
        "      pos += 2\n",
        "\n",
        "    # Create dict with word pairs\n",
        "    pairs = {}\n",
        "    for cue, target in zip(data[data.phase == \"test\"].cue,data[data.phase == \"test\"].target):\n",
        "      pairs[cue] = target\n",
        "    # also create a dict with errors\n",
        "    errorResp = dict()\n",
        "    for cue,response in zip(data[data.phase == \"learn\"].cue,data[data.phase == \"learn\"].response):\n",
        "      errorResp[cue] = response\n",
        "\n",
        "    # model learning phase, encode a single trace for each item: (idk what to set activation at)\n",
        "    DM = dict()\n",
        "    # for DM can we make a dictionary of dictionaries where big keys are cues, values are dictionary of target/\n",
        "    # possible responses and their activation\n",
        "    time = 0\n",
        "    step = 10 #time for learning each item\n",
        "    for cue in present:\n",
        "      littleDM = {}\n",
        "      # make a set of all reponses given to a certain cue to be \"vocab for that cue\"\n",
        "      for response in set(alldata[alldata.cue == cue].response):\n",
        "        littleDM[response] = [0.001]\n",
        "      # add retrieval of error for error items\n",
        "      if cue in errorResp.keys():\n",
        "        error = errorResp[cue]\n",
        "        time +=5\n",
        "        littleDM[error] = [0.001, time]\n",
        "      # overwrite smaller activ of correct target to show task learning\n",
        "        time +=5\n",
        "        littleDM[pairs[cue]] = [0.001, time]\n",
        "      else:\n",
        "        time += 10\n",
        "        littleDM[pairs[cue]] = [0.001, time]\n",
        "      DM[cue] = littleDM\n",
        "    time += 300 # time for distractor phase\n",
        "\n",
        "\n",
        "    # model testing phase\n",
        "    LL = 0\n",
        "    for condition, cue, response, rt, feedback in zip(data[data.phase == \"test\"].condition,\n",
        "                                   data[data.phase == \"test\"].cue, \n",
        "                                   data[data.phase == \"test\"].response, \n",
        "                                   data[data.phase == \"test\"].rt, \n",
        "                                   data[data.phase == \"test\"].correct):\n",
        "      # Calculate log likelihood of response- possible options are 19 random integers\n",
        "      # or correct associate\n",
        "      options = DM[cue].keys()\n",
        "      # create spreading activation additional error component given size of cue's dec mem\n",
        "      cueMem = len(DM[cue])\n",
        "      add = (mas - np.log((cueMem + 1)/2)) - (mas - np.log((cueMem + 1)/1))\n",
        "      # if error condition, add spreading activation\n",
        "      values = [(activation(DM[cue][opt], time, decay) + add) if condition == 1 else \n",
        "       activation(DM[cue][opt], time, decay) for opt in options]\n",
        "      prob = boltzmann(options, values, temp)[response]\n",
        "    \n",
        "      # now calculate response times:\n",
        "      if condition == 1:\n",
        "        resp_activation = activation(DM[cue][response], time, decay) + add\n",
        "      else: \n",
        "        resp_activation = activation(DM[cue][response], time, decay)\n",
        "\n",
        "      \n",
        "      prob_rt = rtProb(rt, resp_activation, temp)\n",
        "\n",
        "      # Sum up the LLs\n",
        "      LL += (np.log(max(prob, 10e-10)) + np.log(max(prob_rt, 10e-10)))\n",
        "\n",
        "       # add time taken to responde\n",
        "      time += rt/1000\n",
        "    \n",
        "    return LL"
      ],
      "metadata": {
        "id": "DAmc6sa3DMuC"
      },
      "execution_count": 40,
      "outputs": []
    },
    {
      "cell_type": "code",
      "source": [
        "LLelabRT(alldata[alldata.participant == 1001], 0.5, 1, 1.6)"
      ],
      "metadata": {
        "colab": {
          "base_uri": "https://localhost:8080/"
        },
        "id": "od62A0A0siuO",
        "outputId": "8bf4271e-4653-413c-846e-858059542a7c"
      },
      "execution_count": 41,
      "outputs": [
        {
          "output_type": "execute_result",
          "data": {
            "text/plain": [
              "-285.74816151819357"
            ]
          },
          "metadata": {},
          "execution_count": 41
        }
      ]
    },
    {
      "cell_type": "code",
      "source": [
        "LLelabRT(alldata[alldata.participant == 1002], 0.5, 1, 1.6)"
      ],
      "metadata": {
        "colab": {
          "base_uri": "https://localhost:8080/"
        },
        "id": "c26HJ-h9E6AJ",
        "outputId": "adf3e3d5-2fd8-41a8-be1d-9114e5f985ae"
      },
      "execution_count": 42,
      "outputs": [
        {
          "output_type": "execute_result",
          "data": {
            "text/plain": [
              "-298.7803561094662"
            ]
          },
          "metadata": {},
          "execution_count": 42
        }
      ]
    },
    {
      "cell_type": "markdown",
      "source": [
        "## Mediator Model"
      ],
      "metadata": {
        "id": "k94iDUxOtKy_"
      }
    },
    {
      "cell_type": "code",
      "source": [
        "from urllib.request import proxy_bypass\n",
        "def rtProb2(rt, resp_activation, error_activation, condition, s):\n",
        "  \"\"\"Takes one parameter for noise, s, and outputs a probability distribution for response times\"\"\"\n",
        "  noise = np.linspace(-2, 2)\n",
        "  dist = sp.stats.logistic(0, s)\n",
        "  if condition == 1:\n",
        "    rts = [(responsetime(resp_activation - x) + responsetime(error_activation - x)) for x in noise]\n",
        "  else: \n",
        "    rts = [responsetime(resp_activation - x) for x in noise]\n",
        "  prob = dist.pdf(noise)\n",
        "  rtprob = {rts[i]:prob[i]for i in range(len(noise))}\n",
        "  val = min(rtprob.keys(), key=lambda x: abs(x - (rt/1000)))\n",
        "  return rtprob[val]"
      ],
      "metadata": {
        "id": "cappHS-GwJ2C"
      },
      "execution_count": 43,
      "outputs": []
    },
    {
      "cell_type": "code",
      "source": [
        "rtProb2(6100, 3, 2, 1, 0.2)"
      ],
      "metadata": {
        "colab": {
          "base_uri": "https://localhost:8080/"
        },
        "id": "7BDYgqgnPFCz",
        "outputId": "04edb095-50fc-4593-d7ff-6bf79d8eb9b5"
      },
      "execution_count": 32,
      "outputs": [
        {
          "output_type": "stream",
          "name": "stdout",
          "text": [
            "{6.02505358588782: 0.00022697903867975835, 6.027184572355142: 0.00034137281274882006, 6.029496814445681: 0.0005134073611775754, 6.032005729245116: 0.0007721117937022627, 6.034728045172405: 0.001161116038046361, 6.037681913518051: 0.0017459708526843518, 6.040887029469488: 0.002625107669818369, 6.0443647634305515: 0.003946210267652735, 6.048138303510593: 0.0059305849349991484, 6.052232810133328: 0.008909243372586471, 6.056675583796256: 0.013375890766102105, 6.061496247099234: 0.020063753257978992, 6.066726942255862: 0.030054746763942285, 6.072402545404637: 0.04492959053532246, 6.078560899148801: 0.06696292135023516, 6.08524306487535: 0.09935129227210873, 6.092493596535601: 0.14642056338366785, 6.100360837712727: 0.21367047593847505, 6.1088972439570295: 0.30735433166195114, 6.118159732538112: 0.4330732629625037, 6.128210061945989: 0.5927437358626545, 6.139115243671464: 0.7797410889003382, 6.150947989011373: 0.9737525582511741, 6.163787193877816: 1.139808944540161, 6.177718464843861: 1.2370744067030244, 6.192834689933207: 1.2370744067030244, 6.209236657959577: 1.1398089445401616, 6.227033730545356: 0.9737525582511749, 6.246344571300215: 0.7797410889003388, 6.267297937021576: 0.592743735862655, 6.290033536192354: 0.4330732629625045, 6.314702960500034: 0.3073543316619517, 6.3414706955881215: 0.21367047593847513, 6.37051521777922: 0.146420563383668, 6.402030184082241: 0.09935129227210883, 6.436225723418221: 0.06696292135023527, 6.473329837674137: 0.044929590535322535, 6.513589921926339: 0.03005474676394231, 6.557274413969859: 0.02006375325797901, 6.604674584151965: 0.01337589076610214, 6.656106477443855: 0.008909243372586494, 6.7119130206994075: 0.005930584934999165, 6.77246630915136: 0.003946210267652739, 6.8381700873903135: 0.002625107669818369, 6.909462441368728: 0.0017459708526843547, 6.986818719379086: 0.001161116038046363, 7.0707547014821275: 0.0007721117937022641, 7.161830038517589: 0.0005134073611775754, 7.260651983627374: 0.00034137281274882006, 7.367879441171443: 0.00022697903867975835}\n"
          ]
        },
        {
          "output_type": "execute_result",
          "data": {
            "text/plain": [
              "0.21367047593847505"
            ]
          },
          "metadata": {},
          "execution_count": 32
        }
      ]
    },
    {
      "cell_type": "code",
      "source": [
        "def LLmedRT(data, decay, temp):\n",
        "    \"\"\"For each trial, calculate the probability of that response, sum the log likelihoods, and update the values\"\"\"\n",
        "    # create a list of error items\n",
        "    errors = data[data.phase == \"learn\"].cue.tolist()\n",
        "    # create a list of study items\n",
        "    study = data[data.condition == 2].cue.tolist()\n",
        "    pos = 1\n",
        "    present = errors[:]\n",
        "    for i in range(len(errors)):\n",
        "      word = study[i]\n",
        "      present.insert(pos, word)\n",
        "      pos += 2\n",
        "\n",
        "    # Create dict with word pairs\n",
        "    pairs = {}\n",
        "    for cue, target in zip(data[data.phase == \"test\"].cue,data[data.phase == \"test\"].target):\n",
        "      pairs[cue] = target\n",
        "    # also create a dict with errors\n",
        "    errorResp = dict()\n",
        "    for cue,response in zip(data[data.phase == \"learn\"].cue,data[data.phase == \"learn\"].response):\n",
        "      errorResp[cue] = response\n",
        "\n",
        "    # model learning phase, encode a single trace for each item: (idk what to set activation at)\n",
        "    DM = dict()\n",
        "    # for DM can we make a dictionary of dictionaries where big keys are cues, values are dictionary of target/\n",
        "    # possible responses and their activation\n",
        "    time = 0\n",
        "    step = 10 #time for learning each item\n",
        "    for cue in present:\n",
        "      littleDM = {}\n",
        "      # make a set of all reponses given to a certain cue to be \"vocab for that cue\"\n",
        "      for response in set(alldata[alldata.cue == cue].response):\n",
        "        littleDM[response] = [0.001]\n",
        "      # add retrieval of error for error items\n",
        "      if cue in errorResp.keys():\n",
        "        error = errorResp[cue]\n",
        "        time +=5\n",
        "        littleDM[error] = [0.001, time]\n",
        "      # overwrite smaller activ of correct target to show task learning\n",
        "        time +=5\n",
        "        littleDM[pairs[cue]] = [0.001, time]\n",
        "      else:\n",
        "        time += 10\n",
        "        littleDM[pairs[cue]] = [0.001, time]\n",
        "      DM[cue] = littleDM\n",
        "    time += 300 # time for distractor phase\n",
        "\n",
        "    # model testing phase\n",
        "    LL = 0\n",
        "    \n",
        "    for condition, cue, response, rt, feedback in zip(data[data.phase == \"test\"].condition,\n",
        "                                   data[data.phase == \"test\"].cue, \n",
        "                                   data[data.phase == \"test\"].response, \n",
        "                                   data[data.phase == \"test\"].rt, \n",
        "                                   data[data.phase == \"test\"].correct):\n",
        "        # Calculate log likelihood of response- possible options are 19 random integers\n",
        "        # or correct associate\n",
        "        options = DM[cue].keys()\n",
        "\n",
        "        # calculate probability of retrieving given response\n",
        "        values = [activation(DM[cue][opt], time, decay) for opt in options]\n",
        "        prob1 = boltzmann(options, values, temp)[response]\n",
        "        \n",
        "        # probability of retrieving error memory\n",
        "        if condition == 1:\n",
        "          error = errorResp[cue]\n",
        "          prob2 = boltzmann(options, values, temp)[error]\n",
        "        else:\n",
        "          prob2 = 0\n",
        "        \n",
        "        # add response times calculations\n",
        "        # probability of given response time with\n",
        "        respAct = activation(DM[cue][response], time, decay)\n",
        "        if condition == 1:\n",
        "          error = errorResp[cue]\n",
        "          errorAct = activation(DM[cue][error], time, decay)\n",
        "          prob_rt = rtProb2(rt, respAct, errorAct, condition, temp)\n",
        "        else:\n",
        "          errorAct = 0\n",
        "          prob_rt = rtProb2(rt, respAct, errorAct, condition, temp)\n",
        "\n",
        "        # Sum up the LLs\n",
        "        LL += (np.log(max(prob1 + prob2, 10e-10)) + np.log(max(prob_rt, 10e-10)))\n",
        "        \n",
        "         # add time taken to responde\n",
        "        time += rt/1000\n",
        "        \n",
        "    return LL"
      ],
      "metadata": {
        "id": "06orMyzjtFR4"
      },
      "execution_count": 44,
      "outputs": []
    },
    {
      "cell_type": "code",
      "source": [
        "LLmedRT(alldata[alldata.participant == 1001], 0.5, 1)"
      ],
      "metadata": {
        "colab": {
          "base_uri": "https://localhost:8080/"
        },
        "id": "PU1kSzEG0FJD",
        "outputId": "f1084fee-e48c-4142-cf8a-adb6e05b6c7e"
      },
      "execution_count": 45,
      "outputs": [
        {
          "output_type": "execute_result",
          "data": {
            "text/plain": [
              "-268.76677051236334"
            ]
          },
          "metadata": {},
          "execution_count": 45
        }
      ]
    },
    {
      "cell_type": "code",
      "source": [
        "LLmedRT(alldata[alldata.participant == 1002], 0.5, 1)"
      ],
      "metadata": {
        "id": "N8P4j9Lyknay",
        "colab": {
          "base_uri": "https://localhost:8080/"
        },
        "outputId": "278eda42-fba8-4111-9166-ed3759a1ec63"
      },
      "execution_count": 46,
      "outputs": [
        {
          "output_type": "execute_result",
          "data": {
            "text/plain": [
              "-283.26348176311467"
            ]
          },
          "metadata": {},
          "execution_count": 46
        }
      ]
    },
    {
      "cell_type": "markdown",
      "source": [
        "# Calculate LL for each ppt and assign best model"
      ],
      "metadata": {
        "id": "6lyASKh7oHWm"
      }
    },
    {
      "cell_type": "code",
      "source": [
        "df = pd.DataFrame(columns = ['participant', 'LLelab', 'LLmed', 'LLdiff', 'best'])\n",
        "participant = alldata.participant.unique().tolist()\n",
        "LLelab = []\n",
        "LLmed = []\n",
        "for ppt in participant:\n",
        "  data = alldata[alldata.participant == ppt]\n",
        "  LLelab.append(LLelabRT(data, 0.5, 1, 1.6))\n",
        "  LLmed.append(LLmedRT(data, 0.5, 1))"
      ],
      "metadata": {
        "id": "jVGbx0eaoLOh"
      },
      "execution_count": 58,
      "outputs": []
    },
    {
      "cell_type": "code",
      "source": [
        "df['participant'] = participant\n",
        "df['LLelab'] = LLelab\n",
        "df['LLmed'] = LLmed\n",
        "df['LLdiff'] = df['LLelab'] - df['LLmed']\n",
        "df['best'] = np.where(df['LLdiff'] < 0, \"LLmed\", \"LLelab\")\n",
        "df.dropna()"
      ],
      "metadata": {
        "colab": {
          "base_uri": "https://localhost:8080/",
          "height": 424
        },
        "id": "BEfpWDAHsJ_L",
        "outputId": "6e1fe8d3-215d-46db-f8d3-17ef1b08602f"
      },
      "execution_count": 67,
      "outputs": [
        {
          "output_type": "execute_result",
          "data": {
            "text/plain": [
              "    participant      LLelab       LLmed     LLdiff   best\n",
              "0        1001.0 -285.748162 -268.766771 -16.981391  LLmed\n",
              "1        1002.0 -298.780356 -283.263482 -15.516874  LLmed\n",
              "2        1003.0 -287.876550 -276.624213 -11.252338  LLmed\n",
              "3        1004.0 -304.429272 -283.812424 -20.616848  LLmed\n",
              "4        1005.0 -286.645274 -272.467672 -14.177602  LLmed\n",
              "..          ...         ...         ...        ...    ...\n",
              "56       1064.0 -273.335817 -263.454363  -9.881453  LLmed\n",
              "57       1065.0 -275.177037 -266.183760  -8.993276  LLmed\n",
              "58       1067.0 -318.738163 -291.629524 -27.108639  LLmed\n",
              "59       1068.0 -276.007230 -262.540341 -13.466889  LLmed\n",
              "60       1069.0 -279.534504 -270.075997  -9.458506  LLmed\n",
              "\n",
              "[61 rows x 5 columns]"
            ],
            "text/html": [
              "\n",
              "  <div id=\"df-5472750a-3203-48d7-9304-894dc561a989\">\n",
              "    <div class=\"colab-df-container\">\n",
              "      <div>\n",
              "<style scoped>\n",
              "    .dataframe tbody tr th:only-of-type {\n",
              "        vertical-align: middle;\n",
              "    }\n",
              "\n",
              "    .dataframe tbody tr th {\n",
              "        vertical-align: top;\n",
              "    }\n",
              "\n",
              "    .dataframe thead th {\n",
              "        text-align: right;\n",
              "    }\n",
              "</style>\n",
              "<table border=\"1\" class=\"dataframe\">\n",
              "  <thead>\n",
              "    <tr style=\"text-align: right;\">\n",
              "      <th></th>\n",
              "      <th>participant</th>\n",
              "      <th>LLelab</th>\n",
              "      <th>LLmed</th>\n",
              "      <th>LLdiff</th>\n",
              "      <th>best</th>\n",
              "    </tr>\n",
              "  </thead>\n",
              "  <tbody>\n",
              "    <tr>\n",
              "      <th>0</th>\n",
              "      <td>1001.0</td>\n",
              "      <td>-285.748162</td>\n",
              "      <td>-268.766771</td>\n",
              "      <td>-16.981391</td>\n",
              "      <td>LLmed</td>\n",
              "    </tr>\n",
              "    <tr>\n",
              "      <th>1</th>\n",
              "      <td>1002.0</td>\n",
              "      <td>-298.780356</td>\n",
              "      <td>-283.263482</td>\n",
              "      <td>-15.516874</td>\n",
              "      <td>LLmed</td>\n",
              "    </tr>\n",
              "    <tr>\n",
              "      <th>2</th>\n",
              "      <td>1003.0</td>\n",
              "      <td>-287.876550</td>\n",
              "      <td>-276.624213</td>\n",
              "      <td>-11.252338</td>\n",
              "      <td>LLmed</td>\n",
              "    </tr>\n",
              "    <tr>\n",
              "      <th>3</th>\n",
              "      <td>1004.0</td>\n",
              "      <td>-304.429272</td>\n",
              "      <td>-283.812424</td>\n",
              "      <td>-20.616848</td>\n",
              "      <td>LLmed</td>\n",
              "    </tr>\n",
              "    <tr>\n",
              "      <th>4</th>\n",
              "      <td>1005.0</td>\n",
              "      <td>-286.645274</td>\n",
              "      <td>-272.467672</td>\n",
              "      <td>-14.177602</td>\n",
              "      <td>LLmed</td>\n",
              "    </tr>\n",
              "    <tr>\n",
              "      <th>...</th>\n",
              "      <td>...</td>\n",
              "      <td>...</td>\n",
              "      <td>...</td>\n",
              "      <td>...</td>\n",
              "      <td>...</td>\n",
              "    </tr>\n",
              "    <tr>\n",
              "      <th>56</th>\n",
              "      <td>1064.0</td>\n",
              "      <td>-273.335817</td>\n",
              "      <td>-263.454363</td>\n",
              "      <td>-9.881453</td>\n",
              "      <td>LLmed</td>\n",
              "    </tr>\n",
              "    <tr>\n",
              "      <th>57</th>\n",
              "      <td>1065.0</td>\n",
              "      <td>-275.177037</td>\n",
              "      <td>-266.183760</td>\n",
              "      <td>-8.993276</td>\n",
              "      <td>LLmed</td>\n",
              "    </tr>\n",
              "    <tr>\n",
              "      <th>58</th>\n",
              "      <td>1067.0</td>\n",
              "      <td>-318.738163</td>\n",
              "      <td>-291.629524</td>\n",
              "      <td>-27.108639</td>\n",
              "      <td>LLmed</td>\n",
              "    </tr>\n",
              "    <tr>\n",
              "      <th>59</th>\n",
              "      <td>1068.0</td>\n",
              "      <td>-276.007230</td>\n",
              "      <td>-262.540341</td>\n",
              "      <td>-13.466889</td>\n",
              "      <td>LLmed</td>\n",
              "    </tr>\n",
              "    <tr>\n",
              "      <th>60</th>\n",
              "      <td>1069.0</td>\n",
              "      <td>-279.534504</td>\n",
              "      <td>-270.075997</td>\n",
              "      <td>-9.458506</td>\n",
              "      <td>LLmed</td>\n",
              "    </tr>\n",
              "  </tbody>\n",
              "</table>\n",
              "<p>61 rows × 5 columns</p>\n",
              "</div>\n",
              "      <button class=\"colab-df-convert\" onclick=\"convertToInteractive('df-5472750a-3203-48d7-9304-894dc561a989')\"\n",
              "              title=\"Convert this dataframe to an interactive table.\"\n",
              "              style=\"display:none;\">\n",
              "        \n",
              "  <svg xmlns=\"http://www.w3.org/2000/svg\" height=\"24px\"viewBox=\"0 0 24 24\"\n",
              "       width=\"24px\">\n",
              "    <path d=\"M0 0h24v24H0V0z\" fill=\"none\"/>\n",
              "    <path d=\"M18.56 5.44l.94 2.06.94-2.06 2.06-.94-2.06-.94-.94-2.06-.94 2.06-2.06.94zm-11 1L8.5 8.5l.94-2.06 2.06-.94-2.06-.94L8.5 2.5l-.94 2.06-2.06.94zm10 10l.94 2.06.94-2.06 2.06-.94-2.06-.94-.94-2.06-.94 2.06-2.06.94z\"/><path d=\"M17.41 7.96l-1.37-1.37c-.4-.4-.92-.59-1.43-.59-.52 0-1.04.2-1.43.59L10.3 9.45l-7.72 7.72c-.78.78-.78 2.05 0 2.83L4 21.41c.39.39.9.59 1.41.59.51 0 1.02-.2 1.41-.59l7.78-7.78 2.81-2.81c.8-.78.8-2.07 0-2.86zM5.41 20L4 18.59l7.72-7.72 1.47 1.35L5.41 20z\"/>\n",
              "  </svg>\n",
              "      </button>\n",
              "      \n",
              "  <style>\n",
              "    .colab-df-container {\n",
              "      display:flex;\n",
              "      flex-wrap:wrap;\n",
              "      gap: 12px;\n",
              "    }\n",
              "\n",
              "    .colab-df-convert {\n",
              "      background-color: #E8F0FE;\n",
              "      border: none;\n",
              "      border-radius: 50%;\n",
              "      cursor: pointer;\n",
              "      display: none;\n",
              "      fill: #1967D2;\n",
              "      height: 32px;\n",
              "      padding: 0 0 0 0;\n",
              "      width: 32px;\n",
              "    }\n",
              "\n",
              "    .colab-df-convert:hover {\n",
              "      background-color: #E2EBFA;\n",
              "      box-shadow: 0px 1px 2px rgba(60, 64, 67, 0.3), 0px 1px 3px 1px rgba(60, 64, 67, 0.15);\n",
              "      fill: #174EA6;\n",
              "    }\n",
              "\n",
              "    [theme=dark] .colab-df-convert {\n",
              "      background-color: #3B4455;\n",
              "      fill: #D2E3FC;\n",
              "    }\n",
              "\n",
              "    [theme=dark] .colab-df-convert:hover {\n",
              "      background-color: #434B5C;\n",
              "      box-shadow: 0px 1px 3px 1px rgba(0, 0, 0, 0.15);\n",
              "      filter: drop-shadow(0px 1px 2px rgba(0, 0, 0, 0.3));\n",
              "      fill: #FFFFFF;\n",
              "    }\n",
              "  </style>\n",
              "\n",
              "      <script>\n",
              "        const buttonEl =\n",
              "          document.querySelector('#df-5472750a-3203-48d7-9304-894dc561a989 button.colab-df-convert');\n",
              "        buttonEl.style.display =\n",
              "          google.colab.kernel.accessAllowed ? 'block' : 'none';\n",
              "\n",
              "        async function convertToInteractive(key) {\n",
              "          const element = document.querySelector('#df-5472750a-3203-48d7-9304-894dc561a989');\n",
              "          const dataTable =\n",
              "            await google.colab.kernel.invokeFunction('convertToInteractive',\n",
              "                                                     [key], {});\n",
              "          if (!dataTable) return;\n",
              "\n",
              "          const docLinkHtml = 'Like what you see? Visit the ' +\n",
              "            '<a target=\"_blank\" href=https://colab.research.google.com/notebooks/data_table.ipynb>data table notebook</a>'\n",
              "            + ' to learn more about interactive tables.';\n",
              "          element.innerHTML = '';\n",
              "          dataTable['output_type'] = 'display_data';\n",
              "          await google.colab.output.renderOutput(dataTable, element);\n",
              "          const docLink = document.createElement('div');\n",
              "          docLink.innerHTML = docLinkHtml;\n",
              "          element.appendChild(docLink);\n",
              "        }\n",
              "      </script>\n",
              "    </div>\n",
              "  </div>\n",
              "  "
            ]
          },
          "metadata": {},
          "execution_count": 67
        }
      ]
    },
    {
      "cell_type": "markdown",
      "source": [
        "### Walk through of *elaborative* model using ppt 1001's data"
      ],
      "metadata": {
        "id": "yzcEtJ2GGGBO"
      }
    },
    {
      "cell_type": "code",
      "source": [
        "# create a list of error items\n",
        "data = alldata[alldata.participant == 1001]\n",
        "errors = data[data.phase == \"learn\"].cue.tolist()\n",
        "# create a list of study items\n",
        "study = data[data.condition == 2].cue.tolist()\n",
        "# since we don't have data for when study items were presented in each participant's learning phase\n",
        "# we will use the presentation of the error items and interleaven the study items in between\n",
        "pos = 1\n",
        "present = errors[:]\n",
        "for i in range(len(errors)):\n",
        "  word = study[i]\n",
        "  present.insert(pos, word)\n",
        "  pos += 2\n",
        "\n",
        "# Create dict with word pairs\n",
        "pairs = {}\n",
        "for cue, target in zip(data[data.phase == \"test\"].cue,data[data.phase == \"test\"].target):\n",
        "  pairs[cue] = target\n",
        "# also create a dict with errors\n",
        "errorResp = dict()\n",
        "for cue,response in zip(data[data.phase == \"learn\"].cue,data[data.phase == \"learn\"].response):\n",
        "  errorResp[cue] = response\n",
        "\n",
        "print(\"First 5 key,value pairs in word pair dictionary:\", dict(itertools.islice(pairs.items(), 5)))\n",
        "print(\"First 5 key,value pairs in error response dictionary:\", dict(itertools.islice(errorResp.items(), 5)))"
      ],
      "metadata": {
        "colab": {
          "base_uri": "https://localhost:8080/"
        },
        "id": "1hZO-dWQGFGW",
        "outputId": "6f129b9d-155f-466c-d5e1-ea190da725d5"
      },
      "execution_count": 35,
      "outputs": [
        {
          "output_type": "stream",
          "name": "stdout",
          "text": [
            "First 5 key,value pairs in word pair dictionary: {'HONEYMOON': 'ROMANCE', 'TASTY': 'TREAT', 'SWING': 'TREE', 'DIAMETER': 'LENGTH', 'CANYON': 'MOUNTAIN'}\n",
            "First 5 key,value pairs in error response dictionary: {'EMPIRE': 'KING', 'CHUNK': 'HUNK', 'GLIDE': 'FLY', 'SAIL': 'BOAT', 'ELEVATOR': 'UP'}\n"
          ]
        }
      ]
    },
    {
      "cell_type": "code",
      "source": [
        "# model learning phase, encode a single trace for each item:\n",
        "DM = dict()\n",
        "# for DM can we make a dictionary of dictionaries where big keys are cues, values are dictionary of target/\n",
        "# possible responses and their activation\n",
        "time = 0\n",
        "step = 10 #time for learning each item\n",
        "for cue in present:\n",
        "  littleDM = {}\n",
        "# make a set of all reponses given to a certain cue to be \"vocab for that cue\"\n",
        "  for response in set(alldata[alldata.cue == cue].response):\n",
        "    littleDM[response] = [0.001]\n",
        "    # add retrieval of error for error items\n",
        "  if cue in errorResp.keys():\n",
        "    error = errorResp[cue]\n",
        "    time +=5\n",
        "    littleDM[error] = [0.001, time]\n",
        "    # overwrite smaller activ of correct target to show task learning\n",
        "    time +=5\n",
        "    littleDM[pairs[cue]] = [0.001, time]\n",
        "  else:\n",
        "    time += 10\n",
        "    littleDM[pairs[cue]] = [0.001, time]\n",
        "  DM[cue] = littleDM\n",
        "time += 300 # time for distractor phase\n",
        "\n",
        "print(\"First 5 key,value pairs in declarative memory dictionary:\", dict(itertools.islice(DM.items(), 5)))"
      ],
      "metadata": {
        "colab": {
          "base_uri": "https://localhost:8080/"
        },
        "id": "cM_IZcU2FwDP",
        "outputId": "63c89539-ee7c-41d7-f13d-bffe4eed2001"
      },
      "execution_count": 37,
      "outputs": [
        {
          "output_type": "stream",
          "name": "stdout",
          "text": [
            "First 5 key,value pairs in declarative memory dictionary: {'EMPIRE': {nan: [0.001], 'FALL': [0.001], 'PEOPLE': [0.001], 'ROME': [0.001], 'RULER': [0.001], 'legend': [0.001], 'STRIKES BACK': [0.001], 'building': [0.001], ' STATE': [0.001], 'STA': [0.001], 'KING': [0.001, 5], 'STATES': [0.001], 'BIG': [0.001], 'NATION': [0.001], 'BULDING': [0.001], 'STRIKE': [0.001], 'clro': [0.001], 'KINGDOM': [0.001], 'NEW YORK': [0.001], 'OF THE DEAD': [0.001], 'STATE': [0.001, 10], 'EMPEROR': [0.001], 'COUNTRY  ': [0.001], 'BUISNE': [0.001], 'CITY': [0.001], 'BUILDING': [0.001], 'state': [0.001], 'IDK': [0.001], 'dynasty': [0.001], 'BUIDLING': [0.001], 'LOGICAL': [0.001], ' LAW': [0.001], 'R': [0.001]}, 'TASTY': {'SWEET': [0.001], nan: [0.001], 'food': [0.001], 'yummy': [0.001], 'FOOD': [0.001], 'YUMMY': [0.001], 'SCARY': [0.001], 'NICE': [0.001], 'NOODLES': [0.001], 'COOKIE': [0.001], 'DELICIOUS': [0.001], 'treat': [0.001], 'CANDY': [0.001], 'EAT': [0.001], 'GOOD': [0.001], 'TREAT': [0.001, 20]}, 'CHUNK': {nan: [0.001], 'BITE': [0.001], 'food': [0.001], 'BRICK': [0.001], 'hunk': [0.001], 'space': [0.001], 'CAR': [0.001], 'TRUNK': [0.001], 'product': [0.001], 'PIECE': [0.001], ' BLOCK': [0.001], 'chunk': [0.001], 'ELEPHANT': [0.001], 'brick': [0.001], 'MASS': [0.001], 'PIECE ': [0.001], 'big': [0.001], 'B': [0.001], 'T': [0.001], 'noise': [0.001], 'block': [0.001], 'STUCK': [0.001], 'cookie': [0.001], 'CHEESE': [0.001], ' BITS': [0.001], 'BIG': [0.001], 'LUMP': [0.001], 'CORNER': [0.001], 'MEMORY': [0.001], 'HUNK': [0.001, 25], 'PEICE': [0.001], 'CLUMP': [0.001], 'GROUP': [0.001], 'FOOD': [0.001], 'MONKEY': [0.001], 'WOOD': [0.001], 'COOKIE': [0.001], 'BIT': [0.001], 'BREAK': [0.001], 'BLOCK': [0.001, 30], 'CH': [0.001], 'BITS': [0.001], 'BOAT': [0.001], 'BAR': [0.001], 'SNACK': [0.001], 'BEAR': [0.001], 'CHICK': [0.001], 'CHIP': [0.001], 'TREE': [0.001], 'BEAVER': [0.001], 'fat': [0.001], 'CRUNCH': [0.001], 'CHANGE': [0.001], 'SLICE': [0.001], 'F': [0.001], 'CHURCH': [0.001], 'CHOCOLATE': [0.001]}, 'BATTERY': {nan: [0.001], 'SUN': [0.001], 'CAR': [0.001], 'RADIO': [0.001, 40], 'COMPUTER': [0.001], 'ENERGY': [0.001], 'ENGINE': [0.001], 'ELECTRICITY': [0.001], 'CHARGE': [0.001], 'FUEL': [0.001], 'CHARGER': [0.001], 'LOW': [0.001], 'IRON': [0.001], 'MOVE': [0.001], 'PHONE': [0.001], 'LIFE': [0.001], 'radio': [0.001], 'PERCENT': [0.001], 'ram': [0.001], 'POWER': [0.001]}, 'GLIDE': {nan: [0.001], 'SWING': [0.001], 'DOOR': [0.001], 'SLIFE': [0.001], 'slide': [0.001], 'CAM': [0.001], 'CHILDREN': [0.001], 'THI': [0.001], 'SLIDE': [0.001], 'line': [0.001], 'RUN': [0.001], 'SOAR': [0.001], ' SHOW': [0.001], 'TOOL': [0.001], 'SKY': [0.001], 'wind': [0.001], 'BIRD': [0.001], ' JUMP': [0.001], 'SQURIALL': [0.001], 'RAIL': [0.001], 'SQUIRRE': [0.001], 'CUT': [0.001], 'SMOOTH': [0.001], 'SURF': [0.001], 'MOVE': [0.001], 'STICK': [0.001], 'FLOAT': [0.001], 'PARAGLIDING': [0.001], 'PARA': [0.001], 'SAIL': [0.001], 'SLIP': [0.001], 'glud': [0.001], 'c': [0.001], 'hang': [0.001], 'PARAGLIDE': [0.001], 'HELICOPTER': [0.001], 'BOAT': [0.001], 'LINE': [0.001], 'KITE': [0.001], 'PARAGLIDER': [0.001], 'SNOW': [0.001], 'stock': [0.001], 'skate': [0.001], 'AIRPLANE': [0.001], 'TREE': [0.001], 'SWIFT': [0.001], 'FLY': [0.001, 45], 'b': [0.001], 'smooth': [0.001], 'HANG': [0.001, 50], 'AIR': [0.001]}}\n"
          ]
        }
      ]
    },
    {
      "cell_type": "code",
      "source": [
        "# model testing phase\n",
        "LL = 0\n",
        "mas = 1.6\n",
        "decay = 0.5\n",
        "temp = 1\n",
        "s = 1\n",
        "for condition, cue, response, rt, feedback in zip(data[data.phase == \"test\"].condition,\n",
        "                                data[data.phase == \"test\"].cue, \n",
        "                                data[data.phase == \"test\"].response, \n",
        "                                data[data.phase == \"test\"].rt, \n",
        "                                data[data.phase == \"test\"].correct):\n",
        "  # Calculate log likelihood of response- possible options are 19 random integers\n",
        "  # or correct associate\n",
        "  options = DM[cue].keys()\n",
        "  # create spreading activation additional error component given size of cue's dec mem\n",
        "  cueMem = len(DM[cue])\n",
        "  add = (mas - np.log((cueMem + 1)/2)) - (mas - np.log((cueMem + 1)/1))\n",
        "  # if error condition, add spreading activation\n",
        "  values = [(activation(DM[cue][opt], time, decay) + add) if condition == 1 else \n",
        "    activation(DM[cue][opt], time, decay) for opt in options]\n",
        "  prob = boltzmann(options, values, temp)[response]\n",
        "  print(response, \":\", prob)\n",
        "    \n",
        "  # now calculate response times:\n",
        "  if condition == 1:\n",
        "    resp_activation = activation(DM[cue][response], time, decay) + add\n",
        "  else: \n",
        "    resp_activation = activation(DM[cue][response], time, decay)\n",
        "    \n",
        "  prob_rt = rtProb(rt, resp_activation, s)\n",
        "  print(rt, \":\", prob_rt)\n",
        "\n",
        "  # Sum up the LLs\n",
        "  LL += (np.log(max(prob, 10e-10)) + np.log(max(prob_rt, 10e-10)))\n",
        "\n",
        "  # add time taken to responde\n",
        "  time += rt/1000"
      ],
      "metadata": {
        "colab": {
          "base_uri": "https://localhost:8080/"
        },
        "id": "5pseP-myJL7P",
        "outputId": "3938a620-8e1c-4b9a-fa93-03e89251a3d3"
      },
      "execution_count": 131,
      "outputs": [
        {
          "output_type": "stream",
          "name": "stdout",
          "text": [
            " ROMANCE : 0.026196178655054057\n",
            "4347.0 : 0.10499358540350652\n",
            "FOOD : 0.05881304697545754\n",
            "6643.0 : 0.10499358540350652\n",
            "SET : 0.01921851046794527\n",
            "21190.0 : 0.23781259172552724\n",
            "LENGTH : 0.06661411205502198\n",
            "4883.0 : 0.10499358540350652\n",
            "MOUNTAIN : 0.046202678862480515\n",
            "5486.0 : 0.12567665063718317\n",
            "COMPUTER : 0.04760540569517234\n",
            "11181.0 : 0.1116485398880558\n",
            "CHEMISTRY : 0.18248982445306108\n",
            "3558.0 : 0.10499358540350652\n",
            "AGENT : 0.03224548708249142\n",
            "9548.0 : 0.10499358540350652\n",
            "RUN : 0.03702409698661163\n",
            "2925.0 : 0.10499358540350652\n",
            "MEDICINE : 0.05964510555423817\n",
            "23782.0 : 0.2417521362684043\n",
            "STOP : 0.041640609402490904\n",
            "8305.0 : 0.10499358540350652\n",
            "JOB : 0.015825189750031263\n",
            "30862.0 : 0.24989590562229985\n",
            "TASTY : 0.03223945649853816\n",
            "7778.0 : 0.10499358540350652\n",
            "MATH : 0.04994775361963636\n",
            "17232.0 : 0.1559482177800677\n",
            "RED : 0.08867384019288146\n",
            "1826.0 : 0.10499358540350652\n",
            "MEET : 0.04602674509044879\n",
            "6929.0 : 0.16378218370563144\n",
            "LEAVE : 0.07489062303869433\n",
            "10464.0 : 0.16378218370563144\n",
            "SPANISH : 0.023208369763501033\n",
            "12039.0 : 0.17945257075272036\n",
            "VIEW : 0.01813281097792455\n",
            "28541.0 : 0.24906522729585062\n",
            "FAMILY : 0.14447815244115747\n",
            "4192.0 : 0.10499358540350652\n",
            "HEIGHT : 0.054205970971121446\n",
            "8411.0 : 0.20210369274054713\n",
            "SEE : 0.026281864748921628\n",
            "5055.0 : 0.10499358540350652\n",
            "BOAT : 0.0384180194286912\n",
            "6901.0 : 0.10499358540350652\n",
            "ANALYZE : 0.0676759496489714\n",
            "7695.0 : 0.11854874717253096\n",
            "BLOCK : 0.03396568703515183\n",
            "2348.0 : 0.10499358540350652\n",
            "SKY : 0.05870100850555918\n",
            "3454.0 : 0.10499358540350652\n",
            "DESERT : 0.04941738052929163\n",
            "2758.0 : 0.10499358540350652\n",
            "WASH : 0.04753181188330713\n",
            "18367.0 : 0.16378218370563144\n",
            "TAKE : 0.06178500710090774\n",
            "4585.0 : 0.10499358540350652\n",
            "MUSIC : 0.05601551511931856\n",
            "3888.0 : 0.10499358540350652\n",
            "ROOM : 0.05866988987514688\n",
            "2627.0 : 0.10499358540350652\n",
            "HOUSE : 0.02619718486001987\n",
            "14012.0 : 0.1947505116502349\n",
            "SCARY : 0.06503679719473147\n",
            "1885.0 : 0.10499358540350652\n",
            "COOKIE : 0.13606563943711875\n",
            "1948.0 : 0.10499358540350652\n",
            "NOISE : 0.03735195569008709\n",
            "3684.0 : 0.10499358540350652\n",
            "BUILDING : 0.05436023272035626\n",
            "7943.0 : 0.18717843856714064\n",
            "TRUTH : 0.03838708331822833\n",
            "7438.0 : 0.10499358540350652\n",
            "OCEAN : 0.09561751597564185\n",
            "3091.0 : 0.10499358540350652\n",
            "BEING : 0.026286865249178254\n",
            "1697.0 : 0.10499358540350652\n",
            "BOX : 0.04259474738796561\n",
            "2214.0 : 0.10499358540350652\n",
            "HOUSE : 0.03991472844732784\n",
            "20942.0 : 0.17945257075272036\n",
            "DIRT : 0.13657295936432184\n",
            "4592.0 : 0.10499358540350652\n",
            "LATER : 0.016927011569732767\n",
            "15960.0 : 0.20917039455317085\n",
            "WEST : 0.25550465722287075\n",
            "2961.0 : 0.10499358540350652\n",
            "YEARLY : 0.04532611696295091\n",
            "3716.0 : 0.10499358540350652\n",
            "LEAVES : 0.05436418452543722\n",
            "2620.0 : 0.10499358540350652\n",
            "DRINK : 0.038364920293171886\n",
            "4526.0 : 0.10499358540350652\n",
            "ROOM : 0.027699940234777218\n",
            "3824.0 : 0.10499358540350652\n",
            "TEACHER : 0.018825267180516483\n",
            "49446.0 : 0.23781259172552724\n",
            "UNIQUE : 0.15822333535111666\n",
            "4850.0 : 0.10499358540350652\n",
            "VILLAGE : 0.035624262724962386\n",
            "2427.0 : 0.10499358540350652\n",
            "JUNGLE : 0.036935823793064954\n",
            "3885.0 : 0.10499358540350652\n",
            "ROAD : 0.17199409851005373\n",
            "3542.0 : 0.10499358540350652\n",
            "HANG : 0.03785326917399178\n",
            "5982.0 : 0.13301012105093607\n",
            "HELPER : 0.22910187539503724\n",
            "5682.0 : 0.10499358540350652\n",
            "LION : 0.06394305174636362\n",
            "1756.0 : 0.10499358540350652\n",
            "LOW : 0.08651114352244138\n",
            "7121.0 : 0.10499358540350652\n",
            "CAP : 0.258039736100102\n",
            "1633.0 : 0.10499358540350652\n",
            "CHICKEN : 0.1596668979882308\n",
            "3386.0 : 0.10499358540350652\n",
            "STATE : 0.05717737056559494\n",
            "1610.0 : 0.10499358540350652\n"
          ]
        }
      ]
    }
  ]
}