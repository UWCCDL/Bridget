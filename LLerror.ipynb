{
 "cells": [
  {
   "cell_type": "code",
   "execution_count": 8,
   "metadata": {
    "id": "J-4TjGGtFT6R"
   },
   "outputs": [],
   "source": [
    "import numpy as np\n",
    "import scipy.optimize as opt\n",
    "import matplotlib.pyplot as plt\n",
    "import pandas as pd\n",
    "from matplotlib.ticker import (MultipleLocator, AutoMinorLocator)\n",
    "from tqdm.notebook import tqdm\n",
    "import os\n",
    "import seaborn as sns\n",
    "import random\n",
    "import math\n",
    "import scipy as sp\n",
    "import itertools\n",
    "sns.set(style=\"whitegrid\")"
   ]
  },
  {
   "cell_type": "markdown",
   "metadata": {
    "id": "E53BwHW1Gk9l"
   },
   "source": [
    "Load and check data:"
   ]
  },
  {
   "cell_type": "code",
   "execution_count": 9,
   "metadata": {
    "id": "RAxDu0zYFedU"
   },
   "outputs": [],
   "source": [
    "alldata = pd.read_csv(\"data/error_data.csv\")"
   ]
  },
  {
   "cell_type": "code",
   "execution_count": 10,
   "metadata": {
    "colab": {
     "base_uri": "https://localhost:8080/",
     "height": 206
    },
    "id": "Dgj051G4GVUO",
    "outputId": "66797014-2896-4c3b-cd11-02bbcdd8d959"
   },
   "outputs": [
    {
     "data": {
      "text/html": [
       "<div>\n",
       "<style scoped>\n",
       "    .dataframe tbody tr th:only-of-type {\n",
       "        vertical-align: middle;\n",
       "    }\n",
       "\n",
       "    .dataframe tbody tr th {\n",
       "        vertical-align: top;\n",
       "    }\n",
       "\n",
       "    .dataframe thead th {\n",
       "        text-align: right;\n",
       "    }\n",
       "</style>\n",
       "<table border=\"1\" class=\"dataframe\">\n",
       "  <thead>\n",
       "    <tr style=\"text-align: right;\">\n",
       "      <th></th>\n",
       "      <th>participant</th>\n",
       "      <th>phase</th>\n",
       "      <th>condition</th>\n",
       "      <th>cue</th>\n",
       "      <th>target</th>\n",
       "      <th>response</th>\n",
       "      <th>rt</th>\n",
       "      <th>correct</th>\n",
       "      <th>Column1</th>\n",
       "      <th>Column2</th>\n",
       "    </tr>\n",
       "  </thead>\n",
       "  <tbody>\n",
       "    <tr>\n",
       "      <th>0</th>\n",
       "      <td>1001.0</td>\n",
       "      <td>learn</td>\n",
       "      <td>1.0</td>\n",
       "      <td>EMPIRE</td>\n",
       "      <td>STATE</td>\n",
       "      <td>KING</td>\n",
       "      <td>3457.0</td>\n",
       "      <td>2.0</td>\n",
       "      <td>NaN</td>\n",
       "      <td>NaN</td>\n",
       "    </tr>\n",
       "    <tr>\n",
       "      <th>1</th>\n",
       "      <td>1001.0</td>\n",
       "      <td>learn</td>\n",
       "      <td>1.0</td>\n",
       "      <td>CHUNK</td>\n",
       "      <td>BLOCK</td>\n",
       "      <td>HUNK</td>\n",
       "      <td>3361.0</td>\n",
       "      <td>2.0</td>\n",
       "      <td>NaN</td>\n",
       "      <td>NaN</td>\n",
       "    </tr>\n",
       "    <tr>\n",
       "      <th>2</th>\n",
       "      <td>1001.0</td>\n",
       "      <td>learn</td>\n",
       "      <td>1.0</td>\n",
       "      <td>GLIDE</td>\n",
       "      <td>HANG</td>\n",
       "      <td>FLY</td>\n",
       "      <td>2177.0</td>\n",
       "      <td>2.0</td>\n",
       "      <td>NaN</td>\n",
       "      <td>NaN</td>\n",
       "    </tr>\n",
       "    <tr>\n",
       "      <th>3</th>\n",
       "      <td>1001.0</td>\n",
       "      <td>learn</td>\n",
       "      <td>1.0</td>\n",
       "      <td>SAIL</td>\n",
       "      <td>OCEAN</td>\n",
       "      <td>BOAT</td>\n",
       "      <td>2341.0</td>\n",
       "      <td>2.0</td>\n",
       "      <td>NaN</td>\n",
       "      <td>NaN</td>\n",
       "    </tr>\n",
       "    <tr>\n",
       "      <th>4</th>\n",
       "      <td>1001.0</td>\n",
       "      <td>learn</td>\n",
       "      <td>1.0</td>\n",
       "      <td>ELEVATOR</td>\n",
       "      <td>BUILDING</td>\n",
       "      <td>UP</td>\n",
       "      <td>3464.0</td>\n",
       "      <td>2.0</td>\n",
       "      <td>NaN</td>\n",
       "      <td>NaN</td>\n",
       "    </tr>\n",
       "  </tbody>\n",
       "</table>\n",
       "</div>"
      ],
      "text/plain": [
       "   participant  phase  condition       cue    target response      rt  \\\n",
       "0       1001.0  learn        1.0    EMPIRE     STATE     KING  3457.0   \n",
       "1       1001.0  learn        1.0     CHUNK     BLOCK     HUNK  3361.0   \n",
       "2       1001.0  learn        1.0     GLIDE      HANG      FLY  2177.0   \n",
       "3       1001.0  learn        1.0      SAIL     OCEAN     BOAT  2341.0   \n",
       "4       1001.0  learn        1.0  ELEVATOR  BUILDING       UP  3464.0   \n",
       "\n",
       "   correct  Column1 Column2  \n",
       "0      2.0      NaN     NaN  \n",
       "1      2.0      NaN     NaN  \n",
       "2      2.0      NaN     NaN  \n",
       "3      2.0      NaN     NaN  \n",
       "4      2.0      NaN     NaN  "
      ]
     },
     "execution_count": 10,
     "metadata": {},
     "output_type": "execute_result"
    }
   ],
   "source": [
    "alldata.head()"
   ]
  },
  {
   "cell_type": "code",
   "execution_count": 11,
   "metadata": {
    "colab": {
     "base_uri": "https://localhost:8080/"
    },
    "id": "hV8XwZcBGg_G",
    "outputId": "b570f05e-02e5-4d81-8a5f-c0dd54dacb34"
   },
   "outputs": [
    {
     "data": {
      "text/plain": [
       "(5670, 10)"
      ]
     },
     "execution_count": 11,
     "metadata": {},
     "output_type": "execute_result"
    }
   ],
   "source": [
    "alldata.shape"
   ]
  },
  {
   "cell_type": "code",
   "execution_count": 12,
   "metadata": {},
   "outputs": [
    {
     "data": {
      "text/plain": [
       "(5490, 10)"
      ]
     },
     "execution_count": 12,
     "metadata": {},
     "output_type": "execute_result"
    }
   ],
   "source": [
    "# remove rows with all nan\n",
    "alldata = alldata.dropna(how='all')\n",
    "alldata.shape"
   ]
  },
  {
   "cell_type": "markdown",
   "metadata": {
    "id": "uLjxKMVoGub_"
   },
   "source": [
    "# Log likelihood"
   ]
  },
  {
   "cell_type": "markdown",
   "metadata": {
    "id": "UMdZ1ukRG4Y-"
   },
   "source": [
    "Implement ACT-R code:"
   ]
  },
  {
   "cell_type": "code",
   "execution_count": 27,
   "metadata": {
    "colab": {
     "base_uri": "https://localhost:8080/"
    },
    "id": "zOnwozhTGttJ",
    "outputId": "3eb02b94-426d-443b-ade5-efef296196f1"
   },
   "outputs": [
    {
     "data": {
      "text/plain": [
       "-0.5949230018850301"
      ]
     },
     "execution_count": 27,
     "metadata": {},
     "output_type": "execute_result"
    }
   ],
   "source": [
    "def activation(traces, time, decay):\n",
    "    \"\"\"Computes the activation of a memory given its history of retrievals\"\"\"\n",
    "    ftraces = [x for x in traces if x < time]\n",
    "    decay = max(0, decay)  # Allows no positive decay rates in equation \n",
    "    decay - min(decay, 5)\n",
    "    times = time - np.array(ftraces)\n",
    "    odds = times ** -decay\n",
    "    return np.log(np.sum(odds))\n",
    "\n",
    "activation([5, 10, 15], 40, 0.5)"
   ]
  },
  {
   "cell_type": "code",
   "execution_count": 28,
   "metadata": {
    "colab": {
     "base_uri": "https://localhost:8080/",
     "height": 458
    },
    "id": "9O1NxeppG71j",
    "outputId": "fee85f55-f305-451d-9132-40078e459259"
   },
   "outputs": [
    {
     "data": {
      "image/png": "[encoded data removed]",
      "text/plain": [
       "<Figure size 640x480 with 1 Axes>"
      ]
     },
     "metadata": {},
     "output_type": "display_data"
    }
   ],
   "source": [
    "time = np.linspace(0.1, 100, 100)\n",
    "traces = [0.001, 5, 25]\n",
    "y = []\n",
    "for t in time:\n",
    "    act = activation(traces, t, 0.5)\n",
    "    y += [act]\n",
    "    \n",
    "plt.plot(time, y)\n",
    "plt.xlabel(\"Time\")\n",
    "plt.ylabel(\"Activation\")\n",
    "plt.show()"
   ]
  },
  {
   "cell_type": "markdown",
   "metadata": {
    "id": "F5O-Ma2bHHCe"
   },
   "source": [
    "Create loglikelihood function for the model"
   ]
  },
  {
   "cell_type": "code",
   "execution_count": 29,
   "metadata": {
    "id": "4nYd7AWEHC6a"
   },
   "outputs": [],
   "source": [
    "def boltzmann(options, values, temperature):\n",
    "    \"\"\"Returns a Boltzmann distribution of the probabilities of each option\"\"\"\n",
    "    temperature = max(temperature, 0.01) \n",
    "    vals = np.array(values)/temperature\n",
    "    #bvals = np.exp(vals)/np.sum(np.exp(vals))\n",
    "    bvals = np.exp(vals - np.max(vals)) / np.exp(vals - np.max(vals)).sum()\n",
    "    return dict(zip(options, bvals))"
   ]
  },
  {
   "cell_type": "code",
   "execution_count": 30,
   "metadata": {
    "colab": {
     "base_uri": "https://localhost:8080/"
    },
    "id": "infLxnLdIU7o",
    "outputId": "a927ebd0-ca38-461a-f4fb-b47c1390d9a4"
   },
   "outputs": [
    {
     "data": {
      "text/plain": [
       "{2: 0.574442516811659, 3: 0.425557483188341}"
      ]
     },
     "execution_count": 30,
     "metadata": {},
     "output_type": "execute_result"
    }
   ],
   "source": [
    "boltzmann([2,3], [1, 0.7], 1)"
   ]
  },
  {
   "cell_type": "markdown",
   "metadata": {
    "id": "NaK3W3zCI63e"
   },
   "source": [
    "Create a loglikelihood function for the elaborative model, each error item is given additional spreading activation given the max association (mas) parameter"
   ]
  },
  {
   "cell_type": "markdown",
   "metadata": {
    "id": "0hWua1X6GL_h"
   },
   "source": [
    "### Complete *elaborative* model"
   ]
  },
  {
   "cell_type": "code",
   "execution_count": 31,
   "metadata": {
    "id": "KMLIBhGdIteL"
   },
   "outputs": [],
   "source": [
    "def LLelab(alldata, ppt, decay, temp, mas=1.6):\n",
    "    \"\"\"For each trial, calculate the probability of that response, sum the log likelihoods, and update the values\"\"\"\n",
    "    data = alldata[alldata.participant == ppt]\n",
    "\n",
    "    # create a list of error items\n",
    "    errors = data[data.condition == 1].cue.tolist()\n",
    "    # create a list of study items\n",
    "    study = data[data.condition == 2].cue.tolist()\n",
    "    # since we don't have data for when study items were presented in each participant's learning phase\n",
    "    # we will use the presentation of the error items and interleaven the study items in between\n",
    "    pos = 1\n",
    "    present = study[:]\n",
    "    for word in errors:\n",
    "        present.insert(pos, word)\n",
    "        pos += 2\n",
    "\n",
    "    # Create dict with word pairs\n",
    "    pairs = {}\n",
    "    for cue, target in zip(data[data.phase == \"test\"].cue,data[data.phase == \"test\"].target):\n",
    "      pairs[cue] = target\n",
    "    # also create a dict with errors\n",
    "    errorResp = dict()\n",
    "    for cue,response in zip(data[data.phase == \"learn\"].cue,data[data.phase == \"learn\"].response):\n",
    "      errorResp[cue] = response\n",
    "\n",
    "    # model learning phase, encode a single trace for each item: (idk what to set activation at)\n",
    "    DM = dict()\n",
    "    # for DM can we make a dictionary of dictionaries where big keys are cues, values are dictionary of target/\n",
    "    # possible responses and their activation\n",
    "    time = 1\n",
    "    for cue in present:\n",
    "      littleDM = {}\n",
    "      # make a set of all reponses given to a certain cue to be \"vocab for that cue\"\n",
    "      for response in set(alldata[alldata.cue == cue].response):\n",
    "        littleDM[response] = [0.001]\n",
    "      # add retrieval of error for error items\n",
    "      if cue in errorResp.keys():\n",
    "        error = errorResp[cue]\n",
    "        time +=5\n",
    "        littleDM[error] = [0.001, time]\n",
    "      # overwrite smaller activ of correct target to show task learning\n",
    "        time +=5\n",
    "        littleDM[pairs[cue]] = [0.001, time]\n",
    "      else:\n",
    "        time += 10\n",
    "        littleDM[pairs[cue]] = [0.001, time]\n",
    "      DM[cue] = littleDM\n",
    "    time += 300 # time for distractor phase\n",
    "\n",
    "\n",
    "    # model testing phase\n",
    "    LL = 0\n",
    "    for condition, cue, response, rt, feedback in zip(data[data.phase == \"test\"].condition,\n",
    "                                   data[data.phase == \"test\"].cue, \n",
    "                                   data[data.phase == \"test\"].response, \n",
    "                                   data[data.phase == \"test\"].rt, \n",
    "                                   data[data.phase == \"test\"].correct):\n",
    "      # Calculate log likelihood of response- possible options are 19 random integers\n",
    "      # or correct associate\n",
    "      options = DM[cue].keys()\n",
    "      # create spreading activation additional error component given size of cue's dec mem\n",
    "      cueMem = len(DM[cue])\n",
    "      add = (mas - np.log((cueMem + 1)/2)) - (mas - np.log((cueMem + 1)/1))\n",
    "      # if error condition, add spreading activation\n",
    "      values = [activation(DM[cue][opt], time, decay) if condition == 1 else \n",
    "       (activation(DM[cue][opt], time, decay) + add) for opt in options]\n",
    "      prob = boltzmann(options, values, temp)[response]\n",
    "    \n",
    "      # Sum up the LLs\n",
    "      LL += np.log(max(prob, 10e-10))\n",
    "\n",
    "       # add time taken to responde\n",
    "      time += rt/1000\n",
    "    \n",
    "    return LL"
   ]
  },
  {
   "cell_type": "code",
   "execution_count": 32,
   "metadata": {
    "colab": {
     "base_uri": "https://localhost:8080/"
    },
    "id": "yahI4_8z7t5o",
    "outputId": "0db50f1c-5eb6-4b7e-e78e-411638a39f76"
   },
   "outputs": [
    {
     "data": {
      "text/plain": [
       "-172.73898573437492"
      ]
     },
     "execution_count": 32,
     "metadata": {},
     "output_type": "execute_result"
    }
   ],
   "source": [
    "LLelab(alldata, 1001, 0.5, 1, 1.6)"
   ]
  },
  {
   "cell_type": "code",
   "execution_count": 33,
   "metadata": {
    "colab": {
     "base_uri": "https://localhost:8080/"
    },
    "id": "X9bwBrAI8JLq",
    "outputId": "1a837c88-4964-47b8-ad3f-a758c6c72376"
   },
   "outputs": [
    {
     "data": {
      "text/plain": [
       "-172.73898573437492"
      ]
     },
     "execution_count": 33,
     "metadata": {},
     "output_type": "execute_result"
    }
   ],
   "source": [
    "LLelab(alldata, 1001, 0.5, 1, 4)"
   ]
  },
  {
   "cell_type": "markdown",
   "metadata": {
    "id": "bft75J6OTfGn"
   },
   "source": [
    "Create a loglikelihood function of the mediator model, where there are two routes to make a decision: To remember something that worked and to remember something that did not."
   ]
  },
  {
   "cell_type": "code",
   "execution_count": 34,
   "metadata": {
    "id": "6oDf4YA7T3To"
   },
   "outputs": [],
   "source": [
    "def LLmed(data, decay, temp):\n",
    "    \"\"\"For each trial, calculate the probability of that response, sum the log likelihoods, and update the values\"\"\"\n",
    "    # create a list of error items\n",
    "    errors = data[data.phase == \"learn\"].cue.tolist()\n",
    "    # create a list of study items\n",
    "    study = data[data.condition == 2].cue.tolist()\n",
    "    pos = 1\n",
    "    present = errors[:]\n",
    "    for i in range(len(errors)):\n",
    "      word = study[i]\n",
    "      present.insert(pos, word)\n",
    "      pos += 2\n",
    "\n",
    "    # Create dict with word pairs\n",
    "    pairs = {}\n",
    "    for cue, target in zip(data[data.phase == \"test\"].cue,data[data.phase == \"test\"].target):\n",
    "      pairs[cue] = target\n",
    "    # also create a dict with errors\n",
    "    errorResp = dict()\n",
    "    for cue,response in zip(data[data.phase == \"learn\"].cue,data[data.phase == \"learn\"].response):\n",
    "      errorResp[cue] = response\n",
    "\n",
    "    # model learning phase, encode a single trace for each item: (idk what to set activation at)\n",
    "    DM = dict()\n",
    "    # for DM can we make a dictionary of dictionaries where big keys are cues, values are dictionary of target/\n",
    "    # possible responses and their activation\n",
    "    time = 1\n",
    "    for cue in present:\n",
    "      littleDM = {}\n",
    "      # make a set of all reponses given to a certain cue to be \"vocab for that cue\"\n",
    "      for response in set(alldata[alldata.cue == cue].response):\n",
    "        littleDM[response] = [0.001]\n",
    "      # add retrieval of error for error items\n",
    "      if cue in errorResp.keys():\n",
    "        error = errorResp[cue]\n",
    "        time +=5\n",
    "        littleDM[error] = [0.001, time]\n",
    "      # overwrite smaller activ of correct target to show task learning\n",
    "        time +=5\n",
    "        littleDM[pairs[cue]] = [0.001, time]\n",
    "      else:\n",
    "        time += 10\n",
    "        littleDM[pairs[cue]] = [0.001, time]\n",
    "      DM[cue] = littleDM\n",
    "    time += 300 # time for distractor phase\n",
    "\n",
    "    # model testing phase\n",
    "    LL = 0\n",
    "    \n",
    "    for condition, cue, response, rt, feedback in zip(data[data.phase == \"test\"].condition,\n",
    "                                   data[data.phase == \"test\"].cue, \n",
    "                                   data[data.phase == \"test\"].response, \n",
    "                                   data[data.phase == \"test\"].rt, \n",
    "                                   data[data.phase == \"test\"].correct):\n",
    "        # Calculate log likelihood of response- possible options are 19 random integers\n",
    "        # or correct associate\n",
    "        options = DM[cue].keys()\n",
    "        # create spreading activation additional error component given size of cue's dec mem\n",
    "        cueMem = len(DM[cue])\n",
    "        # if error condition, add spreading activation\n",
    "        values = [activation(DM[cue][opt], time, decay) for opt in options]\n",
    "        prob1 = boltzmann(options, values, temp)[response]\n",
    "        \n",
    "        # probability of retrieving error memory\n",
    "        if condition == 1:\n",
    "          error = errorResp[cue]\n",
    "          prob2 = boltzmann(options, values, temp)[error]\n",
    "        else:\n",
    "          prob2 = 0\n",
    "        \n",
    "        # Sum up the LLs\n",
    "        LL += np.log(max(prob1 + prob2, 10e-10))\n",
    "        \n",
    "         # add time taken to responde\n",
    "        time += rt/1000\n",
    "        \n",
    "    return LL"
   ]
  },
  {
   "cell_type": "code",
   "execution_count": 35,
   "metadata": {
    "colab": {
     "base_uri": "https://localhost:8080/"
    },
    "id": "mmmyXeOdETlj",
    "outputId": "20d22e56-5c0f-43ad-b5bf-26d13cdfd41c"
   },
   "outputs": [
    {
     "data": {
      "text/plain": [
       "-148.37730418310719"
      ]
     },
     "execution_count": 35,
     "metadata": {},
     "output_type": "execute_result"
    }
   ],
   "source": [
    "LLmed(alldata[alldata.participant == 1001], 0.5, 1)"
   ]
  },
  {
   "cell_type": "code",
   "execution_count": 36,
   "metadata": {
    "colab": {
     "base_uri": "https://localhost:8080/"
    },
    "id": "RGuZGMVvExA5",
    "outputId": "10d6b9b4-d0ec-4a81-b06f-1574bcd40bb8"
   },
   "outputs": [
    {
     "data": {
      "text/plain": [
       "-150.8797807573661"
      ]
     },
     "execution_count": 36,
     "metadata": {},
     "output_type": "execute_result"
    }
   ],
   "source": [
    "LLmed(alldata[alldata.participant == 1002], 0.5, 1)"
   ]
  },
  {
   "cell_type": "markdown",
   "metadata": {
    "id": "AMZivWprDOAT"
   },
   "source": [
    "# Create RT models"
   ]
  },
  {
   "cell_type": "code",
   "execution_count": 37,
   "metadata": {
    "id": "AickrN7GDlaO"
   },
   "outputs": [],
   "source": [
    "def responsetime(activation, ter, F=1, f=1):\n",
    "    return ter + F * np.exp(-f * activation)"
   ]
  },
  {
   "cell_type": "code",
   "execution_count": 38,
   "metadata": {
    "colab": {
     "base_uri": "https://localhost:8080/",
     "height": 458
    },
    "id": "_A-v7qV7DmXr",
    "outputId": "f8826f75-85d8-453a-c050-7fa304448f72"
   },
   "outputs": [
    {
     "data": {
      "image/png": "[encoded data removed]",
      "text/plain": [
       "<Figure size 640x480 with 1 Axes>"
      ]
     },
     "metadata": {},
     "output_type": "display_data"
    }
   ],
   "source": [
    "noise = np.linspace(-2, 2)\n",
    "dist = sp.stats.logistic(0, 0.2)\n",
    "plt.plot(noise, dist.pdf(noise))\n",
    "plt.xlabel(\"Noise $s$\")\n",
    "plt.ylabel(\"Probability $P$\")\n",
    "plt.show()"
   ]
  },
  {
   "cell_type": "code",
   "execution_count": 39,
   "metadata": {
    "colab": {
     "base_uri": "https://localhost:8080/",
     "height": 480
    },
    "id": "7LaZcjs-D-hL",
    "outputId": "26f7a220-a246-49fd-caf6-d5bb33c39f15"
   },
   "outputs": [
    {
     "data": {
      "image/png": "[encoded data removed]",
      "text/plain": [
       "<Figure size 640x480 with 1 Axes>"
      ]
     },
     "metadata": {},
     "output_type": "display_data"
    }
   ],
   "source": [
    "rts = [responsetime((0.5 - x), 1) for x in noise]\n",
    "plt.plot(rts, dist.pdf(noise))\n",
    "plt.xlabel(\"Response Time (s)\")\n",
    "plt.ylabel(\"Probability $P$\")\n",
    "plt.title(\"RT distributions when $s$ = 0.2\")\n",
    "plt.show()"
   ]
  },
  {
   "cell_type": "code",
   "execution_count": 40,
   "metadata": {
    "colab": {
     "base_uri": "https://localhost:8080/",
     "height": 480
    },
    "id": "nTAIDWYZEC5J",
    "outputId": "8fdb9fc1-fe7d-4e77-c0e1-225139798c2b"
   },
   "outputs": [
    {
     "data": {
      "image/png": "[encoded data removed]",
      "text/plain": [
       "<Figure size 640x480 with 1 Axes>"
      ]
     },
     "metadata": {},
     "output_type": "display_data"
    }
   ],
   "source": [
    "for s in np.linspace(0.2, 0.8, 7):\n",
    "    dist = sp.stats.logistic(0, (math.sqrt((math.pi**2)*s)/3))\n",
    "    rts = [responsetime((0.5 - x), 1) for x in noise]\n",
    "    plt.plot(rts, dist.pdf(noise))\n",
    "plt.legend([\"$s$ = %.1f\" % (x,) for x in np.linspace(0.2, 0.8, 7)])\n",
    "plt.xlabel(\"Response Time (s)\")\n",
    "plt.ylabel(\"Probability $P$\")\n",
    "plt.title(\"RT distributions for different levels of noise $s$\")\n",
    "plt.show()"
   ]
  },
  {
   "cell_type": "markdown",
   "metadata": {
    "id": "sZv106szPBcS"
   },
   "source": [
    "## Updated noise SD added here"
   ]
  },
  {
   "cell_type": "code",
   "execution_count": 41,
   "metadata": {
    "id": "s0BKpqZQEGJ_"
   },
   "outputs": [],
   "source": [
    "from urllib.request import proxy_bypass\n",
    "def rtProb(activation, s, ter, rt=None):\n",
    "  \"\"\"Takes one parameter for noise, s, and outputs a probability distribution for response times\"\"\"\n",
    "  noise = np.linspace(-2, 2)\n",
    "  dist = sp.stats.logistic(0, (math.sqrt((math.pi**2)*s)/3))\n",
    "  rts = [responsetime((activation - x), ter) for x in noise]\n",
    "  prob = dist.pdf(noise)\n",
    "  rtprob = {rts[i]:prob[i]for i in range(len(noise))}\n",
    "  if rt:\n",
    "    val = min(rtprob.keys(), key=lambda x: abs(x - (rt/1000)))\n",
    "    return rtprob[val]\n",
    "  else:\n",
    "    return rtprob"
   ]
  },
  {
   "cell_type": "code",
   "execution_count": 42,
   "metadata": {
    "colab": {
     "base_uri": "https://localhost:8080/"
    },
    "id": "JKKNDiaFjwfb",
    "outputId": "ce930c89-ddf9-43be-8b4e-71d8a8b154ce"
   },
   "outputs": [
    {
     "data": {
      "text/plain": [
       "0.23864176792866348"
      ]
     },
     "execution_count": 42,
     "metadata": {},
     "output_type": "execute_result"
    }
   ],
   "source": [
    "rtProb(3, 1, 1, rt = 1050)"
   ]
  },
  {
   "cell_type": "markdown",
   "metadata": {
    "id": "dBBYG2u8tGz3"
   },
   "source": [
    "## Elaborative Model"
   ]
  },
  {
   "cell_type": "code",
   "execution_count": 43,
   "metadata": {
    "id": "DAmc6sa3DMuC"
   },
   "outputs": [],
   "source": [
    "def LLelabRT(alldata, decay, temp, ter, ppt='sim', mas = 1.6):\n",
    "    \"\"\"For each trial, calculate the probability of that response, sum the log likelihoods, and update the values\"\"\"\n",
    "    data = alldata[alldata.participant == ppt]\n",
    "\n",
    "    # create a list of error items\n",
    "    errors = data[data.condition == 1].cue.tolist()\n",
    "    # create a list of study items\n",
    "    study = data[data.condition == 2].cue.tolist()\n",
    "    pos = 1\n",
    "    present = errors[:]\n",
    "    present = study[:]\n",
    "\n",
    "    for word in errors:\n",
    "        present.insert(pos, word)\n",
    "        pos += 2\n",
    "\n",
    "    # Create dict with word pairs\n",
    "    pairs = {}\n",
    "    for cue, target in zip(data[data.phase == \"test\"].cue,data[data.phase == \"test\"].target):\n",
    "      pairs[cue] = target\n",
    "    # also create a dict with errors\n",
    "    errorResp = dict()\n",
    "    for cue,response in zip(data[data.phase == \"learn\"].cue,data[data.phase == \"learn\"].response):\n",
    "      errorResp[cue] = response\n",
    "\n",
    "    # model learning phase, encode a single trace for each item: (idk what to set activation at)\n",
    "    DM = dict()\n",
    "    # for DM can we make a dictionary of dictionaries where big keys are cues, values are dictionary of target/\n",
    "    # possible responses and their activation\n",
    "    time = 1\n",
    "    for cue in present:\n",
    "      littleDM = {}\n",
    "      # make a set of all reponses given to a certain cue to be \"vocab for that cue\"\n",
    "      for response in set(alldata[alldata.cue == cue].response):\n",
    "        littleDM[response] = [0.001]\n",
    "      # add retrieval of error for error items\n",
    "      if cue in errorResp.keys():\n",
    "        error = errorResp[cue]\n",
    "        time +=5\n",
    "        littleDM[error] = [0.001, time]\n",
    "      # overwrite smaller activ of correct target to show task learning\n",
    "        time +=5\n",
    "        littleDM[pairs[cue]] = [0.001, time]\n",
    "      else:\n",
    "        time += 10\n",
    "        littleDM[pairs[cue]] = [0.001, time]\n",
    "      DM[cue] = littleDM\n",
    "    time += 300 # time for distractor phase\n",
    "\n",
    "\n",
    "    # model testing phase\n",
    "    LL = 0\n",
    "    for condition, cue, response, rt, feedback in zip(data[data.phase == \"test\"].condition,\n",
    "                                   data[data.phase == \"test\"].cue, \n",
    "                                   data[data.phase == \"test\"].response, \n",
    "                                   data[data.phase == \"test\"].rt, \n",
    "                                   data[data.phase == \"test\"].correct):\n",
    "      # Calculate log likelihood of response- possible options are 19 random integers\n",
    "      # or correct associate\n",
    "      options = DM[cue].keys()\n",
    "      # create spreading activation additional error component given size of cue's dec mem\n",
    "      cueMem = len(DM[cue])\n",
    "      add = (mas - np.log((cueMem + 1)/2)) - (mas - np.log((cueMem + 1)/1))\n",
    "      # if error condition, add spreading activation\n",
    "      values = [(activation(DM[cue][opt], time, decay) + add) if condition == 1 else \n",
    "       activation(DM[cue][opt], time, decay) for opt in options]\n",
    "      prob = boltzmann(options, values, temp)[response]\n",
    "    \n",
    "      # now calculate response times:\n",
    "      if condition == 1:\n",
    "        resp_activation = activation(DM[cue][response], time, decay) + add\n",
    "      else: \n",
    "        resp_activation = activation(DM[cue][response], time, decay)\n",
    "      \n",
    "      prob_rt = rtProb(resp_activation, temp, ter, rt=rt)\n",
    "\n",
    "      # Sum up the LLs\n",
    "      LL += (np.log(max(prob, 10e-10)) + np.log(max(prob_rt, 10e-10)))\n",
    "\n",
    "       # add time taken to responde\n",
    "      time += rt/1000\n",
    "    \n",
    "    return LL"
   ]
  },
  {
   "cell_type": "code",
   "execution_count": 44,
   "metadata": {
    "colab": {
     "base_uri": "https://localhost:8080/"
    },
    "id": "od62A0A0siuO",
    "outputId": "82fe234d-237d-4052-b373-0a1f4a08b03b"
   },
   "outputs": [
    {
     "data": {
      "text/plain": [
       "-285.98920769327106"
      ]
     },
     "execution_count": 44,
     "metadata": {},
     "output_type": "execute_result"
    }
   ],
   "source": [
    "LLelabRT(alldata, 0.5, 1, 1, ppt=1001)"
   ]
  },
  {
   "cell_type": "code",
   "execution_count": 45,
   "metadata": {
    "colab": {
     "base_uri": "https://localhost:8080/"
    },
    "id": "c26HJ-h9E6AJ",
    "outputId": "49b9dfb8-3cff-4833-bac5-896f1ff8ee8c"
   },
   "outputs": [
    {
     "data": {
      "text/plain": [
       "-298.55672775778953"
      ]
     },
     "execution_count": 45,
     "metadata": {},
     "output_type": "execute_result"
    }
   ],
   "source": [
    "LLelabRT(alldata, 0.5, 1, 1, ppt=1002)"
   ]
  },
  {
   "cell_type": "markdown",
   "metadata": {
    "id": "k94iDUxOtKy_"
   },
   "source": [
    "## Mediator Model"
   ]
  },
  {
   "cell_type": "markdown",
   "metadata": {
    "id": "ZF0EEFvUPNWT"
   },
   "source": [
    "## Updated noise SD *also* added here"
   ]
  },
  {
   "cell_type": "code",
   "execution_count": 46,
   "metadata": {
    "id": "cappHS-GwJ2C"
   },
   "outputs": [],
   "source": [
    "from urllib.request import proxy_bypass\n",
    "def rtProb2(resp_activation, error_activation, condition, s, ter, rt=None):\n",
    "  \"\"\"Takes one parameter for noise, s, and outputs a probability distribution for response times\"\"\"\n",
    "  noise = np.linspace(-2, 2)\n",
    "  dist = sp.stats.logistic(0, (math.sqrt((math.pi**2)*s)/3))\n",
    "  if condition == 1:\n",
    "    rts = [(responsetime((resp_activation - x), ter) + responsetime((error_activation - x), ter)) for x in noise]\n",
    "  else: \n",
    "    rts = [responsetime((resp_activation - x), ter) for x in noise]\n",
    "  prob = dist.pdf(noise)\n",
    "  rtprob = {rts[i]:prob[i]for i in range(len(noise))}\n",
    "  if rt:\n",
    "    val = min(rtprob.keys(), key=lambda x: abs(x - (rt/1000)))\n",
    "    return rtprob[val]\n",
    "  else:\n",
    "    return rtprob"
   ]
  },
  {
   "cell_type": "code",
   "execution_count": 47,
   "metadata": {
    "colab": {
     "base_uri": "https://localhost:8080/"
    },
    "id": "7BDYgqgnPFCz",
    "outputId": "dcb3a8ba-27c1-4c0b-c93b-2fba9847cb40"
   },
   "outputs": [
    {
     "data": {
      "text/plain": [
       "0.029021222079091556"
      ]
     },
     "execution_count": 47,
     "metadata": {},
     "output_type": "execute_result"
    }
   ],
   "source": [
    "rtProb2(3, 2, 1, 0.2, 1, rt=6100)"
   ]
  },
  {
   "cell_type": "code",
   "execution_count": 48,
   "metadata": {
    "id": "06orMyzjtFR4"
   },
   "outputs": [],
   "source": [
    "def LLmedRT(alldata, decay, temp, ter, ppt='sim'):\n",
    "    \"\"\"For each trial, calculate the probability of that response, sum the log likelihoods, and update the values\"\"\"\n",
    "    data = alldata[alldata.participant == ppt]\n",
    "    \n",
    "    # create a list of error items\n",
    "    errors = data[data.condition == 1].cue.tolist()\n",
    "    # create a list of study items\n",
    "    study = data[data.condition == 2].cue.tolist()\n",
    "    pos = 1\n",
    "    present = study[:]\n",
    "\n",
    "    for word in errors:\n",
    "        present.insert(pos, word)\n",
    "        pos += 2\n",
    "\n",
    "    # Create dict with word pairs\n",
    "    pairs = {}\n",
    "    for cue, target in zip(data[data.phase == \"test\"].cue,data[data.phase == \"test\"].target):\n",
    "      pairs[cue] = target\n",
    "    # also create a dict with errors\n",
    "    errorResp = dict()\n",
    "    for cue,response in zip(data[data.phase == \"learn\"].cue,data[data.phase == \"learn\"].response):\n",
    "      errorResp[cue] = response\n",
    "\n",
    "    # model learning phase, encode a single trace for each item: (idk what to set activation at)\n",
    "    DM = dict()\n",
    "    # for DM can we make a dictionary of dictionaries where big keys are cues, values are dictionary of target/\n",
    "    # possible responses and their activation\n",
    "    time = 1\n",
    "    for cue in present:\n",
    "      littleDM = {}\n",
    "      # make a set of all reponses given to a certain cue to be \"vocab for that cue\"\n",
    "      for response in set(alldata[alldata.cue == cue].response):\n",
    "        littleDM[response] = [0.001]\n",
    "      # add retrieval of error for error items\n",
    "      if cue in errorResp.keys():\n",
    "        error = errorResp[cue]\n",
    "        time +=5\n",
    "        littleDM[error] = [0.001, time]\n",
    "      # overwrite smaller activ of correct target to show task learning\n",
    "        time +=5\n",
    "        littleDM[pairs[cue]] = [0.001, time]\n",
    "      else:\n",
    "        time += 10\n",
    "        littleDM[pairs[cue]] = [0.001, time]\n",
    "      DM[cue] = littleDM\n",
    "    time += 300 # time for distractor phase\n",
    "\n",
    "    # model testing phase\n",
    "    LL = 0\n",
    "    \n",
    "    for condition, cue, response, rt, feedback in zip(data[data.phase == \"test\"].condition,\n",
    "                                   data[data.phase == \"test\"].cue, \n",
    "                                   data[data.phase == \"test\"].response, \n",
    "                                   data[data.phase == \"test\"].rt, \n",
    "                                   data[data.phase == \"test\"].correct):\n",
    "        # Calculate log likelihood of response- possible options are 19 random integers\n",
    "        # or correct associate\n",
    "        options = DM[cue].keys()\n",
    "\n",
    "        # calculate probability of retrieving given response\n",
    "        values = [activation(DM[cue][opt], time, decay) for opt in options]\n",
    "        prob1 = boltzmann(options, values, temp)[response]\n",
    "        \n",
    "        # probability of retrieving error memory\n",
    "        if condition == 1:\n",
    "          error = errorResp[cue]\n",
    "          prob2 = boltzmann(options, values, temp)[error]\n",
    "        else:\n",
    "          prob2 = 0\n",
    "        \n",
    "        # add response times calculations\n",
    "        # probability of given response time with\n",
    "        respAct = activation(DM[cue][response], time, decay)\n",
    "        if condition == 1:\n",
    "          error = errorResp[cue]\n",
    "          errorAct = activation(DM[cue][error], time, decay)\n",
    "          prob_rt = rtProb2(rt, respAct, errorAct, condition, temp, ter)\n",
    "        else:\n",
    "          errorAct = 0\n",
    "          prob_rt = rtProb2(rt, respAct, errorAct, condition, temp, ter)\n",
    "\n",
    "        # Sum up the LLs\n",
    "        LL += (np.log(max(prob1 + prob2, 10e-10)) + np.log(max(prob_rt, 10e-10)))\n",
    "        \n",
    "         # add time taken to responde\n",
    "        time += rt/1000\n",
    "        \n",
    "    return LL"
   ]
  },
  {
   "cell_type": "code",
   "execution_count": 49,
   "metadata": {
    "colab": {
     "base_uri": "https://localhost:8080/"
    },
    "id": "PU1kSzEG0FJD",
    "outputId": "ac3e70c9-4dc3-48be-ebc5-917b291a9440"
   },
   "outputs": [
    {
     "data": {
      "text/plain": [
       "-279.07359732291604"
      ]
     },
     "execution_count": 49,
     "metadata": {},
     "output_type": "execute_result"
    }
   ],
   "source": [
    "LLmedRT(alldata, 0.5, 1, 1, ppt=1001)"
   ]
  },
  {
   "cell_type": "code",
   "execution_count": 50,
   "metadata": {
    "colab": {
     "base_uri": "https://localhost:8080/"
    },
    "id": "N8P4j9Lyknay",
    "outputId": "3d3a16a5-6f9a-41ac-81fc-ccd06226d548"
   },
   "outputs": [
    {
     "data": {
      "text/plain": [
       "-226.34704529241907"
      ]
     },
     "execution_count": 50,
     "metadata": {},
     "output_type": "execute_result"
    }
   ],
   "source": [
    "LLmedRT(alldata, 0.7, 0.25, 0.5, ppt=1002)"
   ]
  },
  {
   "cell_type": "markdown",
   "metadata": {
    "id": "nbZ8QgPmB9_j"
   },
   "source": [
    "# Optimizing the Models"
   ]
  },
  {
   "cell_type": "markdown",
   "metadata": {
    "id": "_xG-LzMACBMZ"
   },
   "source": [
    "## Elaborative Optimization"
   ]
  },
  {
   "cell_type": "code",
   "execution_count": 51,
   "metadata": {
    "id": "1r5gcKhxB9LO"
   },
   "outputs": [],
   "source": [
    "def vLLelab(array):\n",
    "    \"\"\"Vector function of procedural log-likelihood\"\"\"\n",
    "    global data\n",
    "    decay, temp, ter = array\n",
    "    return -1 * LLelabRT(data, decay, temp, ter)"
   ]
  },
  {
   "cell_type": "markdown",
   "metadata": {
    "id": "Js8XUZXPRItm"
   },
   "source": [
    "## Mediator Optimization"
   ]
  },
  {
   "cell_type": "code",
   "execution_count": 52,
   "metadata": {
    "id": "Z1ld48DEhDEM"
   },
   "outputs": [],
   "source": [
    "def vLLmed(array):\n",
    "    \"\"\"Vector function of procedural log-likelihood\"\"\"\n",
    "    global data\n",
    "    decay, temp, ter = array\n",
    "    return -1 * LLmedRT(data, decay, temp, ter)"
   ]
  },
  {
   "cell_type": "markdown",
   "metadata": {
    "id": "6lyASKh7oHWm"
   },
   "source": [
    "# Calculate LL for each ppt and assign best model"
   ]
  },
  {
   "cell_type": "markdown",
   "metadata": {
    "id": "r7BwnKfMImrY"
   },
   "source": [
    "## compute the best parameters and high log-liklihoods of each model for each participant"
   ]
  },
  {
   "cell_type": "code",
   "execution_count": 32,
   "metadata": {
    "colab": {
     "base_uri": "https://localhost:8080/"
    },
    "id": "-efVYwmgI8QT",
    "outputId": "408c27f5-9ecc-4df7-ec79-7bbf1fea1e22"
   },
   "outputs": [
    {
     "data": {
      "text/plain": [
       "array([1001., 1002., 1003., 1004., 1005., 1006., 1007., 1008., 1009.,\n",
       "       1010., 1011., 1012., 1013., 1014., 1015., 1016., 1017., 1018.,\n",
       "       1019., 1020., 1021., 1022., 1023., 1024., 1025., 1026., 1028.,\n",
       "       1029., 1031., 1032., 1033., 1035., 1036., 1037., 1038., 1039.,\n",
       "       1040., 1041., 1042., 1043., 1044., 1045., 1046., 1047., 1049.,\n",
       "       1050., 1051., 1053., 1054., 1055., 1056., 1057., 1058., 1059.,\n",
       "       1061., 1063., 1064., 1065., 1067., 1068., 1069.])"
      ]
     },
     "execution_count": 32,
     "metadata": {},
     "output_type": "execute_result"
    }
   ],
   "source": [
    "alldata.participant.unique()"
   ]
  },
  {
   "cell_type": "code",
   "execution_count": 34,
   "metadata": {
    "colab": {
     "base_uri": "https://localhost:8080/"
    },
    "id": "RSWCFpcnIp_V",
    "outputId": "f111a5d9-7251-42b4-d8ee-2d04a17c0da4"
   },
   "outputs": [
    {
     "name": "stdout",
     "output_type": "stream",
     "text": [
      "1001.0 : -178, -157\n",
      "1002.0 : -190, -160\n",
      "1003.0 : -185, -156\n",
      "1004.0 : -198, -167\n",
      "1005.0 : -171, -146\n",
      "1006.0 : -181, -155\n",
      "1007.0 : -175, -150\n",
      "1008.0 : -164, -150\n",
      "1009.0 : -163, -143\n",
      "1010.0 : -163, -142\n",
      "1011.0 : -186, -158\n",
      "1012.0 : -183, -161\n",
      "1013.0 : -181, -158\n",
      "1014.0 : -183, -159\n",
      "1015.0 : -222, -183\n",
      "1016.0 : -170, -150\n",
      "1017.0 : -183, -158\n",
      "1018.0 : -172, -148\n",
      "1019.0 : -195, -163\n",
      "1020.0 : -162, -142\n",
      "1021.0 : -186, -162\n",
      "1022.0 : -182, -160\n",
      "1023.0 : -182, -157\n",
      "1024.0 : -176, -151\n",
      "1025.0 : -171, -145\n",
      "1026.0 : -168, -146\n",
      "1028.0 : -165, -143\n",
      "1029.0 : -193, -165\n",
      "1031.0 : -164, -145\n",
      "1032.0 : -219, -182\n",
      "1033.0 : -184, -157\n",
      "1035.0 : -165, -145\n",
      "1036.0 : -171, -149\n",
      "1037.0 : -162, -140\n",
      "1038.0 : -165, -143\n",
      "1039.0 : -177, -153\n",
      "1040.0 : -192, -162\n",
      "1041.0 : -181, -157\n",
      "1042.0 : -173, -150\n",
      "1043.0 : -166, -148\n",
      "1044.0 : -161, -139\n",
      "1045.0 : -169, -147\n",
      "1046.0 : -173, -150\n",
      "1047.0 : -160, -138\n",
      "1049.0 : -172, -150\n",
      "1050.0 : -182, -160\n",
      "1051.0 : -170, -155\n",
      "1053.0 : -179, -159\n",
      "1054.0 : -175, -152\n",
      "1055.0 : -192, -166\n",
      "1056.0 : -169, -150\n",
      "1057.0 : -172, -153\n",
      "1058.0 : -183, -162\n",
      "1059.0 : -163, -140\n",
      "1061.0 : -193, -169\n",
      "1063.0 : -214, -182\n",
      "1064.0 : -160, -141\n",
      "1065.0 : -170, -150\n",
      "1067.0 : -215, -182\n",
      "1068.0 : -159, -141\n",
      "1069.0 : -165, -144\n"
     ]
    }
   ],
   "source": [
    "DO_ALL = False\n",
    "dataframe = []\n",
    "\n",
    "#from pybads import BADS\n",
    "\n",
    "\n",
    "if DO_ALL:\n",
    "    for ppt in alldata.participant.unique(): \n",
    "        data = alldata[alldata.participant == ppt]\n",
    "        eres = opt.minimize(vLLelab, x0 = [0.5, 1, 1], method = \"Powell\", bounds=[[0.4, 0.6], [0, 1], [0.1, 4]])\n",
    "        edecay, etemp, eter = eres.x\n",
    "        llelab = LLelabRT(data, edecay, etemp, eter, ppt=ppt)\n",
    "            \n",
    "        mres = opt.minimize(vLLmed, x0 = [0.5, 1, 1], method = \"Powell\", bounds=[[0.4, 0.6], [0, 1], [0.1, 4]])\n",
    "        mdecay, mtemp, mter = mres.x\n",
    "        llmed = LLmedRT(data, mdecay, mtemp, mter, ppt=ppt)\n",
    "\n",
    "        print(\"%s : %d, %d\" % (ppt, llelab, llmed))\n",
    "        best = \"Mediator\"\n",
    "        if llelab > llmed:\n",
    "            best = \"Elaborative\"\n",
    "            \n",
    "        diff = llmed - llelab\n",
    "            \n",
    "        row = [ppt, edecay, etemp, eter, llelab, mdecay, mtemp, mter, llmed, best, diff]\n",
    "            \n",
    "        dataframe += [row]\n",
    "\n",
    "    result = pd.DataFrame(dataframe, columns=[\"Participant\", \"elab.decay\", \"elab.temp\", \"elab.ter\", \"elab.LL\", \"med.decay\", \"med.temp\", \"med.ter\", \"med.LL\", \"best.model\", \"diff.LL\"])"
   ]
  },
  {
   "cell_type": "code",
   "execution_count": 35,
   "metadata": {},
   "outputs": [
    {
     "data": {
      "text/plain": [
       "-156.53896797422578"
      ]
     },
     "execution_count": 35,
     "metadata": {},
     "output_type": "execute_result"
    }
   ],
   "source": [
    "LLelabRT(data, 0.1, 0.5, 0, ppt=1069)"
   ]
  },
  {
   "cell_type": "code",
   "execution_count": 36,
   "metadata": {},
   "outputs": [
    {
     "data": {
      "text/plain": [
       "array([1001., 1002., 1003., 1004., 1005., 1006., 1007., 1008., 1009.,\n",
       "       1010., 1011., 1012., 1013., 1014., 1015., 1016., 1017., 1018.,\n",
       "       1019., 1020., 1021., 1022., 1023., 1024., 1025., 1026., 1028.,\n",
       "       1029., 1031., 1032., 1033., 1035., 1036., 1037., 1038., 1039.,\n",
       "       1040., 1041., 1042., 1043., 1044., 1045., 1046., 1047., 1049.,\n",
       "       1050., 1051., 1053., 1054., 1055., 1056., 1057., 1058., 1059.,\n",
       "       1061., 1063., 1064., 1065., 1067., 1068., 1069.])"
      ]
     },
     "execution_count": 36,
     "metadata": {},
     "output_type": "execute_result"
    }
   ],
   "source": [
    "alldata.participant.unique()"
   ]
  },
  {
   "cell_type": "code",
   "execution_count": null,
   "metadata": {
    "colab": {
     "base_uri": "https://localhost:8080/",
     "height": 402
    },
    "id": "1orKyYBilItT",
    "outputId": "66e3cea0-da5c-476f-bfb8-53bb94d27ceb"
   },
   "outputs": [],
   "source": [
    "if DO_ALL:\n",
    "    result.to_csv(\"LL_model1.csv\")\n",
    "else:\n",
    "    result = pd.read_csv(\"LL_model1.csv\")\n",
    "result"
   ]
  },
  {
   "cell_type": "code",
   "execution_count": 37,
   "metadata": {
    "colab": {
     "base_uri": "https://localhost:8080/",
     "height": 423
    },
    "id": "-Ixin0NltTny",
    "outputId": "dbe1e25e-6930-4d34-ac01-c79e77874ff7"
   },
   "outputs": [
    {
     "data": {
      "text/html": [
       "<div>\n",
       "<style scoped>\n",
       "    .dataframe tbody tr th:only-of-type {\n",
       "        vertical-align: middle;\n",
       "    }\n",
       "\n",
       "    .dataframe tbody tr th {\n",
       "        vertical-align: top;\n",
       "    }\n",
       "\n",
       "    .dataframe thead th {\n",
       "        text-align: right;\n",
       "    }\n",
       "</style>\n",
       "<table border=\"1\" class=\"dataframe\">\n",
       "  <thead>\n",
       "    <tr style=\"text-align: right;\">\n",
       "      <th></th>\n",
       "      <th>Participant</th>\n",
       "      <th>elab.decay</th>\n",
       "      <th>elab.temp</th>\n",
       "      <th>elab.ter</th>\n",
       "      <th>elab.LL</th>\n",
       "      <th>med.decay</th>\n",
       "      <th>med.temp</th>\n",
       "      <th>med.ter</th>\n",
       "      <th>med.LL</th>\n",
       "      <th>best.model</th>\n",
       "      <th>diff.LL</th>\n",
       "    </tr>\n",
       "  </thead>\n",
       "  <tbody>\n",
       "    <tr>\n",
       "      <th>0</th>\n",
       "      <td>1001.0</td>\n",
       "      <td>0.599944</td>\n",
       "      <td>0.999934</td>\n",
       "      <td>3.999939</td>\n",
       "      <td>-178.324259</td>\n",
       "      <td>0.599944</td>\n",
       "      <td>0.999934</td>\n",
       "      <td>3.999939</td>\n",
       "      <td>-157.240344</td>\n",
       "      <td>Mediator</td>\n",
       "      <td>21.083915</td>\n",
       "    </tr>\n",
       "    <tr>\n",
       "      <th>1</th>\n",
       "      <td>1002.0</td>\n",
       "      <td>0.599944</td>\n",
       "      <td>0.999934</td>\n",
       "      <td>3.999939</td>\n",
       "      <td>-190.043829</td>\n",
       "      <td>0.599944</td>\n",
       "      <td>0.999934</td>\n",
       "      <td>3.999939</td>\n",
       "      <td>-160.804285</td>\n",
       "      <td>Mediator</td>\n",
       "      <td>29.239544</td>\n",
       "    </tr>\n",
       "    <tr>\n",
       "      <th>2</th>\n",
       "      <td>1003.0</td>\n",
       "      <td>0.599944</td>\n",
       "      <td>0.999934</td>\n",
       "      <td>3.999939</td>\n",
       "      <td>-185.253134</td>\n",
       "      <td>0.599944</td>\n",
       "      <td>0.999934</td>\n",
       "      <td>3.999939</td>\n",
       "      <td>-156.991858</td>\n",
       "      <td>Mediator</td>\n",
       "      <td>28.261276</td>\n",
       "    </tr>\n",
       "    <tr>\n",
       "      <th>3</th>\n",
       "      <td>1004.0</td>\n",
       "      <td>0.599944</td>\n",
       "      <td>0.999934</td>\n",
       "      <td>3.999939</td>\n",
       "      <td>-198.593962</td>\n",
       "      <td>0.599944</td>\n",
       "      <td>0.999934</td>\n",
       "      <td>3.999939</td>\n",
       "      <td>-167.204123</td>\n",
       "      <td>Mediator</td>\n",
       "      <td>31.389838</td>\n",
       "    </tr>\n",
       "    <tr>\n",
       "      <th>4</th>\n",
       "      <td>1005.0</td>\n",
       "      <td>0.599944</td>\n",
       "      <td>0.999934</td>\n",
       "      <td>3.999939</td>\n",
       "      <td>-171.181455</td>\n",
       "      <td>0.599944</td>\n",
       "      <td>0.999934</td>\n",
       "      <td>3.999939</td>\n",
       "      <td>-146.153654</td>\n",
       "      <td>Mediator</td>\n",
       "      <td>25.027801</td>\n",
       "    </tr>\n",
       "    <tr>\n",
       "      <th>...</th>\n",
       "      <td>...</td>\n",
       "      <td>...</td>\n",
       "      <td>...</td>\n",
       "      <td>...</td>\n",
       "      <td>...</td>\n",
       "      <td>...</td>\n",
       "      <td>...</td>\n",
       "      <td>...</td>\n",
       "      <td>...</td>\n",
       "      <td>...</td>\n",
       "      <td>...</td>\n",
       "    </tr>\n",
       "    <tr>\n",
       "      <th>56</th>\n",
       "      <td>1064.0</td>\n",
       "      <td>0.599944</td>\n",
       "      <td>0.999934</td>\n",
       "      <td>3.999939</td>\n",
       "      <td>-160.130752</td>\n",
       "      <td>0.599944</td>\n",
       "      <td>0.999934</td>\n",
       "      <td>3.999939</td>\n",
       "      <td>-141.623875</td>\n",
       "      <td>Mediator</td>\n",
       "      <td>18.506877</td>\n",
       "    </tr>\n",
       "    <tr>\n",
       "      <th>57</th>\n",
       "      <td>1065.0</td>\n",
       "      <td>0.599944</td>\n",
       "      <td>0.999934</td>\n",
       "      <td>3.999939</td>\n",
       "      <td>-170.498836</td>\n",
       "      <td>0.599944</td>\n",
       "      <td>0.999934</td>\n",
       "      <td>3.999939</td>\n",
       "      <td>-150.107481</td>\n",
       "      <td>Mediator</td>\n",
       "      <td>20.391355</td>\n",
       "    </tr>\n",
       "    <tr>\n",
       "      <th>58</th>\n",
       "      <td>1067.0</td>\n",
       "      <td>0.599944</td>\n",
       "      <td>0.999934</td>\n",
       "      <td>3.999939</td>\n",
       "      <td>-215.916152</td>\n",
       "      <td>0.599944</td>\n",
       "      <td>0.999934</td>\n",
       "      <td>3.999939</td>\n",
       "      <td>-182.803758</td>\n",
       "      <td>Mediator</td>\n",
       "      <td>33.112394</td>\n",
       "    </tr>\n",
       "    <tr>\n",
       "      <th>59</th>\n",
       "      <td>1068.0</td>\n",
       "      <td>0.599944</td>\n",
       "      <td>0.999934</td>\n",
       "      <td>3.999939</td>\n",
       "      <td>-159.231240</td>\n",
       "      <td>0.599944</td>\n",
       "      <td>0.999934</td>\n",
       "      <td>3.999939</td>\n",
       "      <td>-141.282590</td>\n",
       "      <td>Mediator</td>\n",
       "      <td>17.948650</td>\n",
       "    </tr>\n",
       "    <tr>\n",
       "      <th>60</th>\n",
       "      <td>1069.0</td>\n",
       "      <td>0.599944</td>\n",
       "      <td>0.999934</td>\n",
       "      <td>3.999939</td>\n",
       "      <td>-165.668224</td>\n",
       "      <td>0.599944</td>\n",
       "      <td>0.999934</td>\n",
       "      <td>3.999939</td>\n",
       "      <td>-144.244392</td>\n",
       "      <td>Mediator</td>\n",
       "      <td>21.423832</td>\n",
       "    </tr>\n",
       "  </tbody>\n",
       "</table>\n",
       "<p>61 rows × 11 columns</p>\n",
       "</div>"
      ],
      "text/plain": [
       "    Participant  elab.decay  elab.temp  elab.ter     elab.LL  med.decay  \\\n",
       "0        1001.0    0.599944   0.999934  3.999939 -178.324259   0.599944   \n",
       "1        1002.0    0.599944   0.999934  3.999939 -190.043829   0.599944   \n",
       "2        1003.0    0.599944   0.999934  3.999939 -185.253134   0.599944   \n",
       "3        1004.0    0.599944   0.999934  3.999939 -198.593962   0.599944   \n",
       "4        1005.0    0.599944   0.999934  3.999939 -171.181455   0.599944   \n",
       "..          ...         ...        ...       ...         ...        ...   \n",
       "56       1064.0    0.599944   0.999934  3.999939 -160.130752   0.599944   \n",
       "57       1065.0    0.599944   0.999934  3.999939 -170.498836   0.599944   \n",
       "58       1067.0    0.599944   0.999934  3.999939 -215.916152   0.599944   \n",
       "59       1068.0    0.599944   0.999934  3.999939 -159.231240   0.599944   \n",
       "60       1069.0    0.599944   0.999934  3.999939 -165.668224   0.599944   \n",
       "\n",
       "    med.temp   med.ter      med.LL best.model    diff.LL  \n",
       "0   0.999934  3.999939 -157.240344   Mediator  21.083915  \n",
       "1   0.999934  3.999939 -160.804285   Mediator  29.239544  \n",
       "2   0.999934  3.999939 -156.991858   Mediator  28.261276  \n",
       "3   0.999934  3.999939 -167.204123   Mediator  31.389838  \n",
       "4   0.999934  3.999939 -146.153654   Mediator  25.027801  \n",
       "..       ...       ...         ...        ...        ...  \n",
       "56  0.999934  3.999939 -141.623875   Mediator  18.506877  \n",
       "57  0.999934  3.999939 -150.107481   Mediator  20.391355  \n",
       "58  0.999934  3.999939 -182.803758   Mediator  33.112394  \n",
       "59  0.999934  3.999939 -141.282590   Mediator  17.948650  \n",
       "60  0.999934  3.999939 -144.244392   Mediator  21.423832  \n",
       "\n",
       "[61 rows x 11 columns]"
      ]
     },
     "execution_count": 37,
     "metadata": {},
     "output_type": "execute_result"
    }
   ],
   "source": [
    "result.dropna()"
   ]
  },
  {
   "cell_type": "code",
   "execution_count": 38,
   "metadata": {
    "id": "w-Rv_Bijr_VN"
   },
   "outputs": [],
   "source": [
    "elab_LL = result[\"elab.LL\"].values\n",
    "med_LL = result[\"med.LL\"].values\n",
    "\n",
    "BEST = result[\"best.model\"].values\n",
    "BEST_ = np.unique(BEST)\n",
    "\n",
    "COLORS = ['#c9a818', '#674b94']"
   ]
  },
  {
   "cell_type": "code",
   "execution_count": 39,
   "metadata": {
    "colab": {
     "base_uri": "https://localhost:8080/",
     "height": 727
    },
    "id": "PG9R8GZWypwl",
    "outputId": "ea8a1dbe-30bc-4284-ba89-e4d2df2890ee"
   },
   "outputs": [
    {
     "data": {
      "text/plain": [
       "<matplotlib.lines.AxLine at 0x176aaf590>"
      ]
     },
     "execution_count": 39,
     "metadata": {},
     "output_type": "execute_result"
    },
    {
     "data": {
      "image/png": "[encoded data removed]",
      "text/plain": [
       "<Figure size 600x600 with 1 Axes>"
      ]
     },
     "metadata": {},
     "output_type": "display_data"
    }
   ],
   "source": [
    "fig, ax = plt.subplots(figsize=(6,6))\n",
    "ax.plot([-320, -320], [-100, -100], \"--\")\n",
    "for best, color in zip(BEST_, COLORS):\n",
    "    idxs = np.where(best == BEST)\n",
    "    # No legend will be generated if we don't pass label=species\n",
    "    ax.scatter(\n",
    "        elab_LL[idxs], med_LL[idxs], label=best,\n",
    "        s=50, color=color, alpha=0.7\n",
    "    )\n",
    "    \n",
    "_ = plt.xlabel(\"Elaborative Log-likelihood\")\n",
    "_ = plt.ylabel(\"Mediator Log-likelihood\")\n",
    "_ = plt.title(\"Log-likelihood of Model Fit by Participant\")\n",
    "_ = plt.xlim([-250, -120])\n",
    "_ = plt.ylim([-250, -120])\n",
    "_ = plt.show\n",
    "ax.legend(loc = \"upper left\");\n",
    "ax.axline((0,0), slope=1, linestyle=\"--\", color='lightgrey')"
   ]
  },
  {
   "cell_type": "code",
   "execution_count": null,
   "metadata": {
    "colab": {
     "base_uri": "https://localhost:8080/",
     "height": 423
    },
    "id": "SbKdLhyqP06Y",
    "outputId": "8b1cb4fe-d86b-414b-ed6c-7030aacb88fd"
   },
   "outputs": [],
   "source": [
    "res = pd.read_csv(\"LL_model1.csv\")\n",
    "res"
   ]
  },
  {
   "cell_type": "code",
   "execution_count": 40,
   "metadata": {
    "colab": {
     "base_uri": "https://localhost:8080/",
     "height": 462
    },
    "id": "KgglweONP46n",
    "outputId": "e6dc5780-e8bc-42b7-ca8f-5a51dfaec74b"
   },
   "outputs": [
    {
     "name": "stderr",
     "output_type": "stream",
     "text": [
      "/opt/anaconda3/lib/python3.11/site-packages/seaborn/_oldcore.py:1119: FutureWarning: use_inf_as_na option is deprecated and will be removed in a future version. Convert inf values to NaN before operating instead.\n",
      "  with pd.option_context('mode.use_inf_as_na', True):\n"
     ]
    },
    {
     "data": {
      "image/png": "[encoded data removed]",
      "text/plain": [
       "<Figure size 640x480 with 1 Axes>"
      ]
     },
     "metadata": {},
     "output_type": "display_data"
    }
   ],
   "source": [
    "sns.histplot(result, x=\"diff.LL\", hue=\"best.model\", binwidth=4, binrange=[-20, 60], stat=\"count\", legend=\"False\")\n",
    "plt.legend(loc=\"upper left\", title=\"Best-fitting Model\", labels=['Elaborative', 'Mediator'])\n",
    "plt.xlabel(\"$\\log(x|M_{Mediator}) - \\log(x|M_{Elaborative})$\") \n",
    "plt.ylabel(\"Number of Participants\") \n",
    "\n",
    "plt.axvline(x=0, linestyle=\"dotted\", color=\"red\")\n",
    "#plt.axvline(x=np.mean(res['diff.LL']), linestyle=\"dashed\", color=\"blue\", linewidth=2)\n",
    "plt.show()"
   ]
  },
  {
   "cell_type": "markdown",
   "metadata": {},
   "source": [
    "# Model Recovery"
   ]
  },
  {
   "cell_type": "code",
   "execution_count": 53,
   "metadata": {},
   "outputs": [],
   "source": [
    "def policy(bprobs):\n",
    "    \"\"\"Selects an action based on a distribution of probabilities\"\"\"\n",
    "    options = list(bprobs.keys())\n",
    "    probs = [bprobs[opt] for opt in options]\n",
    "    return np.random.choice(options, p=probs)"
   ]
  },
  {
   "cell_type": "code",
   "execution_count": 54,
   "metadata": {},
   "outputs": [],
   "source": [
    "def create_memory(alldata):\n",
    "    unique_cues = alldata.cue.unique()\n",
    "    DM = {}\n",
    "    for cue in unique_cues:\n",
    "        littleDM = {}\n",
    "        # make a set of all reponses given to a certain cue to be \"vocab for that cue\"\n",
    "        for response in set(alldata[alldata.cue == cue].response):\n",
    "            littleDM[response] = [0.01]\n",
    "        DM[cue] = littleDM\n",
    "    return DM"
   ]
  },
  {
   "cell_type": "code",
   "execution_count": 55,
   "metadata": {},
   "outputs": [],
   "source": [
    "def learning_phase(alldata, pairs, errors, study, decay, temp, ter):\n",
    "    # dataframe to store task results\n",
    "    dataframe = []\n",
    "\n",
    "    # create memory\n",
    "    DM = create_memory(alldata)\n",
    "    # learning phase\n",
    "    time = 1\n",
    "    errorResp = {}\n",
    "    \n",
    "    for cue in pairs.keys():\n",
    "       if cue in errors:\n",
    "          # Make a 'guess'\n",
    "          options = DM[cue].keys()\n",
    "          values = [activation(DM[cue][opt], time, decay) for opt in options]\n",
    "          prob = boltzmann(options, values, temp)\n",
    "          response = policy(prob)\n",
    "          # if response is nan try again (response is np string)\n",
    "          while response == \"NaN\" or response == \"nan\" or response == \"None\" or response == \"\":\n",
    "            response = policy(prob)\n",
    "\n",
    "          # Save the response\n",
    "          errorResp[cue] = response\n",
    "\n",
    "          # calculate response time\n",
    "          response_time = responsetime(activation(DM[cue][response], time, decay), ter)\n",
    "          response_time = round(response_time*1000, 0)\n",
    "\n",
    "          # update dataframe\n",
    "          dataframe += [['sim', 'learn', 1, cue, pairs[cue], response, response_time, pairs[cue] == response.upper()]]\n",
    "\n",
    "          time +=5\n",
    "\n",
    "          # Update the memory\n",
    "          DM[cue][response] = [0.01, time]\n",
    "\n",
    "          # Overwrite smaller activation of correct target to show task learning\n",
    "          time +=5\n",
    "          DM[cue][pairs[cue]] = [0.01, time]\n",
    "       elif cue in study:\n",
    "          time += 10\n",
    "          DM[cue][pairs[cue]] = [0.01, time]\n",
    "    time += 300 # time for distractor phase\n",
    "    return DM, dataframe, errorResp, time"
   ]
  },
  {
   "cell_type": "markdown",
   "metadata": {},
   "source": [
    "## Simulating Elaborative Retrieval "
   ]
  },
  {
   "cell_type": "code",
   "execution_count": 56,
   "metadata": {},
   "outputs": [],
   "source": [
    "def simulate_data_elab(alldata, decay=0.5, temp=1, ter=1, mas = 1.6):\n",
    "    # create a list of error items\n",
    "    errors = alldata[alldata.condition == 1].cue.unique().tolist()\n",
    "    # create a list of study items\n",
    "    study = alldata[alldata.condition == 2].cue.unique().tolist()\n",
    "    pos = 1\n",
    "    present = study[:]\n",
    "\n",
    "    for word in errors:\n",
    "        present.insert(pos, word)\n",
    "        pos += 2\n",
    "\n",
    "    # Create dict with word pairs\n",
    "    pairs = {}\n",
    "    for cue, target in zip(alldata.cue.unique(),alldata.target.unique()):\n",
    "      pairs[cue] = target\n",
    "\n",
    "    DM, dataframe, errorResp, time = learning_phase(alldata, pairs, errors, study, decay, temp, ter)\n",
    "\n",
    "    # shuffle cue words\n",
    "    cue_shuffled = list(pairs.keys())\n",
    "    random.shuffle(cue_shuffled)\n",
    "    # testing phase\n",
    "    for cue in cue_shuffled:\n",
    "      condition = 1 if cue in errors else 2\n",
    "      options = DM[cue].keys()\n",
    "\n",
    "      # create spreading activation additional error component given size of cue's dec mem\n",
    "      cueMem = len(DM[cue])\n",
    "      add = (mas - np.log((cueMem + 1)/2)) - (mas - np.log((cueMem + 1)/1))\n",
    "\n",
    "      values = [activation(DM[cue][opt], time, decay) if opt != pairs[cue] else activation(DM[cue][pairs[cue]], time, decay) + add for opt in options]\n",
    "      prob = boltzmann(options, values, temp)\n",
    "      response = policy(prob)\n",
    "\n",
    "      # if response is nan try again (response is np string)\n",
    "      while response == \"NaN\" or response == \"nan\" or response == \"None\" or response == \"\":\n",
    "        response = policy(prob)\n",
    "\n",
    "      if condition == 1:\n",
    "        resp_activation = activation(DM[cue][response], time, decay) + add\n",
    "      else: \n",
    "        resp_activation = activation(DM[cue][response], time, decay)\n",
    "      \n",
    "      response_time = responsetime(resp_activation, ter=ter)\n",
    "      response_time = round(response_time*1000, 0)\n",
    "\n",
    "      dataframe += [['sim', 'test', condition, cue, pairs[cue], response, response_time, pairs[cue]==response.upper()]] \n",
    "\n",
    "      # addtime taken to respond\n",
    "      time += response_time/1000\n",
    "\n",
    "    return pd.DataFrame(dataframe, columns=['participant', 'phase', 'condition', 'cue', 'target', 'response', 'rt',\n",
    "       'correct'])"
   ]
  },
  {
   "cell_type": "code",
   "execution_count": 57,
   "metadata": {},
   "outputs": [
    {
     "data": {
      "text/plain": [
       "0.23333333333333334"
      ]
     },
     "execution_count": 57,
     "metadata": {},
     "output_type": "execute_result"
    }
   ],
   "source": [
    "# test\n",
    "data = alldata\n",
    "data = simulate_data_elab(data)\n",
    "data[data.phase == 'test'].correct.mean()"
   ]
  },
  {
   "cell_type": "code",
   "execution_count": 58,
   "metadata": {},
   "outputs": [
    {
     "data": {
      "text/plain": [
       " message: Optimization terminated successfully.\n",
       " success: True\n",
       "  status: 0\n",
       "     fun: 154.79465301798092\n",
       "       x: [ 4.813e-01  9.340e-01  1.274e+00]\n",
       "     nit: 2\n",
       "   direc: [[ 1.000e+00  0.000e+00  0.000e+00]\n",
       "           [ 0.000e+00  1.000e+00  0.000e+00]\n",
       "           [ 0.000e+00  0.000e+00  1.000e+00]]\n",
       "    nfev: 87"
      ]
     },
     "execution_count": 58,
     "metadata": {},
     "output_type": "execute_result"
    }
   ],
   "source": [
    "opt.minimize(vLLelab, x0 = [0.5, 1, 1], method = \"Powell\", bounds=[[0.01, 2], [0, 2], [0.1, 2]])"
   ]
  },
  {
   "cell_type": "markdown",
   "metadata": {},
   "source": [
    "## Simulating Mediator Retrievals"
   ]
  },
  {
   "cell_type": "code",
   "execution_count": 59,
   "metadata": {},
   "outputs": [],
   "source": [
    "def calc_f(alldata):\n",
    "    \"\"\"Calculate mean proportion of correct responses for error trials in the data\"\"\"\n",
    "    correct = 0\n",
    "    total = 0\n",
    "    alldata = alldata[(alldata.condition == 1) & (alldata.phase == \"test\")]\n",
    "    for target, response in zip(alldata.target, alldata.response):\n",
    "        if target == response:\n",
    "            correct += 1\n",
    "        total += 1\n",
    "    return correct/total"
   ]
  },
  {
   "cell_type": "code",
   "execution_count": 60,
   "metadata": {},
   "outputs": [
    {
     "data": {
      "text/plain": [
       "0.5918032786885246"
      ]
     },
     "execution_count": 60,
     "metadata": {},
     "output_type": "execute_result"
    }
   ],
   "source": [
    "f = calc_f(alldata)\n",
    "f"
   ]
  },
  {
   "cell_type": "code",
   "execution_count": 61,
   "metadata": {},
   "outputs": [],
   "source": [
    "def simulate_data_med(alldata, decay=0.5, temp=1, ter=1):\n",
    "    # start by calculating f\n",
    "    f = calc_f(alldata)\n",
    "\n",
    "    # create a list of error items\n",
    "    errors = alldata[alldata.condition == 1].cue.unique().tolist()\n",
    "    # create a list of study items\n",
    "    study = alldata[alldata.condition == 2].cue.unique().tolist()\n",
    "    pos = 1\n",
    "    present = study[:]\n",
    "\n",
    "    for word in errors:\n",
    "        present.insert(pos, word)\n",
    "        pos += 2\n",
    "\n",
    "    # Create dict with word pairs\n",
    "    pairs = {}\n",
    "    for cue, target in zip(alldata.cue.unique(), alldata.target.unique()):\n",
    "        pairs[cue] = target\n",
    "\n",
    "    DM, dataframe, errorResp, time = learning_phase(alldata, pairs, errors, study, decay, temp, ter)\n",
    " \n",
    "    # testing phase\n",
    "    for cue in pairs.keys():\n",
    "        condition = 1 if cue in errors else 2\n",
    "        options = DM[cue].keys()\n",
    "\n",
    "        # calculate probability of retrieving given response\n",
    "        values = [activation(DM[cue][opt], time, decay) for opt in options]\n",
    "        prob = boltzmann(options, values, temp)\n",
    "        response = policy(prob)\n",
    "\n",
    "        # if response is nan try again (response is np string)\n",
    "        while response == \"NaN\" or response == \"nan\" or response == \"None\" or response == \"\":\n",
    "            response = policy(prob)\n",
    "\n",
    "        # if retrieved error -- correct f proportion of the time\n",
    "        if condition == 1:\n",
    "            error = errorResp[cue]\n",
    "            if response == error:\n",
    "                response = pairs[cue] if np.random.rand() < f else response\n",
    "\n",
    "        # add response times calculations\n",
    "        # probability of given response time with\n",
    "        # \n",
    "        if condition == 1:\n",
    "            error = errorResp[cue]\n",
    "            errorAct = activation(DM[cue][error], time, decay)\n",
    "            error_rt = responsetime(errorAct, ter=0)\n",
    "            time += (error_rt * 1000)\n",
    "            respAct = activation(DM[cue][response], time, decay)\n",
    "            resp_rt = responsetime(respAct, ter=ter)\n",
    "            time += (resp_rt * 1000)\n",
    "            response_time = resp_rt + error_rt\n",
    "            response_time = round(response_time*1000, 0)\n",
    "        else:\n",
    "            response_time = responsetime(respAct, ter=ter)\n",
    "            response_time = round(response_time*1000, 0)\n",
    "            # addtime taken to respond\n",
    "            time += response_time/1000\n",
    "        \n",
    "        dataframe += [['sim', 'test', condition, cue, pairs[cue], response, response_time, pairs[cue]==response.upper()]]\n",
    "\n",
    "        \n",
    "    \n",
    "    return pd.DataFrame(dataframe, columns=['participant', 'phase', 'condition', 'cue', 'target', 'response', 'rt',\n",
    "       'correct'])\n"
   ]
  },
  {
   "cell_type": "code",
   "execution_count": 62,
   "metadata": {},
   "outputs": [
    {
     "data": {
      "text/html": [
       "<div>\n",
       "<style scoped>\n",
       "    .dataframe tbody tr th:only-of-type {\n",
       "        vertical-align: middle;\n",
       "    }\n",
       "\n",
       "    .dataframe tbody tr th {\n",
       "        vertical-align: top;\n",
       "    }\n",
       "\n",
       "    .dataframe thead th {\n",
       "        text-align: right;\n",
       "    }\n",
       "</style>\n",
       "<table border=\"1\" class=\"dataframe\">\n",
       "  <thead>\n",
       "    <tr style=\"text-align: right;\">\n",
       "      <th></th>\n",
       "      <th>participant</th>\n",
       "      <th>phase</th>\n",
       "      <th>condition</th>\n",
       "      <th>cue</th>\n",
       "      <th>target</th>\n",
       "      <th>response</th>\n",
       "      <th>rt</th>\n",
       "      <th>correct</th>\n",
       "    </tr>\n",
       "  </thead>\n",
       "  <tbody>\n",
       "    <tr>\n",
       "      <th>0</th>\n",
       "      <td>sim</td>\n",
       "      <td>learn</td>\n",
       "      <td>1</td>\n",
       "      <td>EMPIRE</td>\n",
       "      <td>STATE</td>\n",
       "      <td>STATE</td>\n",
       "      <td>1995.0</td>\n",
       "      <td>True</td>\n",
       "    </tr>\n",
       "    <tr>\n",
       "      <th>1</th>\n",
       "      <td>sim</td>\n",
       "      <td>learn</td>\n",
       "      <td>1</td>\n",
       "      <td>CHUNK</td>\n",
       "      <td>BLOCK</td>\n",
       "      <td>BRICK</td>\n",
       "      <td>4315.0</td>\n",
       "      <td>False</td>\n",
       "    </tr>\n",
       "    <tr>\n",
       "      <th>2</th>\n",
       "      <td>sim</td>\n",
       "      <td>learn</td>\n",
       "      <td>1</td>\n",
       "      <td>GLIDE</td>\n",
       "      <td>HANG</td>\n",
       "      <td>wind</td>\n",
       "      <td>5581.0</td>\n",
       "      <td>False</td>\n",
       "    </tr>\n",
       "    <tr>\n",
       "      <th>3</th>\n",
       "      <td>sim</td>\n",
       "      <td>learn</td>\n",
       "      <td>1</td>\n",
       "      <td>SAIL</td>\n",
       "      <td>OCEAN</td>\n",
       "      <td>ocean</td>\n",
       "      <td>6567.0</td>\n",
       "      <td>True</td>\n",
       "    </tr>\n",
       "    <tr>\n",
       "      <th>4</th>\n",
       "      <td>sim</td>\n",
       "      <td>learn</td>\n",
       "      <td>1</td>\n",
       "      <td>ELEVATOR</td>\n",
       "      <td>BUILDING</td>\n",
       "      <td>button</td>\n",
       "      <td>7402.0</td>\n",
       "      <td>False</td>\n",
       "    </tr>\n",
       "    <tr>\n",
       "      <th>...</th>\n",
       "      <td>...</td>\n",
       "      <td>...</td>\n",
       "      <td>...</td>\n",
       "      <td>...</td>\n",
       "      <td>...</td>\n",
       "      <td>...</td>\n",
       "      <td>...</td>\n",
       "      <td>...</td>\n",
       "    </tr>\n",
       "    <tr>\n",
       "      <th>85</th>\n",
       "      <td>sim</td>\n",
       "      <td>test</td>\n",
       "      <td>2</td>\n",
       "      <td>STAR</td>\n",
       "      <td>NIGHT</td>\n",
       "      <td>NIGHT</td>\n",
       "      <td>7744047.0</td>\n",
       "      <td>True</td>\n",
       "    </tr>\n",
       "    <tr>\n",
       "      <th>86</th>\n",
       "      <td>sim</td>\n",
       "      <td>test</td>\n",
       "      <td>2</td>\n",
       "      <td>ANNUAL</td>\n",
       "      <td>PICNIC</td>\n",
       "      <td>PICNIC</td>\n",
       "      <td>7744047.0</td>\n",
       "      <td>True</td>\n",
       "    </tr>\n",
       "    <tr>\n",
       "      <th>87</th>\n",
       "      <td>sim</td>\n",
       "      <td>test</td>\n",
       "      <td>2</td>\n",
       "      <td>SOUTH</td>\n",
       "      <td>WEST</td>\n",
       "      <td>WEST</td>\n",
       "      <td>7744047.0</td>\n",
       "      <td>True</td>\n",
       "    </tr>\n",
       "    <tr>\n",
       "      <th>88</th>\n",
       "      <td>sim</td>\n",
       "      <td>test</td>\n",
       "      <td>2</td>\n",
       "      <td>CRITIC</td>\n",
       "      <td>ANALYZE</td>\n",
       "      <td>REVIEW</td>\n",
       "      <td>7744047.0</td>\n",
       "      <td>False</td>\n",
       "    </tr>\n",
       "    <tr>\n",
       "      <th>89</th>\n",
       "      <td>sim</td>\n",
       "      <td>test</td>\n",
       "      <td>2</td>\n",
       "      <td>HUT</td>\n",
       "      <td>ISLAND</td>\n",
       "      <td>TREE</td>\n",
       "      <td>7744047.0</td>\n",
       "      <td>False</td>\n",
       "    </tr>\n",
       "  </tbody>\n",
       "</table>\n",
       "<p>90 rows × 8 columns</p>\n",
       "</div>"
      ],
      "text/plain": [
       "   participant  phase  condition       cue    target response         rt  \\\n",
       "0          sim  learn          1    EMPIRE     STATE    STATE     1995.0   \n",
       "1          sim  learn          1     CHUNK     BLOCK    BRICK     4315.0   \n",
       "2          sim  learn          1     GLIDE      HANG     wind     5581.0   \n",
       "3          sim  learn          1      SAIL     OCEAN    ocean     6567.0   \n",
       "4          sim  learn          1  ELEVATOR  BUILDING   button     7402.0   \n",
       "..         ...    ...        ...       ...       ...      ...        ...   \n",
       "85         sim   test          2      STAR     NIGHT    NIGHT  7744047.0   \n",
       "86         sim   test          2    ANNUAL    PICNIC   PICNIC  7744047.0   \n",
       "87         sim   test          2     SOUTH      WEST     WEST  7744047.0   \n",
       "88         sim   test          2    CRITIC   ANALYZE   REVIEW  7744047.0   \n",
       "89         sim   test          2       HUT    ISLAND     TREE  7744047.0   \n",
       "\n",
       "    correct  \n",
       "0      True  \n",
       "1     False  \n",
       "2     False  \n",
       "3      True  \n",
       "4     False  \n",
       "..      ...  \n",
       "85     True  \n",
       "86     True  \n",
       "87     True  \n",
       "88    False  \n",
       "89    False  \n",
       "\n",
       "[90 rows x 8 columns]"
      ]
     },
     "execution_count": 62,
     "metadata": {},
     "output_type": "execute_result"
    }
   ],
   "source": [
    "data = simulate_data_med(data)\n",
    "data"
   ]
  },
  {
   "cell_type": "code",
   "execution_count": 63,
   "metadata": {},
   "outputs": [
    {
     "data": {
      "text/plain": [
       "0.8833333333333333"
      ]
     },
     "execution_count": 63,
     "metadata": {},
     "output_type": "execute_result"
    }
   ],
   "source": [
    "# test\n",
    "data = simulate_data_med(data)\n",
    "data[data.phase == 'test'].correct.mean()"
   ]
  },
  {
   "cell_type": "code",
   "execution_count": 64,
   "metadata": {},
   "outputs": [
    {
     "data": {
      "text/plain": [
       " message: Optimization terminated successfully.\n",
       " success: True\n",
       "  status: 0\n",
       "     fun: 130.45731850494408\n",
       "       x: [ 1.003e-02  2.000e+00  2.000e+00]\n",
       "     nit: 2\n",
       "   direc: [[ 1.000e+00  0.000e+00  0.000e+00]\n",
       "           [ 0.000e+00  0.000e+00  1.000e+00]\n",
       "           [ 8.262e-06 -1.686e-05 -1.686e-05]]\n",
       "    nfev: 179"
      ]
     },
     "execution_count": 64,
     "metadata": {},
     "output_type": "execute_result"
    }
   ],
   "source": [
    "opt.minimize(vLLmed, x0 = [0.5, 1, 1], method = \"Powell\", bounds=[[0.01, 2], [0, 2], [0.1, 2]])"
   ]
  },
  {
   "cell_type": "code",
   "execution_count": 65,
   "metadata": {},
   "outputs": [],
   "source": [
    "def model_recovery(sim_data):\n",
    "    alpha, temp, ter = opt.minimize(vLLelab, x0 = [0.5, 0.5, 1], method = \"Powell\", bounds=[[0.25, 0.75], [0, 1], [0.1, 4]]).x\n",
    "    elab = LLelabRT(sim_data, alpha, temp, ter)\n",
    "\n",
    "    alpha, temp, ter = opt.minimize(vLLmed, x0 = [0.5, 0.5, 1], method = \"Powell\", bounds=[[0.25, 0.75], [0, 1], [0.1, 4]]).x\n",
    "    med = LLmedRT(sim_data, alpha, temp, ter)\n",
    "\n",
    "    best = \"Mediator\"\n",
    "    if elab > med:\n",
    "        best = \"Elaborative\"\n",
    "\n",
    "    diff = med - elab\n",
    "\n",
    "    return [alpha, temp, ter, elab, med, best, diff]"
   ]
  },
  {
   "cell_type": "code",
   "execution_count": 66,
   "metadata": {},
   "outputs": [
    {
     "name": "stdout",
     "output_type": "stream",
     "text": [
      "Running model recovery\n"
     ]
    },
    {
     "data": {
      "application/vnd.jupyter.widget-view+json": {
       "model_id": "81ebb46266e8469688743782bc7edcb2",
       "version_major": 2,
       "version_minor": 0
      },
      "text/plain": [
       "  0%|          | 0/10 [00:00<?, ?it/s]"
      ]
     },
     "metadata": {},
     "output_type": "display_data"
    },
    {
     "data": {
      "application/vnd.jupyter.widget-view+json": {
       "model_id": "94e5edb7eda34c94af2d748157534274",
       "version_major": 2,
       "version_minor": 0
      },
      "text/plain": [
       "  0%|          | 0/10 [00:00<?, ?it/s]"
      ]
     },
     "metadata": {},
     "output_type": "display_data"
    }
   ],
   "source": [
    "# turn off warnings for this cell\n",
    "import warnings\n",
    "warnings.filterwarnings('ignore')\n",
    "\n",
    "DO_RECOVERY = True\n",
    "recovery_df = []\n",
    "\n",
    "# number of runs\n",
    "n_runs = 10\n",
    "\n",
    "if DO_RECOVERY:\n",
    "    print(\"Running model recovery\")\n",
    "    global data\n",
    "    for model in [\"Elaborative\", \"Mediator\"]:\n",
    "        data = alldata\n",
    "        decay = np.nan\n",
    "        temp = np.nan\n",
    "        ter = np.nan\n",
    "        results = []\n",
    "        for run in tqdm(range(n_runs)):\n",
    "            #print(run)\n",
    "            if model == \"Elaborative\":\n",
    "                #randomizing parameters can break the code so we'll loop for success\n",
    "                success = False\n",
    "                while success == False:\n",
    "                    try:\n",
    "                        decay = np.random.uniform(0.25, 0.75)\n",
    "                        temp = np.random.uniform(0, 1)\n",
    "                        ter = np.random.uniform(0.1, 4)\n",
    "\n",
    "                        # print(decay, temp, ter)\n",
    "                        sim_data = simulate_data_elab(data, decay=decay, temp=temp, ter=ter)\n",
    "                        data = sim_data\n",
    "                        results = model_recovery(sim_data)\n",
    "\n",
    "                        success = True\n",
    "                    except:\n",
    "                        success = False\n",
    "            else:\n",
    "                success = False\n",
    "                while success == False:\n",
    "                    try:\n",
    "                        decay = np.random.uniform(0.25, 0.75)\n",
    "                        temp = np.random.uniform(0, 1)\n",
    "                        ter = np.random.uniform(0.1, 4)\n",
    "\n",
    "                        # print(decay, temp, ter)\n",
    "                        sim_data = simulate_data_med(data, decay=decay, temp=temp, ter=ter)\n",
    "                        data = sim_data\n",
    "                        results = model_recovery(sim_data)\n",
    "\n",
    "                        success = True\n",
    "                    except:\n",
    "                        success = False\n",
    "            \n",
    "            row = [model, decay, temp, ter] + results\n",
    "            recovery_df += [row]\n"
   ]
  },
  {
   "cell_type": "code",
   "execution_count": 67,
   "metadata": {},
   "outputs": [
    {
     "data": {
      "text/html": [
       "<div>\n",
       "<style scoped>\n",
       "    .dataframe tbody tr th:only-of-type {\n",
       "        vertical-align: middle;\n",
       "    }\n",
       "\n",
       "    .dataframe tbody tr th {\n",
       "        vertical-align: top;\n",
       "    }\n",
       "\n",
       "    .dataframe thead th {\n",
       "        text-align: right;\n",
       "    }\n",
       "</style>\n",
       "<table border=\"1\" class=\"dataframe\">\n",
       "  <thead>\n",
       "    <tr style=\"text-align: right;\">\n",
       "      <th></th>\n",
       "      <th>orig.model</th>\n",
       "      <th>orig.decay</th>\n",
       "      <th>orig.temp</th>\n",
       "      <th>orig.ter</th>\n",
       "      <th>recov.delat</th>\n",
       "      <th>recov.temp</th>\n",
       "      <th>recov.ter</th>\n",
       "      <th>elab.LL</th>\n",
       "      <th>med.LL</th>\n",
       "      <th>best.model</th>\n",
       "      <th>diff.LL</th>\n",
       "    </tr>\n",
       "  </thead>\n",
       "  <tbody>\n",
       "    <tr>\n",
       "      <th>0</th>\n",
       "      <td>Elaborative</td>\n",
       "      <td>0.419754</td>\n",
       "      <td>0.155019</td>\n",
       "      <td>0.785336</td>\n",
       "      <td>0.749947</td>\n",
       "      <td>0.999934</td>\n",
       "      <td>3.999939</td>\n",
       "      <td>58.756026</td>\n",
       "      <td>-132.392353</td>\n",
       "      <td>Elaborative</td>\n",
       "      <td>-191.148379</td>\n",
       "    </tr>\n",
       "    <tr>\n",
       "      <th>1</th>\n",
       "      <td>Elaborative</td>\n",
       "      <td>0.661071</td>\n",
       "      <td>0.240357</td>\n",
       "      <td>3.374057</td>\n",
       "      <td>0.250053</td>\n",
       "      <td>0.999947</td>\n",
       "      <td>3.999939</td>\n",
       "      <td>30.253018</td>\n",
       "      <td>-120.608970</td>\n",
       "      <td>Elaborative</td>\n",
       "      <td>-150.861988</td>\n",
       "    </tr>\n",
       "    <tr>\n",
       "      <th>2</th>\n",
       "      <td>Elaborative</td>\n",
       "      <td>0.376029</td>\n",
       "      <td>0.182198</td>\n",
       "      <td>1.828991</td>\n",
       "      <td>0.749947</td>\n",
       "      <td>0.999934</td>\n",
       "      <td>3.999939</td>\n",
       "      <td>73.788750</td>\n",
       "      <td>-118.529409</td>\n",
       "      <td>Elaborative</td>\n",
       "      <td>-192.318159</td>\n",
       "    </tr>\n",
       "    <tr>\n",
       "      <th>3</th>\n",
       "      <td>Elaborative</td>\n",
       "      <td>0.487026</td>\n",
       "      <td>0.024050</td>\n",
       "      <td>3.877890</td>\n",
       "      <td>0.749947</td>\n",
       "      <td>0.999934</td>\n",
       "      <td>3.999939</td>\n",
       "      <td>19.584142</td>\n",
       "      <td>-115.756820</td>\n",
       "      <td>Elaborative</td>\n",
       "      <td>-135.340962</td>\n",
       "    </tr>\n",
       "    <tr>\n",
       "      <th>4</th>\n",
       "      <td>Elaborative</td>\n",
       "      <td>0.498960</td>\n",
       "      <td>0.773591</td>\n",
       "      <td>0.327778</td>\n",
       "      <td>0.250053</td>\n",
       "      <td>0.999947</td>\n",
       "      <td>3.999939</td>\n",
       "      <td>43.732667</td>\n",
       "      <td>-113.677778</td>\n",
       "      <td>Elaborative</td>\n",
       "      <td>-157.410445</td>\n",
       "    </tr>\n",
       "    <tr>\n",
       "      <th>5</th>\n",
       "      <td>Elaborative</td>\n",
       "      <td>0.624869</td>\n",
       "      <td>0.592943</td>\n",
       "      <td>0.173378</td>\n",
       "      <td>0.749947</td>\n",
       "      <td>0.999934</td>\n",
       "      <td>3.999939</td>\n",
       "      <td>38.843142</td>\n",
       "      <td>-112.984232</td>\n",
       "      <td>Elaborative</td>\n",
       "      <td>-151.827373</td>\n",
       "    </tr>\n",
       "    <tr>\n",
       "      <th>6</th>\n",
       "      <td>Elaborative</td>\n",
       "      <td>0.326437</td>\n",
       "      <td>0.582963</td>\n",
       "      <td>0.273213</td>\n",
       "      <td>0.749947</td>\n",
       "      <td>0.999934</td>\n",
       "      <td>3.999939</td>\n",
       "      <td>-133.932211</td>\n",
       "      <td>-112.291084</td>\n",
       "      <td>Mediator</td>\n",
       "      <td>21.641126</td>\n",
       "    </tr>\n",
       "    <tr>\n",
       "      <th>7</th>\n",
       "      <td>Elaborative</td>\n",
       "      <td>0.276556</td>\n",
       "      <td>0.829158</td>\n",
       "      <td>0.514497</td>\n",
       "      <td>0.749947</td>\n",
       "      <td>0.999934</td>\n",
       "      <td>3.999939</td>\n",
       "      <td>-133.932211</td>\n",
       "      <td>-112.291084</td>\n",
       "      <td>Mediator</td>\n",
       "      <td>21.641126</td>\n",
       "    </tr>\n",
       "    <tr>\n",
       "      <th>8</th>\n",
       "      <td>Elaborative</td>\n",
       "      <td>0.391590</td>\n",
       "      <td>0.225772</td>\n",
       "      <td>2.960050</td>\n",
       "      <td>0.749947</td>\n",
       "      <td>0.999934</td>\n",
       "      <td>3.999939</td>\n",
       "      <td>69.070275</td>\n",
       "      <td>-112.291084</td>\n",
       "      <td>Elaborative</td>\n",
       "      <td>-181.361360</td>\n",
       "    </tr>\n",
       "    <tr>\n",
       "      <th>9</th>\n",
       "      <td>Elaborative</td>\n",
       "      <td>0.647913</td>\n",
       "      <td>0.155161</td>\n",
       "      <td>3.783058</td>\n",
       "      <td>0.749947</td>\n",
       "      <td>0.999934</td>\n",
       "      <td>3.999939</td>\n",
       "      <td>39.182696</td>\n",
       "      <td>-112.291084</td>\n",
       "      <td>Elaborative</td>\n",
       "      <td>-151.473780</td>\n",
       "    </tr>\n",
       "    <tr>\n",
       "      <th>10</th>\n",
       "      <td>Mediator</td>\n",
       "      <td>0.388603</td>\n",
       "      <td>0.271251</td>\n",
       "      <td>1.545356</td>\n",
       "      <td>0.250048</td>\n",
       "      <td>0.999931</td>\n",
       "      <td>4.000000</td>\n",
       "      <td>-145.596059</td>\n",
       "      <td>-156.781825</td>\n",
       "      <td>Elaborative</td>\n",
       "      <td>-11.185766</td>\n",
       "    </tr>\n",
       "    <tr>\n",
       "      <th>11</th>\n",
       "      <td>Mediator</td>\n",
       "      <td>0.287045</td>\n",
       "      <td>0.220452</td>\n",
       "      <td>3.017365</td>\n",
       "      <td>0.250048</td>\n",
       "      <td>0.999959</td>\n",
       "      <td>4.000000</td>\n",
       "      <td>-93.510461</td>\n",
       "      <td>-130.039119</td>\n",
       "      <td>Elaborative</td>\n",
       "      <td>-36.528657</td>\n",
       "    </tr>\n",
       "    <tr>\n",
       "      <th>12</th>\n",
       "      <td>Mediator</td>\n",
       "      <td>0.265895</td>\n",
       "      <td>0.632021</td>\n",
       "      <td>2.446059</td>\n",
       "      <td>0.250053</td>\n",
       "      <td>0.999947</td>\n",
       "      <td>3.999939</td>\n",
       "      <td>-94.001951</td>\n",
       "      <td>-126.155021</td>\n",
       "      <td>Elaborative</td>\n",
       "      <td>-32.153070</td>\n",
       "    </tr>\n",
       "    <tr>\n",
       "      <th>13</th>\n",
       "      <td>Mediator</td>\n",
       "      <td>0.284648</td>\n",
       "      <td>0.465069</td>\n",
       "      <td>1.356032</td>\n",
       "      <td>0.749947</td>\n",
       "      <td>0.999934</td>\n",
       "      <td>3.999939</td>\n",
       "      <td>-89.521168</td>\n",
       "      <td>-124.074586</td>\n",
       "      <td>Elaborative</td>\n",
       "      <td>-34.553418</td>\n",
       "    </tr>\n",
       "    <tr>\n",
       "      <th>14</th>\n",
       "      <td>Mediator</td>\n",
       "      <td>0.290756</td>\n",
       "      <td>0.541850</td>\n",
       "      <td>0.982069</td>\n",
       "      <td>0.749947</td>\n",
       "      <td>0.999934</td>\n",
       "      <td>3.999939</td>\n",
       "      <td>-75.541363</td>\n",
       "      <td>-120.608851</td>\n",
       "      <td>Elaborative</td>\n",
       "      <td>-45.067487</td>\n",
       "    </tr>\n",
       "    <tr>\n",
       "      <th>15</th>\n",
       "      <td>Mediator</td>\n",
       "      <td>0.442363</td>\n",
       "      <td>0.461431</td>\n",
       "      <td>1.405300</td>\n",
       "      <td>0.749947</td>\n",
       "      <td>0.999934</td>\n",
       "      <td>3.999939</td>\n",
       "      <td>-101.098204</td>\n",
       "      <td>-117.143115</td>\n",
       "      <td>Elaborative</td>\n",
       "      <td>-16.044911</td>\n",
       "    </tr>\n",
       "    <tr>\n",
       "      <th>16</th>\n",
       "      <td>Mediator</td>\n",
       "      <td>0.526332</td>\n",
       "      <td>0.628437</td>\n",
       "      <td>2.791298</td>\n",
       "      <td>0.749947</td>\n",
       "      <td>0.999934</td>\n",
       "      <td>3.999939</td>\n",
       "      <td>-112.856884</td>\n",
       "      <td>-116.449967</td>\n",
       "      <td>Elaborative</td>\n",
       "      <td>-3.593083</td>\n",
       "    </tr>\n",
       "    <tr>\n",
       "      <th>17</th>\n",
       "      <td>Mediator</td>\n",
       "      <td>0.319114</td>\n",
       "      <td>0.344543</td>\n",
       "      <td>1.913486</td>\n",
       "      <td>0.749947</td>\n",
       "      <td>0.999934</td>\n",
       "      <td>3.999939</td>\n",
       "      <td>-83.872790</td>\n",
       "      <td>-115.756820</td>\n",
       "      <td>Elaborative</td>\n",
       "      <td>-31.884030</td>\n",
       "    </tr>\n",
       "    <tr>\n",
       "      <th>18</th>\n",
       "      <td>Mediator</td>\n",
       "      <td>0.359678</td>\n",
       "      <td>0.617190</td>\n",
       "      <td>3.171044</td>\n",
       "      <td>0.749947</td>\n",
       "      <td>0.999934</td>\n",
       "      <td>3.999939</td>\n",
       "      <td>-84.986610</td>\n",
       "      <td>-114.370526</td>\n",
       "      <td>Elaborative</td>\n",
       "      <td>-29.383916</td>\n",
       "    </tr>\n",
       "    <tr>\n",
       "      <th>19</th>\n",
       "      <td>Mediator</td>\n",
       "      <td>0.491591</td>\n",
       "      <td>0.853463</td>\n",
       "      <td>0.281061</td>\n",
       "      <td>0.749947</td>\n",
       "      <td>0.999934</td>\n",
       "      <td>3.999939</td>\n",
       "      <td>-107.357339</td>\n",
       "      <td>-113.677379</td>\n",
       "      <td>Elaborative</td>\n",
       "      <td>-6.320040</td>\n",
       "    </tr>\n",
       "  </tbody>\n",
       "</table>\n",
       "</div>"
      ],
      "text/plain": [
       "     orig.model  orig.decay  orig.temp  orig.ter  recov.delat  recov.temp  \\\n",
       "0   Elaborative    0.419754   0.155019  0.785336     0.749947    0.999934   \n",
       "1   Elaborative    0.661071   0.240357  3.374057     0.250053    0.999947   \n",
       "2   Elaborative    0.376029   0.182198  1.828991     0.749947    0.999934   \n",
       "3   Elaborative    0.487026   0.024050  3.877890     0.749947    0.999934   \n",
       "4   Elaborative    0.498960   0.773591  0.327778     0.250053    0.999947   \n",
       "5   Elaborative    0.624869   0.592943  0.173378     0.749947    0.999934   \n",
       "6   Elaborative    0.326437   0.582963  0.273213     0.749947    0.999934   \n",
       "7   Elaborative    0.276556   0.829158  0.514497     0.749947    0.999934   \n",
       "8   Elaborative    0.391590   0.225772  2.960050     0.749947    0.999934   \n",
       "9   Elaborative    0.647913   0.155161  3.783058     0.749947    0.999934   \n",
       "10     Mediator    0.388603   0.271251  1.545356     0.250048    0.999931   \n",
       "11     Mediator    0.287045   0.220452  3.017365     0.250048    0.999959   \n",
       "12     Mediator    0.265895   0.632021  2.446059     0.250053    0.999947   \n",
       "13     Mediator    0.284648   0.465069  1.356032     0.749947    0.999934   \n",
       "14     Mediator    0.290756   0.541850  0.982069     0.749947    0.999934   \n",
       "15     Mediator    0.442363   0.461431  1.405300     0.749947    0.999934   \n",
       "16     Mediator    0.526332   0.628437  2.791298     0.749947    0.999934   \n",
       "17     Mediator    0.319114   0.344543  1.913486     0.749947    0.999934   \n",
       "18     Mediator    0.359678   0.617190  3.171044     0.749947    0.999934   \n",
       "19     Mediator    0.491591   0.853463  0.281061     0.749947    0.999934   \n",
       "\n",
       "    recov.ter     elab.LL      med.LL   best.model     diff.LL  \n",
       "0    3.999939   58.756026 -132.392353  Elaborative -191.148379  \n",
       "1    3.999939   30.253018 -120.608970  Elaborative -150.861988  \n",
       "2    3.999939   73.788750 -118.529409  Elaborative -192.318159  \n",
       "3    3.999939   19.584142 -115.756820  Elaborative -135.340962  \n",
       "4    3.999939   43.732667 -113.677778  Elaborative -157.410445  \n",
       "5    3.999939   38.843142 -112.984232  Elaborative -151.827373  \n",
       "6    3.999939 -133.932211 -112.291084     Mediator   21.641126  \n",
       "7    3.999939 -133.932211 -112.291084     Mediator   21.641126  \n",
       "8    3.999939   69.070275 -112.291084  Elaborative -181.361360  \n",
       "9    3.999939   39.182696 -112.291084  Elaborative -151.473780  \n",
       "10   4.000000 -145.596059 -156.781825  Elaborative  -11.185766  \n",
       "11   4.000000  -93.510461 -130.039119  Elaborative  -36.528657  \n",
       "12   3.999939  -94.001951 -126.155021  Elaborative  -32.153070  \n",
       "13   3.999939  -89.521168 -124.074586  Elaborative  -34.553418  \n",
       "14   3.999939  -75.541363 -120.608851  Elaborative  -45.067487  \n",
       "15   3.999939 -101.098204 -117.143115  Elaborative  -16.044911  \n",
       "16   3.999939 -112.856884 -116.449967  Elaborative   -3.593083  \n",
       "17   3.999939  -83.872790 -115.756820  Elaborative  -31.884030  \n",
       "18   3.999939  -84.986610 -114.370526  Elaborative  -29.383916  \n",
       "19   3.999939 -107.357339 -113.677379  Elaborative   -6.320040  "
      ]
     },
     "execution_count": 67,
     "metadata": {},
     "output_type": "execute_result"
    }
   ],
   "source": [
    "if DO_RECOVERY:\n",
    "    recovery_df = pd.DataFrame(recovery_df, columns=[\"orig.model\", \"orig.decay\", \"orig.temp\", \"orig.ter\",\n",
    "                                                     \"recov.delat\", \"recov.temp\", \"recov.ter\", \"elab.LL\", \"med.LL\", \"best.model\", \"diff.LL\"])    \n",
    "    # recovery_df.to_csv(\"model_recovery_new1.csv\")\n",
    "else:\n",
    "    recovery_df = pd.read_csv(\"model_recovery_new1.csv\")\n",
    "recovery_df"
   ]
  },
  {
   "cell_type": "code",
   "execution_count": 68,
   "metadata": {},
   "outputs": [
    {
     "data": {
      "text/html": [
       "<div>\n",
       "<style scoped>\n",
       "    .dataframe tbody tr th:only-of-type {\n",
       "        vertical-align: middle;\n",
       "    }\n",
       "\n",
       "    .dataframe tbody tr th {\n",
       "        vertical-align: top;\n",
       "    }\n",
       "\n",
       "    .dataframe thead th {\n",
       "        text-align: right;\n",
       "    }\n",
       "</style>\n",
       "<table border=\"1\" class=\"dataframe\">\n",
       "  <thead>\n",
       "    <tr style=\"text-align: right;\">\n",
       "      <th></th>\n",
       "      <th>orig.model</th>\n",
       "      <th>orig.decay</th>\n",
       "      <th>orig.temp</th>\n",
       "      <th>orig.ter</th>\n",
       "      <th>recovered.decay</th>\n",
       "      <th>recovered.temp</th>\n",
       "      <th>recoverd.ter</th>\n",
       "      <th>elab.LL</th>\n",
       "      <th>med.LL</th>\n",
       "      <th>best.model</th>\n",
       "      <th>diff.LL</th>\n",
       "    </tr>\n",
       "  </thead>\n",
       "  <tbody>\n",
       "    <tr>\n",
       "      <th>0</th>\n",
       "      <td>Elaborative</td>\n",
       "      <td>0.419754</td>\n",
       "      <td>0.155019</td>\n",
       "      <td>0.785336</td>\n",
       "      <td>NaN</td>\n",
       "      <td>NaN</td>\n",
       "      <td>NaN</td>\n",
       "      <td>58.756026</td>\n",
       "      <td>-132.392353</td>\n",
       "      <td>Elaborative</td>\n",
       "      <td>-191.148379</td>\n",
       "    </tr>\n",
       "    <tr>\n",
       "      <th>1</th>\n",
       "      <td>Elaborative</td>\n",
       "      <td>0.661071</td>\n",
       "      <td>0.240357</td>\n",
       "      <td>3.374057</td>\n",
       "      <td>NaN</td>\n",
       "      <td>NaN</td>\n",
       "      <td>NaN</td>\n",
       "      <td>30.253018</td>\n",
       "      <td>-120.608970</td>\n",
       "      <td>Elaborative</td>\n",
       "      <td>-150.861988</td>\n",
       "    </tr>\n",
       "    <tr>\n",
       "      <th>2</th>\n",
       "      <td>Elaborative</td>\n",
       "      <td>0.376029</td>\n",
       "      <td>0.182198</td>\n",
       "      <td>1.828991</td>\n",
       "      <td>NaN</td>\n",
       "      <td>NaN</td>\n",
       "      <td>NaN</td>\n",
       "      <td>73.788750</td>\n",
       "      <td>-118.529409</td>\n",
       "      <td>Elaborative</td>\n",
       "      <td>-192.318159</td>\n",
       "    </tr>\n",
       "    <tr>\n",
       "      <th>3</th>\n",
       "      <td>Elaborative</td>\n",
       "      <td>0.487026</td>\n",
       "      <td>0.024050</td>\n",
       "      <td>3.877890</td>\n",
       "      <td>NaN</td>\n",
       "      <td>NaN</td>\n",
       "      <td>NaN</td>\n",
       "      <td>19.584142</td>\n",
       "      <td>-115.756820</td>\n",
       "      <td>Elaborative</td>\n",
       "      <td>-135.340962</td>\n",
       "    </tr>\n",
       "    <tr>\n",
       "      <th>4</th>\n",
       "      <td>Elaborative</td>\n",
       "      <td>0.498960</td>\n",
       "      <td>0.773591</td>\n",
       "      <td>0.327778</td>\n",
       "      <td>NaN</td>\n",
       "      <td>NaN</td>\n",
       "      <td>NaN</td>\n",
       "      <td>43.732667</td>\n",
       "      <td>-113.677778</td>\n",
       "      <td>Elaborative</td>\n",
       "      <td>-157.410445</td>\n",
       "    </tr>\n",
       "    <tr>\n",
       "      <th>5</th>\n",
       "      <td>Elaborative</td>\n",
       "      <td>0.624869</td>\n",
       "      <td>0.592943</td>\n",
       "      <td>0.173378</td>\n",
       "      <td>NaN</td>\n",
       "      <td>NaN</td>\n",
       "      <td>NaN</td>\n",
       "      <td>38.843142</td>\n",
       "      <td>-112.984232</td>\n",
       "      <td>Elaborative</td>\n",
       "      <td>-151.827373</td>\n",
       "    </tr>\n",
       "    <tr>\n",
       "      <th>6</th>\n",
       "      <td>Elaborative</td>\n",
       "      <td>0.326437</td>\n",
       "      <td>0.582963</td>\n",
       "      <td>0.273213</td>\n",
       "      <td>NaN</td>\n",
       "      <td>NaN</td>\n",
       "      <td>NaN</td>\n",
       "      <td>-133.932211</td>\n",
       "      <td>-112.291084</td>\n",
       "      <td>Mediator</td>\n",
       "      <td>21.641126</td>\n",
       "    </tr>\n",
       "    <tr>\n",
       "      <th>7</th>\n",
       "      <td>Elaborative</td>\n",
       "      <td>0.276556</td>\n",
       "      <td>0.829158</td>\n",
       "      <td>0.514497</td>\n",
       "      <td>NaN</td>\n",
       "      <td>NaN</td>\n",
       "      <td>NaN</td>\n",
       "      <td>-133.932211</td>\n",
       "      <td>-112.291084</td>\n",
       "      <td>Mediator</td>\n",
       "      <td>21.641126</td>\n",
       "    </tr>\n",
       "    <tr>\n",
       "      <th>8</th>\n",
       "      <td>Elaborative</td>\n",
       "      <td>0.391590</td>\n",
       "      <td>0.225772</td>\n",
       "      <td>2.960050</td>\n",
       "      <td>NaN</td>\n",
       "      <td>NaN</td>\n",
       "      <td>NaN</td>\n",
       "      <td>69.070275</td>\n",
       "      <td>-112.291084</td>\n",
       "      <td>Elaborative</td>\n",
       "      <td>-181.361360</td>\n",
       "    </tr>\n",
       "    <tr>\n",
       "      <th>9</th>\n",
       "      <td>Elaborative</td>\n",
       "      <td>0.647913</td>\n",
       "      <td>0.155161</td>\n",
       "      <td>3.783058</td>\n",
       "      <td>NaN</td>\n",
       "      <td>NaN</td>\n",
       "      <td>NaN</td>\n",
       "      <td>39.182696</td>\n",
       "      <td>-112.291084</td>\n",
       "      <td>Elaborative</td>\n",
       "      <td>-151.473780</td>\n",
       "    </tr>\n",
       "    <tr>\n",
       "      <th>10</th>\n",
       "      <td>Mediator</td>\n",
       "      <td>0.388603</td>\n",
       "      <td>0.271251</td>\n",
       "      <td>1.545356</td>\n",
       "      <td>NaN</td>\n",
       "      <td>NaN</td>\n",
       "      <td>NaN</td>\n",
       "      <td>-145.596059</td>\n",
       "      <td>-156.781825</td>\n",
       "      <td>Elaborative</td>\n",
       "      <td>-11.185766</td>\n",
       "    </tr>\n",
       "    <tr>\n",
       "      <th>11</th>\n",
       "      <td>Mediator</td>\n",
       "      <td>0.287045</td>\n",
       "      <td>0.220452</td>\n",
       "      <td>3.017365</td>\n",
       "      <td>NaN</td>\n",
       "      <td>NaN</td>\n",
       "      <td>NaN</td>\n",
       "      <td>-93.510461</td>\n",
       "      <td>-130.039119</td>\n",
       "      <td>Elaborative</td>\n",
       "      <td>-36.528657</td>\n",
       "    </tr>\n",
       "    <tr>\n",
       "      <th>12</th>\n",
       "      <td>Mediator</td>\n",
       "      <td>0.265895</td>\n",
       "      <td>0.632021</td>\n",
       "      <td>2.446059</td>\n",
       "      <td>NaN</td>\n",
       "      <td>NaN</td>\n",
       "      <td>NaN</td>\n",
       "      <td>-94.001951</td>\n",
       "      <td>-126.155021</td>\n",
       "      <td>Elaborative</td>\n",
       "      <td>-32.153070</td>\n",
       "    </tr>\n",
       "    <tr>\n",
       "      <th>13</th>\n",
       "      <td>Mediator</td>\n",
       "      <td>0.284648</td>\n",
       "      <td>0.465069</td>\n",
       "      <td>1.356032</td>\n",
       "      <td>NaN</td>\n",
       "      <td>NaN</td>\n",
       "      <td>NaN</td>\n",
       "      <td>-89.521168</td>\n",
       "      <td>-124.074586</td>\n",
       "      <td>Elaborative</td>\n",
       "      <td>-34.553418</td>\n",
       "    </tr>\n",
       "    <tr>\n",
       "      <th>14</th>\n",
       "      <td>Mediator</td>\n",
       "      <td>0.290756</td>\n",
       "      <td>0.541850</td>\n",
       "      <td>0.982069</td>\n",
       "      <td>NaN</td>\n",
       "      <td>NaN</td>\n",
       "      <td>NaN</td>\n",
       "      <td>-75.541363</td>\n",
       "      <td>-120.608851</td>\n",
       "      <td>Elaborative</td>\n",
       "      <td>-45.067487</td>\n",
       "    </tr>\n",
       "    <tr>\n",
       "      <th>15</th>\n",
       "      <td>Mediator</td>\n",
       "      <td>0.442363</td>\n",
       "      <td>0.461431</td>\n",
       "      <td>1.405300</td>\n",
       "      <td>NaN</td>\n",
       "      <td>NaN</td>\n",
       "      <td>NaN</td>\n",
       "      <td>-101.098204</td>\n",
       "      <td>-117.143115</td>\n",
       "      <td>Elaborative</td>\n",
       "      <td>-16.044911</td>\n",
       "    </tr>\n",
       "    <tr>\n",
       "      <th>16</th>\n",
       "      <td>Mediator</td>\n",
       "      <td>0.526332</td>\n",
       "      <td>0.628437</td>\n",
       "      <td>2.791298</td>\n",
       "      <td>NaN</td>\n",
       "      <td>NaN</td>\n",
       "      <td>NaN</td>\n",
       "      <td>-112.856884</td>\n",
       "      <td>-116.449967</td>\n",
       "      <td>Elaborative</td>\n",
       "      <td>-3.593083</td>\n",
       "    </tr>\n",
       "    <tr>\n",
       "      <th>17</th>\n",
       "      <td>Mediator</td>\n",
       "      <td>0.319114</td>\n",
       "      <td>0.344543</td>\n",
       "      <td>1.913486</td>\n",
       "      <td>NaN</td>\n",
       "      <td>NaN</td>\n",
       "      <td>NaN</td>\n",
       "      <td>-83.872790</td>\n",
       "      <td>-115.756820</td>\n",
       "      <td>Elaborative</td>\n",
       "      <td>-31.884030</td>\n",
       "    </tr>\n",
       "    <tr>\n",
       "      <th>18</th>\n",
       "      <td>Mediator</td>\n",
       "      <td>0.359678</td>\n",
       "      <td>0.617190</td>\n",
       "      <td>3.171044</td>\n",
       "      <td>NaN</td>\n",
       "      <td>NaN</td>\n",
       "      <td>NaN</td>\n",
       "      <td>-84.986610</td>\n",
       "      <td>-114.370526</td>\n",
       "      <td>Elaborative</td>\n",
       "      <td>-29.383916</td>\n",
       "    </tr>\n",
       "    <tr>\n",
       "      <th>19</th>\n",
       "      <td>Mediator</td>\n",
       "      <td>0.491591</td>\n",
       "      <td>0.853463</td>\n",
       "      <td>0.281061</td>\n",
       "      <td>NaN</td>\n",
       "      <td>NaN</td>\n",
       "      <td>NaN</td>\n",
       "      <td>-107.357339</td>\n",
       "      <td>-113.677379</td>\n",
       "      <td>Elaborative</td>\n",
       "      <td>-6.320040</td>\n",
       "    </tr>\n",
       "  </tbody>\n",
       "</table>\n",
       "</div>"
      ],
      "text/plain": [
       "     orig.model  orig.decay  orig.temp  orig.ter  recovered.decay  \\\n",
       "0   Elaborative    0.419754   0.155019  0.785336              NaN   \n",
       "1   Elaborative    0.661071   0.240357  3.374057              NaN   \n",
       "2   Elaborative    0.376029   0.182198  1.828991              NaN   \n",
       "3   Elaborative    0.487026   0.024050  3.877890              NaN   \n",
       "4   Elaborative    0.498960   0.773591  0.327778              NaN   \n",
       "5   Elaborative    0.624869   0.592943  0.173378              NaN   \n",
       "6   Elaborative    0.326437   0.582963  0.273213              NaN   \n",
       "7   Elaborative    0.276556   0.829158  0.514497              NaN   \n",
       "8   Elaborative    0.391590   0.225772  2.960050              NaN   \n",
       "9   Elaborative    0.647913   0.155161  3.783058              NaN   \n",
       "10     Mediator    0.388603   0.271251  1.545356              NaN   \n",
       "11     Mediator    0.287045   0.220452  3.017365              NaN   \n",
       "12     Mediator    0.265895   0.632021  2.446059              NaN   \n",
       "13     Mediator    0.284648   0.465069  1.356032              NaN   \n",
       "14     Mediator    0.290756   0.541850  0.982069              NaN   \n",
       "15     Mediator    0.442363   0.461431  1.405300              NaN   \n",
       "16     Mediator    0.526332   0.628437  2.791298              NaN   \n",
       "17     Mediator    0.319114   0.344543  1.913486              NaN   \n",
       "18     Mediator    0.359678   0.617190  3.171044              NaN   \n",
       "19     Mediator    0.491591   0.853463  0.281061              NaN   \n",
       "\n",
       "    recovered.temp  recoverd.ter     elab.LL      med.LL   best.model  \\\n",
       "0              NaN           NaN   58.756026 -132.392353  Elaborative   \n",
       "1              NaN           NaN   30.253018 -120.608970  Elaborative   \n",
       "2              NaN           NaN   73.788750 -118.529409  Elaborative   \n",
       "3              NaN           NaN   19.584142 -115.756820  Elaborative   \n",
       "4              NaN           NaN   43.732667 -113.677778  Elaborative   \n",
       "5              NaN           NaN   38.843142 -112.984232  Elaborative   \n",
       "6              NaN           NaN -133.932211 -112.291084     Mediator   \n",
       "7              NaN           NaN -133.932211 -112.291084     Mediator   \n",
       "8              NaN           NaN   69.070275 -112.291084  Elaborative   \n",
       "9              NaN           NaN   39.182696 -112.291084  Elaborative   \n",
       "10             NaN           NaN -145.596059 -156.781825  Elaborative   \n",
       "11             NaN           NaN  -93.510461 -130.039119  Elaborative   \n",
       "12             NaN           NaN  -94.001951 -126.155021  Elaborative   \n",
       "13             NaN           NaN  -89.521168 -124.074586  Elaborative   \n",
       "14             NaN           NaN  -75.541363 -120.608851  Elaborative   \n",
       "15             NaN           NaN -101.098204 -117.143115  Elaborative   \n",
       "16             NaN           NaN -112.856884 -116.449967  Elaborative   \n",
       "17             NaN           NaN  -83.872790 -115.756820  Elaborative   \n",
       "18             NaN           NaN  -84.986610 -114.370526  Elaborative   \n",
       "19             NaN           NaN -107.357339 -113.677379  Elaborative   \n",
       "\n",
       "       diff.LL  \n",
       "0  -191.148379  \n",
       "1  -150.861988  \n",
       "2  -192.318159  \n",
       "3  -135.340962  \n",
       "4  -157.410445  \n",
       "5  -151.827373  \n",
       "6    21.641126  \n",
       "7    21.641126  \n",
       "8  -181.361360  \n",
       "9  -151.473780  \n",
       "10  -11.185766  \n",
       "11  -36.528657  \n",
       "12  -32.153070  \n",
       "13  -34.553418  \n",
       "14  -45.067487  \n",
       "15  -16.044911  \n",
       "16   -3.593083  \n",
       "17  -31.884030  \n",
       "18  -29.383916  \n",
       "19   -6.320040  "
      ]
     },
     "execution_count": 68,
     "metadata": {},
     "output_type": "execute_result"
    }
   ],
   "source": [
    "recovery_df = pd.DataFrame(recovery_df, columns=[\"orig.model\", \"orig.decay\", \"orig.temp\", \"orig.ter\",\n",
    "                                                     \"recovered.decay\", \"recovered.temp\", \"recoverd.ter\", \n",
    "                                                 \"elab.LL\", \"med.LL\", \"best.model\", \"diff.LL\"])\n",
    "recovery_df"
   ]
  },
  {
   "cell_type": "code",
   "execution_count": 69,
   "metadata": {},
   "outputs": [
    {
     "data": {
      "image/png": "[encoded data removed]",
      "text/plain": [
       "<Figure size 640x480 with 2 Axes>"
      ]
     },
     "metadata": {},
     "output_type": "display_data"
    }
   ],
   "source": [
    "confusion_matrix = pd.crosstab(recovery_df['orig.model'], recovery_df['best.model'], rownames=['Actual'], colnames=['Predicted'], margins=False)\n",
    "sns.heatmap(confusion_matrix/(10), annot=True, fmt=\".1%\")\n",
    "plt.title(\"Recovery Probabilities by Model\")\n",
    "plt.savefig(\"model-recovery.png\")\n",
    "plt.show()"
   ]
  },
  {
   "cell_type": "code",
   "execution_count": 70,
   "metadata": {},
   "outputs": [
    {
     "data": {
      "text/html": [
       "<div>\n",
       "<style scoped>\n",
       "    .dataframe tbody tr th:only-of-type {\n",
       "        vertical-align: middle;\n",
       "    }\n",
       "\n",
       "    .dataframe tbody tr th {\n",
       "        vertical-align: top;\n",
       "    }\n",
       "\n",
       "    .dataframe thead th {\n",
       "        text-align: right;\n",
       "    }\n",
       "</style>\n",
       "<table border=\"1\" class=\"dataframe\">\n",
       "  <thead>\n",
       "    <tr style=\"text-align: right;\">\n",
       "      <th></th>\n",
       "      <th>participant</th>\n",
       "      <th>phase</th>\n",
       "      <th>condition</th>\n",
       "      <th>cue</th>\n",
       "      <th>target</th>\n",
       "      <th>response</th>\n",
       "      <th>rt</th>\n",
       "      <th>correct</th>\n",
       "    </tr>\n",
       "  </thead>\n",
       "  <tbody>\n",
       "    <tr>\n",
       "      <th>0</th>\n",
       "      <td>sim</td>\n",
       "      <td>learn</td>\n",
       "      <td>1</td>\n",
       "      <td>EMPIRE</td>\n",
       "      <td>STATE</td>\n",
       "      <td>STATE</td>\n",
       "      <td>1276.0</td>\n",
       "      <td>True</td>\n",
       "    </tr>\n",
       "    <tr>\n",
       "      <th>1</th>\n",
       "      <td>sim</td>\n",
       "      <td>learn</td>\n",
       "      <td>1</td>\n",
       "      <td>CHUNK</td>\n",
       "      <td>BLOCK</td>\n",
       "      <td>BLOCK</td>\n",
       "      <td>3530.0</td>\n",
       "      <td>True</td>\n",
       "    </tr>\n",
       "    <tr>\n",
       "      <th>2</th>\n",
       "      <td>sim</td>\n",
       "      <td>learn</td>\n",
       "      <td>1</td>\n",
       "      <td>GLIDE</td>\n",
       "      <td>HANG</td>\n",
       "      <td>HANG</td>\n",
       "      <td>4747.0</td>\n",
       "      <td>True</td>\n",
       "    </tr>\n",
       "    <tr>\n",
       "      <th>3</th>\n",
       "      <td>sim</td>\n",
       "      <td>learn</td>\n",
       "      <td>1</td>\n",
       "      <td>SAIL</td>\n",
       "      <td>OCEAN</td>\n",
       "      <td>OCEAN</td>\n",
       "      <td>5689.0</td>\n",
       "      <td>True</td>\n",
       "    </tr>\n",
       "    <tr>\n",
       "      <th>4</th>\n",
       "      <td>sim</td>\n",
       "      <td>learn</td>\n",
       "      <td>1</td>\n",
       "      <td>ELEVATOR</td>\n",
       "      <td>BUILDING</td>\n",
       "      <td>BUILDING</td>\n",
       "      <td>6487.0</td>\n",
       "      <td>True</td>\n",
       "    </tr>\n",
       "    <tr>\n",
       "      <th>...</th>\n",
       "      <td>...</td>\n",
       "      <td>...</td>\n",
       "      <td>...</td>\n",
       "      <td>...</td>\n",
       "      <td>...</td>\n",
       "      <td>...</td>\n",
       "      <td>...</td>\n",
       "      <td>...</td>\n",
       "    </tr>\n",
       "    <tr>\n",
       "      <th>85</th>\n",
       "      <td>sim</td>\n",
       "      <td>test</td>\n",
       "      <td>2</td>\n",
       "      <td>FREEWAY</td>\n",
       "      <td>ROAD</td>\n",
       "      <td>ROAD</td>\n",
       "      <td>5385963.0</td>\n",
       "      <td>True</td>\n",
       "    </tr>\n",
       "    <tr>\n",
       "      <th>86</th>\n",
       "      <td>sim</td>\n",
       "      <td>test</td>\n",
       "      <td>2</td>\n",
       "      <td>ASSISTANCE</td>\n",
       "      <td>HELPER</td>\n",
       "      <td>HELPER</td>\n",
       "      <td>5385963.0</td>\n",
       "      <td>True</td>\n",
       "    </tr>\n",
       "    <tr>\n",
       "      <th>87</th>\n",
       "      <td>sim</td>\n",
       "      <td>test</td>\n",
       "      <td>2</td>\n",
       "      <td>VALLEY</td>\n",
       "      <td>LOW</td>\n",
       "      <td>LOW</td>\n",
       "      <td>5385963.0</td>\n",
       "      <td>True</td>\n",
       "    </tr>\n",
       "    <tr>\n",
       "      <th>88</th>\n",
       "      <td>sim</td>\n",
       "      <td>test</td>\n",
       "      <td>2</td>\n",
       "      <td>GRADUATE</td>\n",
       "      <td>CAP</td>\n",
       "      <td>CAP</td>\n",
       "      <td>5385963.0</td>\n",
       "      <td>True</td>\n",
       "    </tr>\n",
       "    <tr>\n",
       "      <th>89</th>\n",
       "      <td>sim</td>\n",
       "      <td>test</td>\n",
       "      <td>2</td>\n",
       "      <td>NOODLES</td>\n",
       "      <td>CHICKEN</td>\n",
       "      <td>CHICKEN</td>\n",
       "      <td>5385963.0</td>\n",
       "      <td>True</td>\n",
       "    </tr>\n",
       "  </tbody>\n",
       "</table>\n",
       "<p>90 rows × 8 columns</p>\n",
       "</div>"
      ],
      "text/plain": [
       "   participant  phase  condition         cue    target  response         rt  \\\n",
       "0          sim  learn          1      EMPIRE     STATE     STATE     1276.0   \n",
       "1          sim  learn          1       CHUNK     BLOCK     BLOCK     3530.0   \n",
       "2          sim  learn          1       GLIDE      HANG      HANG     4747.0   \n",
       "3          sim  learn          1        SAIL     OCEAN     OCEAN     5689.0   \n",
       "4          sim  learn          1    ELEVATOR  BUILDING  BUILDING     6487.0   \n",
       "..         ...    ...        ...         ...       ...       ...        ...   \n",
       "85         sim   test          2     FREEWAY      ROAD      ROAD  5385963.0   \n",
       "86         sim   test          2  ASSISTANCE    HELPER    HELPER  5385963.0   \n",
       "87         sim   test          2      VALLEY       LOW       LOW  5385963.0   \n",
       "88         sim   test          2    GRADUATE       CAP       CAP  5385963.0   \n",
       "89         sim   test          2     NOODLES   CHICKEN   CHICKEN  5385963.0   \n",
       "\n",
       "    correct  \n",
       "0      True  \n",
       "1      True  \n",
       "2      True  \n",
       "3      True  \n",
       "4      True  \n",
       "..      ...  \n",
       "85     True  \n",
       "86     True  \n",
       "87     True  \n",
       "88     True  \n",
       "89     True  \n",
       "\n",
       "[90 rows x 8 columns]"
      ]
     },
     "execution_count": 70,
     "metadata": {},
     "output_type": "execute_result"
    }
   ],
   "source": [
    "sim_data"
   ]
  },
  {
   "cell_type": "code",
   "execution_count": 71,
   "metadata": {},
   "outputs": [
    {
     "name": "stdout",
     "output_type": "stream",
     "text": [
      "Elab: best.model\n",
      "Elaborative    8\n",
      "Mediator       2\n",
      "Name: count, dtype: int64\n",
      "Med: best.model\n",
      "Elaborative    10\n",
      "Name: count, dtype: int64\n"
     ]
    }
   ],
   "source": [
    "elab_score = recovery_df[recovery_df[\"orig.model\"] == \"Elaborative\"][\"best.model\"].value_counts()\n",
    "med_score = recovery_df[recovery_df[\"orig.model\"] == \"Mediator\"][\"best.model\"].value_counts()\n",
    "print('Elab:', elab_score)\n",
    "print('Med:', med_score)"
   ]
  },
  {
   "cell_type": "code",
   "execution_count": null,
   "metadata": {},
   "outputs": [],
   "source": []
  }
 ],
 "metadata": {
  "colab": {
   "provenance": []
  },
  "kernelspec": {
   "display_name": "Python 3 (ipykernel)",
   "language": "python",
   "name": "python3"
  },
  "language_info": {
   "codemirror_mode": {
    "name": "ipython",
    "version": 3
   },
   "file_extension": ".py",
   "mimetype": "text/x-python",
   "name": "python",
   "nbconvert_exporter": "python",
   "pygments_lexer": "ipython3",
   "version": "3.12.0"
  },
  "toc-autonumbering": true
 },
 "nbformat": 4,
 "nbformat_minor": 4
}
